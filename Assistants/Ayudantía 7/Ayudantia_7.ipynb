{
 "cells": [
  {
   "cell_type": "markdown",
   "metadata": {},
   "source": [
    "# Ayudantía 7: Vizualisación interactiva \n",
    "\n",
    "Lo que veremos esta ayudantía será un repaso de `ipywidgets` y como usarlo en conjunto con altair con tal de crear vizualizaciones interesantes de datos. Para ello repasaremos la base de datos de casos de Covid-19 en chile en Valparaiso, y veremos como podemos hacerla interactiva"
   ]
  },
  {
   "cell_type": "code",
   "execution_count": 1,
   "metadata": {},
   "outputs": [],
   "source": [
    "import ipywidgets as widgets \n",
    "import numpy as np\n",
    "import pandas as pd\n",
    "import altair as alt\n",
    "\n",
    "alt.data_transformers.disable_max_rows()\n",
    "%matplotlib inline"
   ]
  },
  {
   "cell_type": "markdown",
   "metadata": {},
   "source": [
    "Ahora, invoquiemos los datos entregados por el ministerio de ciencias, estos se pueden encontrar en el siguiente [repo de github](https://github.com/MinCiencia/Datos-COVID19). Tambien le daremos un mejor formato al nombre de las columnas, y vamos a reiniciar el indice, ya que por defecto el nombre de la region queda como indice"
   ]
  },
  {
   "cell_type": "code",
   "execution_count": 2,
   "metadata": {},
   "outputs": [
    {
     "data": {
      "text/html": [
       "<div>\n",
       "<style scoped>\n",
       "    .dataframe tbody tr th:only-of-type {\n",
       "        vertical-align: middle;\n",
       "    }\n",
       "\n",
       "    .dataframe tbody tr th {\n",
       "        vertical-align: top;\n",
       "    }\n",
       "\n",
       "    .dataframe thead th {\n",
       "        text-align: right;\n",
       "    }\n",
       "</style>\n",
       "<table border=\"1\" class=\"dataframe\">\n",
       "  <thead>\n",
       "    <tr style=\"text-align: right;\">\n",
       "      <th></th>\n",
       "      <th>region</th>\n",
       "      <th>codigo_region</th>\n",
       "      <th>comuna</th>\n",
       "      <th>codigo_comuna</th>\n",
       "      <th>poblacion</th>\n",
       "      <th>2020-03-30</th>\n",
       "      <th>2020-04-01</th>\n",
       "      <th>2020-04-03</th>\n",
       "      <th>2020-04-06</th>\n",
       "      <th>2020-04-08</th>\n",
       "      <th>...</th>\n",
       "      <th>2020-10-05</th>\n",
       "      <th>2020-10-09</th>\n",
       "      <th>2020-10-12</th>\n",
       "      <th>2020-10-16</th>\n",
       "      <th>2020-10-19</th>\n",
       "      <th>2020-10-24</th>\n",
       "      <th>2020-10-26</th>\n",
       "      <th>2020-10-30</th>\n",
       "      <th>2020-11-02</th>\n",
       "      <th>tasa</th>\n",
       "    </tr>\n",
       "  </thead>\n",
       "  <tbody>\n",
       "    <tr>\n",
       "      <th>0</th>\n",
       "      <td>Arica y Parinacota</td>\n",
       "      <td>15</td>\n",
       "      <td>Arica</td>\n",
       "      <td>15101.0</td>\n",
       "      <td>247552.0</td>\n",
       "      <td>6.0</td>\n",
       "      <td>6.0</td>\n",
       "      <td>12.0</td>\n",
       "      <td>41.0</td>\n",
       "      <td>63.0</td>\n",
       "      <td>...</td>\n",
       "      <td>8772.0</td>\n",
       "      <td>8996.0</td>\n",
       "      <td>9138.0</td>\n",
       "      <td>9343.0</td>\n",
       "      <td>9472.0</td>\n",
       "      <td>9679.0</td>\n",
       "      <td>9763.0</td>\n",
       "      <td>9888.0</td>\n",
       "      <td>9974.0</td>\n",
       "      <td>4029.1</td>\n",
       "    </tr>\n",
       "    <tr>\n",
       "      <th>1</th>\n",
       "      <td>Arica y Parinacota</td>\n",
       "      <td>15</td>\n",
       "      <td>Camarones</td>\n",
       "      <td>15102.0</td>\n",
       "      <td>1233.0</td>\n",
       "      <td>0.0</td>\n",
       "      <td>0.0</td>\n",
       "      <td>0.0</td>\n",
       "      <td>0.0</td>\n",
       "      <td>0.0</td>\n",
       "      <td>...</td>\n",
       "      <td>28.0</td>\n",
       "      <td>28.0</td>\n",
       "      <td>28.0</td>\n",
       "      <td>28.0</td>\n",
       "      <td>28.0</td>\n",
       "      <td>28.0</td>\n",
       "      <td>28.0</td>\n",
       "      <td>28.0</td>\n",
       "      <td>28.0</td>\n",
       "      <td>2270.9</td>\n",
       "    </tr>\n",
       "    <tr>\n",
       "      <th>2</th>\n",
       "      <td>Arica y Parinacota</td>\n",
       "      <td>15</td>\n",
       "      <td>General Lagos</td>\n",
       "      <td>15202.0</td>\n",
       "      <td>810.0</td>\n",
       "      <td>0.0</td>\n",
       "      <td>0.0</td>\n",
       "      <td>0.0</td>\n",
       "      <td>0.0</td>\n",
       "      <td>0.0</td>\n",
       "      <td>...</td>\n",
       "      <td>64.0</td>\n",
       "      <td>64.0</td>\n",
       "      <td>64.0</td>\n",
       "      <td>64.0</td>\n",
       "      <td>64.0</td>\n",
       "      <td>64.0</td>\n",
       "      <td>64.0</td>\n",
       "      <td>64.0</td>\n",
       "      <td>64.0</td>\n",
       "      <td>7901.2</td>\n",
       "    </tr>\n",
       "    <tr>\n",
       "      <th>3</th>\n",
       "      <td>Arica y Parinacota</td>\n",
       "      <td>15</td>\n",
       "      <td>Putre</td>\n",
       "      <td>15201.0</td>\n",
       "      <td>2515.0</td>\n",
       "      <td>0.0</td>\n",
       "      <td>0.0</td>\n",
       "      <td>0.0</td>\n",
       "      <td>0.0</td>\n",
       "      <td>0.0</td>\n",
       "      <td>...</td>\n",
       "      <td>70.0</td>\n",
       "      <td>70.0</td>\n",
       "      <td>70.0</td>\n",
       "      <td>70.0</td>\n",
       "      <td>70.0</td>\n",
       "      <td>71.0</td>\n",
       "      <td>72.0</td>\n",
       "      <td>72.0</td>\n",
       "      <td>72.0</td>\n",
       "      <td>2862.8</td>\n",
       "    </tr>\n",
       "    <tr>\n",
       "      <th>4</th>\n",
       "      <td>Arica y Parinacota</td>\n",
       "      <td>15</td>\n",
       "      <td>Desconocido Arica y Parinacota</td>\n",
       "      <td>NaN</td>\n",
       "      <td>NaN</td>\n",
       "      <td>NaN</td>\n",
       "      <td>NaN</td>\n",
       "      <td>NaN</td>\n",
       "      <td>NaN</td>\n",
       "      <td>NaN</td>\n",
       "      <td>...</td>\n",
       "      <td>36.0</td>\n",
       "      <td>36.0</td>\n",
       "      <td>40.0</td>\n",
       "      <td>43.0</td>\n",
       "      <td>43.0</td>\n",
       "      <td>43.0</td>\n",
       "      <td>44.0</td>\n",
       "      <td>36.0</td>\n",
       "      <td>37.0</td>\n",
       "      <td>NaN</td>\n",
       "    </tr>\n",
       "  </tbody>\n",
       "</table>\n",
       "<p>5 rows × 71 columns</p>\n",
       "</div>"
      ],
      "text/plain": [
       "               region  codigo_region                          comuna  \\\n",
       "0  Arica y Parinacota             15                           Arica   \n",
       "1  Arica y Parinacota             15                       Camarones   \n",
       "2  Arica y Parinacota             15                   General Lagos   \n",
       "3  Arica y Parinacota             15                           Putre   \n",
       "4  Arica y Parinacota             15  Desconocido Arica y Parinacota   \n",
       "\n",
       "   codigo_comuna  poblacion  2020-03-30  2020-04-01  2020-04-03  2020-04-06  \\\n",
       "0        15101.0   247552.0         6.0         6.0        12.0        41.0   \n",
       "1        15102.0     1233.0         0.0         0.0         0.0         0.0   \n",
       "2        15202.0      810.0         0.0         0.0         0.0         0.0   \n",
       "3        15201.0     2515.0         0.0         0.0         0.0         0.0   \n",
       "4            NaN        NaN         NaN         NaN         NaN         NaN   \n",
       "\n",
       "   2020-04-08  ...  2020-10-05  2020-10-09  2020-10-12  2020-10-16  \\\n",
       "0        63.0  ...      8772.0      8996.0      9138.0      9343.0   \n",
       "1         0.0  ...        28.0        28.0        28.0        28.0   \n",
       "2         0.0  ...        64.0        64.0        64.0        64.0   \n",
       "3         0.0  ...        70.0        70.0        70.0        70.0   \n",
       "4         NaN  ...        36.0        36.0        40.0        43.0   \n",
       "\n",
       "   2020-10-19  2020-10-24  2020-10-26  2020-10-30  2020-11-02    tasa  \n",
       "0      9472.0      9679.0      9763.0      9888.0      9974.0  4029.1  \n",
       "1        28.0        28.0        28.0        28.0        28.0  2270.9  \n",
       "2        64.0        64.0        64.0        64.0        64.0  7901.2  \n",
       "3        70.0        71.0        72.0        72.0        72.0  2862.8  \n",
       "4        43.0        43.0        44.0        36.0        37.0     NaN  \n",
       "\n",
       "[5 rows x 71 columns]"
      ]
     },
     "execution_count": 2,
     "metadata": {},
     "output_type": "execute_result"
    }
   ],
   "source": [
    "df = pd.read_csv(\"https://raw.githubusercontent.com/MinCiencia/Datos-COVID19/master/output/producto1/Covid-19.csv\")\n",
    "df.columns = df.columns.str.lower().str.replace(' ', '_').str.strip()\n",
    "df.head()"
   ]
  },
  {
   "cell_type": "markdown",
   "metadata": {},
   "source": [
    "Ahora, lo que quiero hacer es graficar todos los casos de todas las regiones por separado, para eso hay que sacar las las columnas que estan de más, y juntar los datos. "
   ]
  },
  {
   "cell_type": "code",
   "execution_count": 3,
   "metadata": {},
   "outputs": [
    {
     "data": {
      "text/html": [
       "<div>\n",
       "<style scoped>\n",
       "    .dataframe tbody tr th:only-of-type {\n",
       "        vertical-align: middle;\n",
       "    }\n",
       "\n",
       "    .dataframe tbody tr th {\n",
       "        vertical-align: top;\n",
       "    }\n",
       "\n",
       "    .dataframe thead th {\n",
       "        text-align: right;\n",
       "    }\n",
       "</style>\n",
       "<table border=\"1\" class=\"dataframe\">\n",
       "  <thead>\n",
       "    <tr style=\"text-align: right;\">\n",
       "      <th></th>\n",
       "      <th>region</th>\n",
       "      <th>poblacion</th>\n",
       "      <th>2020-03-30</th>\n",
       "      <th>2020-04-01</th>\n",
       "      <th>2020-04-03</th>\n",
       "      <th>2020-04-06</th>\n",
       "      <th>2020-04-08</th>\n",
       "      <th>2020-04-10</th>\n",
       "      <th>2020-04-13</th>\n",
       "      <th>2020-04-15</th>\n",
       "      <th>...</th>\n",
       "      <th>2020-10-02</th>\n",
       "      <th>2020-10-05</th>\n",
       "      <th>2020-10-09</th>\n",
       "      <th>2020-10-12</th>\n",
       "      <th>2020-10-16</th>\n",
       "      <th>2020-10-19</th>\n",
       "      <th>2020-10-24</th>\n",
       "      <th>2020-10-26</th>\n",
       "      <th>2020-10-30</th>\n",
       "      <th>2020-11-02</th>\n",
       "    </tr>\n",
       "  </thead>\n",
       "  <tbody>\n",
       "    <tr>\n",
       "      <th>0</th>\n",
       "      <td>Arica y Parinacota</td>\n",
       "      <td>247552.0</td>\n",
       "      <td>6.0</td>\n",
       "      <td>6.0</td>\n",
       "      <td>12.0</td>\n",
       "      <td>41.0</td>\n",
       "      <td>63.0</td>\n",
       "      <td>87.0</td>\n",
       "      <td>115.0</td>\n",
       "      <td>124.0</td>\n",
       "      <td>...</td>\n",
       "      <td>8597.0</td>\n",
       "      <td>8772.0</td>\n",
       "      <td>8996.0</td>\n",
       "      <td>9138.0</td>\n",
       "      <td>9343.0</td>\n",
       "      <td>9472.0</td>\n",
       "      <td>9679.0</td>\n",
       "      <td>9763.0</td>\n",
       "      <td>9888.0</td>\n",
       "      <td>9974.0</td>\n",
       "    </tr>\n",
       "    <tr>\n",
       "      <th>1</th>\n",
       "      <td>Arica y Parinacota</td>\n",
       "      <td>1233.0</td>\n",
       "      <td>0.0</td>\n",
       "      <td>0.0</td>\n",
       "      <td>0.0</td>\n",
       "      <td>0.0</td>\n",
       "      <td>0.0</td>\n",
       "      <td>0.0</td>\n",
       "      <td>0.0</td>\n",
       "      <td>0.0</td>\n",
       "      <td>...</td>\n",
       "      <td>27.0</td>\n",
       "      <td>28.0</td>\n",
       "      <td>28.0</td>\n",
       "      <td>28.0</td>\n",
       "      <td>28.0</td>\n",
       "      <td>28.0</td>\n",
       "      <td>28.0</td>\n",
       "      <td>28.0</td>\n",
       "      <td>28.0</td>\n",
       "      <td>28.0</td>\n",
       "    </tr>\n",
       "    <tr>\n",
       "      <th>2</th>\n",
       "      <td>Arica y Parinacota</td>\n",
       "      <td>810.0</td>\n",
       "      <td>0.0</td>\n",
       "      <td>0.0</td>\n",
       "      <td>0.0</td>\n",
       "      <td>0.0</td>\n",
       "      <td>0.0</td>\n",
       "      <td>0.0</td>\n",
       "      <td>0.0</td>\n",
       "      <td>0.0</td>\n",
       "      <td>...</td>\n",
       "      <td>64.0</td>\n",
       "      <td>64.0</td>\n",
       "      <td>64.0</td>\n",
       "      <td>64.0</td>\n",
       "      <td>64.0</td>\n",
       "      <td>64.0</td>\n",
       "      <td>64.0</td>\n",
       "      <td>64.0</td>\n",
       "      <td>64.0</td>\n",
       "      <td>64.0</td>\n",
       "    </tr>\n",
       "    <tr>\n",
       "      <th>3</th>\n",
       "      <td>Arica y Parinacota</td>\n",
       "      <td>2515.0</td>\n",
       "      <td>0.0</td>\n",
       "      <td>0.0</td>\n",
       "      <td>0.0</td>\n",
       "      <td>0.0</td>\n",
       "      <td>0.0</td>\n",
       "      <td>0.0</td>\n",
       "      <td>0.0</td>\n",
       "      <td>0.0</td>\n",
       "      <td>...</td>\n",
       "      <td>67.0</td>\n",
       "      <td>70.0</td>\n",
       "      <td>70.0</td>\n",
       "      <td>70.0</td>\n",
       "      <td>70.0</td>\n",
       "      <td>70.0</td>\n",
       "      <td>71.0</td>\n",
       "      <td>72.0</td>\n",
       "      <td>72.0</td>\n",
       "      <td>72.0</td>\n",
       "    </tr>\n",
       "    <tr>\n",
       "      <th>4</th>\n",
       "      <td>Arica y Parinacota</td>\n",
       "      <td>NaN</td>\n",
       "      <td>NaN</td>\n",
       "      <td>NaN</td>\n",
       "      <td>NaN</td>\n",
       "      <td>NaN</td>\n",
       "      <td>NaN</td>\n",
       "      <td>NaN</td>\n",
       "      <td>NaN</td>\n",
       "      <td>NaN</td>\n",
       "      <td>...</td>\n",
       "      <td>37.0</td>\n",
       "      <td>36.0</td>\n",
       "      <td>36.0</td>\n",
       "      <td>40.0</td>\n",
       "      <td>43.0</td>\n",
       "      <td>43.0</td>\n",
       "      <td>43.0</td>\n",
       "      <td>44.0</td>\n",
       "      <td>36.0</td>\n",
       "      <td>37.0</td>\n",
       "    </tr>\n",
       "  </tbody>\n",
       "</table>\n",
       "<p>5 rows × 67 columns</p>\n",
       "</div>"
      ],
      "text/plain": [
       "               region  poblacion  2020-03-30  2020-04-01  2020-04-03  \\\n",
       "0  Arica y Parinacota   247552.0         6.0         6.0        12.0   \n",
       "1  Arica y Parinacota     1233.0         0.0         0.0         0.0   \n",
       "2  Arica y Parinacota      810.0         0.0         0.0         0.0   \n",
       "3  Arica y Parinacota     2515.0         0.0         0.0         0.0   \n",
       "4  Arica y Parinacota        NaN         NaN         NaN         NaN   \n",
       "\n",
       "   2020-04-06  2020-04-08  2020-04-10  2020-04-13  2020-04-15  ...  \\\n",
       "0        41.0        63.0        87.0       115.0       124.0  ...   \n",
       "1         0.0         0.0         0.0         0.0         0.0  ...   \n",
       "2         0.0         0.0         0.0         0.0         0.0  ...   \n",
       "3         0.0         0.0         0.0         0.0         0.0  ...   \n",
       "4         NaN         NaN         NaN         NaN         NaN  ...   \n",
       "\n",
       "   2020-10-02  2020-10-05  2020-10-09  2020-10-12  2020-10-16  2020-10-19  \\\n",
       "0      8597.0      8772.0      8996.0      9138.0      9343.0      9472.0   \n",
       "1        27.0        28.0        28.0        28.0        28.0        28.0   \n",
       "2        64.0        64.0        64.0        64.0        64.0        64.0   \n",
       "3        67.0        70.0        70.0        70.0        70.0        70.0   \n",
       "4        37.0        36.0        36.0        40.0        43.0        43.0   \n",
       "\n",
       "   2020-10-24  2020-10-26  2020-10-30  2020-11-02  \n",
       "0      9679.0      9763.0      9888.0      9974.0  \n",
       "1        28.0        28.0        28.0        28.0  \n",
       "2        64.0        64.0        64.0        64.0  \n",
       "3        71.0        72.0        72.0        72.0  \n",
       "4        43.0        44.0        36.0        37.0  \n",
       "\n",
       "[5 rows x 67 columns]"
      ]
     },
     "execution_count": 3,
     "metadata": {},
     "output_type": "execute_result"
    }
   ],
   "source": [
    "df.drop(columns = ['codigo_region','comuna', 'codigo_comuna', 'tasa'], inplace = True)\n",
    "df.head()"
   ]
  },
  {
   "cell_type": "markdown",
   "metadata": {},
   "source": [
    "Y ahora, con un `groupby` podemos obtener los datos totales por region"
   ]
  },
  {
   "cell_type": "code",
   "execution_count": 4,
   "metadata": {},
   "outputs": [
    {
     "data": {
      "text/html": [
       "<div>\n",
       "<style scoped>\n",
       "    .dataframe tbody tr th:only-of-type {\n",
       "        vertical-align: middle;\n",
       "    }\n",
       "\n",
       "    .dataframe tbody tr th {\n",
       "        vertical-align: top;\n",
       "    }\n",
       "\n",
       "    .dataframe thead th {\n",
       "        text-align: right;\n",
       "    }\n",
       "</style>\n",
       "<table border=\"1\" class=\"dataframe\">\n",
       "  <thead>\n",
       "    <tr style=\"text-align: right;\">\n",
       "      <th></th>\n",
       "      <th>region</th>\n",
       "      <th>poblacion</th>\n",
       "      <th>2020-03-30</th>\n",
       "      <th>2020-04-01</th>\n",
       "      <th>2020-04-03</th>\n",
       "      <th>2020-04-06</th>\n",
       "      <th>2020-04-08</th>\n",
       "      <th>2020-04-10</th>\n",
       "      <th>2020-04-13</th>\n",
       "      <th>2020-04-15</th>\n",
       "      <th>...</th>\n",
       "      <th>2020-10-02</th>\n",
       "      <th>2020-10-05</th>\n",
       "      <th>2020-10-09</th>\n",
       "      <th>2020-10-12</th>\n",
       "      <th>2020-10-16</th>\n",
       "      <th>2020-10-19</th>\n",
       "      <th>2020-10-24</th>\n",
       "      <th>2020-10-26</th>\n",
       "      <th>2020-10-30</th>\n",
       "      <th>2020-11-02</th>\n",
       "    </tr>\n",
       "  </thead>\n",
       "  <tbody>\n",
       "    <tr>\n",
       "      <th>0</th>\n",
       "      <td>Antofagasta</td>\n",
       "      <td>691854.0</td>\n",
       "      <td>29.0</td>\n",
       "      <td>32.0</td>\n",
       "      <td>49.0</td>\n",
       "      <td>65.0</td>\n",
       "      <td>72.0</td>\n",
       "      <td>105.0</td>\n",
       "      <td>149.0</td>\n",
       "      <td>176.0</td>\n",
       "      <td>...</td>\n",
       "      <td>21055.0</td>\n",
       "      <td>21236.0</td>\n",
       "      <td>21415.0</td>\n",
       "      <td>21599.0</td>\n",
       "      <td>21760.0</td>\n",
       "      <td>21915.0</td>\n",
       "      <td>22153.0</td>\n",
       "      <td>22245.0</td>\n",
       "      <td>22426.0</td>\n",
       "      <td>22542.0</td>\n",
       "    </tr>\n",
       "    <tr>\n",
       "      <th>1</th>\n",
       "      <td>Araucanía</td>\n",
       "      <td>1014343.0</td>\n",
       "      <td>187.0</td>\n",
       "      <td>292.0</td>\n",
       "      <td>414.0</td>\n",
       "      <td>541.0</td>\n",
       "      <td>628.0</td>\n",
       "      <td>680.0</td>\n",
       "      <td>758.0</td>\n",
       "      <td>823.0</td>\n",
       "      <td>...</td>\n",
       "      <td>7867.0</td>\n",
       "      <td>8334.0</td>\n",
       "      <td>9005.0</td>\n",
       "      <td>9455.0</td>\n",
       "      <td>10056.0</td>\n",
       "      <td>10572.0</td>\n",
       "      <td>11457.0</td>\n",
       "      <td>11839.0</td>\n",
       "      <td>12540.0</td>\n",
       "      <td>13101.0</td>\n",
       "    </tr>\n",
       "    <tr>\n",
       "      <th>2</th>\n",
       "      <td>Arica y Parinacota</td>\n",
       "      <td>252110.0</td>\n",
       "      <td>6.0</td>\n",
       "      <td>6.0</td>\n",
       "      <td>12.0</td>\n",
       "      <td>41.0</td>\n",
       "      <td>63.0</td>\n",
       "      <td>87.0</td>\n",
       "      <td>115.0</td>\n",
       "      <td>124.0</td>\n",
       "      <td>...</td>\n",
       "      <td>8792.0</td>\n",
       "      <td>8970.0</td>\n",
       "      <td>9194.0</td>\n",
       "      <td>9340.0</td>\n",
       "      <td>9548.0</td>\n",
       "      <td>9677.0</td>\n",
       "      <td>9885.0</td>\n",
       "      <td>9971.0</td>\n",
       "      <td>10088.0</td>\n",
       "      <td>10175.0</td>\n",
       "    </tr>\n",
       "    <tr>\n",
       "      <th>3</th>\n",
       "      <td>Atacama</td>\n",
       "      <td>314709.0</td>\n",
       "      <td>0.0</td>\n",
       "      <td>0.0</td>\n",
       "      <td>4.0</td>\n",
       "      <td>4.0</td>\n",
       "      <td>5.0</td>\n",
       "      <td>12.0</td>\n",
       "      <td>13.0</td>\n",
       "      <td>13.0</td>\n",
       "      <td>...</td>\n",
       "      <td>7170.0</td>\n",
       "      <td>7252.0</td>\n",
       "      <td>7390.0</td>\n",
       "      <td>7507.0</td>\n",
       "      <td>7593.0</td>\n",
       "      <td>7700.0</td>\n",
       "      <td>7804.0</td>\n",
       "      <td>7857.0</td>\n",
       "      <td>7941.0</td>\n",
       "      <td>7985.0</td>\n",
       "    </tr>\n",
       "    <tr>\n",
       "      <th>4</th>\n",
       "      <td>Aysén</td>\n",
       "      <td>107297.0</td>\n",
       "      <td>0.0</td>\n",
       "      <td>0.0</td>\n",
       "      <td>4.0</td>\n",
       "      <td>5.0</td>\n",
       "      <td>4.0</td>\n",
       "      <td>4.0</td>\n",
       "      <td>7.0</td>\n",
       "      <td>7.0</td>\n",
       "      <td>...</td>\n",
       "      <td>499.0</td>\n",
       "      <td>569.0</td>\n",
       "      <td>640.0</td>\n",
       "      <td>741.0</td>\n",
       "      <td>835.0</td>\n",
       "      <td>908.0</td>\n",
       "      <td>1034.0</td>\n",
       "      <td>1052.0</td>\n",
       "      <td>1105.0</td>\n",
       "      <td>1146.0</td>\n",
       "    </tr>\n",
       "    <tr>\n",
       "      <th>5</th>\n",
       "      <td>Biobío</td>\n",
       "      <td>1663696.0</td>\n",
       "      <td>72.0</td>\n",
       "      <td>224.0</td>\n",
       "      <td>263.0</td>\n",
       "      <td>360.0</td>\n",
       "      <td>409.0</td>\n",
       "      <td>439.0</td>\n",
       "      <td>507.0</td>\n",
       "      <td>542.0</td>\n",
       "      <td>...</td>\n",
       "      <td>28033.0</td>\n",
       "      <td>28606.0</td>\n",
       "      <td>29294.0</td>\n",
       "      <td>30057.0</td>\n",
       "      <td>31005.0</td>\n",
       "      <td>31746.0</td>\n",
       "      <td>32936.0</td>\n",
       "      <td>33385.0</td>\n",
       "      <td>34174.0</td>\n",
       "      <td>34884.0</td>\n",
       "    </tr>\n",
       "    <tr>\n",
       "      <th>6</th>\n",
       "      <td>Coquimbo</td>\n",
       "      <td>836096.0</td>\n",
       "      <td>21.0</td>\n",
       "      <td>23.0</td>\n",
       "      <td>31.0</td>\n",
       "      <td>49.0</td>\n",
       "      <td>54.0</td>\n",
       "      <td>59.0</td>\n",
       "      <td>66.0</td>\n",
       "      <td>66.0</td>\n",
       "      <td>...</td>\n",
       "      <td>13897.0</td>\n",
       "      <td>14041.0</td>\n",
       "      <td>14184.0</td>\n",
       "      <td>14264.0</td>\n",
       "      <td>14394.0</td>\n",
       "      <td>14463.0</td>\n",
       "      <td>14591.0</td>\n",
       "      <td>14626.0</td>\n",
       "      <td>14710.0</td>\n",
       "      <td>14753.0</td>\n",
       "    </tr>\n",
       "    <tr>\n",
       "      <th>7</th>\n",
       "      <td>Los Lagos</td>\n",
       "      <td>891440.0</td>\n",
       "      <td>104.0</td>\n",
       "      <td>169.0</td>\n",
       "      <td>198.0</td>\n",
       "      <td>250.0</td>\n",
       "      <td>283.0</td>\n",
       "      <td>304.0</td>\n",
       "      <td>380.0</td>\n",
       "      <td>390.0</td>\n",
       "      <td>...</td>\n",
       "      <td>10259.0</td>\n",
       "      <td>10795.0</td>\n",
       "      <td>11382.0</td>\n",
       "      <td>11942.0</td>\n",
       "      <td>12663.0</td>\n",
       "      <td>13288.0</td>\n",
       "      <td>14333.0</td>\n",
       "      <td>14774.0</td>\n",
       "      <td>15544.0</td>\n",
       "      <td>16293.0</td>\n",
       "    </tr>\n",
       "    <tr>\n",
       "      <th>8</th>\n",
       "      <td>Los Ríos</td>\n",
       "      <td>405835.0</td>\n",
       "      <td>12.0</td>\n",
       "      <td>54.0</td>\n",
       "      <td>57.0</td>\n",
       "      <td>98.0</td>\n",
       "      <td>108.0</td>\n",
       "      <td>118.0</td>\n",
       "      <td>137.0</td>\n",
       "      <td>150.0</td>\n",
       "      <td>...</td>\n",
       "      <td>2131.0</td>\n",
       "      <td>2263.0</td>\n",
       "      <td>2472.0</td>\n",
       "      <td>2622.0</td>\n",
       "      <td>2780.0</td>\n",
       "      <td>2958.0</td>\n",
       "      <td>3211.0</td>\n",
       "      <td>3337.0</td>\n",
       "      <td>3594.0</td>\n",
       "      <td>3900.0</td>\n",
       "    </tr>\n",
       "    <tr>\n",
       "      <th>9</th>\n",
       "      <td>Magallanes</td>\n",
       "      <td>178362.0</td>\n",
       "      <td>34.0</td>\n",
       "      <td>97.0</td>\n",
       "      <td>154.0</td>\n",
       "      <td>218.0</td>\n",
       "      <td>223.0</td>\n",
       "      <td>318.0</td>\n",
       "      <td>415.0</td>\n",
       "      <td>444.0</td>\n",
       "      <td>...</td>\n",
       "      <td>9281.0</td>\n",
       "      <td>9935.0</td>\n",
       "      <td>10844.0</td>\n",
       "      <td>11438.0</td>\n",
       "      <td>11856.0</td>\n",
       "      <td>12181.0</td>\n",
       "      <td>12666.0</td>\n",
       "      <td>12876.0</td>\n",
       "      <td>13177.0</td>\n",
       "      <td>13498.0</td>\n",
       "    </tr>\n",
       "    <tr>\n",
       "      <th>10</th>\n",
       "      <td>Maule</td>\n",
       "      <td>1131939.0</td>\n",
       "      <td>48.0</td>\n",
       "      <td>55.0</td>\n",
       "      <td>67.0</td>\n",
       "      <td>88.0</td>\n",
       "      <td>101.0</td>\n",
       "      <td>108.0</td>\n",
       "      <td>141.0</td>\n",
       "      <td>152.0</td>\n",
       "      <td>...</td>\n",
       "      <td>16962.0</td>\n",
       "      <td>17315.0</td>\n",
       "      <td>17725.0</td>\n",
       "      <td>18115.0</td>\n",
       "      <td>18355.0</td>\n",
       "      <td>18751.0</td>\n",
       "      <td>19168.0</td>\n",
       "      <td>19364.0</td>\n",
       "      <td>19682.0</td>\n",
       "      <td>19947.0</td>\n",
       "    </tr>\n",
       "    <tr>\n",
       "      <th>11</th>\n",
       "      <td>Metropolitana</td>\n",
       "      <td>8125072.0</td>\n",
       "      <td>1180.0</td>\n",
       "      <td>1483.0</td>\n",
       "      <td>1729.0</td>\n",
       "      <td>2193.0</td>\n",
       "      <td>2542.0</td>\n",
       "      <td>3180.0</td>\n",
       "      <td>3802.0</td>\n",
       "      <td>4228.0</td>\n",
       "      <td>...</td>\n",
       "      <td>320989.0</td>\n",
       "      <td>322120.0</td>\n",
       "      <td>323688.0</td>\n",
       "      <td>324890.0</td>\n",
       "      <td>326288.0</td>\n",
       "      <td>327598.0</td>\n",
       "      <td>329489.0</td>\n",
       "      <td>330274.0</td>\n",
       "      <td>331557.0</td>\n",
       "      <td>332731.0</td>\n",
       "    </tr>\n",
       "    <tr>\n",
       "      <th>12</th>\n",
       "      <td>O’Higgins</td>\n",
       "      <td>991063.0</td>\n",
       "      <td>7.0</td>\n",
       "      <td>17.0</td>\n",
       "      <td>24.0</td>\n",
       "      <td>31.0</td>\n",
       "      <td>31.0</td>\n",
       "      <td>31.0</td>\n",
       "      <td>48.0</td>\n",
       "      <td>54.0</td>\n",
       "      <td>...</td>\n",
       "      <td>20674.0</td>\n",
       "      <td>20978.0</td>\n",
       "      <td>21357.0</td>\n",
       "      <td>21643.0</td>\n",
       "      <td>21945.0</td>\n",
       "      <td>22336.0</td>\n",
       "      <td>22795.0</td>\n",
       "      <td>22941.0</td>\n",
       "      <td>23177.0</td>\n",
       "      <td>23351.0</td>\n",
       "    </tr>\n",
       "    <tr>\n",
       "      <th>13</th>\n",
       "      <td>Tarapacá</td>\n",
       "      <td>382773.0</td>\n",
       "      <td>5.0</td>\n",
       "      <td>9.0</td>\n",
       "      <td>10.0</td>\n",
       "      <td>18.0</td>\n",
       "      <td>22.0</td>\n",
       "      <td>33.0</td>\n",
       "      <td>52.0</td>\n",
       "      <td>62.0</td>\n",
       "      <td>...</td>\n",
       "      <td>13091.0</td>\n",
       "      <td>13255.0</td>\n",
       "      <td>13452.0</td>\n",
       "      <td>13606.0</td>\n",
       "      <td>13784.0</td>\n",
       "      <td>13918.0</td>\n",
       "      <td>14164.0</td>\n",
       "      <td>14266.0</td>\n",
       "      <td>14467.0</td>\n",
       "      <td>14608.0</td>\n",
       "    </tr>\n",
       "    <tr>\n",
       "      <th>14</th>\n",
       "      <td>Valparaíso</td>\n",
       "      <td>1960170.0</td>\n",
       "      <td>81.0</td>\n",
       "      <td>111.0</td>\n",
       "      <td>142.0</td>\n",
       "      <td>162.0</td>\n",
       "      <td>199.0</td>\n",
       "      <td>220.0</td>\n",
       "      <td>273.0</td>\n",
       "      <td>299.0</td>\n",
       "      <td>...</td>\n",
       "      <td>38901.0</td>\n",
       "      <td>39464.0</td>\n",
       "      <td>40101.0</td>\n",
       "      <td>40625.0</td>\n",
       "      <td>41113.0</td>\n",
       "      <td>41604.0</td>\n",
       "      <td>42302.0</td>\n",
       "      <td>42507.0</td>\n",
       "      <td>42903.0</td>\n",
       "      <td>43248.0</td>\n",
       "    </tr>\n",
       "    <tr>\n",
       "      <th>15</th>\n",
       "      <td>Ñuble</td>\n",
       "      <td>511551.0</td>\n",
       "      <td>151.0</td>\n",
       "      <td>245.0</td>\n",
       "      <td>357.0</td>\n",
       "      <td>463.0</td>\n",
       "      <td>550.0</td>\n",
       "      <td>578.0</td>\n",
       "      <td>618.0</td>\n",
       "      <td>634.0</td>\n",
       "      <td>...</td>\n",
       "      <td>8565.0</td>\n",
       "      <td>8674.0</td>\n",
       "      <td>8857.0</td>\n",
       "      <td>8975.0</td>\n",
       "      <td>9129.0</td>\n",
       "      <td>9270.0</td>\n",
       "      <td>9534.0</td>\n",
       "      <td>9634.0</td>\n",
       "      <td>9815.0</td>\n",
       "      <td>9981.0</td>\n",
       "    </tr>\n",
       "  </tbody>\n",
       "</table>\n",
       "<p>16 rows × 67 columns</p>\n",
       "</div>"
      ],
      "text/plain": [
       "                region  poblacion  2020-03-30  2020-04-01  2020-04-03  \\\n",
       "0          Antofagasta   691854.0        29.0        32.0        49.0   \n",
       "1            Araucanía  1014343.0       187.0       292.0       414.0   \n",
       "2   Arica y Parinacota   252110.0         6.0         6.0        12.0   \n",
       "3              Atacama   314709.0         0.0         0.0         4.0   \n",
       "4                Aysén   107297.0         0.0         0.0         4.0   \n",
       "5               Biobío  1663696.0        72.0       224.0       263.0   \n",
       "6             Coquimbo   836096.0        21.0        23.0        31.0   \n",
       "7            Los Lagos   891440.0       104.0       169.0       198.0   \n",
       "8             Los Ríos   405835.0        12.0        54.0        57.0   \n",
       "9           Magallanes   178362.0        34.0        97.0       154.0   \n",
       "10               Maule  1131939.0        48.0        55.0        67.0   \n",
       "11       Metropolitana  8125072.0      1180.0      1483.0      1729.0   \n",
       "12           O’Higgins   991063.0         7.0        17.0        24.0   \n",
       "13            Tarapacá   382773.0         5.0         9.0        10.0   \n",
       "14          Valparaíso  1960170.0        81.0       111.0       142.0   \n",
       "15               Ñuble   511551.0       151.0       245.0       357.0   \n",
       "\n",
       "    2020-04-06  2020-04-08  2020-04-10  2020-04-13  2020-04-15  ...  \\\n",
       "0         65.0        72.0       105.0       149.0       176.0  ...   \n",
       "1        541.0       628.0       680.0       758.0       823.0  ...   \n",
       "2         41.0        63.0        87.0       115.0       124.0  ...   \n",
       "3          4.0         5.0        12.0        13.0        13.0  ...   \n",
       "4          5.0         4.0         4.0         7.0         7.0  ...   \n",
       "5        360.0       409.0       439.0       507.0       542.0  ...   \n",
       "6         49.0        54.0        59.0        66.0        66.0  ...   \n",
       "7        250.0       283.0       304.0       380.0       390.0  ...   \n",
       "8         98.0       108.0       118.0       137.0       150.0  ...   \n",
       "9        218.0       223.0       318.0       415.0       444.0  ...   \n",
       "10        88.0       101.0       108.0       141.0       152.0  ...   \n",
       "11      2193.0      2542.0      3180.0      3802.0      4228.0  ...   \n",
       "12        31.0        31.0        31.0        48.0        54.0  ...   \n",
       "13        18.0        22.0        33.0        52.0        62.0  ...   \n",
       "14       162.0       199.0       220.0       273.0       299.0  ...   \n",
       "15       463.0       550.0       578.0       618.0       634.0  ...   \n",
       "\n",
       "    2020-10-02  2020-10-05  2020-10-09  2020-10-12  2020-10-16  2020-10-19  \\\n",
       "0      21055.0     21236.0     21415.0     21599.0     21760.0     21915.0   \n",
       "1       7867.0      8334.0      9005.0      9455.0     10056.0     10572.0   \n",
       "2       8792.0      8970.0      9194.0      9340.0      9548.0      9677.0   \n",
       "3       7170.0      7252.0      7390.0      7507.0      7593.0      7700.0   \n",
       "4        499.0       569.0       640.0       741.0       835.0       908.0   \n",
       "5      28033.0     28606.0     29294.0     30057.0     31005.0     31746.0   \n",
       "6      13897.0     14041.0     14184.0     14264.0     14394.0     14463.0   \n",
       "7      10259.0     10795.0     11382.0     11942.0     12663.0     13288.0   \n",
       "8       2131.0      2263.0      2472.0      2622.0      2780.0      2958.0   \n",
       "9       9281.0      9935.0     10844.0     11438.0     11856.0     12181.0   \n",
       "10     16962.0     17315.0     17725.0     18115.0     18355.0     18751.0   \n",
       "11    320989.0    322120.0    323688.0    324890.0    326288.0    327598.0   \n",
       "12     20674.0     20978.0     21357.0     21643.0     21945.0     22336.0   \n",
       "13     13091.0     13255.0     13452.0     13606.0     13784.0     13918.0   \n",
       "14     38901.0     39464.0     40101.0     40625.0     41113.0     41604.0   \n",
       "15      8565.0      8674.0      8857.0      8975.0      9129.0      9270.0   \n",
       "\n",
       "    2020-10-24  2020-10-26  2020-10-30  2020-11-02  \n",
       "0      22153.0     22245.0     22426.0     22542.0  \n",
       "1      11457.0     11839.0     12540.0     13101.0  \n",
       "2       9885.0      9971.0     10088.0     10175.0  \n",
       "3       7804.0      7857.0      7941.0      7985.0  \n",
       "4       1034.0      1052.0      1105.0      1146.0  \n",
       "5      32936.0     33385.0     34174.0     34884.0  \n",
       "6      14591.0     14626.0     14710.0     14753.0  \n",
       "7      14333.0     14774.0     15544.0     16293.0  \n",
       "8       3211.0      3337.0      3594.0      3900.0  \n",
       "9      12666.0     12876.0     13177.0     13498.0  \n",
       "10     19168.0     19364.0     19682.0     19947.0  \n",
       "11    329489.0    330274.0    331557.0    332731.0  \n",
       "12     22795.0     22941.0     23177.0     23351.0  \n",
       "13     14164.0     14266.0     14467.0     14608.0  \n",
       "14     42302.0     42507.0     42903.0     43248.0  \n",
       "15      9534.0      9634.0      9815.0      9981.0  \n",
       "\n",
       "[16 rows x 67 columns]"
      ]
     },
     "execution_count": 4,
     "metadata": {},
     "output_type": "execute_result"
    }
   ],
   "source": [
    "tot_reg = df.groupby('region').apply(lambda x: x.drop(columns = ['region']).sum()).reset_index()\n",
    "tot_reg"
   ]
  },
  {
   "cell_type": "markdown",
   "metadata": {},
   "source": [
    "Y, lo ultimo que nos queda por hacer es un melt, de forma que las fechas aparezcan en una columnas. Tambien aprovecharemos de convertir la columna fecha en a *DateTime*"
   ]
  },
  {
   "cell_type": "code",
   "execution_count": 5,
   "metadata": {},
   "outputs": [
    {
     "data": {
      "text/html": [
       "<div>\n",
       "<style scoped>\n",
       "    .dataframe tbody tr th:only-of-type {\n",
       "        vertical-align: middle;\n",
       "    }\n",
       "\n",
       "    .dataframe tbody tr th {\n",
       "        vertical-align: top;\n",
       "    }\n",
       "\n",
       "    .dataframe thead th {\n",
       "        text-align: right;\n",
       "    }\n",
       "</style>\n",
       "<table border=\"1\" class=\"dataframe\">\n",
       "  <thead>\n",
       "    <tr style=\"text-align: right;\">\n",
       "      <th></th>\n",
       "      <th>region</th>\n",
       "      <th>poblacion</th>\n",
       "      <th>fecha</th>\n",
       "      <th>casos</th>\n",
       "    </tr>\n",
       "  </thead>\n",
       "  <tbody>\n",
       "    <tr>\n",
       "      <th>0</th>\n",
       "      <td>Antofagasta</td>\n",
       "      <td>691854.0</td>\n",
       "      <td>2020-03-30</td>\n",
       "      <td>29.0</td>\n",
       "    </tr>\n",
       "    <tr>\n",
       "      <th>1</th>\n",
       "      <td>Araucanía</td>\n",
       "      <td>1014343.0</td>\n",
       "      <td>2020-03-30</td>\n",
       "      <td>187.0</td>\n",
       "    </tr>\n",
       "    <tr>\n",
       "      <th>2</th>\n",
       "      <td>Arica y Parinacota</td>\n",
       "      <td>252110.0</td>\n",
       "      <td>2020-03-30</td>\n",
       "      <td>6.0</td>\n",
       "    </tr>\n",
       "    <tr>\n",
       "      <th>3</th>\n",
       "      <td>Atacama</td>\n",
       "      <td>314709.0</td>\n",
       "      <td>2020-03-30</td>\n",
       "      <td>0.0</td>\n",
       "    </tr>\n",
       "    <tr>\n",
       "      <th>4</th>\n",
       "      <td>Aysén</td>\n",
       "      <td>107297.0</td>\n",
       "      <td>2020-03-30</td>\n",
       "      <td>0.0</td>\n",
       "    </tr>\n",
       "  </tbody>\n",
       "</table>\n",
       "</div>"
      ],
      "text/plain": [
       "               region  poblacion      fecha  casos\n",
       "0         Antofagasta   691854.0 2020-03-30   29.0\n",
       "1           Araucanía  1014343.0 2020-03-30  187.0\n",
       "2  Arica y Parinacota   252110.0 2020-03-30    6.0\n",
       "3             Atacama   314709.0 2020-03-30    0.0\n",
       "4               Aysén   107297.0 2020-03-30    0.0"
      ]
     },
     "execution_count": 5,
     "metadata": {},
     "output_type": "execute_result"
    }
   ],
   "source": [
    "tot_reg_melt = tot_reg.melt(id_vars = ['region', 'poblacion'], var_name=\"fecha\", value_name='casos')\n",
    "tot_reg_melt.fecha = pd.to_datetime(tot_reg_melt.fecha)\n",
    "tot_reg_melt.head()"
   ]
  },
  {
   "cell_type": "markdown",
   "metadata": {},
   "source": [
    "Ahora vamor a graficar:"
   ]
  },
  {
   "cell_type": "code",
   "execution_count": 6,
   "metadata": {},
   "outputs": [
    {
     "data": {
      "text/html": [
       "\n",
       "<div id=\"altair-viz-118d50aca20d4c2b8be6fd6035077636\"></div>\n",
       "<script type=\"text/javascript\">\n",
       "  (function(spec, embedOpt){\n",
       "    let outputDiv = document.currentScript.previousElementSibling;\n",
       "    if (outputDiv.id !== \"altair-viz-118d50aca20d4c2b8be6fd6035077636\") {\n",
       "      outputDiv = document.getElementById(\"altair-viz-118d50aca20d4c2b8be6fd6035077636\");\n",
       "    }\n",
       "    const paths = {\n",
       "      \"vega\": \"https://cdn.jsdelivr.net/npm//vega@5?noext\",\n",
       "      \"vega-lib\": \"https://cdn.jsdelivr.net/npm//vega-lib?noext\",\n",
       "      \"vega-lite\": \"https://cdn.jsdelivr.net/npm//vega-lite@4.8.1?noext\",\n",
       "      \"vega-embed\": \"https://cdn.jsdelivr.net/npm//vega-embed@6?noext\",\n",
       "    };\n",
       "\n",
       "    function loadScript(lib) {\n",
       "      return new Promise(function(resolve, reject) {\n",
       "        var s = document.createElement('script');\n",
       "        s.src = paths[lib];\n",
       "        s.async = true;\n",
       "        s.onload = () => resolve(paths[lib]);\n",
       "        s.onerror = () => reject(`Error loading script: ${paths[lib]}`);\n",
       "        document.getElementsByTagName(\"head\")[0].appendChild(s);\n",
       "      });\n",
       "    }\n",
       "\n",
       "    function showError(err) {\n",
       "      outputDiv.innerHTML = `<div class=\"error\" style=\"color:red;\">${err}</div>`;\n",
       "      throw err;\n",
       "    }\n",
       "\n",
       "    function displayChart(vegaEmbed) {\n",
       "      vegaEmbed(outputDiv, spec, embedOpt)\n",
       "        .catch(err => showError(`Javascript Error: ${err.message}<br>This usually means there's a typo in your chart specification. See the javascript console for the full traceback.`));\n",
       "    }\n",
       "\n",
       "    if(typeof define === \"function\" && define.amd) {\n",
       "      requirejs.config({paths});\n",
       "      require([\"vega-embed\"], displayChart, err => showError(`Error loading script: ${err.message}`));\n",
       "    } else if (typeof vegaEmbed === \"function\") {\n",
       "      displayChart(vegaEmbed);\n",
       "    } else {\n",
       "      loadScript(\"vega\")\n",
       "        .then(() => loadScript(\"vega-lite\"))\n",
       "        .then(() => loadScript(\"vega-embed\"))\n",
       "        .catch(showError)\n",
       "        .then(() => displayChart(vegaEmbed));\n",
       "    }\n",
       "  })({\"config\": {\"view\": {\"continuousWidth\": 400, \"continuousHeight\": 300}}, \"data\": {\"name\": \"data-e6258e8c8d66abc480bad2976768614a\"}, \"mark\": \"line\", \"encoding\": {\"color\": {\"type\": \"nominal\", \"field\": \"region\"}, \"tooltip\": [{\"type\": \"temporal\", \"field\": \"fecha\"}, {\"type\": \"quantitative\", \"field\": \"casos\"}, {\"type\": \"nominal\", \"field\": \"region\"}], \"x\": {\"type\": \"temporal\", \"field\": \"fecha\"}, \"y\": {\"type\": \"quantitative\", \"field\": \"casos\"}}, \"selection\": {\"selector001\": {\"type\": \"interval\", \"bind\": \"scales\", \"encodings\": [\"x\", \"y\"]}}, \"$schema\": \"https://vega.github.io/schema/vega-lite/v4.8.1.json\", \"datasets\": {\"data-e6258e8c8d66abc480bad2976768614a\": [{\"region\": \"Antofagasta\", \"poblacion\": 691854.0, \"fecha\": \"2020-03-30T00:00:00\", \"casos\": 29.0}, {\"region\": \"Araucan\\u00eda\", \"poblacion\": 1014343.0, \"fecha\": \"2020-03-30T00:00:00\", \"casos\": 187.0}, {\"region\": \"Arica y Parinacota\", \"poblacion\": 252110.0, \"fecha\": \"2020-03-30T00:00:00\", \"casos\": 6.0}, {\"region\": \"Atacama\", \"poblacion\": 314709.0, \"fecha\": \"2020-03-30T00:00:00\", \"casos\": 0.0}, {\"region\": \"Ays\\u00e9n\", \"poblacion\": 107297.0, \"fecha\": \"2020-03-30T00:00:00\", \"casos\": 0.0}, {\"region\": \"Biob\\u00edo\", \"poblacion\": 1663696.0, \"fecha\": \"2020-03-30T00:00:00\", \"casos\": 72.0}, {\"region\": \"Coquimbo\", \"poblacion\": 836096.0, \"fecha\": \"2020-03-30T00:00:00\", \"casos\": 21.0}, {\"region\": \"Los Lagos\", \"poblacion\": 891440.0, \"fecha\": \"2020-03-30T00:00:00\", \"casos\": 104.0}, {\"region\": \"Los R\\u00edos\", \"poblacion\": 405835.0, \"fecha\": \"2020-03-30T00:00:00\", \"casos\": 12.0}, {\"region\": \"Magallanes\", \"poblacion\": 178362.0, \"fecha\": \"2020-03-30T00:00:00\", \"casos\": 34.0}, {\"region\": \"Maule\", \"poblacion\": 1131939.0, \"fecha\": \"2020-03-30T00:00:00\", \"casos\": 48.0}, {\"region\": \"Metropolitana\", \"poblacion\": 8125072.0, \"fecha\": \"2020-03-30T00:00:00\", \"casos\": 1180.0}, {\"region\": \"O\\u2019Higgins\", \"poblacion\": 991063.0, \"fecha\": \"2020-03-30T00:00:00\", \"casos\": 7.0}, {\"region\": \"Tarapac\\u00e1\", \"poblacion\": 382773.0, \"fecha\": \"2020-03-30T00:00:00\", \"casos\": 5.0}, {\"region\": \"Valpara\\u00edso\", \"poblacion\": 1960170.0, \"fecha\": \"2020-03-30T00:00:00\", \"casos\": 81.0}, {\"region\": \"\\u00d1uble\", \"poblacion\": 511551.0, \"fecha\": \"2020-03-30T00:00:00\", \"casos\": 151.0}, {\"region\": \"Antofagasta\", \"poblacion\": 691854.0, \"fecha\": \"2020-04-01T00:00:00\", \"casos\": 32.0}, {\"region\": \"Araucan\\u00eda\", \"poblacion\": 1014343.0, \"fecha\": \"2020-04-01T00:00:00\", \"casos\": 292.0}, {\"region\": \"Arica y Parinacota\", \"poblacion\": 252110.0, \"fecha\": \"2020-04-01T00:00:00\", \"casos\": 6.0}, {\"region\": \"Atacama\", \"poblacion\": 314709.0, \"fecha\": \"2020-04-01T00:00:00\", \"casos\": 0.0}, {\"region\": \"Ays\\u00e9n\", \"poblacion\": 107297.0, \"fecha\": \"2020-04-01T00:00:00\", \"casos\": 0.0}, {\"region\": \"Biob\\u00edo\", \"poblacion\": 1663696.0, \"fecha\": \"2020-04-01T00:00:00\", \"casos\": 224.0}, {\"region\": \"Coquimbo\", \"poblacion\": 836096.0, \"fecha\": \"2020-04-01T00:00:00\", \"casos\": 23.0}, {\"region\": \"Los Lagos\", \"poblacion\": 891440.0, \"fecha\": \"2020-04-01T00:00:00\", \"casos\": 169.0}, {\"region\": \"Los R\\u00edos\", \"poblacion\": 405835.0, \"fecha\": \"2020-04-01T00:00:00\", \"casos\": 54.0}, {\"region\": \"Magallanes\", \"poblacion\": 178362.0, \"fecha\": \"2020-04-01T00:00:00\", \"casos\": 97.0}, {\"region\": \"Maule\", \"poblacion\": 1131939.0, \"fecha\": \"2020-04-01T00:00:00\", \"casos\": 55.0}, {\"region\": \"Metropolitana\", \"poblacion\": 8125072.0, \"fecha\": \"2020-04-01T00:00:00\", \"casos\": 1483.0}, {\"region\": \"O\\u2019Higgins\", \"poblacion\": 991063.0, \"fecha\": \"2020-04-01T00:00:00\", \"casos\": 17.0}, {\"region\": \"Tarapac\\u00e1\", \"poblacion\": 382773.0, \"fecha\": \"2020-04-01T00:00:00\", \"casos\": 9.0}, {\"region\": \"Valpara\\u00edso\", \"poblacion\": 1960170.0, \"fecha\": \"2020-04-01T00:00:00\", \"casos\": 111.0}, {\"region\": \"\\u00d1uble\", \"poblacion\": 511551.0, \"fecha\": \"2020-04-01T00:00:00\", \"casos\": 245.0}, {\"region\": \"Antofagasta\", \"poblacion\": 691854.0, \"fecha\": \"2020-04-03T00:00:00\", \"casos\": 49.0}, {\"region\": \"Araucan\\u00eda\", \"poblacion\": 1014343.0, \"fecha\": \"2020-04-03T00:00:00\", \"casos\": 414.0}, {\"region\": \"Arica y Parinacota\", \"poblacion\": 252110.0, \"fecha\": \"2020-04-03T00:00:00\", \"casos\": 12.0}, {\"region\": \"Atacama\", \"poblacion\": 314709.0, \"fecha\": \"2020-04-03T00:00:00\", \"casos\": 4.0}, {\"region\": \"Ays\\u00e9n\", \"poblacion\": 107297.0, \"fecha\": \"2020-04-03T00:00:00\", \"casos\": 4.0}, {\"region\": \"Biob\\u00edo\", \"poblacion\": 1663696.0, \"fecha\": \"2020-04-03T00:00:00\", \"casos\": 263.0}, {\"region\": \"Coquimbo\", \"poblacion\": 836096.0, \"fecha\": \"2020-04-03T00:00:00\", \"casos\": 31.0}, {\"region\": \"Los Lagos\", \"poblacion\": 891440.0, \"fecha\": \"2020-04-03T00:00:00\", \"casos\": 198.0}, {\"region\": \"Los R\\u00edos\", \"poblacion\": 405835.0, \"fecha\": \"2020-04-03T00:00:00\", \"casos\": 57.0}, {\"region\": \"Magallanes\", \"poblacion\": 178362.0, \"fecha\": \"2020-04-03T00:00:00\", \"casos\": 154.0}, {\"region\": \"Maule\", \"poblacion\": 1131939.0, \"fecha\": \"2020-04-03T00:00:00\", \"casos\": 67.0}, {\"region\": \"Metropolitana\", \"poblacion\": 8125072.0, \"fecha\": \"2020-04-03T00:00:00\", \"casos\": 1729.0}, {\"region\": \"O\\u2019Higgins\", \"poblacion\": 991063.0, \"fecha\": \"2020-04-03T00:00:00\", \"casos\": 24.0}, {\"region\": \"Tarapac\\u00e1\", \"poblacion\": 382773.0, \"fecha\": \"2020-04-03T00:00:00\", \"casos\": 10.0}, {\"region\": \"Valpara\\u00edso\", \"poblacion\": 1960170.0, \"fecha\": \"2020-04-03T00:00:00\", \"casos\": 142.0}, {\"region\": \"\\u00d1uble\", \"poblacion\": 511551.0, \"fecha\": \"2020-04-03T00:00:00\", \"casos\": 357.0}, {\"region\": \"Antofagasta\", \"poblacion\": 691854.0, \"fecha\": \"2020-04-06T00:00:00\", \"casos\": 65.0}, {\"region\": \"Araucan\\u00eda\", \"poblacion\": 1014343.0, \"fecha\": \"2020-04-06T00:00:00\", \"casos\": 541.0}, {\"region\": \"Arica y Parinacota\", \"poblacion\": 252110.0, \"fecha\": \"2020-04-06T00:00:00\", \"casos\": 41.0}, {\"region\": \"Atacama\", \"poblacion\": 314709.0, \"fecha\": \"2020-04-06T00:00:00\", \"casos\": 4.0}, {\"region\": \"Ays\\u00e9n\", \"poblacion\": 107297.0, \"fecha\": \"2020-04-06T00:00:00\", \"casos\": 5.0}, {\"region\": \"Biob\\u00edo\", \"poblacion\": 1663696.0, \"fecha\": \"2020-04-06T00:00:00\", \"casos\": 360.0}, {\"region\": \"Coquimbo\", \"poblacion\": 836096.0, \"fecha\": \"2020-04-06T00:00:00\", \"casos\": 49.0}, {\"region\": \"Los Lagos\", \"poblacion\": 891440.0, \"fecha\": \"2020-04-06T00:00:00\", \"casos\": 250.0}, {\"region\": \"Los R\\u00edos\", \"poblacion\": 405835.0, \"fecha\": \"2020-04-06T00:00:00\", \"casos\": 98.0}, {\"region\": \"Magallanes\", \"poblacion\": 178362.0, \"fecha\": \"2020-04-06T00:00:00\", \"casos\": 218.0}, {\"region\": \"Maule\", \"poblacion\": 1131939.0, \"fecha\": \"2020-04-06T00:00:00\", \"casos\": 88.0}, {\"region\": \"Metropolitana\", \"poblacion\": 8125072.0, \"fecha\": \"2020-04-06T00:00:00\", \"casos\": 2193.0}, {\"region\": \"O\\u2019Higgins\", \"poblacion\": 991063.0, \"fecha\": \"2020-04-06T00:00:00\", \"casos\": 31.0}, {\"region\": \"Tarapac\\u00e1\", \"poblacion\": 382773.0, \"fecha\": \"2020-04-06T00:00:00\", \"casos\": 18.0}, {\"region\": \"Valpara\\u00edso\", \"poblacion\": 1960170.0, \"fecha\": \"2020-04-06T00:00:00\", \"casos\": 162.0}, {\"region\": \"\\u00d1uble\", \"poblacion\": 511551.0, \"fecha\": \"2020-04-06T00:00:00\", \"casos\": 463.0}, {\"region\": \"Antofagasta\", \"poblacion\": 691854.0, \"fecha\": \"2020-04-08T00:00:00\", \"casos\": 72.0}, {\"region\": \"Araucan\\u00eda\", \"poblacion\": 1014343.0, \"fecha\": \"2020-04-08T00:00:00\", \"casos\": 628.0}, {\"region\": \"Arica y Parinacota\", \"poblacion\": 252110.0, \"fecha\": \"2020-04-08T00:00:00\", \"casos\": 63.0}, {\"region\": \"Atacama\", \"poblacion\": 314709.0, \"fecha\": \"2020-04-08T00:00:00\", \"casos\": 5.0}, {\"region\": \"Ays\\u00e9n\", \"poblacion\": 107297.0, \"fecha\": \"2020-04-08T00:00:00\", \"casos\": 4.0}, {\"region\": \"Biob\\u00edo\", \"poblacion\": 1663696.0, \"fecha\": \"2020-04-08T00:00:00\", \"casos\": 409.0}, {\"region\": \"Coquimbo\", \"poblacion\": 836096.0, \"fecha\": \"2020-04-08T00:00:00\", \"casos\": 54.0}, {\"region\": \"Los Lagos\", \"poblacion\": 891440.0, \"fecha\": \"2020-04-08T00:00:00\", \"casos\": 283.0}, {\"region\": \"Los R\\u00edos\", \"poblacion\": 405835.0, \"fecha\": \"2020-04-08T00:00:00\", \"casos\": 108.0}, {\"region\": \"Magallanes\", \"poblacion\": 178362.0, \"fecha\": \"2020-04-08T00:00:00\", \"casos\": 223.0}, {\"region\": \"Maule\", \"poblacion\": 1131939.0, \"fecha\": \"2020-04-08T00:00:00\", \"casos\": 101.0}, {\"region\": \"Metropolitana\", \"poblacion\": 8125072.0, \"fecha\": \"2020-04-08T00:00:00\", \"casos\": 2542.0}, {\"region\": \"O\\u2019Higgins\", \"poblacion\": 991063.0, \"fecha\": \"2020-04-08T00:00:00\", \"casos\": 31.0}, {\"region\": \"Tarapac\\u00e1\", \"poblacion\": 382773.0, \"fecha\": \"2020-04-08T00:00:00\", \"casos\": 22.0}, {\"region\": \"Valpara\\u00edso\", \"poblacion\": 1960170.0, \"fecha\": \"2020-04-08T00:00:00\", \"casos\": 199.0}, {\"region\": \"\\u00d1uble\", \"poblacion\": 511551.0, \"fecha\": \"2020-04-08T00:00:00\", \"casos\": 550.0}, {\"region\": \"Antofagasta\", \"poblacion\": 691854.0, \"fecha\": \"2020-04-10T00:00:00\", \"casos\": 105.0}, {\"region\": \"Araucan\\u00eda\", \"poblacion\": 1014343.0, \"fecha\": \"2020-04-10T00:00:00\", \"casos\": 680.0}, {\"region\": \"Arica y Parinacota\", \"poblacion\": 252110.0, \"fecha\": \"2020-04-10T00:00:00\", \"casos\": 87.0}, {\"region\": \"Atacama\", \"poblacion\": 314709.0, \"fecha\": \"2020-04-10T00:00:00\", \"casos\": 12.0}, {\"region\": \"Ays\\u00e9n\", \"poblacion\": 107297.0, \"fecha\": \"2020-04-10T00:00:00\", \"casos\": 4.0}, {\"region\": \"Biob\\u00edo\", \"poblacion\": 1663696.0, \"fecha\": \"2020-04-10T00:00:00\", \"casos\": 439.0}, {\"region\": \"Coquimbo\", \"poblacion\": 836096.0, \"fecha\": \"2020-04-10T00:00:00\", \"casos\": 59.0}, {\"region\": \"Los Lagos\", \"poblacion\": 891440.0, \"fecha\": \"2020-04-10T00:00:00\", \"casos\": 304.0}, {\"region\": \"Los R\\u00edos\", \"poblacion\": 405835.0, \"fecha\": \"2020-04-10T00:00:00\", \"casos\": 118.0}, {\"region\": \"Magallanes\", \"poblacion\": 178362.0, \"fecha\": \"2020-04-10T00:00:00\", \"casos\": 318.0}, {\"region\": \"Maule\", \"poblacion\": 1131939.0, \"fecha\": \"2020-04-10T00:00:00\", \"casos\": 108.0}, {\"region\": \"Metropolitana\", \"poblacion\": 8125072.0, \"fecha\": \"2020-04-10T00:00:00\", \"casos\": 3180.0}, {\"region\": \"O\\u2019Higgins\", \"poblacion\": 991063.0, \"fecha\": \"2020-04-10T00:00:00\", \"casos\": 31.0}, {\"region\": \"Tarapac\\u00e1\", \"poblacion\": 382773.0, \"fecha\": \"2020-04-10T00:00:00\", \"casos\": 33.0}, {\"region\": \"Valpara\\u00edso\", \"poblacion\": 1960170.0, \"fecha\": \"2020-04-10T00:00:00\", \"casos\": 220.0}, {\"region\": \"\\u00d1uble\", \"poblacion\": 511551.0, \"fecha\": \"2020-04-10T00:00:00\", \"casos\": 578.0}, {\"region\": \"Antofagasta\", \"poblacion\": 691854.0, \"fecha\": \"2020-04-13T00:00:00\", \"casos\": 149.0}, {\"region\": \"Araucan\\u00eda\", \"poblacion\": 1014343.0, \"fecha\": \"2020-04-13T00:00:00\", \"casos\": 758.0}, {\"region\": \"Arica y Parinacota\", \"poblacion\": 252110.0, \"fecha\": \"2020-04-13T00:00:00\", \"casos\": 115.0}, {\"region\": \"Atacama\", \"poblacion\": 314709.0, \"fecha\": \"2020-04-13T00:00:00\", \"casos\": 13.0}, {\"region\": \"Ays\\u00e9n\", \"poblacion\": 107297.0, \"fecha\": \"2020-04-13T00:00:00\", \"casos\": 7.0}, {\"region\": \"Biob\\u00edo\", \"poblacion\": 1663696.0, \"fecha\": \"2020-04-13T00:00:00\", \"casos\": 507.0}, {\"region\": \"Coquimbo\", \"poblacion\": 836096.0, \"fecha\": \"2020-04-13T00:00:00\", \"casos\": 66.0}, {\"region\": \"Los Lagos\", \"poblacion\": 891440.0, \"fecha\": \"2020-04-13T00:00:00\", \"casos\": 380.0}, {\"region\": \"Los R\\u00edos\", \"poblacion\": 405835.0, \"fecha\": \"2020-04-13T00:00:00\", \"casos\": 137.0}, {\"region\": \"Magallanes\", \"poblacion\": 178362.0, \"fecha\": \"2020-04-13T00:00:00\", \"casos\": 415.0}, {\"region\": \"Maule\", \"poblacion\": 1131939.0, \"fecha\": \"2020-04-13T00:00:00\", \"casos\": 141.0}, {\"region\": \"Metropolitana\", \"poblacion\": 8125072.0, \"fecha\": \"2020-04-13T00:00:00\", \"casos\": 3802.0}, {\"region\": \"O\\u2019Higgins\", \"poblacion\": 991063.0, \"fecha\": \"2020-04-13T00:00:00\", \"casos\": 48.0}, {\"region\": \"Tarapac\\u00e1\", \"poblacion\": 382773.0, \"fecha\": \"2020-04-13T00:00:00\", \"casos\": 52.0}, {\"region\": \"Valpara\\u00edso\", \"poblacion\": 1960170.0, \"fecha\": \"2020-04-13T00:00:00\", \"casos\": 273.0}, {\"region\": \"\\u00d1uble\", \"poblacion\": 511551.0, \"fecha\": \"2020-04-13T00:00:00\", \"casos\": 618.0}, {\"region\": \"Antofagasta\", \"poblacion\": 691854.0, \"fecha\": \"2020-04-15T00:00:00\", \"casos\": 176.0}, {\"region\": \"Araucan\\u00eda\", \"poblacion\": 1014343.0, \"fecha\": \"2020-04-15T00:00:00\", \"casos\": 823.0}, {\"region\": \"Arica y Parinacota\", \"poblacion\": 252110.0, \"fecha\": \"2020-04-15T00:00:00\", \"casos\": 124.0}, {\"region\": \"Atacama\", \"poblacion\": 314709.0, \"fecha\": \"2020-04-15T00:00:00\", \"casos\": 13.0}, {\"region\": \"Ays\\u00e9n\", \"poblacion\": 107297.0, \"fecha\": \"2020-04-15T00:00:00\", \"casos\": 7.0}, {\"region\": \"Biob\\u00edo\", \"poblacion\": 1663696.0, \"fecha\": \"2020-04-15T00:00:00\", \"casos\": 542.0}, {\"region\": \"Coquimbo\", \"poblacion\": 836096.0, \"fecha\": \"2020-04-15T00:00:00\", \"casos\": 66.0}, {\"region\": \"Los Lagos\", \"poblacion\": 891440.0, \"fecha\": \"2020-04-15T00:00:00\", \"casos\": 390.0}, {\"region\": \"Los R\\u00edos\", \"poblacion\": 405835.0, \"fecha\": \"2020-04-15T00:00:00\", \"casos\": 150.0}, {\"region\": \"Magallanes\", \"poblacion\": 178362.0, \"fecha\": \"2020-04-15T00:00:00\", \"casos\": 444.0}, {\"region\": \"Maule\", \"poblacion\": 1131939.0, \"fecha\": \"2020-04-15T00:00:00\", \"casos\": 152.0}, {\"region\": \"Metropolitana\", \"poblacion\": 8125072.0, \"fecha\": \"2020-04-15T00:00:00\", \"casos\": 4228.0}, {\"region\": \"O\\u2019Higgins\", \"poblacion\": 991063.0, \"fecha\": \"2020-04-15T00:00:00\", \"casos\": 54.0}, {\"region\": \"Tarapac\\u00e1\", \"poblacion\": 382773.0, \"fecha\": \"2020-04-15T00:00:00\", \"casos\": 62.0}, {\"region\": \"Valpara\\u00edso\", \"poblacion\": 1960170.0, \"fecha\": \"2020-04-15T00:00:00\", \"casos\": 299.0}, {\"region\": \"\\u00d1uble\", \"poblacion\": 511551.0, \"fecha\": \"2020-04-15T00:00:00\", \"casos\": 634.0}, {\"region\": \"Antofagasta\", \"poblacion\": 691854.0, \"fecha\": \"2020-04-17T00:00:00\", \"casos\": 211.0}, {\"region\": \"Araucan\\u00eda\", \"poblacion\": 1014343.0, \"fecha\": \"2020-04-17T00:00:00\", \"casos\": 884.0}, {\"region\": \"Arica y Parinacota\", \"poblacion\": 252110.0, \"fecha\": \"2020-04-17T00:00:00\", \"casos\": 134.0}, {\"region\": \"Atacama\", \"poblacion\": 314709.0, \"fecha\": \"2020-04-17T00:00:00\", \"casos\": 13.0}, {\"region\": \"Ays\\u00e9n\", \"poblacion\": 107297.0, \"fecha\": \"2020-04-17T00:00:00\", \"casos\": 7.0}, {\"region\": \"Biob\\u00edo\", \"poblacion\": 1663696.0, \"fecha\": \"2020-04-17T00:00:00\", \"casos\": 573.0}, {\"region\": \"Coquimbo\", \"poblacion\": 836096.0, \"fecha\": \"2020-04-17T00:00:00\", \"casos\": 68.0}, {\"region\": \"Los Lagos\", \"poblacion\": 891440.0, \"fecha\": \"2020-04-17T00:00:00\", \"casos\": 412.0}, {\"region\": \"Los R\\u00edos\", \"poblacion\": 405835.0, \"fecha\": \"2020-04-17T00:00:00\", \"casos\": 154.0}, {\"region\": \"Magallanes\", \"poblacion\": 178362.0, \"fecha\": \"2020-04-17T00:00:00\", \"casos\": 501.0}, {\"region\": \"Maule\", \"poblacion\": 1131939.0, \"fecha\": \"2020-04-17T00:00:00\", \"casos\": 223.0}, {\"region\": \"Metropolitana\", \"poblacion\": 8125072.0, \"fecha\": \"2020-04-17T00:00:00\", \"casos\": 4915.0}, {\"region\": \"O\\u2019Higgins\", \"poblacion\": 991063.0, \"fecha\": \"2020-04-17T00:00:00\", \"casos\": 55.0}, {\"region\": \"Tarapac\\u00e1\", \"poblacion\": 382773.0, \"fecha\": \"2020-04-17T00:00:00\", \"casos\": 73.0}, {\"region\": \"Valpara\\u00edso\", \"poblacion\": 1960170.0, \"fecha\": \"2020-04-17T00:00:00\", \"casos\": 345.0}, {\"region\": \"\\u00d1uble\", \"poblacion\": 511551.0, \"fecha\": \"2020-04-17T00:00:00\", \"casos\": 656.0}, {\"region\": \"Antofagasta\", \"poblacion\": 691854.0, \"fecha\": \"2020-04-20T00:00:00\", \"casos\": 264.0}, {\"region\": \"Araucan\\u00eda\", \"poblacion\": 1014343.0, \"fecha\": \"2020-04-20T00:00:00\", \"casos\": 1021.0}, {\"region\": \"Arica y Parinacota\", \"poblacion\": 252110.0, \"fecha\": \"2020-04-20T00:00:00\", \"casos\": 166.0}, {\"region\": \"Atacama\", \"poblacion\": 314709.0, \"fecha\": \"2020-04-20T00:00:00\", \"casos\": 14.0}, {\"region\": \"Ays\\u00e9n\", \"poblacion\": 107297.0, \"fecha\": \"2020-04-20T00:00:00\", \"casos\": 5.0}, {\"region\": \"Biob\\u00edo\", \"poblacion\": 1663696.0, \"fecha\": \"2020-04-20T00:00:00\", \"casos\": 627.0}, {\"region\": \"Coquimbo\", \"poblacion\": 836096.0, \"fecha\": \"2020-04-20T00:00:00\", \"casos\": 75.0}, {\"region\": \"Los Lagos\", \"poblacion\": 891440.0, \"fecha\": \"2020-04-20T00:00:00\", \"casos\": 431.0}, {\"region\": \"Los R\\u00edos\", \"poblacion\": 405835.0, \"fecha\": \"2020-04-20T00:00:00\", \"casos\": 156.0}, {\"region\": \"Magallanes\", \"poblacion\": 178362.0, \"fecha\": \"2020-04-20T00:00:00\", \"casos\": 548.0}, {\"region\": \"Maule\", \"poblacion\": 1131939.0, \"fecha\": \"2020-04-20T00:00:00\", \"casos\": 310.0}, {\"region\": \"Metropolitana\", \"poblacion\": 8125072.0, \"fecha\": \"2020-04-20T00:00:00\", \"casos\": 5597.0}, {\"region\": \"O\\u2019Higgins\", \"poblacion\": 991063.0, \"fecha\": \"2020-04-20T00:00:00\", \"casos\": 60.0}, {\"region\": \"Tarapac\\u00e1\", \"poblacion\": 382773.0, \"fecha\": \"2020-04-20T00:00:00\", \"casos\": 93.0}, {\"region\": \"Valpara\\u00edso\", \"poblacion\": 1960170.0, \"fecha\": \"2020-04-20T00:00:00\", \"casos\": 390.0}, {\"region\": \"\\u00d1uble\", \"poblacion\": 511551.0, \"fecha\": \"2020-04-20T00:00:00\", \"casos\": 689.0}, {\"region\": \"Antofagasta\", \"poblacion\": 691854.0, \"fecha\": \"2020-04-24T00:00:00\", \"casos\": 368.0}, {\"region\": \"Araucan\\u00eda\", \"poblacion\": 1014343.0, \"fecha\": \"2020-04-24T00:00:00\", \"casos\": 1144.0}, {\"region\": \"Arica y Parinacota\", \"poblacion\": 252110.0, \"fecha\": \"2020-04-24T00:00:00\", \"casos\": 224.0}, {\"region\": \"Atacama\", \"poblacion\": 314709.0, \"fecha\": \"2020-04-24T00:00:00\", \"casos\": 21.0}, {\"region\": \"Ays\\u00e9n\", \"poblacion\": 107297.0, \"fecha\": \"2020-04-24T00:00:00\", \"casos\": 5.0}, {\"region\": \"Biob\\u00edo\", \"poblacion\": 1663696.0, \"fecha\": \"2020-04-24T00:00:00\", \"casos\": 688.0}, {\"region\": \"Coquimbo\", \"poblacion\": 836096.0, \"fecha\": \"2020-04-24T00:00:00\", \"casos\": 79.0}, {\"region\": \"Los Lagos\", \"poblacion\": 891440.0, \"fecha\": \"2020-04-24T00:00:00\", \"casos\": 453.0}, {\"region\": \"Los R\\u00edos\", \"poblacion\": 405835.0, \"fecha\": \"2020-04-24T00:00:00\", \"casos\": 168.0}, {\"region\": \"Magallanes\", \"poblacion\": 178362.0, \"fecha\": \"2020-04-24T00:00:00\", \"casos\": 614.0}, {\"region\": \"Maule\", \"poblacion\": 1131939.0, \"fecha\": \"2020-04-24T00:00:00\", \"casos\": 359.0}, {\"region\": \"Metropolitana\", \"poblacion\": 8125072.0, \"fecha\": \"2020-04-24T00:00:00\", \"casos\": 6700.0}, {\"region\": \"O\\u2019Higgins\", \"poblacion\": 991063.0, \"fecha\": \"2020-04-24T00:00:00\", \"casos\": 81.0}, {\"region\": \"Tarapac\\u00e1\", \"poblacion\": 382773.0, \"fecha\": \"2020-04-24T00:00:00\", \"casos\": 130.0}, {\"region\": \"Valpara\\u00edso\", \"poblacion\": 1960170.0, \"fecha\": \"2020-04-24T00:00:00\", \"casos\": 455.0}, {\"region\": \"\\u00d1uble\", \"poblacion\": 511551.0, \"fecha\": \"2020-04-24T00:00:00\", \"casos\": 721.0}, {\"region\": \"Antofagasta\", \"poblacion\": 691854.0, \"fecha\": \"2020-04-27T00:00:00\", \"casos\": 457.0}, {\"region\": \"Araucan\\u00eda\", \"poblacion\": 1014343.0, \"fecha\": \"2020-04-27T00:00:00\", \"casos\": 1201.0}, {\"region\": \"Arica y Parinacota\", \"poblacion\": 252110.0, \"fecha\": \"2020-04-27T00:00:00\", \"casos\": 270.0}, {\"region\": \"Atacama\", \"poblacion\": 314709.0, \"fecha\": \"2020-04-27T00:00:00\", \"casos\": 29.0}, {\"region\": \"Ays\\u00e9n\", \"poblacion\": 107297.0, \"fecha\": \"2020-04-27T00:00:00\", \"casos\": 5.0}, {\"region\": \"Biob\\u00edo\", \"poblacion\": 1663696.0, \"fecha\": \"2020-04-27T00:00:00\", \"casos\": 703.0}, {\"region\": \"Coquimbo\", \"poblacion\": 836096.0, \"fecha\": \"2020-04-27T00:00:00\", \"casos\": 82.0}, {\"region\": \"Los Lagos\", \"poblacion\": 891440.0, \"fecha\": \"2020-04-27T00:00:00\", \"casos\": 462.0}, {\"region\": \"Los R\\u00edos\", \"poblacion\": 405835.0, \"fecha\": \"2020-04-27T00:00:00\", \"casos\": 173.0}, {\"region\": \"Magallanes\", \"poblacion\": 178362.0, \"fecha\": \"2020-04-27T00:00:00\", \"casos\": 659.0}, {\"region\": \"Maule\", \"poblacion\": 1131939.0, \"fecha\": \"2020-04-27T00:00:00\", \"casos\": 375.0}, {\"region\": \"Metropolitana\", \"poblacion\": 8125072.0, \"fecha\": \"2020-04-27T00:00:00\", \"casos\": 7821.0}, {\"region\": \"O\\u2019Higgins\", \"poblacion\": 991063.0, \"fecha\": \"2020-04-27T00:00:00\", \"casos\": 92.0}, {\"region\": \"Tarapac\\u00e1\", \"poblacion\": 382773.0, \"fecha\": \"2020-04-27T00:00:00\", \"casos\": 163.0}, {\"region\": \"Valpara\\u00edso\", \"poblacion\": 1960170.0, \"fecha\": \"2020-04-27T00:00:00\", \"casos\": 481.0}, {\"region\": \"\\u00d1uble\", \"poblacion\": 511551.0, \"fecha\": \"2020-04-27T00:00:00\", \"casos\": 731.0}, {\"region\": \"Antofagasta\", \"poblacion\": 691854.0, \"fecha\": \"2020-05-01T00:00:00\", \"casos\": 579.0}, {\"region\": \"Araucan\\u00eda\", \"poblacion\": 1014343.0, \"fecha\": \"2020-05-01T00:00:00\", \"casos\": 1290.0}, {\"region\": \"Arica y Parinacota\", \"poblacion\": 252110.0, \"fecha\": \"2020-05-01T00:00:00\", \"casos\": 297.0}, {\"region\": \"Atacama\", \"poblacion\": 314709.0, \"fecha\": \"2020-05-01T00:00:00\", \"casos\": 45.0}, {\"region\": \"Ays\\u00e9n\", \"poblacion\": 107297.0, \"fecha\": \"2020-05-01T00:00:00\", \"casos\": 4.0}, {\"region\": \"Biob\\u00edo\", \"poblacion\": 1663696.0, \"fecha\": \"2020-05-01T00:00:00\", \"casos\": 727.0}, {\"region\": \"Coquimbo\", \"poblacion\": 836096.0, \"fecha\": \"2020-05-01T00:00:00\", \"casos\": 88.0}, {\"region\": \"Los Lagos\", \"poblacion\": 891440.0, \"fecha\": \"2020-05-01T00:00:00\", \"casos\": 479.0}, {\"region\": \"Los R\\u00edos\", \"poblacion\": 405835.0, \"fecha\": \"2020-05-01T00:00:00\", \"casos\": 181.0}, {\"region\": \"Magallanes\", \"poblacion\": 178362.0, \"fecha\": \"2020-05-01T00:00:00\", \"casos\": 721.0}, {\"region\": \"Maule\", \"poblacion\": 1131939.0, \"fecha\": \"2020-05-01T00:00:00\", \"casos\": 408.0}, {\"region\": \"Metropolitana\", \"poblacion\": 8125072.0, \"fecha\": \"2020-05-01T00:00:00\", \"casos\": 10491.0}, {\"region\": \"O\\u2019Higgins\", \"poblacion\": 991063.0, \"fecha\": \"2020-05-01T00:00:00\", \"casos\": 114.0}, {\"region\": \"Tarapac\\u00e1\", \"poblacion\": 382773.0, \"fecha\": \"2020-05-01T00:00:00\", \"casos\": 200.0}, {\"region\": \"Valpara\\u00edso\", \"poblacion\": 1960170.0, \"fecha\": \"2020-05-01T00:00:00\", \"casos\": 588.0}, {\"region\": \"\\u00d1uble\", \"poblacion\": 511551.0, \"fecha\": \"2020-05-01T00:00:00\", \"casos\": 766.0}, {\"region\": \"Antofagasta\", \"poblacion\": 691854.0, \"fecha\": \"2020-05-04T00:00:00\", \"casos\": 749.0}, {\"region\": \"Araucan\\u00eda\", \"poblacion\": 1014343.0, \"fecha\": \"2020-05-04T00:00:00\", \"casos\": 1325.0}, {\"region\": \"Arica y Parinacota\", \"poblacion\": 252110.0, \"fecha\": \"2020-05-04T00:00:00\", \"casos\": 310.0}, {\"region\": \"Atacama\", \"poblacion\": 314709.0, \"fecha\": \"2020-05-04T00:00:00\", \"casos\": 72.0}, {\"region\": \"Ays\\u00e9n\", \"poblacion\": 107297.0, \"fecha\": \"2020-05-04T00:00:00\", \"casos\": 4.0}, {\"region\": \"Biob\\u00edo\", \"poblacion\": 1663696.0, \"fecha\": \"2020-05-04T00:00:00\", \"casos\": 759.0}, {\"region\": \"Coquimbo\", \"poblacion\": 836096.0, \"fecha\": \"2020-05-04T00:00:00\", \"casos\": 104.0}, {\"region\": \"Los Lagos\", \"poblacion\": 891440.0, \"fecha\": \"2020-05-04T00:00:00\", \"casos\": 503.0}, {\"region\": \"Los R\\u00edos\", \"poblacion\": 405835.0, \"fecha\": \"2020-05-04T00:00:00\", \"casos\": 200.0}, {\"region\": \"Magallanes\", \"poblacion\": 178362.0, \"fecha\": \"2020-05-04T00:00:00\", \"casos\": 781.0}, {\"region\": \"Maule\", \"poblacion\": 1131939.0, \"fecha\": \"2020-05-04T00:00:00\", \"casos\": 413.0}, {\"region\": \"Metropolitana\", \"poblacion\": 8125072.0, \"fecha\": \"2020-05-04T00:00:00\", \"casos\": 13473.0}, {\"region\": \"O\\u2019Higgins\", \"poblacion\": 991063.0, \"fecha\": \"2020-05-04T00:00:00\", \"casos\": 133.0}, {\"region\": \"Tarapac\\u00e1\", \"poblacion\": 382773.0, \"fecha\": \"2020-05-04T00:00:00\", \"casos\": 287.0}, {\"region\": \"Valpara\\u00edso\", \"poblacion\": 1960170.0, \"fecha\": \"2020-05-04T00:00:00\", \"casos\": 646.0}, {\"region\": \"\\u00d1uble\", \"poblacion\": 511551.0, \"fecha\": \"2020-05-04T00:00:00\", \"casos\": 785.0}, {\"region\": \"Antofagasta\", \"poblacion\": 691854.0, \"fecha\": \"2020-05-08T00:00:00\", \"casos\": 912.0}, {\"region\": \"Araucan\\u00eda\", \"poblacion\": 1014343.0, \"fecha\": \"2020-05-08T00:00:00\", \"casos\": 1399.0}, {\"region\": \"Arica y Parinacota\", \"poblacion\": 252110.0, \"fecha\": \"2020-05-08T00:00:00\", \"casos\": 328.0}, {\"region\": \"Atacama\", \"poblacion\": 314709.0, \"fecha\": \"2020-05-08T00:00:00\", \"casos\": 90.0}, {\"region\": \"Ays\\u00e9n\", \"poblacion\": 107297.0, \"fecha\": \"2020-05-08T00:00:00\", \"casos\": 5.0}, {\"region\": \"Biob\\u00edo\", \"poblacion\": 1663696.0, \"fecha\": \"2020-05-08T00:00:00\", \"casos\": 839.0}, {\"region\": \"Coquimbo\", \"poblacion\": 836096.0, \"fecha\": \"2020-05-08T00:00:00\", \"casos\": 124.0}, {\"region\": \"Los Lagos\", \"poblacion\": 891440.0, \"fecha\": \"2020-05-08T00:00:00\", \"casos\": 525.0}, {\"region\": \"Los R\\u00edos\", \"poblacion\": 405835.0, \"fecha\": \"2020-05-08T00:00:00\", \"casos\": 203.0}, {\"region\": \"Magallanes\", \"poblacion\": 178362.0, \"fecha\": \"2020-05-08T00:00:00\", \"casos\": 865.0}, {\"region\": \"Maule\", \"poblacion\": 1131939.0, \"fecha\": \"2020-05-08T00:00:00\", \"casos\": 439.0}, {\"region\": \"Metropolitana\", \"poblacion\": 8125072.0, \"fecha\": \"2020-05-08T00:00:00\", \"casos\": 17925.0}, {\"region\": \"O\\u2019Higgins\", \"poblacion\": 991063.0, \"fecha\": \"2020-05-08T00:00:00\", \"casos\": 168.0}, {\"region\": \"Tarapac\\u00e1\", \"poblacion\": 382773.0, \"fecha\": \"2020-05-08T00:00:00\", \"casos\": 459.0}, {\"region\": \"Valpara\\u00edso\", \"poblacion\": 1960170.0, \"fecha\": \"2020-05-08T00:00:00\", \"casos\": 853.0}, {\"region\": \"\\u00d1uble\", \"poblacion\": 511551.0, \"fecha\": \"2020-05-08T00:00:00\", \"casos\": 796.0}, {\"region\": \"Antofagasta\", \"poblacion\": 691854.0, \"fecha\": \"2020-05-11T00:00:00\", \"casos\": 1001.0}, {\"region\": \"Araucan\\u00eda\", \"poblacion\": 1014343.0, \"fecha\": \"2020-05-11T00:00:00\", \"casos\": 1462.0}, {\"region\": \"Arica y Parinacota\", \"poblacion\": 252110.0, \"fecha\": \"2020-05-11T00:00:00\", \"casos\": 353.0}, {\"region\": \"Atacama\", \"poblacion\": 314709.0, \"fecha\": \"2020-05-11T00:00:00\", \"casos\": 135.0}, {\"region\": \"Ays\\u00e9n\", \"poblacion\": 107297.0, \"fecha\": \"2020-05-11T00:00:00\", \"casos\": 5.0}, {\"region\": \"Biob\\u00edo\", \"poblacion\": 1663696.0, \"fecha\": \"2020-05-11T00:00:00\", \"casos\": 930.0}, {\"region\": \"Coquimbo\", \"poblacion\": 836096.0, \"fecha\": \"2020-05-11T00:00:00\", \"casos\": 149.0}, {\"region\": \"Los Lagos\", \"poblacion\": 891440.0, \"fecha\": \"2020-05-11T00:00:00\", \"casos\": 569.0}, {\"region\": \"Los R\\u00edos\", \"poblacion\": 405835.0, \"fecha\": \"2020-05-11T00:00:00\", \"casos\": 207.0}, {\"region\": \"Magallanes\", \"poblacion\": 178362.0, \"fecha\": \"2020-05-11T00:00:00\", \"casos\": 898.0}, {\"region\": \"Maule\", \"poblacion\": 1131939.0, \"fecha\": \"2020-05-11T00:00:00\", \"casos\": 468.0}, {\"region\": \"Metropolitana\", \"poblacion\": 8125072.0, \"fecha\": \"2020-05-11T00:00:00\", \"casos\": 21264.0}, {\"region\": \"O\\u2019Higgins\", \"poblacion\": 991063.0, \"fecha\": \"2020-05-11T00:00:00\", \"casos\": 215.0}, {\"region\": \"Tarapac\\u00e1\", \"poblacion\": 382773.0, \"fecha\": \"2020-05-11T00:00:00\", \"casos\": 547.0}, {\"region\": \"Valpara\\u00edso\", \"poblacion\": 1960170.0, \"fecha\": \"2020-05-11T00:00:00\", \"casos\": 998.0}, {\"region\": \"\\u00d1uble\", \"poblacion\": 511551.0, \"fecha\": \"2020-05-11T00:00:00\", \"casos\": 824.0}, {\"region\": \"Antofagasta\", \"poblacion\": 691854.0, \"fecha\": \"2020-05-15T00:00:00\", \"casos\": 1315.0}, {\"region\": \"Araucan\\u00eda\", \"poblacion\": 1014343.0, \"fecha\": \"2020-05-15T00:00:00\", \"casos\": 1556.0}, {\"region\": \"Arica y Parinacota\", \"poblacion\": 252110.0, \"fecha\": \"2020-05-15T00:00:00\", \"casos\": 371.0}, {\"region\": \"Atacama\", \"poblacion\": 314709.0, \"fecha\": \"2020-05-15T00:00:00\", \"casos\": 144.0}, {\"region\": \"Ays\\u00e9n\", \"poblacion\": 107297.0, \"fecha\": \"2020-05-15T00:00:00\", \"casos\": 5.0}, {\"region\": \"Biob\\u00edo\", \"poblacion\": 1663696.0, \"fecha\": \"2020-05-15T00:00:00\", \"casos\": 1034.0}, {\"region\": \"Coquimbo\", \"poblacion\": 836096.0, \"fecha\": \"2020-05-15T00:00:00\", \"casos\": 197.0}, {\"region\": \"Los Lagos\", \"poblacion\": 891440.0, \"fecha\": \"2020-05-15T00:00:00\", \"casos\": 618.0}, {\"region\": \"Los R\\u00edos\", \"poblacion\": 405835.0, \"fecha\": \"2020-05-15T00:00:00\", \"casos\": 218.0}, {\"region\": \"Magallanes\", \"poblacion\": 178362.0, \"fecha\": \"2020-05-15T00:00:00\", \"casos\": 934.0}, {\"region\": \"Maule\", \"poblacion\": 1131939.0, \"fecha\": \"2020-05-15T00:00:00\", \"casos\": 557.0}, {\"region\": \"Metropolitana\", \"poblacion\": 8125072.0, \"fecha\": \"2020-05-15T00:00:00\", \"casos\": 29207.0}, {\"region\": \"O\\u2019Higgins\", \"poblacion\": 991063.0, \"fecha\": \"2020-05-15T00:00:00\", \"casos\": 324.0}, {\"region\": \"Tarapac\\u00e1\", \"poblacion\": 382773.0, \"fecha\": \"2020-05-15T00:00:00\", \"casos\": 773.0}, {\"region\": \"Valpara\\u00edso\", \"poblacion\": 1960170.0, \"fecha\": \"2020-05-15T00:00:00\", \"casos\": 1344.0}, {\"region\": \"\\u00d1uble\", \"poblacion\": 511551.0, \"fecha\": \"2020-05-15T00:00:00\", \"casos\": 890.0}, {\"region\": \"Antofagasta\", \"poblacion\": 691854.0, \"fecha\": \"2020-05-18T00:00:00\", \"casos\": 1568.0}, {\"region\": \"Araucan\\u00eda\", \"poblacion\": 1014343.0, \"fecha\": \"2020-05-18T00:00:00\", \"casos\": 1633.0}, {\"region\": \"Arica y Parinacota\", \"poblacion\": 252110.0, \"fecha\": \"2020-05-18T00:00:00\", \"casos\": 405.0}, {\"region\": \"Atacama\", \"poblacion\": 314709.0, \"fecha\": \"2020-05-18T00:00:00\", \"casos\": 158.0}, {\"region\": \"Ays\\u00e9n\", \"poblacion\": 107297.0, \"fecha\": \"2020-05-18T00:00:00\", \"casos\": 5.0}, {\"region\": \"Biob\\u00edo\", \"poblacion\": 1663696.0, \"fecha\": \"2020-05-18T00:00:00\", \"casos\": 1145.0}, {\"region\": \"Coquimbo\", \"poblacion\": 836096.0, \"fecha\": \"2020-05-18T00:00:00\", \"casos\": 227.0}, {\"region\": \"Los Lagos\", \"poblacion\": 891440.0, \"fecha\": \"2020-05-18T00:00:00\", \"casos\": 630.0}, {\"region\": \"Los R\\u00edos\", \"poblacion\": 405835.0, \"fecha\": \"2020-05-18T00:00:00\", \"casos\": 223.0}, {\"region\": \"Magallanes\", \"poblacion\": 178362.0, \"fecha\": \"2020-05-18T00:00:00\", \"casos\": 968.0}, {\"region\": \"Maule\", \"poblacion\": 1131939.0, \"fecha\": \"2020-05-18T00:00:00\", \"casos\": 620.0}, {\"region\": \"Metropolitana\", \"poblacion\": 8125072.0, \"fecha\": \"2020-05-18T00:00:00\", \"casos\": 34380.0}, {\"region\": \"O\\u2019Higgins\", \"poblacion\": 991063.0, \"fecha\": \"2020-05-18T00:00:00\", \"casos\": 423.0}, {\"region\": \"Tarapac\\u00e1\", \"poblacion\": 382773.0, \"fecha\": \"2020-05-18T00:00:00\", \"casos\": 1053.0}, {\"region\": \"Valpara\\u00edso\", \"poblacion\": 1960170.0, \"fecha\": \"2020-05-18T00:00:00\", \"casos\": 1586.0}, {\"region\": \"\\u00d1uble\", \"poblacion\": 511551.0, \"fecha\": \"2020-05-18T00:00:00\", \"casos\": 998.0}, {\"region\": \"Antofagasta\", \"poblacion\": 691854.0, \"fecha\": \"2020-05-22T00:00:00\", \"casos\": 1816.0}, {\"region\": \"Araucan\\u00eda\", \"poblacion\": 1014343.0, \"fecha\": \"2020-05-22T00:00:00\", \"casos\": 1732.0}, {\"region\": \"Arica y Parinacota\", \"poblacion\": 252110.0, \"fecha\": \"2020-05-22T00:00:00\", \"casos\": 477.0}, {\"region\": \"Atacama\", \"poblacion\": 314709.0, \"fecha\": \"2020-05-22T00:00:00\", \"casos\": 177.0}, {\"region\": \"Ays\\u00e9n\", \"poblacion\": 107297.0, \"fecha\": \"2020-05-22T00:00:00\", \"casos\": 5.0}, {\"region\": \"Biob\\u00edo\", \"poblacion\": 1663696.0, \"fecha\": \"2020-05-22T00:00:00\", \"casos\": 1313.0}, {\"region\": \"Coquimbo\", \"poblacion\": 836096.0, \"fecha\": \"2020-05-22T00:00:00\", \"casos\": 297.0}, {\"region\": \"Los Lagos\", \"poblacion\": 891440.0, \"fecha\": \"2020-05-22T00:00:00\", \"casos\": 698.0}, {\"region\": \"Los R\\u00edos\", \"poblacion\": 405835.0, \"fecha\": \"2020-05-22T00:00:00\", \"casos\": 263.0}, {\"region\": \"Magallanes\", \"poblacion\": 178362.0, \"fecha\": \"2020-05-22T00:00:00\", \"casos\": 992.0}, {\"region\": \"Maule\", \"poblacion\": 1131939.0, \"fecha\": \"2020-05-22T00:00:00\", \"casos\": 800.0}, {\"region\": \"Metropolitana\", \"poblacion\": 8125072.0, \"fecha\": \"2020-05-22T00:00:00\", \"casos\": 48266.0}, {\"region\": \"O\\u2019Higgins\", \"poblacion\": 991063.0, \"fecha\": \"2020-05-22T00:00:00\", \"casos\": 503.0}, {\"region\": \"Tarapac\\u00e1\", \"poblacion\": 382773.0, \"fecha\": \"2020-05-22T00:00:00\", \"casos\": 1391.0}, {\"region\": \"Valpara\\u00edso\", \"poblacion\": 1960170.0, \"fecha\": \"2020-05-22T00:00:00\", \"casos\": 2054.0}, {\"region\": \"\\u00d1uble\", \"poblacion\": 511551.0, \"fecha\": \"2020-05-22T00:00:00\", \"casos\": 1037.0}, {\"region\": \"Antofagasta\", \"poblacion\": 691854.0, \"fecha\": \"2020-05-25T00:00:00\", \"casos\": 1990.0}, {\"region\": \"Araucan\\u00eda\", \"poblacion\": 1014343.0, \"fecha\": \"2020-05-25T00:00:00\", \"casos\": 1851.0}, {\"region\": \"Arica y Parinacota\", \"poblacion\": 252110.0, \"fecha\": \"2020-05-25T00:00:00\", \"casos\": 525.0}, {\"region\": \"Atacama\", \"poblacion\": 314709.0, \"fecha\": \"2020-05-25T00:00:00\", \"casos\": 186.0}, {\"region\": \"Ays\\u00e9n\", \"poblacion\": 107297.0, \"fecha\": \"2020-05-25T00:00:00\", \"casos\": 7.0}, {\"region\": \"Biob\\u00edo\", \"poblacion\": 1663696.0, \"fecha\": \"2020-05-25T00:00:00\", \"casos\": 1462.0}, {\"region\": \"Coquimbo\", \"poblacion\": 836096.0, \"fecha\": \"2020-05-25T00:00:00\", \"casos\": 351.0}, {\"region\": \"Los Lagos\", \"poblacion\": 891440.0, \"fecha\": \"2020-05-25T00:00:00\", \"casos\": 738.0}, {\"region\": \"Los R\\u00edos\", \"poblacion\": 405835.0, \"fecha\": \"2020-05-25T00:00:00\", \"casos\": 304.0}, {\"region\": \"Magallanes\", \"poblacion\": 178362.0, \"fecha\": \"2020-05-25T00:00:00\", \"casos\": 1016.0}, {\"region\": \"Maule\", \"poblacion\": 1131939.0, \"fecha\": \"2020-05-25T00:00:00\", \"casos\": 974.0}, {\"region\": \"Metropolitana\", \"poblacion\": 8125072.0, \"fecha\": \"2020-05-25T00:00:00\", \"casos\": 58843.0}, {\"region\": \"O\\u2019Higgins\", \"poblacion\": 991063.0, \"fecha\": \"2020-05-25T00:00:00\", \"casos\": 606.0}, {\"region\": \"Tarapac\\u00e1\", \"poblacion\": 382773.0, \"fecha\": \"2020-05-25T00:00:00\", \"casos\": 1628.0}, {\"region\": \"Valpara\\u00edso\", \"poblacion\": 1960170.0, \"fecha\": \"2020-05-25T00:00:00\", \"casos\": 2336.0}, {\"region\": \"\\u00d1uble\", \"poblacion\": 511551.0, \"fecha\": \"2020-05-25T00:00:00\", \"casos\": 1148.0}, {\"region\": \"Antofagasta\", \"poblacion\": 691854.0, \"fecha\": \"2020-05-29T00:00:00\", \"casos\": 2285.0}, {\"region\": \"Araucan\\u00eda\", \"poblacion\": 1014343.0, \"fecha\": \"2020-05-29T00:00:00\", \"casos\": 1981.0}, {\"region\": \"Arica y Parinacota\", \"poblacion\": 252110.0, \"fecha\": \"2020-05-29T00:00:00\", \"casos\": 596.0}, {\"region\": \"Atacama\", \"poblacion\": 314709.0, \"fecha\": \"2020-05-29T00:00:00\", \"casos\": 210.0}, {\"region\": \"Ays\\u00e9n\", \"poblacion\": 107297.0, \"fecha\": \"2020-05-29T00:00:00\", \"casos\": 12.0}, {\"region\": \"Biob\\u00edo\", \"poblacion\": 1663696.0, \"fecha\": \"2020-05-29T00:00:00\", \"casos\": 1783.0}, {\"region\": \"Coquimbo\", \"poblacion\": 836096.0, \"fecha\": \"2020-05-29T00:00:00\", \"casos\": 552.0}, {\"region\": \"Los Lagos\", \"poblacion\": 891440.0, \"fecha\": \"2020-05-29T00:00:00\", \"casos\": 796.0}, {\"region\": \"Los R\\u00edos\", \"poblacion\": 405835.0, \"fecha\": \"2020-05-29T00:00:00\", \"casos\": 337.0}, {\"region\": \"Magallanes\", \"poblacion\": 178362.0, \"fecha\": \"2020-05-29T00:00:00\", \"casos\": 1046.0}, {\"region\": \"Maule\", \"poblacion\": 1131939.0, \"fecha\": \"2020-05-29T00:00:00\", \"casos\": 1207.0}, {\"region\": \"Metropolitana\", \"poblacion\": 8125072.0, \"fecha\": \"2020-05-29T00:00:00\", \"casos\": 72815.0}, {\"region\": \"O\\u2019Higgins\", \"poblacion\": 991063.0, \"fecha\": \"2020-05-29T00:00:00\", \"casos\": 773.0}, {\"region\": \"Tarapac\\u00e1\", \"poblacion\": 382773.0, \"fecha\": \"2020-05-29T00:00:00\", \"casos\": 2087.0}, {\"region\": \"Valpara\\u00edso\", \"poblacion\": 1960170.0, \"fecha\": \"2020-05-29T00:00:00\", \"casos\": 2874.0}, {\"region\": \"\\u00d1uble\", \"poblacion\": 511551.0, \"fecha\": \"2020-05-29T00:00:00\", \"casos\": 1251.0}, {\"region\": \"Antofagasta\", \"poblacion\": 691854.0, \"fecha\": \"2020-06-01T00:00:00\", \"casos\": 2542.0}, {\"region\": \"Araucan\\u00eda\", \"poblacion\": 1014343.0, \"fecha\": \"2020-06-01T00:00:00\", \"casos\": 2102.0}, {\"region\": \"Arica y Parinacota\", \"poblacion\": 252110.0, \"fecha\": \"2020-06-01T00:00:00\", \"casos\": 653.0}, {\"region\": \"Atacama\", \"poblacion\": 314709.0, \"fecha\": \"2020-06-01T00:00:00\", \"casos\": 237.0}, {\"region\": \"Ays\\u00e9n\", \"poblacion\": 107297.0, \"fecha\": \"2020-06-01T00:00:00\", \"casos\": 13.0}, {\"region\": \"Biob\\u00edo\", \"poblacion\": 1663696.0, \"fecha\": \"2020-06-01T00:00:00\", \"casos\": 2074.0}, {\"region\": \"Coquimbo\", \"poblacion\": 836096.0, \"fecha\": \"2020-06-01T00:00:00\", \"casos\": 681.0}, {\"region\": \"Los Lagos\", \"poblacion\": 891440.0, \"fecha\": \"2020-06-01T00:00:00\", \"casos\": 836.0}, {\"region\": \"Los R\\u00edos\", \"poblacion\": 405835.0, \"fecha\": \"2020-06-01T00:00:00\", \"casos\": 370.0}, {\"region\": \"Magallanes\", \"poblacion\": 178362.0, \"fecha\": \"2020-06-01T00:00:00\", \"casos\": 1056.0}, {\"region\": \"Maule\", \"poblacion\": 1131939.0, \"fecha\": \"2020-06-01T00:00:00\", \"casos\": 1377.0}, {\"region\": \"Metropolitana\", \"poblacion\": 8125072.0, \"fecha\": \"2020-06-01T00:00:00\", \"casos\": 85123.0}, {\"region\": \"O\\u2019Higgins\", \"poblacion\": 991063.0, \"fecha\": \"2020-06-01T00:00:00\", \"casos\": 845.0}, {\"region\": \"Tarapac\\u00e1\", \"poblacion\": 382773.0, \"fecha\": \"2020-06-01T00:00:00\", \"casos\": 2522.0}, {\"region\": \"Valpara\\u00edso\", \"poblacion\": 1960170.0, \"fecha\": \"2020-06-01T00:00:00\", \"casos\": 3392.0}, {\"region\": \"\\u00d1uble\", \"poblacion\": 511551.0, \"fecha\": \"2020-06-01T00:00:00\", \"casos\": 1303.0}, {\"region\": \"Antofagasta\", \"poblacion\": 691854.0, \"fecha\": \"2020-06-05T00:00:00\", \"casos\": 2866.0}, {\"region\": \"Araucan\\u00eda\", \"poblacion\": 1014343.0, \"fecha\": \"2020-06-05T00:00:00\", \"casos\": 2279.0}, {\"region\": \"Arica y Parinacota\", \"poblacion\": 252110.0, \"fecha\": \"2020-06-05T00:00:00\", \"casos\": 806.0}, {\"region\": \"Atacama\", \"poblacion\": 314709.0, \"fecha\": \"2020-06-05T00:00:00\", \"casos\": 277.0}, {\"region\": \"Ays\\u00e9n\", \"poblacion\": 107297.0, \"fecha\": \"2020-06-05T00:00:00\", \"casos\": 15.0}, {\"region\": \"Biob\\u00edo\", \"poblacion\": 1663696.0, \"fecha\": \"2020-06-05T00:00:00\", \"casos\": 2374.0}, {\"region\": \"Coquimbo\", \"poblacion\": 836096.0, \"fecha\": \"2020-06-05T00:00:00\", \"casos\": 851.0}, {\"region\": \"Los Lagos\", \"poblacion\": 891440.0, \"fecha\": \"2020-06-05T00:00:00\", \"casos\": 938.0}, {\"region\": \"Los R\\u00edos\", \"poblacion\": 405835.0, \"fecha\": \"2020-06-05T00:00:00\", \"casos\": 398.0}, {\"region\": \"Magallanes\", \"poblacion\": 178362.0, \"fecha\": \"2020-06-05T00:00:00\", \"casos\": 1070.0}, {\"region\": \"Maule\", \"poblacion\": 1131939.0, \"fecha\": \"2020-06-05T00:00:00\", \"casos\": 1872.0}, {\"region\": \"Metropolitana\", \"poblacion\": 8125072.0, \"fecha\": \"2020-06-05T00:00:00\", \"casos\": 98958.0}, {\"region\": \"O\\u2019Higgins\", \"poblacion\": 991063.0, \"fecha\": \"2020-06-05T00:00:00\", \"casos\": 1047.0}, {\"region\": \"Tarapac\\u00e1\", \"poblacion\": 382773.0, \"fecha\": \"2020-06-05T00:00:00\", \"casos\": 2955.0}, {\"region\": \"Valpara\\u00edso\", \"poblacion\": 1960170.0, \"fecha\": \"2020-06-05T00:00:00\", \"casos\": 4317.0}, {\"region\": \"\\u00d1uble\", \"poblacion\": 511551.0, \"fecha\": \"2020-06-05T00:00:00\", \"casos\": 1440.0}, {\"region\": \"Antofagasta\", \"poblacion\": 691854.0, \"fecha\": \"2020-06-08T00:00:00\", \"casos\": 3186.0}, {\"region\": \"Araucan\\u00eda\", \"poblacion\": 1014343.0, \"fecha\": \"2020-06-08T00:00:00\", \"casos\": 2402.0}, {\"region\": \"Arica y Parinacota\", \"poblacion\": 252110.0, \"fecha\": \"2020-06-08T00:00:00\", \"casos\": 905.0}, {\"region\": \"Atacama\", \"poblacion\": 314709.0, \"fecha\": \"2020-06-08T00:00:00\", \"casos\": 347.0}, {\"region\": \"Ays\\u00e9n\", \"poblacion\": 107297.0, \"fecha\": \"2020-06-08T00:00:00\", \"casos\": 17.0}, {\"region\": \"Biob\\u00edo\", \"poblacion\": 1663696.0, \"fecha\": \"2020-06-08T00:00:00\", \"casos\": 2638.0}, {\"region\": \"Coquimbo\", \"poblacion\": 836096.0, \"fecha\": \"2020-06-08T00:00:00\", \"casos\": 1139.0}, {\"region\": \"Los Lagos\", \"poblacion\": 891440.0, \"fecha\": \"2020-06-08T00:00:00\", \"casos\": 977.0}, {\"region\": \"Los R\\u00edos\", \"poblacion\": 405835.0, \"fecha\": \"2020-06-08T00:00:00\", \"casos\": 433.0}, {\"region\": \"Magallanes\", \"poblacion\": 178362.0, \"fecha\": \"2020-06-08T00:00:00\", \"casos\": 1086.0}, {\"region\": \"Maule\", \"poblacion\": 1131939.0, \"fecha\": \"2020-06-08T00:00:00\", \"casos\": 2214.0}, {\"region\": \"Metropolitana\", \"poblacion\": 8125072.0, \"fecha\": \"2020-06-08T00:00:00\", \"casos\": 112029.0}, {\"region\": \"O\\u2019Higgins\", \"poblacion\": 991063.0, \"fecha\": \"2020-06-08T00:00:00\", \"casos\": 1280.0}, {\"region\": \"Tarapac\\u00e1\", \"poblacion\": 382773.0, \"fecha\": \"2020-06-08T00:00:00\", \"casos\": 3374.0}, {\"region\": \"Valpara\\u00edso\", \"poblacion\": 1960170.0, \"fecha\": \"2020-06-08T00:00:00\", \"casos\": 5215.0}, {\"region\": \"\\u00d1uble\", \"poblacion\": 511551.0, \"fecha\": \"2020-06-08T00:00:00\", \"casos\": 1566.0}, {\"region\": \"Antofagasta\", \"poblacion\": 691854.0, \"fecha\": \"2020-06-12T00:00:00\", \"casos\": 3821.0}, {\"region\": \"Araucan\\u00eda\", \"poblacion\": 1014343.0, \"fecha\": \"2020-06-12T00:00:00\", \"casos\": 2572.0}, {\"region\": \"Arica y Parinacota\", \"poblacion\": 252110.0, \"fecha\": \"2020-06-12T00:00:00\", \"casos\": 1048.0}, {\"region\": \"Atacama\", \"poblacion\": 314709.0, \"fecha\": \"2020-06-12T00:00:00\", \"casos\": 420.0}, {\"region\": \"Ays\\u00e9n\", \"poblacion\": 107297.0, \"fecha\": \"2020-06-12T00:00:00\", \"casos\": 18.0}, {\"region\": \"Biob\\u00edo\", \"poblacion\": 1663696.0, \"fecha\": \"2020-06-12T00:00:00\", \"casos\": 3077.0}, {\"region\": \"Coquimbo\", \"poblacion\": 836096.0, \"fecha\": \"2020-06-12T00:00:00\", \"casos\": 1460.0}, {\"region\": \"Los Lagos\", \"poblacion\": 891440.0, \"fecha\": \"2020-06-12T00:00:00\", \"casos\": 1048.0}, {\"region\": \"Los R\\u00edos\", \"poblacion\": 405835.0, \"fecha\": \"2020-06-12T00:00:00\", \"casos\": 487.0}, {\"region\": \"Magallanes\", \"poblacion\": 178362.0, \"fecha\": \"2020-06-12T00:00:00\", \"casos\": 1106.0}, {\"region\": \"Maule\", \"poblacion\": 1131939.0, \"fecha\": \"2020-06-12T00:00:00\", \"casos\": 2726.0}, {\"region\": \"Metropolitana\", \"poblacion\": 8125072.0, \"fecha\": \"2020-06-12T00:00:00\", \"casos\": 129580.0}, {\"region\": \"O\\u2019Higgins\", \"poblacion\": 991063.0, \"fecha\": \"2020-06-12T00:00:00\", \"casos\": 1658.0}, {\"region\": \"Tarapac\\u00e1\", \"poblacion\": 382773.0, \"fecha\": \"2020-06-12T00:00:00\", \"casos\": 3799.0}, {\"region\": \"Valpara\\u00edso\", \"poblacion\": 1960170.0, \"fecha\": \"2020-06-12T00:00:00\", \"casos\": 6252.0}, {\"region\": \"\\u00d1uble\", \"poblacion\": 511551.0, \"fecha\": \"2020-06-12T00:00:00\", \"casos\": 1735.0}, {\"region\": \"Antofagasta\", \"poblacion\": 691854.0, \"fecha\": \"2020-06-15T00:00:00\", \"casos\": 4483.0}, {\"region\": \"Araucan\\u00eda\", \"poblacion\": 1014343.0, \"fecha\": \"2020-06-15T00:00:00\", \"casos\": 2722.0}, {\"region\": \"Arica y Parinacota\", \"poblacion\": 252110.0, \"fecha\": \"2020-06-15T00:00:00\", \"casos\": 1179.0}, {\"region\": \"Atacama\", \"poblacion\": 314709.0, \"fecha\": \"2020-06-15T00:00:00\", \"casos\": 489.0}, {\"region\": \"Ays\\u00e9n\", \"poblacion\": 107297.0, \"fecha\": \"2020-06-15T00:00:00\", \"casos\": 22.0}, {\"region\": \"Biob\\u00edo\", \"poblacion\": 1663696.0, \"fecha\": \"2020-06-15T00:00:00\", \"casos\": 3433.0}, {\"region\": \"Coquimbo\", \"poblacion\": 836096.0, \"fecha\": \"2020-06-15T00:00:00\", \"casos\": 1705.0}, {\"region\": \"Los Lagos\", \"poblacion\": 891440.0, \"fecha\": \"2020-06-15T00:00:00\", \"casos\": 1132.0}, {\"region\": \"Los R\\u00edos\", \"poblacion\": 405835.0, \"fecha\": \"2020-06-15T00:00:00\", \"casos\": 539.0}, {\"region\": \"Magallanes\", \"poblacion\": 178362.0, \"fecha\": \"2020-06-15T00:00:00\", \"casos\": 1185.0}, {\"region\": \"Maule\", \"poblacion\": 1131939.0, \"fecha\": \"2020-06-15T00:00:00\", \"casos\": 3133.0}, {\"region\": \"Metropolitana\", \"poblacion\": 8125072.0, \"fecha\": \"2020-06-15T00:00:00\", \"casos\": 144151.0}, {\"region\": \"O\\u2019Higgins\", \"poblacion\": 991063.0, \"fecha\": \"2020-06-15T00:00:00\", \"casos\": 2044.0}, {\"region\": \"Tarapac\\u00e1\", \"poblacion\": 382773.0, \"fecha\": \"2020-06-15T00:00:00\", \"casos\": 4223.0}, {\"region\": \"Valpara\\u00edso\", \"poblacion\": 1960170.0, \"fecha\": \"2020-06-15T00:00:00\", \"casos\": 7107.0}, {\"region\": \"\\u00d1uble\", \"poblacion\": 511551.0, \"fecha\": \"2020-06-15T00:00:00\", \"casos\": 1850.0}, {\"region\": \"Antofagasta\", \"poblacion\": 691854.0, \"fecha\": \"2020-06-19T00:00:00\", \"casos\": 5923.0}, {\"region\": \"Araucan\\u00eda\", \"poblacion\": 1014343.0, \"fecha\": \"2020-06-19T00:00:00\", \"casos\": 2966.0}, {\"region\": \"Arica y Parinacota\", \"poblacion\": 252110.0, \"fecha\": \"2020-06-19T00:00:00\", \"casos\": 1382.0}, {\"region\": \"Atacama\", \"poblacion\": 314709.0, \"fecha\": \"2020-06-19T00:00:00\", \"casos\": 659.0}, {\"region\": \"Ays\\u00e9n\", \"poblacion\": 107297.0, \"fecha\": \"2020-06-19T00:00:00\", \"casos\": 25.0}, {\"region\": \"Biob\\u00edo\", \"poblacion\": 1663696.0, \"fecha\": \"2020-06-19T00:00:00\", \"casos\": 4869.0}, {\"region\": \"Coquimbo\", \"poblacion\": 836096.0, \"fecha\": \"2020-06-19T00:00:00\", \"casos\": 2352.0}, {\"region\": \"Los Lagos\", \"poblacion\": 891440.0, \"fecha\": \"2020-06-19T00:00:00\", \"casos\": 1317.0}, {\"region\": \"Los R\\u00edos\", \"poblacion\": 405835.0, \"fecha\": \"2020-06-19T00:00:00\", \"casos\": 606.0}, {\"region\": \"Magallanes\", \"poblacion\": 178362.0, \"fecha\": \"2020-06-19T00:00:00\", \"casos\": 1322.0}, {\"region\": \"Maule\", \"poblacion\": 1131939.0, \"fecha\": \"2020-06-19T00:00:00\", \"casos\": 4112.0}, {\"region\": \"Metropolitana\", \"poblacion\": 8125072.0, \"fecha\": \"2020-06-19T00:00:00\", \"casos\": 203580.0}, {\"region\": \"O\\u2019Higgins\", \"poblacion\": 991063.0, \"fecha\": \"2020-06-19T00:00:00\", \"casos\": 3664.0}, {\"region\": \"Tarapac\\u00e1\", \"poblacion\": 382773.0, \"fecha\": \"2020-06-19T00:00:00\", \"casos\": 5100.0}, {\"region\": \"Valpara\\u00edso\", \"poblacion\": 1960170.0, \"fecha\": \"2020-06-19T00:00:00\", \"casos\": 10551.0}, {\"region\": \"\\u00d1uble\", \"poblacion\": 511551.0, \"fecha\": \"2020-06-19T00:00:00\", \"casos\": 2353.0}, {\"region\": \"Antofagasta\", \"poblacion\": 691854.0, \"fecha\": \"2020-06-23T00:00:00\", \"casos\": 7172.0}, {\"region\": \"Araucan\\u00eda\", \"poblacion\": 1014343.0, \"fecha\": \"2020-06-23T00:00:00\", \"casos\": 3135.0}, {\"region\": \"Arica y Parinacota\", \"poblacion\": 252110.0, \"fecha\": \"2020-06-23T00:00:00\", \"casos\": 1544.0}, {\"region\": \"Atacama\", \"poblacion\": 314709.0, \"fecha\": \"2020-06-23T00:00:00\", \"casos\": 819.0}, {\"region\": \"Ays\\u00e9n\", \"poblacion\": 107297.0, \"fecha\": \"2020-06-23T00:00:00\", \"casos\": 25.0}, {\"region\": \"Biob\\u00edo\", \"poblacion\": 1663696.0, \"fecha\": \"2020-06-23T00:00:00\", \"casos\": 5978.0}, {\"region\": \"Coquimbo\", \"poblacion\": 836096.0, \"fecha\": \"2020-06-23T00:00:00\", \"casos\": 2814.0}, {\"region\": \"Los Lagos\", \"poblacion\": 891440.0, \"fecha\": \"2020-06-23T00:00:00\", \"casos\": 1500.0}, {\"region\": \"Los R\\u00edos\", \"poblacion\": 405835.0, \"fecha\": \"2020-06-23T00:00:00\", \"casos\": 659.0}, {\"region\": \"Magallanes\", \"poblacion\": 178362.0, \"fecha\": \"2020-06-23T00:00:00\", \"casos\": 1384.0}, {\"region\": \"Maule\", \"poblacion\": 1131939.0, \"fecha\": \"2020-06-23T00:00:00\", \"casos\": 4874.0}, {\"region\": \"Metropolitana\", \"poblacion\": 8125072.0, \"fecha\": \"2020-06-23T00:00:00\", \"casos\": 220297.0}, {\"region\": \"O\\u2019Higgins\", \"poblacion\": 991063.0, \"fecha\": \"2020-06-23T00:00:00\", \"casos\": 5066.0}, {\"region\": \"Tarapac\\u00e1\", \"poblacion\": 382773.0, \"fecha\": \"2020-06-23T00:00:00\", \"casos\": 5585.0}, {\"region\": \"Valpara\\u00edso\", \"poblacion\": 1960170.0, \"fecha\": \"2020-06-23T00:00:00\", \"casos\": 12118.0}, {\"region\": \"\\u00d1uble\", \"poblacion\": 511551.0, \"fecha\": \"2020-06-23T00:00:00\", \"casos\": 2521.0}, {\"region\": \"Antofagasta\", \"poblacion\": 691854.0, \"fecha\": \"2020-06-28T00:00:00\", \"casos\": 8591.0}, {\"region\": \"Araucan\\u00eda\", \"poblacion\": 1014343.0, \"fecha\": \"2020-06-28T00:00:00\", \"casos\": 3272.0}, {\"region\": \"Arica y Parinacota\", \"poblacion\": 252110.0, \"fecha\": \"2020-06-28T00:00:00\", \"casos\": 1772.0}, {\"region\": \"Atacama\", \"poblacion\": 314709.0, \"fecha\": \"2020-06-28T00:00:00\", \"casos\": 1030.0}, {\"region\": \"Ays\\u00e9n\", \"poblacion\": 107297.0, \"fecha\": \"2020-06-28T00:00:00\", \"casos\": 40.0}, {\"region\": \"Biob\\u00edo\", \"poblacion\": 1663696.0, \"fecha\": \"2020-06-28T00:00:00\", \"casos\": 7107.0}, {\"region\": \"Coquimbo\", \"poblacion\": 836096.0, \"fecha\": \"2020-06-28T00:00:00\", \"casos\": 3282.0}, {\"region\": \"Los Lagos\", \"poblacion\": 891440.0, \"fecha\": \"2020-06-28T00:00:00\", \"casos\": 1667.0}, {\"region\": \"Los R\\u00edos\", \"poblacion\": 405835.0, \"fecha\": \"2020-06-28T00:00:00\", \"casos\": 727.0}, {\"region\": \"Magallanes\", \"poblacion\": 178362.0, \"fecha\": \"2020-06-28T00:00:00\", \"casos\": 1447.0}, {\"region\": \"Maule\", \"poblacion\": 1131939.0, \"fecha\": \"2020-06-28T00:00:00\", \"casos\": 5730.0}, {\"region\": \"Metropolitana\", \"poblacion\": 8125072.0, \"fecha\": \"2020-06-28T00:00:00\", \"casos\": 236572.0}, {\"region\": \"O\\u2019Higgins\", \"poblacion\": 991063.0, \"fecha\": \"2020-06-28T00:00:00\", \"casos\": 6541.0}, {\"region\": \"Tarapac\\u00e1\", \"poblacion\": 382773.0, \"fecha\": \"2020-06-28T00:00:00\", \"casos\": 6030.0}, {\"region\": \"Valpara\\u00edso\", \"poblacion\": 1960170.0, \"fecha\": \"2020-06-28T00:00:00\", \"casos\": 14272.0}, {\"region\": \"\\u00d1uble\", \"poblacion\": 511551.0, \"fecha\": \"2020-06-28T00:00:00\", \"casos\": 2800.0}, {\"region\": \"Antofagasta\", \"poblacion\": 691854.0, \"fecha\": \"2020-07-01T00:00:00\", \"casos\": 9388.0}, {\"region\": \"Araucan\\u00eda\", \"poblacion\": 1014343.0, \"fecha\": \"2020-07-01T00:00:00\", \"casos\": 3366.0}, {\"region\": \"Arica y Parinacota\", \"poblacion\": 252110.0, \"fecha\": \"2020-07-01T00:00:00\", \"casos\": 1899.0}, {\"region\": \"Atacama\", \"poblacion\": 314709.0, \"fecha\": \"2020-07-01T00:00:00\", \"casos\": 1171.0}, {\"region\": \"Ays\\u00e9n\", \"poblacion\": 107297.0, \"fecha\": \"2020-07-01T00:00:00\", \"casos\": 40.0}, {\"region\": \"Biob\\u00edo\", \"poblacion\": 1663696.0, \"fecha\": \"2020-07-01T00:00:00\", \"casos\": 7607.0}, {\"region\": \"Coquimbo\", \"poblacion\": 836096.0, \"fecha\": \"2020-07-01T00:00:00\", \"casos\": 3554.0}, {\"region\": \"Los Lagos\", \"poblacion\": 891440.0, \"fecha\": \"2020-07-01T00:00:00\", \"casos\": 1759.0}, {\"region\": \"Los R\\u00edos\", \"poblacion\": 405835.0, \"fecha\": \"2020-07-01T00:00:00\", \"casos\": 757.0}, {\"region\": \"Magallanes\", \"poblacion\": 178362.0, \"fecha\": \"2020-07-01T00:00:00\", \"casos\": 1474.0}, {\"region\": \"Maule\", \"poblacion\": 1131939.0, \"fecha\": \"2020-07-01T00:00:00\", \"casos\": 6146.0}, {\"region\": \"Metropolitana\", \"poblacion\": 8125072.0, \"fecha\": \"2020-07-01T00:00:00\", \"casos\": 244042.0}, {\"region\": \"O\\u2019Higgins\", \"poblacion\": 991063.0, \"fecha\": \"2020-07-01T00:00:00\", \"casos\": 7423.0}, {\"region\": \"Tarapac\\u00e1\", \"poblacion\": 382773.0, \"fecha\": \"2020-07-01T00:00:00\", \"casos\": 6238.0}, {\"region\": \"Valpara\\u00edso\", \"poblacion\": 1960170.0, \"fecha\": \"2020-07-01T00:00:00\", \"casos\": 15184.0}, {\"region\": \"\\u00d1uble\", \"poblacion\": 511551.0, \"fecha\": \"2020-07-01T00:00:00\", \"casos\": 2863.0}, {\"region\": \"Antofagasta\", \"poblacion\": 691854.0, \"fecha\": \"2020-07-05T00:00:00\", \"casos\": 10555.0}, {\"region\": \"Araucan\\u00eda\", \"poblacion\": 1014343.0, \"fecha\": \"2020-07-05T00:00:00\", \"casos\": 3444.0}, {\"region\": \"Arica y Parinacota\", \"poblacion\": 252110.0, \"fecha\": \"2020-07-05T00:00:00\", \"casos\": 2153.0}, {\"region\": \"Atacama\", \"poblacion\": 314709.0, \"fecha\": \"2020-07-05T00:00:00\", \"casos\": 1319.0}, {\"region\": \"Ays\\u00e9n\", \"poblacion\": 107297.0, \"fecha\": \"2020-07-05T00:00:00\", \"casos\": 46.0}, {\"region\": \"Biob\\u00edo\", \"poblacion\": 1663696.0, \"fecha\": \"2020-07-05T00:00:00\", \"casos\": 8288.0}, {\"region\": \"Coquimbo\", \"poblacion\": 836096.0, \"fecha\": \"2020-07-05T00:00:00\", \"casos\": 3903.0}, {\"region\": \"Los Lagos\", \"poblacion\": 891440.0, \"fecha\": \"2020-07-05T00:00:00\", \"casos\": 2054.0}, {\"region\": \"Los R\\u00edos\", \"poblacion\": 405835.0, \"fecha\": \"2020-07-05T00:00:00\", \"casos\": 786.0}, {\"region\": \"Magallanes\", \"poblacion\": 178362.0, \"fecha\": \"2020-07-05T00:00:00\", \"casos\": 1506.0}, {\"region\": \"Maule\", \"poblacion\": 1131939.0, \"fecha\": \"2020-07-05T00:00:00\", \"casos\": 6767.0}, {\"region\": \"Metropolitana\", \"poblacion\": 8125072.0, \"fecha\": \"2020-07-05T00:00:00\", \"casos\": 254025.0}, {\"region\": \"O\\u2019Higgins\", \"poblacion\": 991063.0, \"fecha\": \"2020-07-05T00:00:00\", \"casos\": 8514.0}, {\"region\": \"Tarapac\\u00e1\", \"poblacion\": 382773.0, \"fecha\": \"2020-07-05T00:00:00\", \"casos\": 6662.0}, {\"region\": \"Valpara\\u00edso\", \"poblacion\": 1960170.0, \"fecha\": \"2020-07-05T00:00:00\", \"casos\": 16860.0}, {\"region\": \"\\u00d1uble\", \"poblacion\": 511551.0, \"fecha\": \"2020-07-05T00:00:00\", \"casos\": 3132.0}, {\"region\": \"Antofagasta\", \"poblacion\": 691854.0, \"fecha\": \"2020-07-10T00:00:00\", \"casos\": 11799.0}, {\"region\": \"Araucan\\u00eda\", \"poblacion\": 1014343.0, \"fecha\": \"2020-07-10T00:00:00\", \"casos\": 3555.0}, {\"region\": \"Arica y Parinacota\", \"poblacion\": 252110.0, \"fecha\": \"2020-07-10T00:00:00\", \"casos\": 2493.0}, {\"region\": \"Atacama\", \"poblacion\": 314709.0, \"fecha\": \"2020-07-10T00:00:00\", \"casos\": 1531.0}, {\"region\": \"Ays\\u00e9n\", \"poblacion\": 107297.0, \"fecha\": \"2020-07-10T00:00:00\", \"casos\": 47.0}, {\"region\": \"Biob\\u00edo\", \"poblacion\": 1663696.0, \"fecha\": \"2020-07-10T00:00:00\", \"casos\": 9120.0}, {\"region\": \"Coquimbo\", \"poblacion\": 836096.0, \"fecha\": \"2020-07-10T00:00:00\", \"casos\": 4469.0}, {\"region\": \"Los Lagos\", \"poblacion\": 891440.0, \"fecha\": \"2020-07-10T00:00:00\", \"casos\": 2306.0}, {\"region\": \"Los R\\u00edos\", \"poblacion\": 405835.0, \"fecha\": \"2020-07-10T00:00:00\", \"casos\": 778.0}, {\"region\": \"Magallanes\", \"poblacion\": 178362.0, \"fecha\": \"2020-07-10T00:00:00\", \"casos\": 1554.0}, {\"region\": \"Maule\", \"poblacion\": 1131939.0, \"fecha\": \"2020-07-10T00:00:00\", \"casos\": 7453.0}, {\"region\": \"Metropolitana\", \"poblacion\": 8125072.0, \"fecha\": \"2020-07-10T00:00:00\", \"casos\": 262725.0}, {\"region\": \"O\\u2019Higgins\", \"poblacion\": 991063.0, \"fecha\": \"2020-07-10T00:00:00\", \"casos\": 9745.0}, {\"region\": \"Tarapac\\u00e1\", \"poblacion\": 382773.0, \"fecha\": \"2020-07-10T00:00:00\", \"casos\": 7110.0}, {\"region\": \"Valpara\\u00edso\", \"poblacion\": 1960170.0, \"fecha\": \"2020-07-10T00:00:00\", \"casos\": 18452.0}, {\"region\": \"\\u00d1uble\", \"poblacion\": 511551.0, \"fecha\": \"2020-07-10T00:00:00\", \"casos\": 3464.0}, {\"region\": \"Antofagasta\", \"poblacion\": 691854.0, \"fecha\": \"2020-07-13T00:00:00\", \"casos\": 12601.0}, {\"region\": \"Araucan\\u00eda\", \"poblacion\": 1014343.0, \"fecha\": \"2020-07-13T00:00:00\", \"casos\": 3622.0}, {\"region\": \"Arica y Parinacota\", \"poblacion\": 252110.0, \"fecha\": \"2020-07-13T00:00:00\", \"casos\": 2760.0}, {\"region\": \"Atacama\", \"poblacion\": 314709.0, \"fecha\": \"2020-07-13T00:00:00\", \"casos\": 1680.0}, {\"region\": \"Ays\\u00e9n\", \"poblacion\": 107297.0, \"fecha\": \"2020-07-13T00:00:00\", \"casos\": 56.0}, {\"region\": \"Biob\\u00edo\", \"poblacion\": 1663696.0, \"fecha\": \"2020-07-13T00:00:00\", \"casos\": 9621.0}, {\"region\": \"Coquimbo\", \"poblacion\": 836096.0, \"fecha\": \"2020-07-13T00:00:00\", \"casos\": 4774.0}, {\"region\": \"Los Lagos\", \"poblacion\": 891440.0, \"fecha\": \"2020-07-13T00:00:00\", \"casos\": 2516.0}, {\"region\": \"Los R\\u00edos\", \"poblacion\": 405835.0, \"fecha\": \"2020-07-13T00:00:00\", \"casos\": 795.0}, {\"region\": \"Magallanes\", \"poblacion\": 178362.0, \"fecha\": \"2020-07-13T00:00:00\", \"casos\": 1587.0}, {\"region\": \"Maule\", \"poblacion\": 1131939.0, \"fecha\": \"2020-07-13T00:00:00\", \"casos\": 7823.0}, {\"region\": \"Metropolitana\", \"poblacion\": 8125072.0, \"fecha\": \"2020-07-13T00:00:00\", \"casos\": 267963.0}, {\"region\": \"O\\u2019Higgins\", \"poblacion\": 991063.0, \"fecha\": \"2020-07-13T00:00:00\", \"casos\": 10335.0}, {\"region\": \"Tarapac\\u00e1\", \"poblacion\": 382773.0, \"fecha\": \"2020-07-13T00:00:00\", \"casos\": 7341.0}, {\"region\": \"Valpara\\u00edso\", \"poblacion\": 1960170.0, \"fecha\": \"2020-07-13T00:00:00\", \"casos\": 19461.0}, {\"region\": \"\\u00d1uble\", \"poblacion\": 511551.0, \"fecha\": \"2020-07-13T00:00:00\", \"casos\": 3687.0}, {\"region\": \"Antofagasta\", \"poblacion\": 691854.0, \"fecha\": \"2020-07-17T00:00:00\", \"casos\": 13385.0}, {\"region\": \"Araucan\\u00eda\", \"poblacion\": 1014343.0, \"fecha\": \"2020-07-17T00:00:00\", \"casos\": 3713.0}, {\"region\": \"Arica y Parinacota\", \"poblacion\": 252110.0, \"fecha\": \"2020-07-17T00:00:00\", \"casos\": 3169.0}, {\"region\": \"Atacama\", \"poblacion\": 314709.0, \"fecha\": \"2020-07-17T00:00:00\", \"casos\": 1796.0}, {\"region\": \"Ays\\u00e9n\", \"poblacion\": 107297.0, \"fecha\": \"2020-07-17T00:00:00\", \"casos\": 67.0}, {\"region\": \"Biob\\u00edo\", \"poblacion\": 1663696.0, \"fecha\": \"2020-07-17T00:00:00\", \"casos\": 10206.0}, {\"region\": \"Coquimbo\", \"poblacion\": 836096.0, \"fecha\": \"2020-07-17T00:00:00\", \"casos\": 5137.0}, {\"region\": \"Los Lagos\", \"poblacion\": 891440.0, \"fecha\": \"2020-07-17T00:00:00\", \"casos\": 2776.0}, {\"region\": \"Los R\\u00edos\", \"poblacion\": 405835.0, \"fecha\": \"2020-07-17T00:00:00\", \"casos\": 845.0}, {\"region\": \"Magallanes\", \"poblacion\": 178362.0, \"fecha\": \"2020-07-17T00:00:00\", \"casos\": 1619.0}, {\"region\": \"Maule\", \"poblacion\": 1131939.0, \"fecha\": \"2020-07-17T00:00:00\", \"casos\": 8315.0}, {\"region\": \"Metropolitana\", \"poblacion\": 8125072.0, \"fecha\": \"2020-07-17T00:00:00\", \"casos\": 272804.0}, {\"region\": \"O\\u2019Higgins\", \"poblacion\": 991063.0, \"fecha\": \"2020-07-17T00:00:00\", \"casos\": 11001.0}, {\"region\": \"Tarapac\\u00e1\", \"poblacion\": 382773.0, \"fecha\": \"2020-07-17T00:00:00\", \"casos\": 7577.0}, {\"region\": \"Valpara\\u00edso\", \"poblacion\": 1960170.0, \"fecha\": \"2020-07-17T00:00:00\", \"casos\": 20189.0}, {\"region\": \"\\u00d1uble\", \"poblacion\": 511551.0, \"fecha\": \"2020-07-17T00:00:00\", \"casos\": 3924.0}, {\"region\": \"Antofagasta\", \"poblacion\": 691854.0, \"fecha\": \"2020-07-20T00:00:00\", \"casos\": 13868.0}, {\"region\": \"Araucan\\u00eda\", \"poblacion\": 1014343.0, \"fecha\": \"2020-07-20T00:00:00\", \"casos\": 3769.0}, {\"region\": \"Arica y Parinacota\", \"poblacion\": 252110.0, \"fecha\": \"2020-07-20T00:00:00\", \"casos\": 3420.0}, {\"region\": \"Atacama\", \"poblacion\": 314709.0, \"fecha\": \"2020-07-20T00:00:00\", \"casos\": 1947.0}, {\"region\": \"Ays\\u00e9n\", \"poblacion\": 107297.0, \"fecha\": \"2020-07-20T00:00:00\", \"casos\": 67.0}, {\"region\": \"Biob\\u00edo\", \"poblacion\": 1663696.0, \"fecha\": \"2020-07-20T00:00:00\", \"casos\": 10601.0}, {\"region\": \"Coquimbo\", \"poblacion\": 836096.0, \"fecha\": \"2020-07-20T00:00:00\", \"casos\": 5560.0}, {\"region\": \"Los Lagos\", \"poblacion\": 891440.0, \"fecha\": \"2020-07-20T00:00:00\", \"casos\": 2923.0}, {\"region\": \"Los R\\u00edos\", \"poblacion\": 405835.0, \"fecha\": \"2020-07-20T00:00:00\", \"casos\": 870.0}, {\"region\": \"Magallanes\", \"poblacion\": 178362.0, \"fecha\": \"2020-07-20T00:00:00\", \"casos\": 1641.0}, {\"region\": \"Maule\", \"poblacion\": 1131939.0, \"fecha\": \"2020-07-20T00:00:00\", \"casos\": 8584.0}, {\"region\": \"Metropolitana\", \"poblacion\": 8125072.0, \"fecha\": \"2020-07-20T00:00:00\", \"casos\": 275391.0}, {\"region\": \"O\\u2019Higgins\", \"poblacion\": 991063.0, \"fecha\": \"2020-07-20T00:00:00\", \"casos\": 11283.0}, {\"region\": \"Tarapac\\u00e1\", \"poblacion\": 382773.0, \"fecha\": \"2020-07-20T00:00:00\", \"casos\": 7867.0}, {\"region\": \"Valpara\\u00edso\", \"poblacion\": 1960170.0, \"fecha\": \"2020-07-20T00:00:00\", \"casos\": 19397.0}, {\"region\": \"\\u00d1uble\", \"poblacion\": 511551.0, \"fecha\": \"2020-07-20T00:00:00\", \"casos\": 4061.0}, {\"region\": \"Antofagasta\", \"poblacion\": 691854.0, \"fecha\": \"2020-07-24T00:00:00\", \"casos\": 14481.0}, {\"region\": \"Araucan\\u00eda\", \"poblacion\": 1014343.0, \"fecha\": \"2020-07-24T00:00:00\", \"casos\": 3865.0}, {\"region\": \"Arica y Parinacota\", \"poblacion\": 252110.0, \"fecha\": \"2020-07-24T00:00:00\", \"casos\": 3938.0}, {\"region\": \"Atacama\", \"poblacion\": 314709.0, \"fecha\": \"2020-07-24T00:00:00\", \"casos\": 2162.0}, {\"region\": \"Ays\\u00e9n\", \"poblacion\": 107297.0, \"fecha\": \"2020-07-24T00:00:00\", \"casos\": 68.0}, {\"region\": \"Biob\\u00edo\", \"poblacion\": 1663696.0, \"fecha\": \"2020-07-24T00:00:00\", \"casos\": 11186.0}, {\"region\": \"Coquimbo\", \"poblacion\": 836096.0, \"fecha\": \"2020-07-24T00:00:00\", \"casos\": 6064.0}, {\"region\": \"Los Lagos\", \"poblacion\": 891440.0, \"fecha\": \"2020-07-24T00:00:00\", \"casos\": 3269.0}, {\"region\": \"Los R\\u00edos\", \"poblacion\": 405835.0, \"fecha\": \"2020-07-24T00:00:00\", \"casos\": 892.0}, {\"region\": \"Magallanes\", \"poblacion\": 178362.0, \"fecha\": \"2020-07-24T00:00:00\", \"casos\": 1663.0}, {\"region\": \"Maule\", \"poblacion\": 1131939.0, \"fecha\": \"2020-07-24T00:00:00\", \"casos\": 9030.0}, {\"region\": \"Metropolitana\", \"poblacion\": 8125072.0, \"fecha\": \"2020-07-24T00:00:00\", \"casos\": 278890.0}, {\"region\": \"O\\u2019Higgins\", \"poblacion\": 991063.0, \"fecha\": \"2020-07-24T00:00:00\", \"casos\": 11930.0}, {\"region\": \"Tarapac\\u00e1\", \"poblacion\": 382773.0, \"fecha\": \"2020-07-24T00:00:00\", \"casos\": 8185.0}, {\"region\": \"Valpara\\u00edso\", \"poblacion\": 1960170.0, \"fecha\": \"2020-07-24T00:00:00\", \"casos\": 21367.0}, {\"region\": \"\\u00d1uble\", \"poblacion\": 511551.0, \"fecha\": \"2020-07-24T00:00:00\", \"casos\": 4163.0}, {\"region\": \"Antofagasta\", \"poblacion\": 691854.0, \"fecha\": \"2020-07-27T00:00:00\", \"casos\": 14924.0}, {\"region\": \"Araucan\\u00eda\", \"poblacion\": 1014343.0, \"fecha\": \"2020-07-27T00:00:00\", \"casos\": 3965.0}, {\"region\": \"Arica y Parinacota\", \"poblacion\": 252110.0, \"fecha\": \"2020-07-27T00:00:00\", \"casos\": 4270.0}, {\"region\": \"Atacama\", \"poblacion\": 314709.0, \"fecha\": \"2020-07-27T00:00:00\", \"casos\": 2409.0}, {\"region\": \"Ays\\u00e9n\", \"poblacion\": 107297.0, \"fecha\": \"2020-07-27T00:00:00\", \"casos\": 73.0}, {\"region\": \"Biob\\u00edo\", \"poblacion\": 1663696.0, \"fecha\": \"2020-07-27T00:00:00\", \"casos\": 11700.0}, {\"region\": \"Coquimbo\", \"poblacion\": 836096.0, \"fecha\": \"2020-07-27T00:00:00\", \"casos\": 6525.0}, {\"region\": \"Los Lagos\", \"poblacion\": 891440.0, \"fecha\": \"2020-07-27T00:00:00\", \"casos\": 3653.0}, {\"region\": \"Los R\\u00edos\", \"poblacion\": 405835.0, \"fecha\": \"2020-07-27T00:00:00\", \"casos\": 918.0}, {\"region\": \"Magallanes\", \"poblacion\": 178362.0, \"fecha\": \"2020-07-27T00:00:00\", \"casos\": 1687.0}, {\"region\": \"Maule\", \"poblacion\": 1131939.0, \"fecha\": \"2020-07-27T00:00:00\", \"casos\": 9400.0}, {\"region\": \"Metropolitana\", \"poblacion\": 8125072.0, \"fecha\": \"2020-07-27T00:00:00\", \"casos\": 281115.0}, {\"region\": \"O\\u2019Higgins\", \"poblacion\": 991063.0, \"fecha\": \"2020-07-27T00:00:00\", \"casos\": 12246.0}, {\"region\": \"Tarapac\\u00e1\", \"poblacion\": 382773.0, \"fecha\": \"2020-07-27T00:00:00\", \"casos\": 8419.0}, {\"region\": \"Valpara\\u00edso\", \"poblacion\": 1960170.0, \"fecha\": \"2020-07-27T00:00:00\", \"casos\": 21965.0}, {\"region\": \"\\u00d1uble\", \"poblacion\": 511551.0, \"fecha\": \"2020-07-27T00:00:00\", \"casos\": 4270.0}, {\"region\": \"Antofagasta\", \"poblacion\": 691854.0, \"fecha\": \"2020-07-31T00:00:00\", \"casos\": 15429.0}, {\"region\": \"Araucan\\u00eda\", \"poblacion\": 1014343.0, \"fecha\": \"2020-07-31T00:00:00\", \"casos\": 4115.0}, {\"region\": \"Arica y Parinacota\", \"poblacion\": 252110.0, \"fecha\": \"2020-07-31T00:00:00\", \"casos\": 4699.0}, {\"region\": \"Atacama\", \"poblacion\": 314709.0, \"fecha\": \"2020-07-31T00:00:00\", \"casos\": 2747.0}, {\"region\": \"Ays\\u00e9n\", \"poblacion\": 107297.0, \"fecha\": \"2020-07-31T00:00:00\", \"casos\": 78.0}, {\"region\": \"Biob\\u00edo\", \"poblacion\": 1663696.0, \"fecha\": \"2020-07-31T00:00:00\", \"casos\": 12332.0}, {\"region\": \"Coquimbo\", \"poblacion\": 836096.0, \"fecha\": \"2020-07-31T00:00:00\", \"casos\": 7063.0}, {\"region\": \"Los Lagos\", \"poblacion\": 891440.0, \"fecha\": \"2020-07-31T00:00:00\", \"casos\": 4043.0}, {\"region\": \"Los R\\u00edos\", \"poblacion\": 405835.0, \"fecha\": \"2020-07-31T00:00:00\", \"casos\": 940.0}, {\"region\": \"Magallanes\", \"poblacion\": 178362.0, \"fecha\": \"2020-07-31T00:00:00\", \"casos\": 1793.0}, {\"region\": \"Maule\", \"poblacion\": 1131939.0, \"fecha\": \"2020-07-31T00:00:00\", \"casos\": 9770.0}, {\"region\": \"Metropolitana\", \"poblacion\": 8125072.0, \"fecha\": \"2020-07-31T00:00:00\", \"casos\": 283672.0}, {\"region\": \"O\\u2019Higgins\", \"poblacion\": 991063.0, \"fecha\": \"2020-07-31T00:00:00\", \"casos\": 12551.0}, {\"region\": \"Tarapac\\u00e1\", \"poblacion\": 382773.0, \"fecha\": \"2020-07-31T00:00:00\", \"casos\": 8928.0}, {\"region\": \"Valpara\\u00edso\", \"poblacion\": 1960170.0, \"fecha\": \"2020-07-31T00:00:00\", \"casos\": 22671.0}, {\"region\": \"\\u00d1uble\", \"poblacion\": 511551.0, \"fecha\": \"2020-07-31T00:00:00\", \"casos\": 4357.0}, {\"region\": \"Antofagasta\", \"poblacion\": 691854.0, \"fecha\": \"2020-08-03T00:00:00\", \"casos\": 15841.0}, {\"region\": \"Araucan\\u00eda\", \"poblacion\": 1014343.0, \"fecha\": \"2020-08-03T00:00:00\", \"casos\": 4217.0}, {\"region\": \"Arica y Parinacota\", \"poblacion\": 252110.0, \"fecha\": \"2020-08-03T00:00:00\", \"casos\": 4947.0}, {\"region\": \"Atacama\", \"poblacion\": 314709.0, \"fecha\": \"2020-08-03T00:00:00\", \"casos\": 3071.0}, {\"region\": \"Ays\\u00e9n\", \"poblacion\": 107297.0, \"fecha\": \"2020-08-03T00:00:00\", \"casos\": 83.0}, {\"region\": \"Biob\\u00edo\", \"poblacion\": 1663696.0, \"fecha\": \"2020-08-03T00:00:00\", \"casos\": 12825.0}, {\"region\": \"Coquimbo\", \"poblacion\": 836096.0, \"fecha\": \"2020-08-03T00:00:00\", \"casos\": 7376.0}, {\"region\": \"Los Lagos\", \"poblacion\": 891440.0, \"fecha\": \"2020-08-03T00:00:00\", \"casos\": 4388.0}, {\"region\": \"Los R\\u00edos\", \"poblacion\": 405835.0, \"fecha\": \"2020-08-03T00:00:00\", \"casos\": 958.0}, {\"region\": \"Magallanes\", \"poblacion\": 178362.0, \"fecha\": \"2020-08-03T00:00:00\", \"casos\": 1860.0}, {\"region\": \"Maule\", \"poblacion\": 1131939.0, \"fecha\": \"2020-08-03T00:00:00\", \"casos\": 9989.0}, {\"region\": \"Metropolitana\", \"poblacion\": 8125072.0, \"fecha\": \"2020-08-03T00:00:00\", \"casos\": 285779.0}, {\"region\": \"O\\u2019Higgins\", \"poblacion\": 991063.0, \"fecha\": \"2020-08-03T00:00:00\", \"casos\": 12835.0}, {\"region\": \"Tarapac\\u00e1\", \"poblacion\": 382773.0, \"fecha\": \"2020-08-03T00:00:00\", \"casos\": 9147.0}, {\"region\": \"Valpara\\u00edso\", \"poblacion\": 1960170.0, \"fecha\": \"2020-08-03T00:00:00\", \"casos\": 23326.0}, {\"region\": \"\\u00d1uble\", \"poblacion\": 511551.0, \"fecha\": \"2020-08-03T00:00:00\", \"casos\": 4438.0}, {\"region\": \"Antofagasta\", \"poblacion\": 691854.0, \"fecha\": \"2020-08-07T00:00:00\", \"casos\": 16412.0}, {\"region\": \"Araucan\\u00eda\", \"poblacion\": 1014343.0, \"fecha\": \"2020-08-07T00:00:00\", \"casos\": 4359.0}, {\"region\": \"Arica y Parinacota\", \"poblacion\": 252110.0, \"fecha\": \"2020-08-07T00:00:00\", \"casos\": 5308.0}, {\"region\": \"Atacama\", \"poblacion\": 314709.0, \"fecha\": \"2020-08-07T00:00:00\", \"casos\": 3464.0}, {\"region\": \"Ays\\u00e9n\", \"poblacion\": 107297.0, \"fecha\": \"2020-08-07T00:00:00\", \"casos\": 86.0}, {\"region\": \"Biob\\u00edo\", \"poblacion\": 1663696.0, \"fecha\": \"2020-08-07T00:00:00\", \"casos\": 13600.0}, {\"region\": \"Coquimbo\", \"poblacion\": 836096.0, \"fecha\": \"2020-08-07T00:00:00\", \"casos\": 7914.0}, {\"region\": \"Los Lagos\", \"poblacion\": 891440.0, \"fecha\": \"2020-08-07T00:00:00\", \"casos\": 4907.0}, {\"region\": \"Los R\\u00edos\", \"poblacion\": 405835.0, \"fecha\": \"2020-08-07T00:00:00\", \"casos\": 984.0}, {\"region\": \"Magallanes\", \"poblacion\": 178362.0, \"fecha\": \"2020-08-07T00:00:00\", \"casos\": 1982.0}, {\"region\": \"Maule\", \"poblacion\": 1131939.0, \"fecha\": \"2020-08-07T00:00:00\", \"casos\": 10386.0}, {\"region\": \"Metropolitana\", \"poblacion\": 8125072.0, \"fecha\": \"2020-08-07T00:00:00\", \"casos\": 288952.0}, {\"region\": \"O\\u2019Higgins\", \"poblacion\": 991063.0, \"fecha\": \"2020-08-07T00:00:00\", \"casos\": 13336.0}, {\"region\": \"Tarapac\\u00e1\", \"poblacion\": 382773.0, \"fecha\": \"2020-08-07T00:00:00\", \"casos\": 9476.0}, {\"region\": \"Valpara\\u00edso\", \"poblacion\": 1960170.0, \"fecha\": \"2020-08-07T00:00:00\", \"casos\": 25046.0}, {\"region\": \"\\u00d1uble\", \"poblacion\": 511551.0, \"fecha\": \"2020-08-07T00:00:00\", \"casos\": 4594.0}, {\"region\": \"Antofagasta\", \"poblacion\": 691854.0, \"fecha\": \"2020-08-10T00:00:00\", \"casos\": 16886.0}, {\"region\": \"Araucan\\u00eda\", \"poblacion\": 1014343.0, \"fecha\": \"2020-08-10T00:00:00\", \"casos\": 4450.0}, {\"region\": \"Arica y Parinacota\", \"poblacion\": 252110.0, \"fecha\": \"2020-08-10T00:00:00\", \"casos\": 5645.0}, {\"region\": \"Atacama\", \"poblacion\": 314709.0, \"fecha\": \"2020-08-10T00:00:00\", \"casos\": 3944.0}, {\"region\": \"Ays\\u00e9n\", \"poblacion\": 107297.0, \"fecha\": \"2020-08-10T00:00:00\", \"casos\": 95.0}, {\"region\": \"Biob\\u00edo\", \"poblacion\": 1663696.0, \"fecha\": \"2020-08-10T00:00:00\", \"casos\": 14213.0}, {\"region\": \"Coquimbo\", \"poblacion\": 836096.0, \"fecha\": \"2020-08-10T00:00:00\", \"casos\": 8359.0}, {\"region\": \"Los Lagos\", \"poblacion\": 891440.0, \"fecha\": \"2020-08-10T00:00:00\", \"casos\": 5207.0}, {\"region\": \"Los R\\u00edos\", \"poblacion\": 405835.0, \"fecha\": \"2020-08-10T00:00:00\", \"casos\": 1016.0}, {\"region\": \"Magallanes\", \"poblacion\": 178362.0, \"fecha\": \"2020-08-10T00:00:00\", \"casos\": 2114.0}, {\"region\": \"Maule\", \"poblacion\": 1131939.0, \"fecha\": \"2020-08-10T00:00:00\", \"casos\": 10703.0}, {\"region\": \"Metropolitana\", \"poblacion\": 8125072.0, \"fecha\": \"2020-08-10T00:00:00\", \"casos\": 291235.0}, {\"region\": \"O\\u2019Higgins\", \"poblacion\": 991063.0, \"fecha\": \"2020-08-10T00:00:00\", \"casos\": 13852.0}, {\"region\": \"Tarapac\\u00e1\", \"poblacion\": 382773.0, \"fecha\": \"2020-08-10T00:00:00\", \"casos\": 9678.0}, {\"region\": \"Valpara\\u00edso\", \"poblacion\": 1960170.0, \"fecha\": \"2020-08-10T00:00:00\", \"casos\": 26017.0}, {\"region\": \"\\u00d1uble\", \"poblacion\": 511551.0, \"fecha\": \"2020-08-10T00:00:00\", \"casos\": 4719.0}, {\"region\": \"Antofagasta\", \"poblacion\": 691854.0, \"fecha\": \"2020-08-14T00:00:00\", \"casos\": 17382.0}, {\"region\": \"Araucan\\u00eda\", \"poblacion\": 1014343.0, \"fecha\": \"2020-08-14T00:00:00\", \"casos\": 4579.0}, {\"region\": \"Arica y Parinacota\", \"poblacion\": 252110.0, \"fecha\": \"2020-08-14T00:00:00\", \"casos\": 6021.0}, {\"region\": \"Atacama\", \"poblacion\": 314709.0, \"fecha\": \"2020-08-14T00:00:00\", \"casos\": 4399.0}, {\"region\": \"Ays\\u00e9n\", \"poblacion\": 107297.0, \"fecha\": \"2020-08-14T00:00:00\", \"casos\": 95.0}, {\"region\": \"Biob\\u00edo\", \"poblacion\": 1663696.0, \"fecha\": \"2020-08-14T00:00:00\", \"casos\": 15053.0}, {\"region\": \"Coquimbo\", \"poblacion\": 836096.0, \"fecha\": \"2020-08-14T00:00:00\", \"casos\": 8892.0}, {\"region\": \"Los Lagos\", \"poblacion\": 891440.0, \"fecha\": \"2020-08-14T00:00:00\", \"casos\": 5589.0}, {\"region\": \"Los R\\u00edos\", \"poblacion\": 405835.0, \"fecha\": \"2020-08-14T00:00:00\", \"casos\": 1055.0}, {\"region\": \"Magallanes\", \"poblacion\": 178362.0, \"fecha\": \"2020-08-14T00:00:00\", \"casos\": 2246.0}, {\"region\": \"Maule\", \"poblacion\": 1131939.0, \"fecha\": \"2020-08-14T00:00:00\", \"casos\": 11047.0}, {\"region\": \"Metropolitana\", \"poblacion\": 8125072.0, \"fecha\": \"2020-08-14T00:00:00\", \"casos\": 293989.0}, {\"region\": \"O\\u2019Higgins\", \"poblacion\": 991063.0, \"fecha\": \"2020-08-14T00:00:00\", \"casos\": 14403.0}, {\"region\": \"Tarapac\\u00e1\", \"poblacion\": 382773.0, \"fecha\": \"2020-08-14T00:00:00\", \"casos\": 10088.0}, {\"region\": \"Valpara\\u00edso\", \"poblacion\": 1960170.0, \"fecha\": \"2020-08-14T00:00:00\", \"casos\": 27299.0}, {\"region\": \"\\u00d1uble\", \"poblacion\": 511551.0, \"fecha\": \"2020-08-14T00:00:00\", \"casos\": 4894.0}, {\"region\": \"Antofagasta\", \"poblacion\": 691854.0, \"fecha\": \"2020-08-17T00:00:00\", \"casos\": 17744.0}, {\"region\": \"Araucan\\u00eda\", \"poblacion\": 1014343.0, \"fecha\": \"2020-08-17T00:00:00\", \"casos\": 4678.0}, {\"region\": \"Arica y Parinacota\", \"poblacion\": 252110.0, \"fecha\": \"2020-08-17T00:00:00\", \"casos\": 6282.0}, {\"region\": \"Atacama\", \"poblacion\": 314709.0, \"fecha\": \"2020-08-17T00:00:00\", \"casos\": 4782.0}, {\"region\": \"Ays\\u00e9n\", \"poblacion\": 107297.0, \"fecha\": \"2020-08-17T00:00:00\", \"casos\": 98.0}, {\"region\": \"Biob\\u00edo\", \"poblacion\": 1663696.0, \"fecha\": \"2020-08-17T00:00:00\", \"casos\": 15741.0}, {\"region\": \"Coquimbo\", \"poblacion\": 836096.0, \"fecha\": \"2020-08-17T00:00:00\", \"casos\": 9364.0}, {\"region\": \"Los Lagos\", \"poblacion\": 891440.0, \"fecha\": \"2020-08-17T00:00:00\", \"casos\": 5819.0}, {\"region\": \"Los R\\u00edos\", \"poblacion\": 405835.0, \"fecha\": \"2020-08-17T00:00:00\", \"casos\": 1069.0}, {\"region\": \"Magallanes\", \"poblacion\": 178362.0, \"fecha\": \"2020-08-17T00:00:00\", \"casos\": 2381.0}, {\"region\": \"Maule\", \"poblacion\": 1131939.0, \"fecha\": \"2020-08-17T00:00:00\", \"casos\": 11310.0}, {\"region\": \"Metropolitana\", \"poblacion\": 8125072.0, \"fecha\": \"2020-08-17T00:00:00\", \"casos\": 295864.0}, {\"region\": \"O\\u2019Higgins\", \"poblacion\": 991063.0, \"fecha\": \"2020-08-17T00:00:00\", \"casos\": 14665.0}, {\"region\": \"Tarapac\\u00e1\", \"poblacion\": 382773.0, \"fecha\": \"2020-08-17T00:00:00\", \"casos\": 10354.0}, {\"region\": \"Valpara\\u00edso\", \"poblacion\": 1960170.0, \"fecha\": \"2020-08-17T00:00:00\", \"casos\": 28131.0}, {\"region\": \"\\u00d1uble\", \"poblacion\": 511551.0, \"fecha\": \"2020-08-17T00:00:00\", \"casos\": 4973.0}, {\"region\": \"Antofagasta\", \"poblacion\": 691854.0, \"fecha\": \"2020-08-21T00:00:00\", \"casos\": 18119.0}, {\"region\": \"Araucan\\u00eda\", \"poblacion\": 1014343.0, \"fecha\": \"2020-08-21T00:00:00\", \"casos\": 4834.0}, {\"region\": \"Arica y Parinacota\", \"poblacion\": 252110.0, \"fecha\": \"2020-08-21T00:00:00\", \"casos\": 6531.0}, {\"region\": \"Atacama\", \"poblacion\": 314709.0, \"fecha\": \"2020-08-21T00:00:00\", \"casos\": 5086.0}, {\"region\": \"Ays\\u00e9n\", \"poblacion\": 107297.0, \"fecha\": \"2020-08-21T00:00:00\", \"casos\": 99.0}, {\"region\": \"Biob\\u00edo\", \"poblacion\": 1663696.0, \"fecha\": \"2020-08-21T00:00:00\", \"casos\": 16675.0}, {\"region\": \"Coquimbo\", \"poblacion\": 836096.0, \"fecha\": \"2020-08-21T00:00:00\", \"casos\": 9888.0}, {\"region\": \"Los Lagos\", \"poblacion\": 891440.0, \"fecha\": \"2020-08-21T00:00:00\", \"casos\": 6137.0}, {\"region\": \"Los R\\u00edos\", \"poblacion\": 405835.0, \"fecha\": \"2020-08-21T00:00:00\", \"casos\": 1077.0}, {\"region\": \"Magallanes\", \"poblacion\": 178362.0, \"fecha\": \"2020-08-21T00:00:00\", \"casos\": 2585.0}, {\"region\": \"Maule\", \"poblacion\": 1131939.0, \"fecha\": \"2020-08-21T00:00:00\", \"casos\": 11660.0}, {\"region\": \"Metropolitana\", \"poblacion\": 8125072.0, \"fecha\": \"2020-08-21T00:00:00\", \"casos\": 297998.0}, {\"region\": \"O\\u2019Higgins\", \"poblacion\": 991063.0, \"fecha\": \"2020-08-21T00:00:00\", \"casos\": 15131.0}, {\"region\": \"Tarapac\\u00e1\", \"poblacion\": 382773.0, \"fecha\": \"2020-08-21T00:00:00\", \"casos\": 10679.0}, {\"region\": \"Valpara\\u00edso\", \"poblacion\": 1960170.0, \"fecha\": \"2020-08-21T00:00:00\", \"casos\": 29093.0}, {\"region\": \"\\u00d1uble\", \"poblacion\": 511551.0, \"fecha\": \"2020-08-21T00:00:00\", \"casos\": 5167.0}, {\"region\": \"Antofagasta\", \"poblacion\": 691854.0, \"fecha\": \"2020-08-24T00:00:00\", \"casos\": 18456.0}, {\"region\": \"Araucan\\u00eda\", \"poblacion\": 1014343.0, \"fecha\": \"2020-08-24T00:00:00\", \"casos\": 4921.0}, {\"region\": \"Arica y Parinacota\", \"poblacion\": 252110.0, \"fecha\": \"2020-08-24T00:00:00\", \"casos\": 6740.0}, {\"region\": \"Atacama\", \"poblacion\": 314709.0, \"fecha\": \"2020-08-24T00:00:00\", \"casos\": 5364.0}, {\"region\": \"Ays\\u00e9n\", \"poblacion\": 107297.0, \"fecha\": \"2020-08-24T00:00:00\", \"casos\": 102.0}, {\"region\": \"Biob\\u00edo\", \"poblacion\": 1663696.0, \"fecha\": \"2020-08-24T00:00:00\", \"casos\": 17552.0}, {\"region\": \"Coquimbo\", \"poblacion\": 836096.0, \"fecha\": \"2020-08-24T00:00:00\", \"casos\": 10435.0}, {\"region\": \"Los Lagos\", \"poblacion\": 891440.0, \"fecha\": \"2020-08-24T00:00:00\", \"casos\": 6357.0}, {\"region\": \"Los R\\u00edos\", \"poblacion\": 405835.0, \"fecha\": \"2020-08-24T00:00:00\", \"casos\": 1111.0}, {\"region\": \"Magallanes\", \"poblacion\": 178362.0, \"fecha\": \"2020-08-24T00:00:00\", \"casos\": 2901.0}, {\"region\": \"Maule\", \"poblacion\": 1131939.0, \"fecha\": \"2020-08-24T00:00:00\", \"casos\": 11936.0}, {\"region\": \"Metropolitana\", \"poblacion\": 8125072.0, \"fecha\": \"2020-08-24T00:00:00\", \"casos\": 299962.0}, {\"region\": \"O\\u2019Higgins\", \"poblacion\": 991063.0, \"fecha\": \"2020-08-24T00:00:00\", \"casos\": 15489.0}, {\"region\": \"Tarapac\\u00e1\", \"poblacion\": 382773.0, \"fecha\": \"2020-08-24T00:00:00\", \"casos\": 10947.0}, {\"region\": \"Valpara\\u00edso\", \"poblacion\": 1960170.0, \"fecha\": \"2020-08-24T00:00:00\", \"casos\": 29820.0}, {\"region\": \"\\u00d1uble\", \"poblacion\": 511551.0, \"fecha\": \"2020-08-24T00:00:00\", \"casos\": 5369.0}, {\"region\": \"Antofagasta\", \"poblacion\": 691854.0, \"fecha\": \"2020-08-28T00:00:00\", \"casos\": 18801.0}, {\"region\": \"Araucan\\u00eda\", \"poblacion\": 1014343.0, \"fecha\": \"2020-08-28T00:00:00\", \"casos\": 5042.0}, {\"region\": \"Arica y Parinacota\", \"poblacion\": 252110.0, \"fecha\": \"2020-08-28T00:00:00\", \"casos\": 6943.0}, {\"region\": \"Atacama\", \"poblacion\": 314709.0, \"fecha\": \"2020-08-28T00:00:00\", \"casos\": 5577.0}, {\"region\": \"Ays\\u00e9n\", \"poblacion\": 107297.0, \"fecha\": \"2020-08-28T00:00:00\", \"casos\": 114.0}, {\"region\": \"Biob\\u00edo\", \"poblacion\": 1663696.0, \"fecha\": \"2020-08-28T00:00:00\", \"casos\": 18735.0}, {\"region\": \"Coquimbo\", \"poblacion\": 836096.0, \"fecha\": \"2020-08-28T00:00:00\", \"casos\": 10996.0}, {\"region\": \"Los Lagos\", \"poblacion\": 891440.0, \"fecha\": \"2020-08-28T00:00:00\", \"casos\": 6651.0}, {\"region\": \"Los R\\u00edos\", \"poblacion\": 405835.0, \"fecha\": \"2020-08-28T00:00:00\", \"casos\": 1142.0}, {\"region\": \"Magallanes\", \"poblacion\": 178362.0, \"fecha\": \"2020-08-28T00:00:00\", \"casos\": 3270.0}, {\"region\": \"Maule\", \"poblacion\": 1131939.0, \"fecha\": \"2020-08-28T00:00:00\", \"casos\": 12301.0}, {\"region\": \"Metropolitana\", \"poblacion\": 8125072.0, \"fecha\": \"2020-08-28T00:00:00\", \"casos\": 302265.0}, {\"region\": \"O\\u2019Higgins\", \"poblacion\": 991063.0, \"fecha\": \"2020-08-28T00:00:00\", \"casos\": 16006.0}, {\"region\": \"Tarapac\\u00e1\", \"poblacion\": 382773.0, \"fecha\": \"2020-08-28T00:00:00\", \"casos\": 11180.0}, {\"region\": \"Valpara\\u00edso\", \"poblacion\": 1960170.0, \"fecha\": \"2020-08-28T00:00:00\", \"casos\": 30800.0}, {\"region\": \"\\u00d1uble\", \"poblacion\": 511551.0, \"fecha\": \"2020-08-28T00:00:00\", \"casos\": 5716.0}, {\"region\": \"Antofagasta\", \"poblacion\": 691854.0, \"fecha\": \"2020-08-31T00:00:00\", \"casos\": 19084.0}, {\"region\": \"Araucan\\u00eda\", \"poblacion\": 1014343.0, \"fecha\": \"2020-08-31T00:00:00\", \"casos\": 5148.0}, {\"region\": \"Arica y Parinacota\", \"poblacion\": 252110.0, \"fecha\": \"2020-08-31T00:00:00\", \"casos\": 7131.0}, {\"region\": \"Atacama\", \"poblacion\": 314709.0, \"fecha\": \"2020-08-31T00:00:00\", \"casos\": 5760.0}, {\"region\": \"Ays\\u00e9n\", \"poblacion\": 107297.0, \"fecha\": \"2020-08-31T00:00:00\", \"casos\": 124.0}, {\"region\": \"Biob\\u00edo\", \"poblacion\": 1663696.0, \"fecha\": \"2020-08-31T00:00:00\", \"casos\": 19703.0}, {\"region\": \"Coquimbo\", \"poblacion\": 836096.0, \"fecha\": \"2020-08-31T00:00:00\", \"casos\": 11328.0}, {\"region\": \"Los Lagos\", \"poblacion\": 891440.0, \"fecha\": \"2020-08-31T00:00:00\", \"casos\": 6891.0}, {\"region\": \"Los R\\u00edos\", \"poblacion\": 405835.0, \"fecha\": \"2020-08-31T00:00:00\", \"casos\": 1167.0}, {\"region\": \"Magallanes\", \"poblacion\": 178362.0, \"fecha\": \"2020-08-31T00:00:00\", \"casos\": 3600.0}, {\"region\": \"Maule\", \"poblacion\": 1131939.0, \"fecha\": \"2020-08-31T00:00:00\", \"casos\": 12595.0}, {\"region\": \"Metropolitana\", \"poblacion\": 8125072.0, \"fecha\": \"2020-08-31T00:00:00\", \"casos\": 304233.0}, {\"region\": \"O\\u2019Higgins\", \"poblacion\": 991063.0, \"fecha\": \"2020-08-31T00:00:00\", \"casos\": 16355.0}, {\"region\": \"Tarapac\\u00e1\", \"poblacion\": 382773.0, \"fecha\": \"2020-08-31T00:00:00\", \"casos\": 11383.0}, {\"region\": \"Valpara\\u00edso\", \"poblacion\": 1960170.0, \"fecha\": \"2020-08-31T00:00:00\", \"casos\": 31637.0}, {\"region\": \"\\u00d1uble\", \"poblacion\": 511551.0, \"fecha\": \"2020-08-31T00:00:00\", \"casos\": 6033.0}, {\"region\": \"Antofagasta\", \"poblacion\": 691854.0, \"fecha\": \"2020-09-04T00:00:00\", \"casos\": 19378.0}, {\"region\": \"Araucan\\u00eda\", \"poblacion\": 1014343.0, \"fecha\": \"2020-09-04T00:00:00\", \"casos\": 5358.0}, {\"region\": \"Arica y Parinacota\", \"poblacion\": 252110.0, \"fecha\": \"2020-09-04T00:00:00\", \"casos\": 7338.0}, {\"region\": \"Atacama\", \"poblacion\": 314709.0, \"fecha\": \"2020-09-04T00:00:00\", \"casos\": 5902.0}, {\"region\": \"Ays\\u00e9n\", \"poblacion\": 107297.0, \"fecha\": \"2020-09-04T00:00:00\", \"casos\": 125.0}, {\"region\": \"Biob\\u00edo\", \"poblacion\": 1663696.0, \"fecha\": \"2020-09-04T00:00:00\", \"casos\": 20767.0}, {\"region\": \"Coquimbo\", \"poblacion\": 836096.0, \"fecha\": \"2020-09-04T00:00:00\", \"casos\": 11768.0}, {\"region\": \"Los Lagos\", \"poblacion\": 891440.0, \"fecha\": \"2020-09-04T00:00:00\", \"casos\": 7200.0}, {\"region\": \"Los R\\u00edos\", \"poblacion\": 405835.0, \"fecha\": \"2020-09-04T00:00:00\", \"casos\": 1229.0}, {\"region\": \"Magallanes\", \"poblacion\": 178362.0, \"fecha\": \"2020-09-04T00:00:00\", \"casos\": 4089.0}, {\"region\": \"Maule\", \"poblacion\": 1131939.0, \"fecha\": \"2020-09-04T00:00:00\", \"casos\": 13042.0}, {\"region\": \"Metropolitana\", \"poblacion\": 8125072.0, \"fecha\": \"2020-09-04T00:00:00\", \"casos\": 306670.0}, {\"region\": \"O\\u2019Higgins\", \"poblacion\": 991063.0, \"fecha\": \"2020-09-04T00:00:00\", \"casos\": 16875.0}, {\"region\": \"Tarapac\\u00e1\", \"poblacion\": 382773.0, \"fecha\": \"2020-09-04T00:00:00\", \"casos\": 11622.0}, {\"region\": \"Valpara\\u00edso\", \"poblacion\": 1960170.0, \"fecha\": \"2020-09-04T00:00:00\", \"casos\": 32749.0}, {\"region\": \"\\u00d1uble\", \"poblacion\": 511551.0, \"fecha\": \"2020-09-04T00:00:00\", \"casos\": 6370.0}, {\"region\": \"Antofagasta\", \"poblacion\": 691854.0, \"fecha\": \"2020-09-07T00:00:00\", \"casos\": 19640.0}, {\"region\": \"Araucan\\u00eda\", \"poblacion\": 1014343.0, \"fecha\": \"2020-09-07T00:00:00\", \"casos\": 5502.0}, {\"region\": \"Arica y Parinacota\", \"poblacion\": 252110.0, \"fecha\": \"2020-09-07T00:00:00\", \"casos\": 7514.0}, {\"region\": \"Atacama\", \"poblacion\": 314709.0, \"fecha\": \"2020-09-07T00:00:00\", \"casos\": 6021.0}, {\"region\": \"Ays\\u00e9n\", \"poblacion\": 107297.0, \"fecha\": \"2020-09-07T00:00:00\", \"casos\": 136.0}, {\"region\": \"Biob\\u00edo\", \"poblacion\": 1663696.0, \"fecha\": \"2020-09-07T00:00:00\", \"casos\": 21701.0}, {\"region\": \"Coquimbo\", \"poblacion\": 836096.0, \"fecha\": \"2020-09-07T00:00:00\", \"casos\": 12090.0}, {\"region\": \"Los Lagos\", \"poblacion\": 891440.0, \"fecha\": \"2020-09-07T00:00:00\", \"casos\": 7481.0}, {\"region\": \"Los R\\u00edos\", \"poblacion\": 405835.0, \"fecha\": \"2020-09-07T00:00:00\", \"casos\": 1283.0}, {\"region\": \"Magallanes\", \"poblacion\": 178362.0, \"fecha\": \"2020-09-07T00:00:00\", \"casos\": 4694.0}, {\"region\": \"Maule\", \"poblacion\": 1131939.0, \"fecha\": \"2020-09-07T00:00:00\", \"casos\": 13463.0}, {\"region\": \"Metropolitana\", \"poblacion\": 8125072.0, \"fecha\": \"2020-09-07T00:00:00\", \"casos\": 308641.0}, {\"region\": \"O\\u2019Higgins\", \"poblacion\": 991063.0, \"fecha\": \"2020-09-07T00:00:00\", \"casos\": 17244.0}, {\"region\": \"Tarapac\\u00e1\", \"poblacion\": 382773.0, \"fecha\": \"2020-09-07T00:00:00\", \"casos\": 11767.0}, {\"region\": \"Valpara\\u00edso\", \"poblacion\": 1960170.0, \"fecha\": \"2020-09-07T00:00:00\", \"casos\": 33539.0}, {\"region\": \"\\u00d1uble\", \"poblacion\": 511551.0, \"fecha\": \"2020-09-07T00:00:00\", \"casos\": 6636.0}, {\"region\": \"Antofagasta\", \"poblacion\": 691854.0, \"fecha\": \"2020-09-11T00:00:00\", \"casos\": 19920.0}, {\"region\": \"Araucan\\u00eda\", \"poblacion\": 1014343.0, \"fecha\": \"2020-09-11T00:00:00\", \"casos\": 5771.0}, {\"region\": \"Arica y Parinacota\", \"poblacion\": 252110.0, \"fecha\": \"2020-09-11T00:00:00\", \"casos\": 7677.0}, {\"region\": \"Atacama\", \"poblacion\": 314709.0, \"fecha\": \"2020-09-11T00:00:00\", \"casos\": 6225.0}, {\"region\": \"Ays\\u00e9n\", \"poblacion\": 107297.0, \"fecha\": \"2020-09-11T00:00:00\", \"casos\": 145.0}, {\"region\": \"Biob\\u00edo\", \"poblacion\": 1663696.0, \"fecha\": \"2020-09-11T00:00:00\", \"casos\": 22795.0}, {\"region\": \"Coquimbo\", \"poblacion\": 836096.0, \"fecha\": \"2020-09-11T00:00:00\", \"casos\": 12474.0}, {\"region\": \"Los Lagos\", \"poblacion\": 891440.0, \"fecha\": \"2020-09-11T00:00:00\", \"casos\": 7732.0}, {\"region\": \"Los R\\u00edos\", \"poblacion\": 405835.0, \"fecha\": \"2020-09-11T00:00:00\", \"casos\": 1378.0}, {\"region\": \"Magallanes\", \"poblacion\": 178362.0, \"fecha\": \"2020-09-11T00:00:00\", \"casos\": 5077.0}, {\"region\": \"Maule\", \"poblacion\": 1131939.0, \"fecha\": \"2020-09-11T00:00:00\", \"casos\": 14011.0}, {\"region\": \"Metropolitana\", \"poblacion\": 8125072.0, \"fecha\": \"2020-09-11T00:00:00\", \"casos\": 310855.0}, {\"region\": \"O\\u2019Higgins\", \"poblacion\": 991063.0, \"fecha\": \"2020-09-11T00:00:00\", \"casos\": 17765.0}, {\"region\": \"Tarapac\\u00e1\", \"poblacion\": 382773.0, \"fecha\": \"2020-09-11T00:00:00\", \"casos\": 11990.0}, {\"region\": \"Valpara\\u00edso\", \"poblacion\": 1960170.0, \"fecha\": \"2020-09-11T00:00:00\", \"casos\": 34447.0}, {\"region\": \"\\u00d1uble\", \"poblacion\": 511551.0, \"fecha\": \"2020-09-11T00:00:00\", \"casos\": 6961.0}, {\"region\": \"Antofagasta\", \"poblacion\": 691854.0, \"fecha\": \"2020-09-14T00:00:00\", \"casos\": 20107.0}, {\"region\": \"Araucan\\u00eda\", \"poblacion\": 1014343.0, \"fecha\": \"2020-09-14T00:00:00\", \"casos\": 5994.0}, {\"region\": \"Arica y Parinacota\", \"poblacion\": 252110.0, \"fecha\": \"2020-09-14T00:00:00\", \"casos\": 7824.0}, {\"region\": \"Atacama\", \"poblacion\": 314709.0, \"fecha\": \"2020-09-14T00:00:00\", \"casos\": 6358.0}, {\"region\": \"Ays\\u00e9n\", \"poblacion\": 107297.0, \"fecha\": \"2020-09-14T00:00:00\", \"casos\": 168.0}, {\"region\": \"Biob\\u00edo\", \"poblacion\": 1663696.0, \"fecha\": \"2020-09-14T00:00:00\", \"casos\": 23687.0}, {\"region\": \"Coquimbo\", \"poblacion\": 836096.0, \"fecha\": \"2020-09-14T00:00:00\", \"casos\": 12815.0}, {\"region\": \"Los Lagos\", \"poblacion\": 891440.0, \"fecha\": \"2020-09-14T00:00:00\", \"casos\": 7958.0}, {\"region\": \"Los R\\u00edos\", \"poblacion\": 405835.0, \"fecha\": \"2020-09-14T00:00:00\", \"casos\": 1501.0}, {\"region\": \"Magallanes\", \"poblacion\": 178362.0, \"fecha\": \"2020-09-14T00:00:00\", \"casos\": 5732.0}, {\"region\": \"Maule\", \"poblacion\": 1131939.0, \"fecha\": \"2020-09-14T00:00:00\", \"casos\": 14472.0}, {\"region\": \"Metropolitana\", \"poblacion\": 8125072.0, \"fecha\": \"2020-09-14T00:00:00\", \"casos\": 312483.0}, {\"region\": \"O\\u2019Higgins\", \"poblacion\": 991063.0, \"fecha\": \"2020-09-14T00:00:00\", \"casos\": 18243.0}, {\"region\": \"Tarapac\\u00e1\", \"poblacion\": 382773.0, \"fecha\": \"2020-09-14T00:00:00\", \"casos\": 12181.0}, {\"region\": \"Valpara\\u00edso\", \"poblacion\": 1960170.0, \"fecha\": \"2020-09-14T00:00:00\", \"casos\": 35256.0}, {\"region\": \"\\u00d1uble\", \"poblacion\": 511551.0, \"fecha\": \"2020-09-14T00:00:00\", \"casos\": 7301.0}, {\"region\": \"Antofagasta\", \"poblacion\": 691854.0, \"fecha\": \"2020-09-18T00:00:00\", \"casos\": 20307.0}, {\"region\": \"Araucan\\u00eda\", \"poblacion\": 1014343.0, \"fecha\": \"2020-09-18T00:00:00\", \"casos\": 6298.0}, {\"region\": \"Arica y Parinacota\", \"poblacion\": 252110.0, \"fecha\": \"2020-09-18T00:00:00\", \"casos\": 7998.0}, {\"region\": \"Atacama\", \"poblacion\": 314709.0, \"fecha\": \"2020-09-18T00:00:00\", \"casos\": 6530.0}, {\"region\": \"Ays\\u00e9n\", \"poblacion\": 107297.0, \"fecha\": \"2020-09-18T00:00:00\", \"casos\": 204.0}, {\"region\": \"Biob\\u00edo\", \"poblacion\": 1663696.0, \"fecha\": \"2020-09-18T00:00:00\", \"casos\": 24640.0}, {\"region\": \"Coquimbo\", \"poblacion\": 836096.0, \"fecha\": \"2020-09-18T00:00:00\", \"casos\": 13121.0}, {\"region\": \"Los Lagos\", \"poblacion\": 891440.0, \"fecha\": \"2020-09-18T00:00:00\", \"casos\": 8331.0}, {\"region\": \"Los R\\u00edos\", \"poblacion\": 405835.0, \"fecha\": \"2020-09-18T00:00:00\", \"casos\": 1568.0}, {\"region\": \"Magallanes\", \"poblacion\": 178362.0, \"fecha\": \"2020-09-18T00:00:00\", \"casos\": 6385.0}, {\"region\": \"Maule\", \"poblacion\": 1131939.0, \"fecha\": \"2020-09-18T00:00:00\", \"casos\": 15045.0}, {\"region\": \"Metropolitana\", \"poblacion\": 8125072.0, \"fecha\": \"2020-09-18T00:00:00\", \"casos\": 314414.0}, {\"region\": \"O\\u2019Higgins\", \"poblacion\": 991063.0, \"fecha\": \"2020-09-18T00:00:00\", \"casos\": 18829.0}, {\"region\": \"Tarapac\\u00e1\", \"poblacion\": 382773.0, \"fecha\": \"2020-09-18T00:00:00\", \"casos\": 12392.0}, {\"region\": \"Valpara\\u00edso\", \"poblacion\": 1960170.0, \"fecha\": \"2020-09-18T00:00:00\", \"casos\": 36084.0}, {\"region\": \"\\u00d1uble\", \"poblacion\": 511551.0, \"fecha\": \"2020-09-18T00:00:00\", \"casos\": 7642.0}, {\"region\": \"Antofagasta\", \"poblacion\": 691854.0, \"fecha\": \"2020-09-21T00:00:00\", \"casos\": 20418.0}, {\"region\": \"Araucan\\u00eda\", \"poblacion\": 1014343.0, \"fecha\": \"2020-09-21T00:00:00\", \"casos\": 6533.0}, {\"region\": \"Arica y Parinacota\", \"poblacion\": 252110.0, \"fecha\": \"2020-09-21T00:00:00\", \"casos\": 8129.0}, {\"region\": \"Atacama\", \"poblacion\": 314709.0, \"fecha\": \"2020-09-21T00:00:00\", \"casos\": 6701.0}, {\"region\": \"Ays\\u00e9n\", \"poblacion\": 107297.0, \"fecha\": \"2020-09-21T00:00:00\", \"casos\": 246.0}, {\"region\": \"Biob\\u00edo\", \"poblacion\": 1663696.0, \"fecha\": \"2020-09-21T00:00:00\", \"casos\": 25210.0}, {\"region\": \"Coquimbo\", \"poblacion\": 836096.0, \"fecha\": \"2020-09-21T00:00:00\", \"casos\": 13259.0}, {\"region\": \"Los Lagos\", \"poblacion\": 891440.0, \"fecha\": \"2020-09-21T00:00:00\", \"casos\": 8679.0}, {\"region\": \"Los R\\u00edos\", \"poblacion\": 405835.0, \"fecha\": \"2020-09-21T00:00:00\", \"casos\": 1637.0}, {\"region\": \"Magallanes\", \"poblacion\": 178362.0, \"fecha\": \"2020-09-21T00:00:00\", \"casos\": 6998.0}, {\"region\": \"Maule\", \"poblacion\": 1131939.0, \"fecha\": \"2020-09-21T00:00:00\", \"casos\": 15387.0}, {\"region\": \"Metropolitana\", \"poblacion\": 8125072.0, \"fecha\": \"2020-09-21T00:00:00\", \"casos\": 315595.0}, {\"region\": \"O\\u2019Higgins\", \"poblacion\": 991063.0, \"fecha\": \"2020-09-21T00:00:00\", \"casos\": 19202.0}, {\"region\": \"Tarapac\\u00e1\", \"poblacion\": 382773.0, \"fecha\": \"2020-09-21T00:00:00\", \"casos\": 12503.0}, {\"region\": \"Valpara\\u00edso\", \"poblacion\": 1960170.0, \"fecha\": \"2020-09-21T00:00:00\", \"casos\": 36559.0}, {\"region\": \"\\u00d1uble\", \"poblacion\": 511551.0, \"fecha\": \"2020-09-21T00:00:00\", \"casos\": 7823.0}, {\"region\": \"Antofagasta\", \"poblacion\": 691854.0, \"fecha\": \"2020-09-25T00:00:00\", \"casos\": 20672.0}, {\"region\": \"Araucan\\u00eda\", \"poblacion\": 1014343.0, \"fecha\": \"2020-09-25T00:00:00\", \"casos\": 7002.0}, {\"region\": \"Arica y Parinacota\", \"poblacion\": 252110.0, \"fecha\": \"2020-09-25T00:00:00\", \"casos\": 8320.0}, {\"region\": \"Atacama\", \"poblacion\": 314709.0, \"fecha\": \"2020-09-25T00:00:00\", \"casos\": 6853.0}, {\"region\": \"Ays\\u00e9n\", \"poblacion\": 107297.0, \"fecha\": \"2020-09-25T00:00:00\", \"casos\": 302.0}, {\"region\": \"Biob\\u00edo\", \"poblacion\": 1663696.0, \"fecha\": \"2020-09-25T00:00:00\", \"casos\": 26321.0}, {\"region\": \"Coquimbo\", \"poblacion\": 836096.0, \"fecha\": \"2020-09-25T00:00:00\", \"casos\": 13466.0}, {\"region\": \"Los Lagos\", \"poblacion\": 891440.0, \"fecha\": \"2020-09-25T00:00:00\", \"casos\": 9158.0}, {\"region\": \"Los R\\u00edos\", \"poblacion\": 405835.0, \"fecha\": \"2020-09-25T00:00:00\", \"casos\": 1778.0}, {\"region\": \"Magallanes\", \"poblacion\": 178362.0, \"fecha\": \"2020-09-25T00:00:00\", \"casos\": 7794.0}, {\"region\": \"Maule\", \"poblacion\": 1131939.0, \"fecha\": \"2020-09-25T00:00:00\", \"casos\": 15967.0}, {\"region\": \"Metropolitana\", \"poblacion\": 8125072.0, \"fecha\": \"2020-09-25T00:00:00\", \"casos\": 317377.0}, {\"region\": \"O\\u2019Higgins\", \"poblacion\": 991063.0, \"fecha\": \"2020-09-25T00:00:00\", \"casos\": 19778.0}, {\"region\": \"Tarapac\\u00e1\", \"poblacion\": 382773.0, \"fecha\": \"2020-09-25T00:00:00\", \"casos\": 12668.0}, {\"region\": \"Valpara\\u00edso\", \"poblacion\": 1960170.0, \"fecha\": \"2020-09-25T00:00:00\", \"casos\": 37363.0}, {\"region\": \"\\u00d1uble\", \"poblacion\": 511551.0, \"fecha\": \"2020-09-25T00:00:00\", \"casos\": 8091.0}, {\"region\": \"Antofagasta\", \"poblacion\": 691854.0, \"fecha\": \"2020-09-28T00:00:00\", \"casos\": 20863.0}, {\"region\": \"Araucan\\u00eda\", \"poblacion\": 1014343.0, \"fecha\": \"2020-09-28T00:00:00\", \"casos\": 7356.0}, {\"region\": \"Arica y Parinacota\", \"poblacion\": 252110.0, \"fecha\": \"2020-09-28T00:00:00\", \"casos\": 8524.0}, {\"region\": \"Atacama\", \"poblacion\": 314709.0, \"fecha\": \"2020-09-28T00:00:00\", \"casos\": 7018.0}, {\"region\": \"Ays\\u00e9n\", \"poblacion\": 107297.0, \"fecha\": \"2020-09-28T00:00:00\", \"casos\": 333.0}, {\"region\": \"Biob\\u00edo\", \"poblacion\": 1663696.0, \"fecha\": \"2020-09-28T00:00:00\", \"casos\": 27151.0}, {\"region\": \"Coquimbo\", \"poblacion\": 836096.0, \"fecha\": \"2020-09-28T00:00:00\", \"casos\": 13704.0}, {\"region\": \"Los Lagos\", \"poblacion\": 891440.0, \"fecha\": \"2020-09-28T00:00:00\", \"casos\": 9674.0}, {\"region\": \"Los R\\u00edos\", \"poblacion\": 405835.0, \"fecha\": \"2020-09-28T00:00:00\", \"casos\": 1927.0}, {\"region\": \"Magallanes\", \"poblacion\": 178362.0, \"fecha\": \"2020-09-28T00:00:00\", \"casos\": 8524.0}, {\"region\": \"Maule\", \"poblacion\": 1131939.0, \"fecha\": \"2020-09-28T00:00:00\", \"casos\": 16410.0}, {\"region\": \"Metropolitana\", \"poblacion\": 8125072.0, \"fecha\": \"2020-09-28T00:00:00\", \"casos\": 318994.0}, {\"region\": \"O\\u2019Higgins\", \"poblacion\": 991063.0, \"fecha\": \"2020-09-28T00:00:00\", \"casos\": 20161.0}, {\"region\": \"Tarapac\\u00e1\", \"poblacion\": 382773.0, \"fecha\": \"2020-09-28T00:00:00\", \"casos\": 12846.0}, {\"region\": \"Valpara\\u00edso\", \"poblacion\": 1960170.0, \"fecha\": \"2020-09-28T00:00:00\", \"casos\": 38088.0}, {\"region\": \"\\u00d1uble\", \"poblacion\": 511551.0, \"fecha\": \"2020-09-28T00:00:00\", \"casos\": 8337.0}, {\"region\": \"Antofagasta\", \"poblacion\": 691854.0, \"fecha\": \"2020-10-02T00:00:00\", \"casos\": 21055.0}, {\"region\": \"Araucan\\u00eda\", \"poblacion\": 1014343.0, \"fecha\": \"2020-10-02T00:00:00\", \"casos\": 7867.0}, {\"region\": \"Arica y Parinacota\", \"poblacion\": 252110.0, \"fecha\": \"2020-10-02T00:00:00\", \"casos\": 8792.0}, {\"region\": \"Atacama\", \"poblacion\": 314709.0, \"fecha\": \"2020-10-02T00:00:00\", \"casos\": 7170.0}, {\"region\": \"Ays\\u00e9n\", \"poblacion\": 107297.0, \"fecha\": \"2020-10-02T00:00:00\", \"casos\": 499.0}, {\"region\": \"Biob\\u00edo\", \"poblacion\": 1663696.0, \"fecha\": \"2020-10-02T00:00:00\", \"casos\": 28033.0}, {\"region\": \"Coquimbo\", \"poblacion\": 836096.0, \"fecha\": \"2020-10-02T00:00:00\", \"casos\": 13897.0}, {\"region\": \"Los Lagos\", \"poblacion\": 891440.0, \"fecha\": \"2020-10-02T00:00:00\", \"casos\": 10259.0}, {\"region\": \"Los R\\u00edos\", \"poblacion\": 405835.0, \"fecha\": \"2020-10-02T00:00:00\", \"casos\": 2131.0}, {\"region\": \"Magallanes\", \"poblacion\": 178362.0, \"fecha\": \"2020-10-02T00:00:00\", \"casos\": 9281.0}, {\"region\": \"Maule\", \"poblacion\": 1131939.0, \"fecha\": \"2020-10-02T00:00:00\", \"casos\": 16962.0}, {\"region\": \"Metropolitana\", \"poblacion\": 8125072.0, \"fecha\": \"2020-10-02T00:00:00\", \"casos\": 320989.0}, {\"region\": \"O\\u2019Higgins\", \"poblacion\": 991063.0, \"fecha\": \"2020-10-02T00:00:00\", \"casos\": 20674.0}, {\"region\": \"Tarapac\\u00e1\", \"poblacion\": 382773.0, \"fecha\": \"2020-10-02T00:00:00\", \"casos\": 13091.0}, {\"region\": \"Valpara\\u00edso\", \"poblacion\": 1960170.0, \"fecha\": \"2020-10-02T00:00:00\", \"casos\": 38901.0}, {\"region\": \"\\u00d1uble\", \"poblacion\": 511551.0, \"fecha\": \"2020-10-02T00:00:00\", \"casos\": 8565.0}, {\"region\": \"Antofagasta\", \"poblacion\": 691854.0, \"fecha\": \"2020-10-05T00:00:00\", \"casos\": 21236.0}, {\"region\": \"Araucan\\u00eda\", \"poblacion\": 1014343.0, \"fecha\": \"2020-10-05T00:00:00\", \"casos\": 8334.0}, {\"region\": \"Arica y Parinacota\", \"poblacion\": 252110.0, \"fecha\": \"2020-10-05T00:00:00\", \"casos\": 8970.0}, {\"region\": \"Atacama\", \"poblacion\": 314709.0, \"fecha\": \"2020-10-05T00:00:00\", \"casos\": 7252.0}, {\"region\": \"Ays\\u00e9n\", \"poblacion\": 107297.0, \"fecha\": \"2020-10-05T00:00:00\", \"casos\": 569.0}, {\"region\": \"Biob\\u00edo\", \"poblacion\": 1663696.0, \"fecha\": \"2020-10-05T00:00:00\", \"casos\": 28606.0}, {\"region\": \"Coquimbo\", \"poblacion\": 836096.0, \"fecha\": \"2020-10-05T00:00:00\", \"casos\": 14041.0}, {\"region\": \"Los Lagos\", \"poblacion\": 891440.0, \"fecha\": \"2020-10-05T00:00:00\", \"casos\": 10795.0}, {\"region\": \"Los R\\u00edos\", \"poblacion\": 405835.0, \"fecha\": \"2020-10-05T00:00:00\", \"casos\": 2263.0}, {\"region\": \"Magallanes\", \"poblacion\": 178362.0, \"fecha\": \"2020-10-05T00:00:00\", \"casos\": 9935.0}, {\"region\": \"Maule\", \"poblacion\": 1131939.0, \"fecha\": \"2020-10-05T00:00:00\", \"casos\": 17315.0}, {\"region\": \"Metropolitana\", \"poblacion\": 8125072.0, \"fecha\": \"2020-10-05T00:00:00\", \"casos\": 322120.0}, {\"region\": \"O\\u2019Higgins\", \"poblacion\": 991063.0, \"fecha\": \"2020-10-05T00:00:00\", \"casos\": 20978.0}, {\"region\": \"Tarapac\\u00e1\", \"poblacion\": 382773.0, \"fecha\": \"2020-10-05T00:00:00\", \"casos\": 13255.0}, {\"region\": \"Valpara\\u00edso\", \"poblacion\": 1960170.0, \"fecha\": \"2020-10-05T00:00:00\", \"casos\": 39464.0}, {\"region\": \"\\u00d1uble\", \"poblacion\": 511551.0, \"fecha\": \"2020-10-05T00:00:00\", \"casos\": 8674.0}, {\"region\": \"Antofagasta\", \"poblacion\": 691854.0, \"fecha\": \"2020-10-09T00:00:00\", \"casos\": 21415.0}, {\"region\": \"Araucan\\u00eda\", \"poblacion\": 1014343.0, \"fecha\": \"2020-10-09T00:00:00\", \"casos\": 9005.0}, {\"region\": \"Arica y Parinacota\", \"poblacion\": 252110.0, \"fecha\": \"2020-10-09T00:00:00\", \"casos\": 9194.0}, {\"region\": \"Atacama\", \"poblacion\": 314709.0, \"fecha\": \"2020-10-09T00:00:00\", \"casos\": 7390.0}, {\"region\": \"Ays\\u00e9n\", \"poblacion\": 107297.0, \"fecha\": \"2020-10-09T00:00:00\", \"casos\": 640.0}, {\"region\": \"Biob\\u00edo\", \"poblacion\": 1663696.0, \"fecha\": \"2020-10-09T00:00:00\", \"casos\": 29294.0}, {\"region\": \"Coquimbo\", \"poblacion\": 836096.0, \"fecha\": \"2020-10-09T00:00:00\", \"casos\": 14184.0}, {\"region\": \"Los Lagos\", \"poblacion\": 891440.0, \"fecha\": \"2020-10-09T00:00:00\", \"casos\": 11382.0}, {\"region\": \"Los R\\u00edos\", \"poblacion\": 405835.0, \"fecha\": \"2020-10-09T00:00:00\", \"casos\": 2472.0}, {\"region\": \"Magallanes\", \"poblacion\": 178362.0, \"fecha\": \"2020-10-09T00:00:00\", \"casos\": 10844.0}, {\"region\": \"Maule\", \"poblacion\": 1131939.0, \"fecha\": \"2020-10-09T00:00:00\", \"casos\": 17725.0}, {\"region\": \"Metropolitana\", \"poblacion\": 8125072.0, \"fecha\": \"2020-10-09T00:00:00\", \"casos\": 323688.0}, {\"region\": \"O\\u2019Higgins\", \"poblacion\": 991063.0, \"fecha\": \"2020-10-09T00:00:00\", \"casos\": 21357.0}, {\"region\": \"Tarapac\\u00e1\", \"poblacion\": 382773.0, \"fecha\": \"2020-10-09T00:00:00\", \"casos\": 13452.0}, {\"region\": \"Valpara\\u00edso\", \"poblacion\": 1960170.0, \"fecha\": \"2020-10-09T00:00:00\", \"casos\": 40101.0}, {\"region\": \"\\u00d1uble\", \"poblacion\": 511551.0, \"fecha\": \"2020-10-09T00:00:00\", \"casos\": 8857.0}, {\"region\": \"Antofagasta\", \"poblacion\": 691854.0, \"fecha\": \"2020-10-12T00:00:00\", \"casos\": 21599.0}, {\"region\": \"Araucan\\u00eda\", \"poblacion\": 1014343.0, \"fecha\": \"2020-10-12T00:00:00\", \"casos\": 9455.0}, {\"region\": \"Arica y Parinacota\", \"poblacion\": 252110.0, \"fecha\": \"2020-10-12T00:00:00\", \"casos\": 9340.0}, {\"region\": \"Atacama\", \"poblacion\": 314709.0, \"fecha\": \"2020-10-12T00:00:00\", \"casos\": 7507.0}, {\"region\": \"Ays\\u00e9n\", \"poblacion\": 107297.0, \"fecha\": \"2020-10-12T00:00:00\", \"casos\": 741.0}, {\"region\": \"Biob\\u00edo\", \"poblacion\": 1663696.0, \"fecha\": \"2020-10-12T00:00:00\", \"casos\": 30057.0}, {\"region\": \"Coquimbo\", \"poblacion\": 836096.0, \"fecha\": \"2020-10-12T00:00:00\", \"casos\": 14264.0}, {\"region\": \"Los Lagos\", \"poblacion\": 891440.0, \"fecha\": \"2020-10-12T00:00:00\", \"casos\": 11942.0}, {\"region\": \"Los R\\u00edos\", \"poblacion\": 405835.0, \"fecha\": \"2020-10-12T00:00:00\", \"casos\": 2622.0}, {\"region\": \"Magallanes\", \"poblacion\": 178362.0, \"fecha\": \"2020-10-12T00:00:00\", \"casos\": 11438.0}, {\"region\": \"Maule\", \"poblacion\": 1131939.0, \"fecha\": \"2020-10-12T00:00:00\", \"casos\": 18115.0}, {\"region\": \"Metropolitana\", \"poblacion\": 8125072.0, \"fecha\": \"2020-10-12T00:00:00\", \"casos\": 324890.0}, {\"region\": \"O\\u2019Higgins\", \"poblacion\": 991063.0, \"fecha\": \"2020-10-12T00:00:00\", \"casos\": 21643.0}, {\"region\": \"Tarapac\\u00e1\", \"poblacion\": 382773.0, \"fecha\": \"2020-10-12T00:00:00\", \"casos\": 13606.0}, {\"region\": \"Valpara\\u00edso\", \"poblacion\": 1960170.0, \"fecha\": \"2020-10-12T00:00:00\", \"casos\": 40625.0}, {\"region\": \"\\u00d1uble\", \"poblacion\": 511551.0, \"fecha\": \"2020-10-12T00:00:00\", \"casos\": 8975.0}, {\"region\": \"Antofagasta\", \"poblacion\": 691854.0, \"fecha\": \"2020-10-16T00:00:00\", \"casos\": 21760.0}, {\"region\": \"Araucan\\u00eda\", \"poblacion\": 1014343.0, \"fecha\": \"2020-10-16T00:00:00\", \"casos\": 10056.0}, {\"region\": \"Arica y Parinacota\", \"poblacion\": 252110.0, \"fecha\": \"2020-10-16T00:00:00\", \"casos\": 9548.0}, {\"region\": \"Atacama\", \"poblacion\": 314709.0, \"fecha\": \"2020-10-16T00:00:00\", \"casos\": 7593.0}, {\"region\": \"Ays\\u00e9n\", \"poblacion\": 107297.0, \"fecha\": \"2020-10-16T00:00:00\", \"casos\": 835.0}, {\"region\": \"Biob\\u00edo\", \"poblacion\": 1663696.0, \"fecha\": \"2020-10-16T00:00:00\", \"casos\": 31005.0}, {\"region\": \"Coquimbo\", \"poblacion\": 836096.0, \"fecha\": \"2020-10-16T00:00:00\", \"casos\": 14394.0}, {\"region\": \"Los Lagos\", \"poblacion\": 891440.0, \"fecha\": \"2020-10-16T00:00:00\", \"casos\": 12663.0}, {\"region\": \"Los R\\u00edos\", \"poblacion\": 405835.0, \"fecha\": \"2020-10-16T00:00:00\", \"casos\": 2780.0}, {\"region\": \"Magallanes\", \"poblacion\": 178362.0, \"fecha\": \"2020-10-16T00:00:00\", \"casos\": 11856.0}, {\"region\": \"Maule\", \"poblacion\": 1131939.0, \"fecha\": \"2020-10-16T00:00:00\", \"casos\": 18355.0}, {\"region\": \"Metropolitana\", \"poblacion\": 8125072.0, \"fecha\": \"2020-10-16T00:00:00\", \"casos\": 326288.0}, {\"region\": \"O\\u2019Higgins\", \"poblacion\": 991063.0, \"fecha\": \"2020-10-16T00:00:00\", \"casos\": 21945.0}, {\"region\": \"Tarapac\\u00e1\", \"poblacion\": 382773.0, \"fecha\": \"2020-10-16T00:00:00\", \"casos\": 13784.0}, {\"region\": \"Valpara\\u00edso\", \"poblacion\": 1960170.0, \"fecha\": \"2020-10-16T00:00:00\", \"casos\": 41113.0}, {\"region\": \"\\u00d1uble\", \"poblacion\": 511551.0, \"fecha\": \"2020-10-16T00:00:00\", \"casos\": 9129.0}, {\"region\": \"Antofagasta\", \"poblacion\": 691854.0, \"fecha\": \"2020-10-19T00:00:00\", \"casos\": 21915.0}, {\"region\": \"Araucan\\u00eda\", \"poblacion\": 1014343.0, \"fecha\": \"2020-10-19T00:00:00\", \"casos\": 10572.0}, {\"region\": \"Arica y Parinacota\", \"poblacion\": 252110.0, \"fecha\": \"2020-10-19T00:00:00\", \"casos\": 9677.0}, {\"region\": \"Atacama\", \"poblacion\": 314709.0, \"fecha\": \"2020-10-19T00:00:00\", \"casos\": 7700.0}, {\"region\": \"Ays\\u00e9n\", \"poblacion\": 107297.0, \"fecha\": \"2020-10-19T00:00:00\", \"casos\": 908.0}, {\"region\": \"Biob\\u00edo\", \"poblacion\": 1663696.0, \"fecha\": \"2020-10-19T00:00:00\", \"casos\": 31746.0}, {\"region\": \"Coquimbo\", \"poblacion\": 836096.0, \"fecha\": \"2020-10-19T00:00:00\", \"casos\": 14463.0}, {\"region\": \"Los Lagos\", \"poblacion\": 891440.0, \"fecha\": \"2020-10-19T00:00:00\", \"casos\": 13288.0}, {\"region\": \"Los R\\u00edos\", \"poblacion\": 405835.0, \"fecha\": \"2020-10-19T00:00:00\", \"casos\": 2958.0}, {\"region\": \"Magallanes\", \"poblacion\": 178362.0, \"fecha\": \"2020-10-19T00:00:00\", \"casos\": 12181.0}, {\"region\": \"Maule\", \"poblacion\": 1131939.0, \"fecha\": \"2020-10-19T00:00:00\", \"casos\": 18751.0}, {\"region\": \"Metropolitana\", \"poblacion\": 8125072.0, \"fecha\": \"2020-10-19T00:00:00\", \"casos\": 327598.0}, {\"region\": \"O\\u2019Higgins\", \"poblacion\": 991063.0, \"fecha\": \"2020-10-19T00:00:00\", \"casos\": 22336.0}, {\"region\": \"Tarapac\\u00e1\", \"poblacion\": 382773.0, \"fecha\": \"2020-10-19T00:00:00\", \"casos\": 13918.0}, {\"region\": \"Valpara\\u00edso\", \"poblacion\": 1960170.0, \"fecha\": \"2020-10-19T00:00:00\", \"casos\": 41604.0}, {\"region\": \"\\u00d1uble\", \"poblacion\": 511551.0, \"fecha\": \"2020-10-19T00:00:00\", \"casos\": 9270.0}, {\"region\": \"Antofagasta\", \"poblacion\": 691854.0, \"fecha\": \"2020-10-24T00:00:00\", \"casos\": 22153.0}, {\"region\": \"Araucan\\u00eda\", \"poblacion\": 1014343.0, \"fecha\": \"2020-10-24T00:00:00\", \"casos\": 11457.0}, {\"region\": \"Arica y Parinacota\", \"poblacion\": 252110.0, \"fecha\": \"2020-10-24T00:00:00\", \"casos\": 9885.0}, {\"region\": \"Atacama\", \"poblacion\": 314709.0, \"fecha\": \"2020-10-24T00:00:00\", \"casos\": 7804.0}, {\"region\": \"Ays\\u00e9n\", \"poblacion\": 107297.0, \"fecha\": \"2020-10-24T00:00:00\", \"casos\": 1034.0}, {\"region\": \"Biob\\u00edo\", \"poblacion\": 1663696.0, \"fecha\": \"2020-10-24T00:00:00\", \"casos\": 32936.0}, {\"region\": \"Coquimbo\", \"poblacion\": 836096.0, \"fecha\": \"2020-10-24T00:00:00\", \"casos\": 14591.0}, {\"region\": \"Los Lagos\", \"poblacion\": 891440.0, \"fecha\": \"2020-10-24T00:00:00\", \"casos\": 14333.0}, {\"region\": \"Los R\\u00edos\", \"poblacion\": 405835.0, \"fecha\": \"2020-10-24T00:00:00\", \"casos\": 3211.0}, {\"region\": \"Magallanes\", \"poblacion\": 178362.0, \"fecha\": \"2020-10-24T00:00:00\", \"casos\": 12666.0}, {\"region\": \"Maule\", \"poblacion\": 1131939.0, \"fecha\": \"2020-10-24T00:00:00\", \"casos\": 19168.0}, {\"region\": \"Metropolitana\", \"poblacion\": 8125072.0, \"fecha\": \"2020-10-24T00:00:00\", \"casos\": 329489.0}, {\"region\": \"O\\u2019Higgins\", \"poblacion\": 991063.0, \"fecha\": \"2020-10-24T00:00:00\", \"casos\": 22795.0}, {\"region\": \"Tarapac\\u00e1\", \"poblacion\": 382773.0, \"fecha\": \"2020-10-24T00:00:00\", \"casos\": 14164.0}, {\"region\": \"Valpara\\u00edso\", \"poblacion\": 1960170.0, \"fecha\": \"2020-10-24T00:00:00\", \"casos\": 42302.0}, {\"region\": \"\\u00d1uble\", \"poblacion\": 511551.0, \"fecha\": \"2020-10-24T00:00:00\", \"casos\": 9534.0}, {\"region\": \"Antofagasta\", \"poblacion\": 691854.0, \"fecha\": \"2020-10-26T00:00:00\", \"casos\": 22245.0}, {\"region\": \"Araucan\\u00eda\", \"poblacion\": 1014343.0, \"fecha\": \"2020-10-26T00:00:00\", \"casos\": 11839.0}, {\"region\": \"Arica y Parinacota\", \"poblacion\": 252110.0, \"fecha\": \"2020-10-26T00:00:00\", \"casos\": 9971.0}, {\"region\": \"Atacama\", \"poblacion\": 314709.0, \"fecha\": \"2020-10-26T00:00:00\", \"casos\": 7857.0}, {\"region\": \"Ays\\u00e9n\", \"poblacion\": 107297.0, \"fecha\": \"2020-10-26T00:00:00\", \"casos\": 1052.0}, {\"region\": \"Biob\\u00edo\", \"poblacion\": 1663696.0, \"fecha\": \"2020-10-26T00:00:00\", \"casos\": 33385.0}, {\"region\": \"Coquimbo\", \"poblacion\": 836096.0, \"fecha\": \"2020-10-26T00:00:00\", \"casos\": 14626.0}, {\"region\": \"Los Lagos\", \"poblacion\": 891440.0, \"fecha\": \"2020-10-26T00:00:00\", \"casos\": 14774.0}, {\"region\": \"Los R\\u00edos\", \"poblacion\": 405835.0, \"fecha\": \"2020-10-26T00:00:00\", \"casos\": 3337.0}, {\"region\": \"Magallanes\", \"poblacion\": 178362.0, \"fecha\": \"2020-10-26T00:00:00\", \"casos\": 12876.0}, {\"region\": \"Maule\", \"poblacion\": 1131939.0, \"fecha\": \"2020-10-26T00:00:00\", \"casos\": 19364.0}, {\"region\": \"Metropolitana\", \"poblacion\": 8125072.0, \"fecha\": \"2020-10-26T00:00:00\", \"casos\": 330274.0}, {\"region\": \"O\\u2019Higgins\", \"poblacion\": 991063.0, \"fecha\": \"2020-10-26T00:00:00\", \"casos\": 22941.0}, {\"region\": \"Tarapac\\u00e1\", \"poblacion\": 382773.0, \"fecha\": \"2020-10-26T00:00:00\", \"casos\": 14266.0}, {\"region\": \"Valpara\\u00edso\", \"poblacion\": 1960170.0, \"fecha\": \"2020-10-26T00:00:00\", \"casos\": 42507.0}, {\"region\": \"\\u00d1uble\", \"poblacion\": 511551.0, \"fecha\": \"2020-10-26T00:00:00\", \"casos\": 9634.0}, {\"region\": \"Antofagasta\", \"poblacion\": 691854.0, \"fecha\": \"2020-10-30T00:00:00\", \"casos\": 22426.0}, {\"region\": \"Araucan\\u00eda\", \"poblacion\": 1014343.0, \"fecha\": \"2020-10-30T00:00:00\", \"casos\": 12540.0}, {\"region\": \"Arica y Parinacota\", \"poblacion\": 252110.0, \"fecha\": \"2020-10-30T00:00:00\", \"casos\": 10088.0}, {\"region\": \"Atacama\", \"poblacion\": 314709.0, \"fecha\": \"2020-10-30T00:00:00\", \"casos\": 7941.0}, {\"region\": \"Ays\\u00e9n\", \"poblacion\": 107297.0, \"fecha\": \"2020-10-30T00:00:00\", \"casos\": 1105.0}, {\"region\": \"Biob\\u00edo\", \"poblacion\": 1663696.0, \"fecha\": \"2020-10-30T00:00:00\", \"casos\": 34174.0}, {\"region\": \"Coquimbo\", \"poblacion\": 836096.0, \"fecha\": \"2020-10-30T00:00:00\", \"casos\": 14710.0}, {\"region\": \"Los Lagos\", \"poblacion\": 891440.0, \"fecha\": \"2020-10-30T00:00:00\", \"casos\": 15544.0}, {\"region\": \"Los R\\u00edos\", \"poblacion\": 405835.0, \"fecha\": \"2020-10-30T00:00:00\", \"casos\": 3594.0}, {\"region\": \"Magallanes\", \"poblacion\": 178362.0, \"fecha\": \"2020-10-30T00:00:00\", \"casos\": 13177.0}, {\"region\": \"Maule\", \"poblacion\": 1131939.0, \"fecha\": \"2020-10-30T00:00:00\", \"casos\": 19682.0}, {\"region\": \"Metropolitana\", \"poblacion\": 8125072.0, \"fecha\": \"2020-10-30T00:00:00\", \"casos\": 331557.0}, {\"region\": \"O\\u2019Higgins\", \"poblacion\": 991063.0, \"fecha\": \"2020-10-30T00:00:00\", \"casos\": 23177.0}, {\"region\": \"Tarapac\\u00e1\", \"poblacion\": 382773.0, \"fecha\": \"2020-10-30T00:00:00\", \"casos\": 14467.0}, {\"region\": \"Valpara\\u00edso\", \"poblacion\": 1960170.0, \"fecha\": \"2020-10-30T00:00:00\", \"casos\": 42903.0}, {\"region\": \"\\u00d1uble\", \"poblacion\": 511551.0, \"fecha\": \"2020-10-30T00:00:00\", \"casos\": 9815.0}, {\"region\": \"Antofagasta\", \"poblacion\": 691854.0, \"fecha\": \"2020-11-02T00:00:00\", \"casos\": 22542.0}, {\"region\": \"Araucan\\u00eda\", \"poblacion\": 1014343.0, \"fecha\": \"2020-11-02T00:00:00\", \"casos\": 13101.0}, {\"region\": \"Arica y Parinacota\", \"poblacion\": 252110.0, \"fecha\": \"2020-11-02T00:00:00\", \"casos\": 10175.0}, {\"region\": \"Atacama\", \"poblacion\": 314709.0, \"fecha\": \"2020-11-02T00:00:00\", \"casos\": 7985.0}, {\"region\": \"Ays\\u00e9n\", \"poblacion\": 107297.0, \"fecha\": \"2020-11-02T00:00:00\", \"casos\": 1146.0}, {\"region\": \"Biob\\u00edo\", \"poblacion\": 1663696.0, \"fecha\": \"2020-11-02T00:00:00\", \"casos\": 34884.0}, {\"region\": \"Coquimbo\", \"poblacion\": 836096.0, \"fecha\": \"2020-11-02T00:00:00\", \"casos\": 14753.0}, {\"region\": \"Los Lagos\", \"poblacion\": 891440.0, \"fecha\": \"2020-11-02T00:00:00\", \"casos\": 16293.0}, {\"region\": \"Los R\\u00edos\", \"poblacion\": 405835.0, \"fecha\": \"2020-11-02T00:00:00\", \"casos\": 3900.0}, {\"region\": \"Magallanes\", \"poblacion\": 178362.0, \"fecha\": \"2020-11-02T00:00:00\", \"casos\": 13498.0}, {\"region\": \"Maule\", \"poblacion\": 1131939.0, \"fecha\": \"2020-11-02T00:00:00\", \"casos\": 19947.0}, {\"region\": \"Metropolitana\", \"poblacion\": 8125072.0, \"fecha\": \"2020-11-02T00:00:00\", \"casos\": 332731.0}, {\"region\": \"O\\u2019Higgins\", \"poblacion\": 991063.0, \"fecha\": \"2020-11-02T00:00:00\", \"casos\": 23351.0}, {\"region\": \"Tarapac\\u00e1\", \"poblacion\": 382773.0, \"fecha\": \"2020-11-02T00:00:00\", \"casos\": 14608.0}, {\"region\": \"Valpara\\u00edso\", \"poblacion\": 1960170.0, \"fecha\": \"2020-11-02T00:00:00\", \"casos\": 43248.0}, {\"region\": \"\\u00d1uble\", \"poblacion\": 511551.0, \"fecha\": \"2020-11-02T00:00:00\", \"casos\": 9981.0}]}}, {\"mode\": \"vega-lite\"});\n",
       "</script>"
      ],
      "text/plain": [
       "alt.Chart(...)"
      ]
     },
     "execution_count": 6,
     "metadata": {},
     "output_type": "execute_result"
    }
   ],
   "source": [
    "alt.Chart(tot_reg_melt).mark_line().encode(\n",
    "    x = 'fecha:T',\n",
    "    y = 'casos:Q',\n",
    "    color = 'region',\n",
    "    tooltip = ['fecha', 'casos', 'region']\n",
    ").interactive()"
   ]
  },
  {
   "cell_type": "markdown",
   "metadata": {},
   "source": [
    "Un poco de forma esperada Santiago eclipsa al resto de las regiones, para solucionar esto lo que haremos será convertir los datos a una tasa cada 100.000 habitantes (asumiremos que la poblacion no cambia en el tiempo por simplcidad)"
   ]
  },
  {
   "cell_type": "code",
   "execution_count": 7,
   "metadata": {},
   "outputs": [
    {
     "data": {
      "text/html": [
       "<div>\n",
       "<style scoped>\n",
       "    .dataframe tbody tr th:only-of-type {\n",
       "        vertical-align: middle;\n",
       "    }\n",
       "\n",
       "    .dataframe tbody tr th {\n",
       "        vertical-align: top;\n",
       "    }\n",
       "\n",
       "    .dataframe thead th {\n",
       "        text-align: right;\n",
       "    }\n",
       "</style>\n",
       "<table border=\"1\" class=\"dataframe\">\n",
       "  <thead>\n",
       "    <tr style=\"text-align: right;\">\n",
       "      <th></th>\n",
       "      <th>region</th>\n",
       "      <th>poblacion</th>\n",
       "      <th>fecha</th>\n",
       "      <th>casos</th>\n",
       "      <th>tasa_casos</th>\n",
       "    </tr>\n",
       "  </thead>\n",
       "  <tbody>\n",
       "    <tr>\n",
       "      <th>0</th>\n",
       "      <td>Antofagasta</td>\n",
       "      <td>691854.0</td>\n",
       "      <td>2020-03-30</td>\n",
       "      <td>29.0</td>\n",
       "      <td>4.191636</td>\n",
       "    </tr>\n",
       "    <tr>\n",
       "      <th>1</th>\n",
       "      <td>Araucanía</td>\n",
       "      <td>1014343.0</td>\n",
       "      <td>2020-03-30</td>\n",
       "      <td>187.0</td>\n",
       "      <td>18.435578</td>\n",
       "    </tr>\n",
       "    <tr>\n",
       "      <th>2</th>\n",
       "      <td>Arica y Parinacota</td>\n",
       "      <td>252110.0</td>\n",
       "      <td>2020-03-30</td>\n",
       "      <td>6.0</td>\n",
       "      <td>2.379914</td>\n",
       "    </tr>\n",
       "    <tr>\n",
       "      <th>3</th>\n",
       "      <td>Atacama</td>\n",
       "      <td>314709.0</td>\n",
       "      <td>2020-03-30</td>\n",
       "      <td>0.0</td>\n",
       "      <td>0.000000</td>\n",
       "    </tr>\n",
       "    <tr>\n",
       "      <th>4</th>\n",
       "      <td>Aysén</td>\n",
       "      <td>107297.0</td>\n",
       "      <td>2020-03-30</td>\n",
       "      <td>0.0</td>\n",
       "      <td>0.000000</td>\n",
       "    </tr>\n",
       "  </tbody>\n",
       "</table>\n",
       "</div>"
      ],
      "text/plain": [
       "               region  poblacion      fecha  casos  tasa_casos\n",
       "0         Antofagasta   691854.0 2020-03-30   29.0    4.191636\n",
       "1           Araucanía  1014343.0 2020-03-30  187.0   18.435578\n",
       "2  Arica y Parinacota   252110.0 2020-03-30    6.0    2.379914\n",
       "3             Atacama   314709.0 2020-03-30    0.0    0.000000\n",
       "4               Aysén   107297.0 2020-03-30    0.0    0.000000"
      ]
     },
     "execution_count": 7,
     "metadata": {},
     "output_type": "execute_result"
    }
   ],
   "source": [
    "tot_reg_melt['tasa_casos'] = tot_reg_melt.casos/tot_reg_melt.poblacion*100000\n",
    "tot_reg_melt.head()"
   ]
  },
  {
   "cell_type": "code",
   "execution_count": 8,
   "metadata": {},
   "outputs": [
    {
     "data": {
      "text/html": [
       "\n",
       "<div id=\"altair-viz-8d4ed018077a4686886af11932d9bcf0\"></div>\n",
       "<script type=\"text/javascript\">\n",
       "  (function(spec, embedOpt){\n",
       "    let outputDiv = document.currentScript.previousElementSibling;\n",
       "    if (outputDiv.id !== \"altair-viz-8d4ed018077a4686886af11932d9bcf0\") {\n",
       "      outputDiv = document.getElementById(\"altair-viz-8d4ed018077a4686886af11932d9bcf0\");\n",
       "    }\n",
       "    const paths = {\n",
       "      \"vega\": \"https://cdn.jsdelivr.net/npm//vega@5?noext\",\n",
       "      \"vega-lib\": \"https://cdn.jsdelivr.net/npm//vega-lib?noext\",\n",
       "      \"vega-lite\": \"https://cdn.jsdelivr.net/npm//vega-lite@4.8.1?noext\",\n",
       "      \"vega-embed\": \"https://cdn.jsdelivr.net/npm//vega-embed@6?noext\",\n",
       "    };\n",
       "\n",
       "    function loadScript(lib) {\n",
       "      return new Promise(function(resolve, reject) {\n",
       "        var s = document.createElement('script');\n",
       "        s.src = paths[lib];\n",
       "        s.async = true;\n",
       "        s.onload = () => resolve(paths[lib]);\n",
       "        s.onerror = () => reject(`Error loading script: ${paths[lib]}`);\n",
       "        document.getElementsByTagName(\"head\")[0].appendChild(s);\n",
       "      });\n",
       "    }\n",
       "\n",
       "    function showError(err) {\n",
       "      outputDiv.innerHTML = `<div class=\"error\" style=\"color:red;\">${err}</div>`;\n",
       "      throw err;\n",
       "    }\n",
       "\n",
       "    function displayChart(vegaEmbed) {\n",
       "      vegaEmbed(outputDiv, spec, embedOpt)\n",
       "        .catch(err => showError(`Javascript Error: ${err.message}<br>This usually means there's a typo in your chart specification. See the javascript console for the full traceback.`));\n",
       "    }\n",
       "\n",
       "    if(typeof define === \"function\" && define.amd) {\n",
       "      requirejs.config({paths});\n",
       "      require([\"vega-embed\"], displayChart, err => showError(`Error loading script: ${err.message}`));\n",
       "    } else if (typeof vegaEmbed === \"function\") {\n",
       "      displayChart(vegaEmbed);\n",
       "    } else {\n",
       "      loadScript(\"vega\")\n",
       "        .then(() => loadScript(\"vega-lite\"))\n",
       "        .then(() => loadScript(\"vega-embed\"))\n",
       "        .catch(showError)\n",
       "        .then(() => displayChart(vegaEmbed));\n",
       "    }\n",
       "  })({\"config\": {\"view\": {\"continuousWidth\": 400, \"continuousHeight\": 300}}, \"data\": {\"name\": \"data-186e87e65c528c1e86b9ea84286edd31\"}, \"mark\": \"line\", \"encoding\": {\"color\": {\"type\": \"nominal\", \"field\": \"region\"}, \"tooltip\": [{\"type\": \"temporal\", \"field\": \"fecha\"}, {\"type\": \"quantitative\", \"field\": \"tasa_casos\"}, {\"type\": \"nominal\", \"field\": \"region\"}], \"x\": {\"type\": \"temporal\", \"field\": \"fecha\"}, \"y\": {\"type\": \"quantitative\", \"field\": \"tasa_casos\"}}, \"selection\": {\"selector002\": {\"type\": \"interval\", \"bind\": \"scales\", \"encodings\": [\"x\", \"y\"]}}, \"$schema\": \"https://vega.github.io/schema/vega-lite/v4.8.1.json\", \"datasets\": {\"data-186e87e65c528c1e86b9ea84286edd31\": [{\"region\": \"Antofagasta\", \"poblacion\": 691854.0, \"fecha\": \"2020-03-30T00:00:00\", \"casos\": 29.0, \"tasa_casos\": 4.191635807554773}, {\"region\": \"Araucan\\u00eda\", \"poblacion\": 1014343.0, \"fecha\": \"2020-03-30T00:00:00\", \"casos\": 187.0, \"tasa_casos\": 18.435578497608795}, {\"region\": \"Arica y Parinacota\", \"poblacion\": 252110.0, \"fecha\": \"2020-03-30T00:00:00\", \"casos\": 6.0, \"tasa_casos\": 2.379913529808417}, {\"region\": \"Atacama\", \"poblacion\": 314709.0, \"fecha\": \"2020-03-30T00:00:00\", \"casos\": 0.0, \"tasa_casos\": 0.0}, {\"region\": \"Ays\\u00e9n\", \"poblacion\": 107297.0, \"fecha\": \"2020-03-30T00:00:00\", \"casos\": 0.0, \"tasa_casos\": 0.0}, {\"region\": \"Biob\\u00edo\", \"poblacion\": 1663696.0, \"fecha\": \"2020-03-30T00:00:00\", \"casos\": 72.0, \"tasa_casos\": 4.327713716929055}, {\"region\": \"Coquimbo\", \"poblacion\": 836096.0, \"fecha\": \"2020-03-30T00:00:00\", \"casos\": 21.0, \"tasa_casos\": 2.511673300673607}, {\"region\": \"Los Lagos\", \"poblacion\": 891440.0, \"fecha\": \"2020-03-30T00:00:00\", \"casos\": 104.0, \"tasa_casos\": 11.666517095934667}, {\"region\": \"Los R\\u00edos\", \"poblacion\": 405835.0, \"fecha\": \"2020-03-30T00:00:00\", \"casos\": 12.0, \"tasa_casos\": 2.956866706912908}, {\"region\": \"Magallanes\", \"poblacion\": 178362.0, \"fecha\": \"2020-03-30T00:00:00\", \"casos\": 34.0, \"tasa_casos\": 19.06235633150559}, {\"region\": \"Maule\", \"poblacion\": 1131939.0, \"fecha\": \"2020-03-30T00:00:00\", \"casos\": 48.0, \"tasa_casos\": 4.240511193624392}, {\"region\": \"Metropolitana\", \"poblacion\": 8125072.0, \"fecha\": \"2020-03-30T00:00:00\", \"casos\": 1180.0, \"tasa_casos\": 14.522948227412632}, {\"region\": \"O\\u2019Higgins\", \"poblacion\": 991063.0, \"fecha\": \"2020-03-30T00:00:00\", \"casos\": 7.0, \"tasa_casos\": 0.706312313142555}, {\"region\": \"Tarapac\\u00e1\", \"poblacion\": 382773.0, \"fecha\": \"2020-03-30T00:00:00\", \"casos\": 5.0, \"tasa_casos\": 1.30625723339943}, {\"region\": \"Valpara\\u00edso\", \"poblacion\": 1960170.0, \"fecha\": \"2020-03-30T00:00:00\", \"casos\": 81.0, \"tasa_casos\": 4.1322946479131915}, {\"region\": \"\\u00d1uble\", \"poblacion\": 511551.0, \"fecha\": \"2020-03-30T00:00:00\", \"casos\": 151.0, \"tasa_casos\": 29.518073466770662}, {\"region\": \"Antofagasta\", \"poblacion\": 691854.0, \"fecha\": \"2020-04-01T00:00:00\", \"casos\": 32.0, \"tasa_casos\": 4.625253304888026}, {\"region\": \"Araucan\\u00eda\", \"poblacion\": 1014343.0, \"fecha\": \"2020-04-01T00:00:00\", \"casos\": 292.0, \"tasa_casos\": 28.7871065310255}, {\"region\": \"Arica y Parinacota\", \"poblacion\": 252110.0, \"fecha\": \"2020-04-01T00:00:00\", \"casos\": 6.0, \"tasa_casos\": 2.379913529808417}, {\"region\": \"Atacama\", \"poblacion\": 314709.0, \"fecha\": \"2020-04-01T00:00:00\", \"casos\": 0.0, \"tasa_casos\": 0.0}, {\"region\": \"Ays\\u00e9n\", \"poblacion\": 107297.0, \"fecha\": \"2020-04-01T00:00:00\", \"casos\": 0.0, \"tasa_casos\": 0.0}, {\"region\": \"Biob\\u00edo\", \"poblacion\": 1663696.0, \"fecha\": \"2020-04-01T00:00:00\", \"casos\": 224.0, \"tasa_casos\": 13.463998230445947}, {\"region\": \"Coquimbo\", \"poblacion\": 836096.0, \"fecha\": \"2020-04-01T00:00:00\", \"casos\": 23.0, \"tasa_casos\": 2.750880281690141}, {\"region\": \"Los Lagos\", \"poblacion\": 891440.0, \"fecha\": \"2020-04-01T00:00:00\", \"casos\": 169.0, \"tasa_casos\": 18.958090280893835}, {\"region\": \"Los R\\u00edos\", \"poblacion\": 405835.0, \"fecha\": \"2020-04-01T00:00:00\", \"casos\": 54.0, \"tasa_casos\": 13.305900181108086}, {\"region\": \"Magallanes\", \"poblacion\": 178362.0, \"fecha\": \"2020-04-01T00:00:00\", \"casos\": 97.0, \"tasa_casos\": 54.38378129870713}, {\"region\": \"Maule\", \"poblacion\": 1131939.0, \"fecha\": \"2020-04-01T00:00:00\", \"casos\": 55.0, \"tasa_casos\": 4.858919076027949}, {\"region\": \"Metropolitana\", \"poblacion\": 8125072.0, \"fecha\": \"2020-04-01T00:00:00\", \"casos\": 1483.0, \"tasa_casos\": 18.25214595021435}, {\"region\": \"O\\u2019Higgins\", \"poblacion\": 991063.0, \"fecha\": \"2020-04-01T00:00:00\", \"casos\": 17.0, \"tasa_casos\": 1.715329903346205}, {\"region\": \"Tarapac\\u00e1\", \"poblacion\": 382773.0, \"fecha\": \"2020-04-01T00:00:00\", \"casos\": 9.0, \"tasa_casos\": 2.351263020118974}, {\"region\": \"Valpara\\u00edso\", \"poblacion\": 1960170.0, \"fecha\": \"2020-04-01T00:00:00\", \"casos\": 111.0, \"tasa_casos\": 5.662774147140299}, {\"region\": \"\\u00d1uble\", \"poblacion\": 511551.0, \"fecha\": \"2020-04-01T00:00:00\", \"casos\": 245.0, \"tasa_casos\": 47.89356290966101}, {\"region\": \"Antofagasta\", \"poblacion\": 691854.0, \"fecha\": \"2020-04-03T00:00:00\", \"casos\": 49.0, \"tasa_casos\": 7.082419123109789}, {\"region\": \"Araucan\\u00eda\", \"poblacion\": 1014343.0, \"fecha\": \"2020-04-03T00:00:00\", \"casos\": 414.0, \"tasa_casos\": 40.814596246043}, {\"region\": \"Arica y Parinacota\", \"poblacion\": 252110.0, \"fecha\": \"2020-04-03T00:00:00\", \"casos\": 12.0, \"tasa_casos\": 4.759827059616834}, {\"region\": \"Atacama\", \"poblacion\": 314709.0, \"fecha\": \"2020-04-03T00:00:00\", \"casos\": 4.0, \"tasa_casos\": 1.2710154460152077}, {\"region\": \"Ays\\u00e9n\", \"poblacion\": 107297.0, \"fecha\": \"2020-04-03T00:00:00\", \"casos\": 4.0, \"tasa_casos\": 3.727970027120982}, {\"region\": \"Biob\\u00edo\", \"poblacion\": 1663696.0, \"fecha\": \"2020-04-03T00:00:00\", \"casos\": 263.0, \"tasa_casos\": 15.808176493782518}, {\"region\": \"Coquimbo\", \"poblacion\": 836096.0, \"fecha\": \"2020-04-03T00:00:00\", \"casos\": 31.0, \"tasa_casos\": 3.7077082057562767}, {\"region\": \"Los Lagos\", \"poblacion\": 891440.0, \"fecha\": \"2020-04-03T00:00:00\", \"casos\": 198.0, \"tasa_casos\": 22.211253701875616}, {\"region\": \"Los R\\u00edos\", \"poblacion\": 405835.0, \"fecha\": \"2020-04-03T00:00:00\", \"casos\": 57.0, \"tasa_casos\": 14.045116857836312}, {\"region\": \"Magallanes\", \"poblacion\": 178362.0, \"fecha\": \"2020-04-03T00:00:00\", \"casos\": 154.0, \"tasa_casos\": 86.34126103093708}, {\"region\": \"Maule\", \"poblacion\": 1131939.0, \"fecha\": \"2020-04-03T00:00:00\", \"casos\": 67.0, \"tasa_casos\": 5.919046874434046}, {\"region\": \"Metropolitana\", \"poblacion\": 8125072.0, \"fecha\": \"2020-04-03T00:00:00\", \"casos\": 1729.0, \"tasa_casos\": 21.279811428132575}, {\"region\": \"O\\u2019Higgins\", \"poblacion\": 991063.0, \"fecha\": \"2020-04-03T00:00:00\", \"casos\": 24.0, \"tasa_casos\": 2.42164221648876}, {\"region\": \"Tarapac\\u00e1\", \"poblacion\": 382773.0, \"fecha\": \"2020-04-03T00:00:00\", \"casos\": 10.0, \"tasa_casos\": 2.61251446679886}, {\"region\": \"Valpara\\u00edso\", \"poblacion\": 1960170.0, \"fecha\": \"2020-04-03T00:00:00\", \"casos\": 142.0, \"tasa_casos\": 7.244269629674977}, {\"region\": \"\\u00d1uble\", \"poblacion\": 511551.0, \"fecha\": \"2020-04-03T00:00:00\", \"casos\": 357.0, \"tasa_casos\": 69.78776309693461}, {\"region\": \"Antofagasta\", \"poblacion\": 691854.0, \"fecha\": \"2020-04-06T00:00:00\", \"casos\": 65.0, \"tasa_casos\": 9.395045775553802}, {\"region\": \"Araucan\\u00eda\", \"poblacion\": 1014343.0, \"fecha\": \"2020-04-06T00:00:00\", \"casos\": 541.0, \"tasa_casos\": 53.33501586741369}, {\"region\": \"Arica y Parinacota\", \"poblacion\": 252110.0, \"fecha\": \"2020-04-06T00:00:00\", \"casos\": 41.0, \"tasa_casos\": 16.262742453690848}, {\"region\": \"Atacama\", \"poblacion\": 314709.0, \"fecha\": \"2020-04-06T00:00:00\", \"casos\": 4.0, \"tasa_casos\": 1.2710154460152077}, {\"region\": \"Ays\\u00e9n\", \"poblacion\": 107297.0, \"fecha\": \"2020-04-06T00:00:00\", \"casos\": 5.0, \"tasa_casos\": 4.659962533901227}, {\"region\": \"Biob\\u00edo\", \"poblacion\": 1663696.0, \"fecha\": \"2020-04-06T00:00:00\", \"casos\": 360.0, \"tasa_casos\": 21.63856858464527}, {\"region\": \"Coquimbo\", \"poblacion\": 836096.0, \"fecha\": \"2020-04-06T00:00:00\", \"casos\": 49.0, \"tasa_casos\": 5.860571034905083}, {\"region\": \"Los Lagos\", \"poblacion\": 891440.0, \"fecha\": \"2020-04-06T00:00:00\", \"casos\": 250.0, \"tasa_casos\": 28.044512249842953}, {\"region\": \"Los R\\u00edos\", \"poblacion\": 405835.0, \"fecha\": \"2020-04-06T00:00:00\", \"casos\": 98.0, \"tasa_casos\": 24.14774477312208}, {\"region\": \"Magallanes\", \"poblacion\": 178362.0, \"fecha\": \"2020-04-06T00:00:00\", \"casos\": 218.0, \"tasa_casos\": 122.22334353730055}, {\"region\": \"Maule\", \"poblacion\": 1131939.0, \"fecha\": \"2020-04-06T00:00:00\", \"casos\": 88.0, \"tasa_casos\": 7.774270521644717}, {\"region\": \"Metropolitana\", \"poblacion\": 8125072.0, \"fecha\": \"2020-04-06T00:00:00\", \"casos\": 2193.0, \"tasa_casos\": 26.990530053149065}, {\"region\": \"O\\u2019Higgins\", \"poblacion\": 991063.0, \"fecha\": \"2020-04-06T00:00:00\", \"casos\": 31.0, \"tasa_casos\": 3.127954529631315}, {\"region\": \"Tarapac\\u00e1\", \"poblacion\": 382773.0, \"fecha\": \"2020-04-06T00:00:00\", \"casos\": 18.0, \"tasa_casos\": 4.702526040237948}, {\"region\": \"Valpara\\u00edso\", \"poblacion\": 1960170.0, \"fecha\": \"2020-04-06T00:00:00\", \"casos\": 162.0, \"tasa_casos\": 8.264589295826383}, {\"region\": \"\\u00d1uble\", \"poblacion\": 511551.0, \"fecha\": \"2020-04-06T00:00:00\", \"casos\": 463.0, \"tasa_casos\": 90.50905970274714}, {\"region\": \"Antofagasta\", \"poblacion\": 691854.0, \"fecha\": \"2020-04-08T00:00:00\", \"casos\": 72.0, \"tasa_casos\": 10.406819935998056}, {\"region\": \"Araucan\\u00eda\", \"poblacion\": 1014343.0, \"fecha\": \"2020-04-08T00:00:00\", \"casos\": 628.0, \"tasa_casos\": 61.91199623795895}, {\"region\": \"Arica y Parinacota\", \"poblacion\": 252110.0, \"fecha\": \"2020-04-08T00:00:00\", \"casos\": 63.0, \"tasa_casos\": 24.98909206298838}, {\"region\": \"Atacama\", \"poblacion\": 314709.0, \"fecha\": \"2020-04-08T00:00:00\", \"casos\": 5.0, \"tasa_casos\": 1.5887693075190097}, {\"region\": \"Ays\\u00e9n\", \"poblacion\": 107297.0, \"fecha\": \"2020-04-08T00:00:00\", \"casos\": 4.0, \"tasa_casos\": 3.727970027120982}, {\"region\": \"Biob\\u00edo\", \"poblacion\": 1663696.0, \"fecha\": \"2020-04-08T00:00:00\", \"casos\": 409.0, \"tasa_casos\": 24.583818197555324}, {\"region\": \"Coquimbo\", \"poblacion\": 836096.0, \"fecha\": \"2020-04-08T00:00:00\", \"casos\": 54.0, \"tasa_casos\": 6.458588487446418}, {\"region\": \"Los Lagos\", \"poblacion\": 891440.0, \"fecha\": \"2020-04-08T00:00:00\", \"casos\": 283.0, \"tasa_casos\": 31.74638786682222}, {\"region\": \"Los R\\u00edos\", \"poblacion\": 405835.0, \"fecha\": \"2020-04-08T00:00:00\", \"casos\": 108.0, \"tasa_casos\": 26.611800362216172}, {\"region\": \"Magallanes\", \"poblacion\": 178362.0, \"fecha\": \"2020-04-08T00:00:00\", \"casos\": 223.0, \"tasa_casos\": 125.02663123311018}, {\"region\": \"Maule\", \"poblacion\": 1131939.0, \"fecha\": \"2020-04-08T00:00:00\", \"casos\": 101.0, \"tasa_casos\": 8.922742303251324}, {\"region\": \"Metropolitana\", \"poblacion\": 8125072.0, \"fecha\": \"2020-04-08T00:00:00\", \"casos\": 2542.0, \"tasa_casos\": 31.285876605155007}, {\"region\": \"O\\u2019Higgins\", \"poblacion\": 991063.0, \"fecha\": \"2020-04-08T00:00:00\", \"casos\": 31.0, \"tasa_casos\": 3.127954529631315}, {\"region\": \"Tarapac\\u00e1\", \"poblacion\": 382773.0, \"fecha\": \"2020-04-08T00:00:00\", \"casos\": 22.0, \"tasa_casos\": 5.747531826957491}, {\"region\": \"Valpara\\u00edso\", \"poblacion\": 1960170.0, \"fecha\": \"2020-04-08T00:00:00\", \"casos\": 199.0, \"tasa_casos\": 10.152180678206483}, {\"region\": \"\\u00d1uble\", \"poblacion\": 511551.0, \"fecha\": \"2020-04-08T00:00:00\", \"casos\": 550.0, \"tasa_casos\": 107.51616163393288}, {\"region\": \"Antofagasta\", \"poblacion\": 691854.0, \"fecha\": \"2020-04-10T00:00:00\", \"casos\": 105.0, \"tasa_casos\": 15.176612406663835}, {\"region\": \"Araucan\\u00eda\", \"poblacion\": 1014343.0, \"fecha\": \"2020-04-10T00:00:00\", \"casos\": 680.0, \"tasa_casos\": 67.03846726403198}, {\"region\": \"Arica y Parinacota\", \"poblacion\": 252110.0, \"fecha\": \"2020-04-10T00:00:00\", \"casos\": 87.0, \"tasa_casos\": 34.50874618222204}, {\"region\": \"Atacama\", \"poblacion\": 314709.0, \"fecha\": \"2020-04-10T00:00:00\", \"casos\": 12.0, \"tasa_casos\": 3.813046338045623}, {\"region\": \"Ays\\u00e9n\", \"poblacion\": 107297.0, \"fecha\": \"2020-04-10T00:00:00\", \"casos\": 4.0, \"tasa_casos\": 3.727970027120982}, {\"region\": \"Biob\\u00edo\", \"poblacion\": 1663696.0, \"fecha\": \"2020-04-10T00:00:00\", \"casos\": 439.0, \"tasa_casos\": 26.38703224627576}, {\"region\": \"Coquimbo\", \"poblacion\": 836096.0, \"fecha\": \"2020-04-10T00:00:00\", \"casos\": 59.0, \"tasa_casos\": 7.056605939987753}, {\"region\": \"Los Lagos\", \"poblacion\": 891440.0, \"fecha\": \"2020-04-10T00:00:00\", \"casos\": 304.0, \"tasa_casos\": 34.10212689580903}, {\"region\": \"Los R\\u00edos\", \"poblacion\": 405835.0, \"fecha\": \"2020-04-10T00:00:00\", \"casos\": 118.0, \"tasa_casos\": 29.075855951310263}, {\"region\": \"Magallanes\", \"poblacion\": 178362.0, \"fecha\": \"2020-04-10T00:00:00\", \"casos\": 318.0, \"tasa_casos\": 178.28909745349347}, {\"region\": \"Maule\", \"poblacion\": 1131939.0, \"fecha\": \"2020-04-10T00:00:00\", \"casos\": 108.0, \"tasa_casos\": 9.54115018565488}, {\"region\": \"Metropolitana\", \"poblacion\": 8125072.0, \"fecha\": \"2020-04-10T00:00:00\", \"casos\": 3180.0, \"tasa_casos\": 39.138114714552685}, {\"region\": \"O\\u2019Higgins\", \"poblacion\": 991063.0, \"fecha\": \"2020-04-10T00:00:00\", \"casos\": 31.0, \"tasa_casos\": 3.127954529631315}, {\"region\": \"Tarapac\\u00e1\", \"poblacion\": 382773.0, \"fecha\": \"2020-04-10T00:00:00\", \"casos\": 33.0, \"tasa_casos\": 8.621297740436239}, {\"region\": \"Valpara\\u00edso\", \"poblacion\": 1960170.0, \"fecha\": \"2020-04-10T00:00:00\", \"casos\": 220.0, \"tasa_casos\": 11.223516327665457}, {\"region\": \"\\u00d1uble\", \"poblacion\": 511551.0, \"fecha\": \"2020-04-10T00:00:00\", \"casos\": 578.0, \"tasa_casos\": 112.98971168075128}, {\"region\": \"Antofagasta\", \"poblacion\": 691854.0, \"fecha\": \"2020-04-13T00:00:00\", \"casos\": 149.0, \"tasa_casos\": 21.53633570088487}, {\"region\": \"Araucan\\u00eda\", \"poblacion\": 1014343.0, \"fecha\": \"2020-04-13T00:00:00\", \"casos\": 758.0, \"tasa_casos\": 74.72817380314154}, {\"region\": \"Arica y Parinacota\", \"poblacion\": 252110.0, \"fecha\": \"2020-04-13T00:00:00\", \"casos\": 115.0, \"tasa_casos\": 45.615009321327996}, {\"region\": \"Atacama\", \"poblacion\": 314709.0, \"fecha\": \"2020-04-13T00:00:00\", \"casos\": 13.0, \"tasa_casos\": 4.130800199549425}, {\"region\": \"Ays\\u00e9n\", \"poblacion\": 107297.0, \"fecha\": \"2020-04-13T00:00:00\", \"casos\": 7.0, \"tasa_casos\": 6.523947547461719}, {\"region\": \"Biob\\u00edo\", \"poblacion\": 1663696.0, \"fecha\": \"2020-04-13T00:00:00\", \"casos\": 507.0, \"tasa_casos\": 30.47431742337542}, {\"region\": \"Coquimbo\", \"poblacion\": 836096.0, \"fecha\": \"2020-04-13T00:00:00\", \"casos\": 66.0, \"tasa_casos\": 7.8938303735456214}, {\"region\": \"Los Lagos\", \"poblacion\": 891440.0, \"fecha\": \"2020-04-13T00:00:00\", \"casos\": 380.0, \"tasa_casos\": 42.627658619761284}, {\"region\": \"Los R\\u00edos\", \"poblacion\": 405835.0, \"fecha\": \"2020-04-13T00:00:00\", \"casos\": 137.0, \"tasa_casos\": 33.75756157058903}, {\"region\": \"Magallanes\", \"poblacion\": 178362.0, \"fecha\": \"2020-04-13T00:00:00\", \"casos\": 415.0, \"tasa_casos\": 232.67287875220057}, {\"region\": \"Maule\", \"poblacion\": 1131939.0, \"fecha\": \"2020-04-13T00:00:00\", \"casos\": 141.0, \"tasa_casos\": 12.45650163127165}, {\"region\": \"Metropolitana\", \"poblacion\": 8125072.0, \"fecha\": \"2020-04-13T00:00:00\", \"casos\": 3802.0, \"tasa_casos\": 46.79343149205324}, {\"region\": \"O\\u2019Higgins\", \"poblacion\": 991063.0, \"fecha\": \"2020-04-13T00:00:00\", \"casos\": 48.0, \"tasa_casos\": 4.84328443297752}, {\"region\": \"Tarapac\\u00e1\", \"poblacion\": 382773.0, \"fecha\": \"2020-04-13T00:00:00\", \"casos\": 52.0, \"tasa_casos\": 13.585075227354071}, {\"region\": \"Valpara\\u00edso\", \"poblacion\": 1960170.0, \"fecha\": \"2020-04-13T00:00:00\", \"casos\": 273.0, \"tasa_casos\": 13.927363442966682}, {\"region\": \"\\u00d1uble\", \"poblacion\": 511551.0, \"fecha\": \"2020-04-13T00:00:00\", \"casos\": 618.0, \"tasa_casos\": 120.80906889049186}, {\"region\": \"Antofagasta\", \"poblacion\": 691854.0, \"fecha\": \"2020-04-15T00:00:00\", \"casos\": 176.0, \"tasa_casos\": 25.438893176884143}, {\"region\": \"Araucan\\u00eda\", \"poblacion\": 1014343.0, \"fecha\": \"2020-04-15T00:00:00\", \"casos\": 823.0, \"tasa_casos\": 81.13626258573284}, {\"region\": \"Arica y Parinacota\", \"poblacion\": 252110.0, \"fecha\": \"2020-04-15T00:00:00\", \"casos\": 124.0, \"tasa_casos\": 49.18487961604062}, {\"region\": \"Atacama\", \"poblacion\": 314709.0, \"fecha\": \"2020-04-15T00:00:00\", \"casos\": 13.0, \"tasa_casos\": 4.130800199549425}, {\"region\": \"Ays\\u00e9n\", \"poblacion\": 107297.0, \"fecha\": \"2020-04-15T00:00:00\", \"casos\": 7.0, \"tasa_casos\": 6.523947547461719}, {\"region\": \"Biob\\u00edo\", \"poblacion\": 1663696.0, \"fecha\": \"2020-04-15T00:00:00\", \"casos\": 542.0, \"tasa_casos\": 32.5780671468826}, {\"region\": \"Coquimbo\", \"poblacion\": 836096.0, \"fecha\": \"2020-04-15T00:00:00\", \"casos\": 66.0, \"tasa_casos\": 7.8938303735456214}, {\"region\": \"Los Lagos\", \"poblacion\": 891440.0, \"fecha\": \"2020-04-15T00:00:00\", \"casos\": 390.0, \"tasa_casos\": 43.749439109755}, {\"region\": \"Los R\\u00edos\", \"poblacion\": 405835.0, \"fecha\": \"2020-04-15T00:00:00\", \"casos\": 150.0, \"tasa_casos\": 36.96083383641135}, {\"region\": \"Magallanes\", \"poblacion\": 178362.0, \"fecha\": \"2020-04-15T00:00:00\", \"casos\": 444.0, \"tasa_casos\": 248.93194738789654}, {\"region\": \"Maule\", \"poblacion\": 1131939.0, \"fecha\": \"2020-04-15T00:00:00\", \"casos\": 152.0, \"tasa_casos\": 13.42828544647724}, {\"region\": \"Metropolitana\", \"poblacion\": 8125072.0, \"fecha\": \"2020-04-15T00:00:00\", \"casos\": 4228.0, \"tasa_casos\": 52.03646195381407}, {\"region\": \"O\\u2019Higgins\", \"poblacion\": 991063.0, \"fecha\": \"2020-04-15T00:00:00\", \"casos\": 54.0, \"tasa_casos\": 5.44869498709971}, {\"region\": \"Tarapac\\u00e1\", \"poblacion\": 382773.0, \"fecha\": \"2020-04-15T00:00:00\", \"casos\": 62.0, \"tasa_casos\": 16.19758969415293}, {\"region\": \"Valpara\\u00edso\", \"poblacion\": 1960170.0, \"fecha\": \"2020-04-15T00:00:00\", \"casos\": 299.0, \"tasa_casos\": 15.253779008963509}, {\"region\": \"\\u00d1uble\", \"poblacion\": 511551.0, \"fecha\": \"2020-04-15T00:00:00\", \"casos\": 634.0, \"tasa_casos\": 123.93681177438809}, {\"region\": \"Antofagasta\", \"poblacion\": 691854.0, \"fecha\": \"2020-04-17T00:00:00\", \"casos\": 211.0, \"tasa_casos\": 30.497763979105418}, {\"region\": \"Araucan\\u00eda\", \"poblacion\": 1014343.0, \"fecha\": \"2020-04-17T00:00:00\", \"casos\": 884.0, \"tasa_casos\": 87.15000744324158}, {\"region\": \"Arica y Parinacota\", \"poblacion\": 252110.0, \"fecha\": \"2020-04-17T00:00:00\", \"casos\": 134.0, \"tasa_casos\": 53.15140216572131}, {\"region\": \"Atacama\", \"poblacion\": 314709.0, \"fecha\": \"2020-04-17T00:00:00\", \"casos\": 13.0, \"tasa_casos\": 4.130800199549425}, {\"region\": \"Ays\\u00e9n\", \"poblacion\": 107297.0, \"fecha\": \"2020-04-17T00:00:00\", \"casos\": 7.0, \"tasa_casos\": 6.523947547461719}, {\"region\": \"Biob\\u00edo\", \"poblacion\": 1663696.0, \"fecha\": \"2020-04-17T00:00:00\", \"casos\": 573.0, \"tasa_casos\": 34.44138833056039}, {\"region\": \"Coquimbo\", \"poblacion\": 836096.0, \"fecha\": \"2020-04-17T00:00:00\", \"casos\": 68.0, \"tasa_casos\": 8.133037354562155}, {\"region\": \"Los Lagos\", \"poblacion\": 891440.0, \"fecha\": \"2020-04-17T00:00:00\", \"casos\": 412.0, \"tasa_casos\": 46.21735618774118}, {\"region\": \"Los R\\u00edos\", \"poblacion\": 405835.0, \"fecha\": \"2020-04-17T00:00:00\", \"casos\": 154.0, \"tasa_casos\": 37.94645607204899}, {\"region\": \"Magallanes\", \"poblacion\": 178362.0, \"fecha\": \"2020-04-17T00:00:00\", \"casos\": 501.0, \"tasa_casos\": 280.88942712012647}, {\"region\": \"Maule\", \"poblacion\": 1131939.0, \"fecha\": \"2020-04-17T00:00:00\", \"casos\": 223.0, \"tasa_casos\": 19.70070825371332}, {\"region\": \"Metropolitana\", \"poblacion\": 8125072.0, \"fecha\": \"2020-04-17T00:00:00\", \"casos\": 4915.0, \"tasa_casos\": 60.49177164214668}, {\"region\": \"O\\u2019Higgins\", \"poblacion\": 991063.0, \"fecha\": \"2020-04-17T00:00:00\", \"casos\": 55.0, \"tasa_casos\": 5.549596746120075}, {\"region\": \"Tarapac\\u00e1\", \"poblacion\": 382773.0, \"fecha\": \"2020-04-17T00:00:00\", \"casos\": 73.0, \"tasa_casos\": 19.071355607631677}, {\"region\": \"Valpara\\u00edso\", \"poblacion\": 1960170.0, \"fecha\": \"2020-04-17T00:00:00\", \"casos\": 345.0, \"tasa_casos\": 17.60051424111174}, {\"region\": \"\\u00d1uble\", \"poblacion\": 511551.0, \"fecha\": \"2020-04-17T00:00:00\", \"casos\": 656.0, \"tasa_casos\": 128.2374582397454}, {\"region\": \"Antofagasta\", \"poblacion\": 691854.0, \"fecha\": \"2020-04-20T00:00:00\", \"casos\": 264.0, \"tasa_casos\": 38.15833976532621}, {\"region\": \"Araucan\\u00eda\", \"poblacion\": 1014343.0, \"fecha\": \"2020-04-20T00:00:00\", \"casos\": 1021.0, \"tasa_casos\": 100.6562868773186}, {\"region\": \"Arica y Parinacota\", \"poblacion\": 252110.0, \"fecha\": \"2020-04-20T00:00:00\", \"casos\": 166.0, \"tasa_casos\": 65.84427432469954}, {\"region\": \"Atacama\", \"poblacion\": 314709.0, \"fecha\": \"2020-04-20T00:00:00\", \"casos\": 14.0, \"tasa_casos\": 4.448554061053227}, {\"region\": \"Ays\\u00e9n\", \"poblacion\": 107297.0, \"fecha\": \"2020-04-20T00:00:00\", \"casos\": 5.0, \"tasa_casos\": 4.659962533901227}, {\"region\": \"Biob\\u00edo\", \"poblacion\": 1663696.0, \"fecha\": \"2020-04-20T00:00:00\", \"casos\": 627.0, \"tasa_casos\": 37.687173618257184}, {\"region\": \"Coquimbo\", \"poblacion\": 836096.0, \"fecha\": \"2020-04-20T00:00:00\", \"casos\": 75.0, \"tasa_casos\": 8.970261788120023}, {\"region\": \"Los Lagos\", \"poblacion\": 891440.0, \"fecha\": \"2020-04-20T00:00:00\", \"casos\": 431.0, \"tasa_casos\": 48.34873911872925}, {\"region\": \"Los R\\u00edos\", \"poblacion\": 405835.0, \"fecha\": \"2020-04-20T00:00:00\", \"casos\": 156.0, \"tasa_casos\": 38.439267189867806}, {\"region\": \"Magallanes\", \"poblacion\": 178362.0, \"fecha\": \"2020-04-20T00:00:00\", \"casos\": 548.0, \"tasa_casos\": 307.24033146073714}, {\"region\": \"Maule\", \"poblacion\": 1131939.0, \"fecha\": \"2020-04-20T00:00:00\", \"casos\": 310.0, \"tasa_casos\": 27.38663479215753}, {\"region\": \"Metropolitana\", \"poblacion\": 8125072.0, \"fecha\": \"2020-04-20T00:00:00\", \"casos\": 5597.0, \"tasa_casos\": 68.88554341426143}, {\"region\": \"O\\u2019Higgins\", \"poblacion\": 991063.0, \"fecha\": \"2020-04-20T00:00:00\", \"casos\": 60.0, \"tasa_casos\": 6.0541055412219}, {\"region\": \"Tarapac\\u00e1\", \"poblacion\": 382773.0, \"fecha\": \"2020-04-20T00:00:00\", \"casos\": 93.0, \"tasa_casos\": 24.296384541229397}, {\"region\": \"Valpara\\u00edso\", \"poblacion\": 1960170.0, \"fecha\": \"2020-04-20T00:00:00\", \"casos\": 390.0, \"tasa_casos\": 19.896233489952404}, {\"region\": \"\\u00d1uble\", \"poblacion\": 511551.0, \"fecha\": \"2020-04-20T00:00:00\", \"casos\": 689.0, \"tasa_casos\": 134.68842793778137}, {\"region\": \"Antofagasta\", \"poblacion\": 691854.0, \"fecha\": \"2020-04-24T00:00:00\", \"casos\": 368.0, \"tasa_casos\": 53.19041300621229}, {\"region\": \"Araucan\\u00eda\", \"poblacion\": 1014343.0, \"fecha\": \"2020-04-24T00:00:00\", \"casos\": 1144.0, \"tasa_casos\": 112.78236257360676}, {\"region\": \"Arica y Parinacota\", \"poblacion\": 252110.0, \"fecha\": \"2020-04-24T00:00:00\", \"casos\": 224.0, \"tasa_casos\": 88.85010511284757}, {\"region\": \"Atacama\", \"poblacion\": 314709.0, \"fecha\": \"2020-04-24T00:00:00\", \"casos\": 21.0, \"tasa_casos\": 6.67283109157984}, {\"region\": \"Ays\\u00e9n\", \"poblacion\": 107297.0, \"fecha\": \"2020-04-24T00:00:00\", \"casos\": 5.0, \"tasa_casos\": 4.659962533901227}, {\"region\": \"Biob\\u00edo\", \"poblacion\": 1663696.0, \"fecha\": \"2020-04-24T00:00:00\", \"casos\": 688.0, \"tasa_casos\": 41.35370885065541}, {\"region\": \"Coquimbo\", \"poblacion\": 836096.0, \"fecha\": \"2020-04-24T00:00:00\", \"casos\": 79.0, \"tasa_casos\": 9.448675750153091}, {\"region\": \"Los Lagos\", \"poblacion\": 891440.0, \"fecha\": \"2020-04-24T00:00:00\", \"casos\": 453.0, \"tasa_casos\": 50.81665619671542}, {\"region\": \"Los R\\u00edos\", \"poblacion\": 405835.0, \"fecha\": \"2020-04-24T00:00:00\", \"casos\": 168.0, \"tasa_casos\": 41.39613389678071}, {\"region\": \"Magallanes\", \"poblacion\": 178362.0, \"fecha\": \"2020-04-24T00:00:00\", \"casos\": 614.0, \"tasa_casos\": 344.24372904542446}, {\"region\": \"Maule\", \"poblacion\": 1131939.0, \"fecha\": \"2020-04-24T00:00:00\", \"casos\": 359.0, \"tasa_casos\": 31.715489968982425}, {\"region\": \"Metropolitana\", \"poblacion\": 8125072.0, \"fecha\": \"2020-04-24T00:00:00\", \"casos\": 6700.0, \"tasa_casos\": 82.46080773191918}, {\"region\": \"O\\u2019Higgins\", \"poblacion\": 991063.0, \"fecha\": \"2020-04-24T00:00:00\", \"casos\": 81.0, \"tasa_casos\": 8.173042480649565}, {\"region\": \"Tarapac\\u00e1\", \"poblacion\": 382773.0, \"fecha\": \"2020-04-24T00:00:00\", \"casos\": 130.0, \"tasa_casos\": 33.96268806838518}, {\"region\": \"Valpara\\u00edso\", \"poblacion\": 1960170.0, \"fecha\": \"2020-04-24T00:00:00\", \"casos\": 455.0, \"tasa_casos\": 23.212272404944468}, {\"region\": \"\\u00d1uble\", \"poblacion\": 511551.0, \"fecha\": \"2020-04-24T00:00:00\", \"casos\": 721.0, \"tasa_casos\": 140.94391370557383}, {\"region\": \"Antofagasta\", \"poblacion\": 691854.0, \"fecha\": \"2020-04-27T00:00:00\", \"casos\": 457.0, \"tasa_casos\": 66.05439876043211}, {\"region\": \"Araucan\\u00eda\", \"poblacion\": 1014343.0, \"fecha\": \"2020-04-27T00:00:00\", \"casos\": 1201.0, \"tasa_casos\": 118.40176350603298}, {\"region\": \"Arica y Parinacota\", \"poblacion\": 252110.0, \"fecha\": \"2020-04-27T00:00:00\", \"casos\": 270.0, \"tasa_casos\": 107.09610884137876}, {\"region\": \"Atacama\", \"poblacion\": 314709.0, \"fecha\": \"2020-04-27T00:00:00\", \"casos\": 29.0, \"tasa_casos\": 9.214861983610255}, {\"region\": \"Ays\\u00e9n\", \"poblacion\": 107297.0, \"fecha\": \"2020-04-27T00:00:00\", \"casos\": 5.0, \"tasa_casos\": 4.659962533901227}, {\"region\": \"Biob\\u00edo\", \"poblacion\": 1663696.0, \"fecha\": \"2020-04-27T00:00:00\", \"casos\": 703.0, \"tasa_casos\": 42.25531587501563}, {\"region\": \"Coquimbo\", \"poblacion\": 836096.0, \"fecha\": \"2020-04-27T00:00:00\", \"casos\": 82.0, \"tasa_casos\": 9.807486221677895}, {\"region\": \"Los Lagos\", \"poblacion\": 891440.0, \"fecha\": \"2020-04-27T00:00:00\", \"casos\": 462.0, \"tasa_casos\": 51.82625863770977}, {\"region\": \"Los R\\u00edos\", \"poblacion\": 405835.0, \"fecha\": \"2020-04-27T00:00:00\", \"casos\": 173.0, \"tasa_casos\": 42.628161691327755}, {\"region\": \"Magallanes\", \"poblacion\": 178362.0, \"fecha\": \"2020-04-27T00:00:00\", \"casos\": 659.0, \"tasa_casos\": 369.4733183077113}, {\"region\": \"Maule\", \"poblacion\": 1131939.0, \"fecha\": \"2020-04-27T00:00:00\", \"casos\": 375.0, \"tasa_casos\": 33.128993700190556}, {\"region\": \"Metropolitana\", \"poblacion\": 8125072.0, \"fecha\": \"2020-04-27T00:00:00\", \"casos\": 7821.0, \"tasa_casos\": 96.25760854796117}, {\"region\": \"O\\u2019Higgins\", \"poblacion\": 991063.0, \"fecha\": \"2020-04-27T00:00:00\", \"casos\": 92.0, \"tasa_casos\": 9.28296182987358}, {\"region\": \"Tarapac\\u00e1\", \"poblacion\": 382773.0, \"fecha\": \"2020-04-27T00:00:00\", \"casos\": 163.0, \"tasa_casos\": 42.58398580882142}, {\"region\": \"Valpara\\u00edso\", \"poblacion\": 1960170.0, \"fecha\": \"2020-04-27T00:00:00\", \"casos\": 481.0, \"tasa_casos\": 24.538687970941297}, {\"region\": \"\\u00d1uble\", \"poblacion\": 511551.0, \"fecha\": \"2020-04-27T00:00:00\", \"casos\": 731.0, \"tasa_casos\": 142.89875300800898}, {\"region\": \"Antofagasta\", \"poblacion\": 691854.0, \"fecha\": \"2020-05-01T00:00:00\", \"casos\": 579.0, \"tasa_casos\": 83.68817698531771}, {\"region\": \"Araucan\\u00eda\", \"poblacion\": 1014343.0, \"fecha\": \"2020-05-01T00:00:00\", \"casos\": 1290.0, \"tasa_casos\": 127.1759158391195}, {\"region\": \"Arica y Parinacota\", \"poblacion\": 252110.0, \"fecha\": \"2020-05-01T00:00:00\", \"casos\": 297.0, \"tasa_casos\": 117.80571972551664}, {\"region\": \"Atacama\", \"poblacion\": 314709.0, \"fecha\": \"2020-05-01T00:00:00\", \"casos\": 45.0, \"tasa_casos\": 14.298923767671086}, {\"region\": \"Ays\\u00e9n\", \"poblacion\": 107297.0, \"fecha\": \"2020-05-01T00:00:00\", \"casos\": 4.0, \"tasa_casos\": 3.727970027120982}, {\"region\": \"Biob\\u00edo\", \"poblacion\": 1663696.0, \"fecha\": \"2020-05-01T00:00:00\", \"casos\": 727.0, \"tasa_casos\": 43.697887113991975}, {\"region\": \"Coquimbo\", \"poblacion\": 836096.0, \"fecha\": \"2020-05-01T00:00:00\", \"casos\": 88.0, \"tasa_casos\": 10.525107164727496}, {\"region\": \"Los Lagos\", \"poblacion\": 891440.0, \"fecha\": \"2020-05-01T00:00:00\", \"casos\": 479.0, \"tasa_casos\": 53.73328547069909}, {\"region\": \"Los R\\u00edos\", \"poblacion\": 405835.0, \"fecha\": \"2020-05-01T00:00:00\", \"casos\": 181.0, \"tasa_casos\": 44.59940616260303}, {\"region\": \"Magallanes\", \"poblacion\": 178362.0, \"fecha\": \"2020-05-01T00:00:00\", \"casos\": 721.0, \"tasa_casos\": 404.2340857357509}, {\"region\": \"Maule\", \"poblacion\": 1131939.0, \"fecha\": \"2020-05-01T00:00:00\", \"casos\": 408.0, \"tasa_casos\": 36.04434514580733}, {\"region\": \"Metropolitana\", \"poblacion\": 8125072.0, \"fecha\": \"2020-05-01T00:00:00\", \"casos\": 10491.0, \"tasa_casos\": 129.11885580829315}, {\"region\": \"O\\u2019Higgins\", \"poblacion\": 991063.0, \"fecha\": \"2020-05-01T00:00:00\", \"casos\": 114.0, \"tasa_casos\": 11.502800528321611}, {\"region\": \"Tarapac\\u00e1\", \"poblacion\": 382773.0, \"fecha\": \"2020-05-01T00:00:00\", \"casos\": 200.0, \"tasa_casos\": 52.2502893359772}, {\"region\": \"Valpara\\u00edso\", \"poblacion\": 1960170.0, \"fecha\": \"2020-05-01T00:00:00\", \"casos\": 588.0, \"tasa_casos\": 29.997398184851313}, {\"region\": \"\\u00d1uble\", \"poblacion\": 511551.0, \"fecha\": \"2020-05-01T00:00:00\", \"casos\": 766.0, \"tasa_casos\": 149.74069056653198}, {\"region\": \"Antofagasta\", \"poblacion\": 691854.0, \"fecha\": \"2020-05-04T00:00:00\", \"casos\": 749.0, \"tasa_casos\": 108.25983516753534}, {\"region\": \"Araucan\\u00eda\", \"poblacion\": 1014343.0, \"fecha\": \"2020-05-04T00:00:00\", \"casos\": 1325.0, \"tasa_casos\": 130.62642518359175}, {\"region\": \"Arica y Parinacota\", \"poblacion\": 252110.0, \"fecha\": \"2020-05-04T00:00:00\", \"casos\": 310.0, \"tasa_casos\": 122.96219904010155}, {\"region\": \"Atacama\", \"poblacion\": 314709.0, \"fecha\": \"2020-05-04T00:00:00\", \"casos\": 72.0, \"tasa_casos\": 22.87827802827374}, {\"region\": \"Ays\\u00e9n\", \"poblacion\": 107297.0, \"fecha\": \"2020-05-04T00:00:00\", \"casos\": 4.0, \"tasa_casos\": 3.727970027120982}, {\"region\": \"Biob\\u00edo\", \"poblacion\": 1663696.0, \"fecha\": \"2020-05-04T00:00:00\", \"casos\": 759.0, \"tasa_casos\": 45.621315432627114}, {\"region\": \"Coquimbo\", \"poblacion\": 836096.0, \"fecha\": \"2020-05-04T00:00:00\", \"casos\": 104.0, \"tasa_casos\": 12.438763012859768}, {\"region\": \"Los Lagos\", \"poblacion\": 891440.0, \"fecha\": \"2020-05-04T00:00:00\", \"casos\": 503.0, \"tasa_casos\": 56.42555864668402}, {\"region\": \"Los R\\u00edos\", \"poblacion\": 405835.0, \"fecha\": \"2020-05-04T00:00:00\", \"casos\": 200.0, \"tasa_casos\": 49.2811117818818}, {\"region\": \"Magallanes\", \"poblacion\": 178362.0, \"fecha\": \"2020-05-04T00:00:00\", \"casos\": 781.0, \"tasa_casos\": 437.87353808546663}, {\"region\": \"Maule\", \"poblacion\": 1131939.0, \"fecha\": \"2020-05-04T00:00:00\", \"casos\": 413.0, \"tasa_casos\": 36.48606506180987}, {\"region\": \"Metropolitana\", \"poblacion\": 8125072.0, \"fecha\": \"2020-05-04T00:00:00\", \"casos\": 13473.0, \"tasa_casos\": 165.82006904061896}, {\"region\": \"O\\u2019Higgins\", \"poblacion\": 991063.0, \"fecha\": \"2020-05-04T00:00:00\", \"casos\": 133.0, \"tasa_casos\": 13.419933949708543}, {\"region\": \"Tarapac\\u00e1\", \"poblacion\": 382773.0, \"fecha\": \"2020-05-04T00:00:00\", \"casos\": 287.0, \"tasa_casos\": 74.97916519712729}, {\"region\": \"Valpara\\u00edso\", \"poblacion\": 1960170.0, \"fecha\": \"2020-05-04T00:00:00\", \"casos\": 646.0, \"tasa_casos\": 32.95632521669039}, {\"region\": \"\\u00d1uble\", \"poblacion\": 511551.0, \"fecha\": \"2020-05-04T00:00:00\", \"casos\": 785.0, \"tasa_casos\": 153.45488524115873}, {\"region\": \"Antofagasta\", \"poblacion\": 691854.0, \"fecha\": \"2020-05-08T00:00:00\", \"casos\": 912.0, \"tasa_casos\": 131.81971918930873}, {\"region\": \"Araucan\\u00eda\", \"poblacion\": 1014343.0, \"fecha\": \"2020-05-08T00:00:00\", \"casos\": 1399.0, \"tasa_casos\": 137.92178779761875}, {\"region\": \"Arica y Parinacota\", \"poblacion\": 252110.0, \"fecha\": \"2020-05-08T00:00:00\", \"casos\": 328.0, \"tasa_casos\": 130.10193962952678}, {\"region\": \"Atacama\", \"poblacion\": 314709.0, \"fecha\": \"2020-05-08T00:00:00\", \"casos\": 90.0, \"tasa_casos\": 28.597847535342172}, {\"region\": \"Ays\\u00e9n\", \"poblacion\": 107297.0, \"fecha\": \"2020-05-08T00:00:00\", \"casos\": 5.0, \"tasa_casos\": 4.659962533901227}, {\"region\": \"Biob\\u00edo\", \"poblacion\": 1663696.0, \"fecha\": \"2020-05-08T00:00:00\", \"casos\": 839.0, \"tasa_casos\": 50.42988622921495}, {\"region\": \"Coquimbo\", \"poblacion\": 836096.0, \"fecha\": \"2020-05-08T00:00:00\", \"casos\": 124.0, \"tasa_casos\": 14.830832823025107}, {\"region\": \"Los Lagos\", \"poblacion\": 891440.0, \"fecha\": \"2020-05-08T00:00:00\", \"casos\": 525.0, \"tasa_casos\": 58.89347572467019}, {\"region\": \"Los R\\u00edos\", \"poblacion\": 405835.0, \"fecha\": \"2020-05-08T00:00:00\", \"casos\": 203.0, \"tasa_casos\": 50.02032845861003}, {\"region\": \"Magallanes\", \"poblacion\": 178362.0, \"fecha\": \"2020-05-08T00:00:00\", \"casos\": 865.0, \"tasa_casos\": 484.9687713750687}, {\"region\": \"Maule\", \"poblacion\": 1131939.0, \"fecha\": \"2020-05-08T00:00:00\", \"casos\": 439.0, \"tasa_casos\": 38.78300862502308}, {\"region\": \"Metropolitana\", \"poblacion\": 8125072.0, \"fecha\": \"2020-05-08T00:00:00\", \"casos\": 17925.0, \"tasa_casos\": 220.61342964099273}, {\"region\": \"O\\u2019Higgins\", \"poblacion\": 991063.0, \"fecha\": \"2020-05-08T00:00:00\", \"casos\": 168.0, \"tasa_casos\": 16.95149551542132}, {\"region\": \"Tarapac\\u00e1\", \"poblacion\": 382773.0, \"fecha\": \"2020-05-08T00:00:00\", \"casos\": 459.0, \"tasa_casos\": 119.91441402606766}, {\"region\": \"Valpara\\u00edso\", \"poblacion\": 1960170.0, \"fecha\": \"2020-05-08T00:00:00\", \"casos\": 853.0, \"tasa_casos\": 43.51663376135743}, {\"region\": \"\\u00d1uble\", \"poblacion\": 511551.0, \"fecha\": \"2020-05-08T00:00:00\", \"casos\": 796.0, \"tasa_casos\": 155.60520847383742}, {\"region\": \"Antofagasta\", \"poblacion\": 691854.0, \"fecha\": \"2020-05-11T00:00:00\", \"casos\": 1001.0, \"tasa_casos\": 144.68370494352854}, {\"region\": \"Araucan\\u00eda\", \"poblacion\": 1014343.0, \"fecha\": \"2020-05-11T00:00:00\", \"casos\": 1462.0, \"tasa_casos\": 144.13270461766876}, {\"region\": \"Arica y Parinacota\", \"poblacion\": 252110.0, \"fecha\": \"2020-05-11T00:00:00\", \"casos\": 353.0, \"tasa_casos\": 140.0182460037285}, {\"region\": \"Atacama\", \"poblacion\": 314709.0, \"fecha\": \"2020-05-11T00:00:00\", \"casos\": 135.0, \"tasa_casos\": 42.89677130301326}, {\"region\": \"Ays\\u00e9n\", \"poblacion\": 107297.0, \"fecha\": \"2020-05-11T00:00:00\", \"casos\": 5.0, \"tasa_casos\": 4.659962533901227}, {\"region\": \"Biob\\u00edo\", \"poblacion\": 1663696.0, \"fecha\": \"2020-05-11T00:00:00\", \"casos\": 930.0, \"tasa_casos\": 55.89963551033362}, {\"region\": \"Coquimbo\", \"poblacion\": 836096.0, \"fecha\": \"2020-05-11T00:00:00\", \"casos\": 149.0, \"tasa_casos\": 17.82092008573178}, {\"region\": \"Los Lagos\", \"poblacion\": 891440.0, \"fecha\": \"2020-05-11T00:00:00\", \"casos\": 569.0, \"tasa_casos\": 63.829309880642555}, {\"region\": \"Los R\\u00edos\", \"poblacion\": 405835.0, \"fecha\": \"2020-05-11T00:00:00\", \"casos\": 207.0, \"tasa_casos\": 51.00595069424766}, {\"region\": \"Magallanes\", \"poblacion\": 178362.0, \"fecha\": \"2020-05-11T00:00:00\", \"casos\": 898.0, \"tasa_casos\": 503.4704701674123}, {\"region\": \"Maule\", \"poblacion\": 1131939.0, \"fecha\": \"2020-05-11T00:00:00\", \"casos\": 468.0, \"tasa_casos\": 41.34498413783782}, {\"region\": \"Metropolitana\", \"poblacion\": 8125072.0, \"fecha\": \"2020-05-11T00:00:00\", \"casos\": 21264.0, \"tasa_casos\": 261.70845009127305}, {\"region\": \"O\\u2019Higgins\", \"poblacion\": 991063.0, \"fecha\": \"2020-05-11T00:00:00\", \"casos\": 215.0, \"tasa_casos\": 21.693878189378477}, {\"region\": \"Tarapac\\u00e1\", \"poblacion\": 382773.0, \"fecha\": \"2020-05-11T00:00:00\", \"casos\": 547.0, \"tasa_casos\": 142.90454133389764}, {\"region\": \"Valpara\\u00edso\", \"poblacion\": 1960170.0, \"fecha\": \"2020-05-11T00:00:00\", \"casos\": 998.0, \"tasa_casos\": 50.91395134095512}, {\"region\": \"\\u00d1uble\", \"poblacion\": 511551.0, \"fecha\": \"2020-05-11T00:00:00\", \"casos\": 824.0, \"tasa_casos\": 161.0787585206558}, {\"region\": \"Antofagasta\", \"poblacion\": 691854.0, \"fecha\": \"2020-05-15T00:00:00\", \"casos\": 1315.0, \"tasa_casos\": 190.0690029977423}, {\"region\": \"Araucan\\u00eda\", \"poblacion\": 1014343.0, \"fecha\": \"2020-05-15T00:00:00\", \"casos\": 1556.0, \"tasa_casos\": 153.3997868571085}, {\"region\": \"Arica y Parinacota\", \"poblacion\": 252110.0, \"fecha\": \"2020-05-15T00:00:00\", \"casos\": 371.0, \"tasa_casos\": 147.1579865931538}, {\"region\": \"Atacama\", \"poblacion\": 314709.0, \"fecha\": \"2020-05-15T00:00:00\", \"casos\": 144.0, \"tasa_casos\": 45.75655605654748}, {\"region\": \"Ays\\u00e9n\", \"poblacion\": 107297.0, \"fecha\": \"2020-05-15T00:00:00\", \"casos\": 5.0, \"tasa_casos\": 4.659962533901227}, {\"region\": \"Biob\\u00edo\", \"poblacion\": 1663696.0, \"fecha\": \"2020-05-15T00:00:00\", \"casos\": 1034.0, \"tasa_casos\": 62.1507775458978}, {\"region\": \"Coquimbo\", \"poblacion\": 836096.0, \"fecha\": \"2020-05-15T00:00:00\", \"casos\": 197.0, \"tasa_casos\": 23.5618876301286}, {\"region\": \"Los Lagos\", \"poblacion\": 891440.0, \"fecha\": \"2020-05-15T00:00:00\", \"casos\": 618.0, \"tasa_casos\": 69.32603428161177}, {\"region\": \"Los R\\u00edos\", \"poblacion\": 405835.0, \"fecha\": \"2020-05-15T00:00:00\", \"casos\": 218.0, \"tasa_casos\": 53.71641184225116}, {\"region\": \"Magallanes\", \"poblacion\": 178362.0, \"fecha\": \"2020-05-15T00:00:00\", \"casos\": 934.0, \"tasa_casos\": 523.6541415772418}, {\"region\": \"Maule\", \"poblacion\": 1131939.0, \"fecha\": \"2020-05-15T00:00:00\", \"casos\": 557.0, \"tasa_casos\": 49.207598642683045}, {\"region\": \"Metropolitana\", \"poblacion\": 8125072.0, \"fecha\": \"2020-05-15T00:00:00\", \"casos\": 29207.0, \"tasa_casos\": 359.46758379494975}, {\"region\": \"O\\u2019Higgins\", \"poblacion\": 991063.0, \"fecha\": \"2020-05-15T00:00:00\", \"casos\": 324.0, \"tasa_casos\": 32.69216992259826}, {\"region\": \"Tarapac\\u00e1\", \"poblacion\": 382773.0, \"fecha\": \"2020-05-15T00:00:00\", \"casos\": 773.0, \"tasa_casos\": 201.94736828355184}, {\"region\": \"Valpara\\u00edso\", \"poblacion\": 1960170.0, \"fecha\": \"2020-05-15T00:00:00\", \"casos\": 1344.0, \"tasa_casos\": 68.56548156537444}, {\"region\": \"\\u00d1uble\", \"poblacion\": 511551.0, \"fecha\": \"2020-05-15T00:00:00\", \"casos\": 890.0, \"tasa_casos\": 173.98069791672776}, {\"region\": \"Antofagasta\", \"poblacion\": 691854.0, \"fecha\": \"2020-05-18T00:00:00\", \"casos\": 1568.0, \"tasa_casos\": 226.63741193951324}, {\"region\": \"Araucan\\u00eda\", \"poblacion\": 1014343.0, \"fecha\": \"2020-05-18T00:00:00\", \"casos\": 1633.0, \"tasa_casos\": 160.99090741494743}, {\"region\": \"Arica y Parinacota\", \"poblacion\": 252110.0, \"fecha\": \"2020-05-18T00:00:00\", \"casos\": 405.0, \"tasa_casos\": 160.64416326206813}, {\"region\": \"Atacama\", \"poblacion\": 314709.0, \"fecha\": \"2020-05-18T00:00:00\", \"casos\": 158.0, \"tasa_casos\": 50.205110117600704}, {\"region\": \"Ays\\u00e9n\", \"poblacion\": 107297.0, \"fecha\": \"2020-05-18T00:00:00\", \"casos\": 5.0, \"tasa_casos\": 4.659962533901227}, {\"region\": \"Biob\\u00edo\", \"poblacion\": 1663696.0, \"fecha\": \"2020-05-18T00:00:00\", \"casos\": 1145.0, \"tasa_casos\": 68.82266952616342}, {\"region\": \"Coquimbo\", \"poblacion\": 836096.0, \"fecha\": \"2020-05-18T00:00:00\", \"casos\": 227.0, \"tasa_casos\": 27.149992345376607}, {\"region\": \"Los Lagos\", \"poblacion\": 891440.0, \"fecha\": \"2020-05-18T00:00:00\", \"casos\": 630.0, \"tasa_casos\": 70.67217086960424}, {\"region\": \"Los R\\u00edos\", \"poblacion\": 405835.0, \"fecha\": \"2020-05-18T00:00:00\", \"casos\": 223.0, \"tasa_casos\": 54.94843963679821}, {\"region\": \"Magallanes\", \"poblacion\": 178362.0, \"fecha\": \"2020-05-18T00:00:00\", \"casos\": 968.0, \"tasa_casos\": 542.7164979087473}, {\"region\": \"Maule\", \"poblacion\": 1131939.0, \"fecha\": \"2020-05-18T00:00:00\", \"casos\": 620.0, \"tasa_casos\": 54.77326958431506}, {\"region\": \"Metropolitana\", \"poblacion\": 8125072.0, \"fecha\": \"2020-05-18T00:00:00\", \"casos\": 34380.0, \"tasa_casos\": 423.1347119139375}, {\"region\": \"O\\u2019Higgins\", \"poblacion\": 991063.0, \"fecha\": \"2020-05-18T00:00:00\", \"casos\": 423.0, \"tasa_casos\": 42.6814440656144}, {\"region\": \"Tarapac\\u00e1\", \"poblacion\": 382773.0, \"fecha\": \"2020-05-18T00:00:00\", \"casos\": 1053.0, \"tasa_casos\": 275.09777335391993}, {\"region\": \"Valpara\\u00edso\", \"poblacion\": 1960170.0, \"fecha\": \"2020-05-18T00:00:00\", \"casos\": 1586.0, \"tasa_casos\": 80.91134952580643}, {\"region\": \"\\u00d1uble\", \"poblacion\": 511551.0, \"fecha\": \"2020-05-18T00:00:00\", \"casos\": 998.0, \"tasa_casos\": 195.0929623830273}, {\"region\": \"Antofagasta\", \"poblacion\": 691854.0, \"fecha\": \"2020-05-22T00:00:00\", \"casos\": 1816.0, \"tasa_casos\": 262.48312505239545}, {\"region\": \"Araucan\\u00eda\", \"poblacion\": 1014343.0, \"fecha\": \"2020-05-22T00:00:00\", \"casos\": 1732.0, \"tasa_casos\": 170.7509195607403}, {\"region\": \"Arica y Parinacota\", \"poblacion\": 252110.0, \"fecha\": \"2020-05-22T00:00:00\", \"casos\": 477.0, \"tasa_casos\": 189.20312561976914}, {\"region\": \"Atacama\", \"poblacion\": 314709.0, \"fecha\": \"2020-05-22T00:00:00\", \"casos\": 177.0, \"tasa_casos\": 56.24243348617294}, {\"region\": \"Ays\\u00e9n\", \"poblacion\": 107297.0, \"fecha\": \"2020-05-22T00:00:00\", \"casos\": 5.0, \"tasa_casos\": 4.659962533901227}, {\"region\": \"Biob\\u00edo\", \"poblacion\": 1663696.0, \"fecha\": \"2020-05-22T00:00:00\", \"casos\": 1313.0, \"tasa_casos\": 78.92066819899789}, {\"region\": \"Coquimbo\", \"poblacion\": 836096.0, \"fecha\": \"2020-05-22T00:00:00\", \"casos\": 297.0, \"tasa_casos\": 35.522236680955295}, {\"region\": \"Los Lagos\", \"poblacion\": 891440.0, \"fecha\": \"2020-05-22T00:00:00\", \"casos\": 698.0, \"tasa_casos\": 78.30027820156153}, {\"region\": \"Los R\\u00edos\", \"poblacion\": 405835.0, \"fecha\": \"2020-05-22T00:00:00\", \"casos\": 263.0, \"tasa_casos\": 64.80466199317456}, {\"region\": \"Magallanes\", \"poblacion\": 178362.0, \"fecha\": \"2020-05-22T00:00:00\", \"casos\": 992.0, \"tasa_casos\": 556.1722788486337}, {\"region\": \"Maule\", \"poblacion\": 1131939.0, \"fecha\": \"2020-05-22T00:00:00\", \"casos\": 800.0, \"tasa_casos\": 70.67518656040653}, {\"region\": \"Metropolitana\", \"poblacion\": 8125072.0, \"fecha\": \"2020-05-22T00:00:00\", \"casos\": 48266.0, \"tasa_casos\": 594.0378128341509}, {\"region\": \"O\\u2019Higgins\", \"poblacion\": 991063.0, \"fecha\": \"2020-05-22T00:00:00\", \"casos\": 503.0, \"tasa_casos\": 50.75358478724359}, {\"region\": \"Tarapac\\u00e1\", \"poblacion\": 382773.0, \"fecha\": \"2020-05-22T00:00:00\", \"casos\": 1391.0, \"tasa_casos\": 363.4007623317214}, {\"region\": \"Valpara\\u00edso\", \"poblacion\": 1960170.0, \"fecha\": \"2020-05-22T00:00:00\", \"casos\": 2054.0, \"tasa_casos\": 104.78682971374931}, {\"region\": \"\\u00d1uble\", \"poblacion\": 511551.0, \"fecha\": \"2020-05-22T00:00:00\", \"casos\": 1037.0, \"tasa_casos\": 202.71683566252435}, {\"region\": \"Antofagasta\", \"poblacion\": 691854.0, \"fecha\": \"2020-05-25T00:00:00\", \"casos\": 1990.0, \"tasa_casos\": 287.6329398977241}, {\"region\": \"Araucan\\u00eda\", \"poblacion\": 1014343.0, \"fecha\": \"2020-05-25T00:00:00\", \"casos\": 1851.0, \"tasa_casos\": 182.4826513319459}, {\"region\": \"Arica y Parinacota\", \"poblacion\": 252110.0, \"fecha\": \"2020-05-25T00:00:00\", \"casos\": 525.0, \"tasa_casos\": 208.24243385823647}, {\"region\": \"Atacama\", \"poblacion\": 314709.0, \"fecha\": \"2020-05-25T00:00:00\", \"casos\": 186.0, \"tasa_casos\": 59.102218239707156}, {\"region\": \"Ays\\u00e9n\", \"poblacion\": 107297.0, \"fecha\": \"2020-05-25T00:00:00\", \"casos\": 7.0, \"tasa_casos\": 6.523947547461719}, {\"region\": \"Biob\\u00edo\", \"poblacion\": 1663696.0, \"fecha\": \"2020-05-25T00:00:00\", \"casos\": 1462.0, \"tasa_casos\": 87.87663130764274}, {\"region\": \"Coquimbo\", \"poblacion\": 836096.0, \"fecha\": \"2020-05-25T00:00:00\", \"casos\": 351.0, \"tasa_casos\": 41.980825168401715}, {\"region\": \"Los Lagos\", \"poblacion\": 891440.0, \"fecha\": \"2020-05-25T00:00:00\", \"casos\": 738.0, \"tasa_casos\": 82.7874001615364}, {\"region\": \"Los R\\u00edos\", \"poblacion\": 405835.0, \"fecha\": \"2020-05-25T00:00:00\", \"casos\": 304.0, \"tasa_casos\": 74.90728990846034}, {\"region\": \"Magallanes\", \"poblacion\": 178362.0, \"fecha\": \"2020-05-25T00:00:00\", \"casos\": 1016.0, \"tasa_casos\": 569.62805978852}, {\"region\": \"Maule\", \"poblacion\": 1131939.0, \"fecha\": \"2020-05-25T00:00:00\", \"casos\": 974.0, \"tasa_casos\": 86.04703963729494}, {\"region\": \"Metropolitana\", \"poblacion\": 8125072.0, \"fecha\": \"2020-05-25T00:00:00\", \"casos\": 58843.0, \"tasa_casos\": 724.2151208013911}, {\"region\": \"O\\u2019Higgins\", \"poblacion\": 991063.0, \"fecha\": \"2020-05-25T00:00:00\", \"casos\": 606.0, \"tasa_casos\": 61.1464659663412}, {\"region\": \"Tarapac\\u00e1\", \"poblacion\": 382773.0, \"fecha\": \"2020-05-25T00:00:00\", \"casos\": 1628.0, \"tasa_casos\": 425.31735519485443}, {\"region\": \"Valpara\\u00edso\", \"poblacion\": 1960170.0, \"fecha\": \"2020-05-25T00:00:00\", \"casos\": 2336.0, \"tasa_casos\": 119.17333700648413}, {\"region\": \"\\u00d1uble\", \"poblacion\": 511551.0, \"fecha\": \"2020-05-25T00:00:00\", \"casos\": 1148.0, \"tasa_casos\": 224.41555191955445}, {\"region\": \"Antofagasta\", \"poblacion\": 691854.0, \"fecha\": \"2020-05-29T00:00:00\", \"casos\": 2285.0, \"tasa_casos\": 330.2719938021606}, {\"region\": \"Araucan\\u00eda\", \"poblacion\": 1014343.0, \"fecha\": \"2020-05-29T00:00:00\", \"casos\": 1981.0, \"tasa_casos\": 195.2988288971285}, {\"region\": \"Arica y Parinacota\", \"poblacion\": 252110.0, \"fecha\": \"2020-05-29T00:00:00\", \"casos\": 596.0, \"tasa_casos\": 236.40474396096943}, {\"region\": \"Atacama\", \"poblacion\": 314709.0, \"fecha\": \"2020-05-29T00:00:00\", \"casos\": 210.0, \"tasa_casos\": 66.7283109157984}, {\"region\": \"Ays\\u00e9n\", \"poblacion\": 107297.0, \"fecha\": \"2020-05-29T00:00:00\", \"casos\": 12.0, \"tasa_casos\": 11.183910081362946}, {\"region\": \"Biob\\u00edo\", \"poblacion\": 1663696.0, \"fecha\": \"2020-05-29T00:00:00\", \"casos\": 1783.0, \"tasa_casos\": 107.17102162895145}, {\"region\": \"Coquimbo\", \"poblacion\": 836096.0, \"fecha\": \"2020-05-29T00:00:00\", \"casos\": 552.0, \"tasa_casos\": 66.02112676056338}, {\"region\": \"Los Lagos\", \"poblacion\": 891440.0, \"fecha\": \"2020-05-29T00:00:00\", \"casos\": 796.0, \"tasa_casos\": 89.29372700349995}, {\"region\": \"Los R\\u00edos\", \"poblacion\": 405835.0, \"fecha\": \"2020-05-29T00:00:00\", \"casos\": 337.0, \"tasa_casos\": 83.03867335247084}, {\"region\": \"Magallanes\", \"poblacion\": 178362.0, \"fecha\": \"2020-05-29T00:00:00\", \"casos\": 1046.0, \"tasa_casos\": 586.4477859633778}, {\"region\": \"Maule\", \"poblacion\": 1131939.0, \"fecha\": \"2020-05-29T00:00:00\", \"casos\": 1207.0, \"tasa_casos\": 106.63118772301335}, {\"region\": \"Metropolitana\", \"poblacion\": 8125072.0, \"fecha\": \"2020-05-29T00:00:00\", \"casos\": 72815.0, \"tasa_casos\": 896.1766738805514}, {\"region\": \"O\\u2019Higgins\", \"poblacion\": 991063.0, \"fecha\": \"2020-05-29T00:00:00\", \"casos\": 773.0, \"tasa_casos\": 77.99705972274214}, {\"region\": \"Tarapac\\u00e1\", \"poblacion\": 382773.0, \"fecha\": \"2020-05-29T00:00:00\", \"casos\": 2087.0, \"tasa_casos\": 545.231769220922}, {\"region\": \"Valpara\\u00edso\", \"poblacion\": 1960170.0, \"fecha\": \"2020-05-29T00:00:00\", \"casos\": 2874.0, \"tasa_casos\": 146.61993602595695}, {\"region\": \"\\u00d1uble\", \"poblacion\": 511551.0, \"fecha\": \"2020-05-29T00:00:00\", \"casos\": 1251.0, \"tasa_casos\": 244.55039673463645}, {\"region\": \"Antofagasta\", \"poblacion\": 691854.0, \"fecha\": \"2020-06-01T00:00:00\", \"casos\": 2542.0, \"tasa_casos\": 367.4185594070425}, {\"region\": \"Araucan\\u00eda\", \"poblacion\": 1014343.0, \"fecha\": \"2020-06-01T00:00:00\", \"casos\": 2102.0, \"tasa_casos\": 207.22773263087535}, {\"region\": \"Arica y Parinacota\", \"poblacion\": 252110.0, \"fecha\": \"2020-06-01T00:00:00\", \"casos\": 653.0, \"tasa_casos\": 259.01392249414937}, {\"region\": \"Atacama\", \"poblacion\": 314709.0, \"fecha\": \"2020-06-01T00:00:00\", \"casos\": 237.0, \"tasa_casos\": 75.30766517640106}, {\"region\": \"Ays\\u00e9n\", \"poblacion\": 107297.0, \"fecha\": \"2020-06-01T00:00:00\", \"casos\": 13.0, \"tasa_casos\": 12.115902588143191}, {\"region\": \"Biob\\u00edo\", \"poblacion\": 1663696.0, \"fecha\": \"2020-06-01T00:00:00\", \"casos\": 2074.0, \"tasa_casos\": 124.6621979015397}, {\"region\": \"Coquimbo\", \"poblacion\": 836096.0, \"fecha\": \"2020-06-01T00:00:00\", \"casos\": 681.0, \"tasa_casos\": 81.44997703612982}, {\"region\": \"Los Lagos\", \"poblacion\": 891440.0, \"fecha\": \"2020-06-01T00:00:00\", \"casos\": 836.0, \"tasa_casos\": 93.78084896347482}, {\"region\": \"Los R\\u00edos\", \"poblacion\": 405835.0, \"fecha\": \"2020-06-01T00:00:00\", \"casos\": 370.0, \"tasa_casos\": 91.17005679648133}, {\"region\": \"Magallanes\", \"poblacion\": 178362.0, \"fecha\": \"2020-06-01T00:00:00\", \"casos\": 1056.0, \"tasa_casos\": 592.0543613549971}, {\"region\": \"Maule\", \"poblacion\": 1131939.0, \"fecha\": \"2020-06-01T00:00:00\", \"casos\": 1377.0, \"tasa_casos\": 121.64966486709972}, {\"region\": \"Metropolitana\", \"poblacion\": 8125072.0, \"fecha\": \"2020-06-01T00:00:00\", \"casos\": 85123.0, \"tasa_casos\": 1047.6584084424114}, {\"region\": \"O\\u2019Higgins\", \"poblacion\": 991063.0, \"fecha\": \"2020-06-01T00:00:00\", \"casos\": 845.0, \"tasa_casos\": 85.26198637220843}, {\"region\": \"Tarapac\\u00e1\", \"poblacion\": 382773.0, \"fecha\": \"2020-06-01T00:00:00\", \"casos\": 2522.0, \"tasa_casos\": 658.8761485266724}, {\"region\": \"Valpara\\u00edso\", \"poblacion\": 1960170.0, \"fecha\": \"2020-06-01T00:00:00\", \"casos\": 3392.0, \"tasa_casos\": 173.04621537927832}, {\"region\": \"\\u00d1uble\", \"poblacion\": 511551.0, \"fecha\": \"2020-06-01T00:00:00\", \"casos\": 1303.0, \"tasa_casos\": 254.71556110729918}, {\"region\": \"Antofagasta\", \"poblacion\": 691854.0, \"fecha\": \"2020-06-05T00:00:00\", \"casos\": 2866.0, \"tasa_casos\": 414.2492491190338}, {\"region\": \"Araucan\\u00eda\", \"poblacion\": 1014343.0, \"fecha\": \"2020-06-05T00:00:00\", \"casos\": 2279.0, \"tasa_casos\": 224.6774513157778}, {\"region\": \"Arica y Parinacota\", \"poblacion\": 252110.0, \"fecha\": \"2020-06-05T00:00:00\", \"casos\": 806.0, \"tasa_casos\": 319.701717504264}, {\"region\": \"Atacama\", \"poblacion\": 314709.0, \"fecha\": \"2020-06-05T00:00:00\", \"casos\": 277.0, \"tasa_casos\": 88.01781963655314}, {\"region\": \"Ays\\u00e9n\", \"poblacion\": 107297.0, \"fecha\": \"2020-06-05T00:00:00\", \"casos\": 15.0, \"tasa_casos\": 13.979887601703682}, {\"region\": \"Biob\\u00edo\", \"poblacion\": 1663696.0, \"fecha\": \"2020-06-05T00:00:00\", \"casos\": 2374.0, \"tasa_casos\": 142.6943383887441}, {\"region\": \"Coquimbo\", \"poblacion\": 836096.0, \"fecha\": \"2020-06-05T00:00:00\", \"casos\": 851.0, \"tasa_casos\": 101.7825704225352}, {\"region\": \"Los Lagos\", \"poblacion\": 891440.0, \"fecha\": \"2020-06-05T00:00:00\", \"casos\": 938.0, \"tasa_casos\": 105.22300996141075}, {\"region\": \"Los R\\u00edos\", \"poblacion\": 405835.0, \"fecha\": \"2020-06-05T00:00:00\", \"casos\": 398.0, \"tasa_casos\": 98.06941244594478}, {\"region\": \"Magallanes\", \"poblacion\": 178362.0, \"fecha\": \"2020-06-05T00:00:00\", \"casos\": 1070.0, \"tasa_casos\": 599.9035669032642}, {\"region\": \"Maule\", \"poblacion\": 1131939.0, \"fecha\": \"2020-06-05T00:00:00\", \"casos\": 1872.0, \"tasa_casos\": 165.37993655135128}, {\"region\": \"Metropolitana\", \"poblacion\": 8125072.0, \"fecha\": \"2020-06-05T00:00:00\", \"casos\": 98958.0, \"tasa_casos\": 1217.9338226172026}, {\"region\": \"O\\u2019Higgins\", \"poblacion\": 991063.0, \"fecha\": \"2020-06-05T00:00:00\", \"casos\": 1047.0, \"tasa_casos\": 105.64414169432217}, {\"region\": \"Tarapac\\u00e1\", \"poblacion\": 382773.0, \"fecha\": \"2020-06-05T00:00:00\", \"casos\": 2955.0, \"tasa_casos\": 771.998024939063}, {\"region\": \"Valpara\\u00edso\", \"poblacion\": 1960170.0, \"fecha\": \"2020-06-05T00:00:00\", \"casos\": 4317.0, \"tasa_casos\": 220.23599993878082}, {\"region\": \"\\u00d1uble\", \"poblacion\": 511551.0, \"fecha\": \"2020-06-05T00:00:00\", \"casos\": 1440.0, \"tasa_casos\": 281.49685955066064}, {\"region\": \"Antofagasta\", \"poblacion\": 691854.0, \"fecha\": \"2020-06-08T00:00:00\", \"casos\": 3186.0, \"tasa_casos\": 460.501782167914}, {\"region\": \"Araucan\\u00eda\", \"poblacion\": 1014343.0, \"fecha\": \"2020-06-08T00:00:00\", \"casos\": 2402.0, \"tasa_casos\": 236.80352701206596}, {\"region\": \"Arica y Parinacota\", \"poblacion\": 252110.0, \"fecha\": \"2020-06-08T00:00:00\", \"casos\": 905.0, \"tasa_casos\": 358.9702907461029}, {\"region\": \"Atacama\", \"poblacion\": 314709.0, \"fecha\": \"2020-06-08T00:00:00\", \"casos\": 347.0, \"tasa_casos\": 110.26058994181928}, {\"region\": \"Ays\\u00e9n\", \"poblacion\": 107297.0, \"fecha\": \"2020-06-08T00:00:00\", \"casos\": 17.0, \"tasa_casos\": 15.843872615264173}, {\"region\": \"Biob\\u00edo\", \"poblacion\": 1663696.0, \"fecha\": \"2020-06-08T00:00:00\", \"casos\": 2638.0, \"tasa_casos\": 158.56262201748396}, {\"region\": \"Coquimbo\", \"poblacion\": 836096.0, \"fecha\": \"2020-06-08T00:00:00\", \"casos\": 1139.0, \"tasa_casos\": 136.22837568891612}, {\"region\": \"Los Lagos\", \"poblacion\": 891440.0, \"fecha\": \"2020-06-08T00:00:00\", \"casos\": 977.0, \"tasa_casos\": 109.59795387238626}, {\"region\": \"Los R\\u00edos\", \"poblacion\": 405835.0, \"fecha\": \"2020-06-08T00:00:00\", \"casos\": 433.0, \"tasa_casos\": 106.6936070077741}, {\"region\": \"Magallanes\", \"poblacion\": 178362.0, \"fecha\": \"2020-06-08T00:00:00\", \"casos\": 1086.0, \"tasa_casos\": 608.874087529855}, {\"region\": \"Maule\", \"poblacion\": 1131939.0, \"fecha\": \"2020-06-08T00:00:00\", \"casos\": 2214.0, \"tasa_casos\": 195.59357880592503}, {\"region\": \"Metropolitana\", \"poblacion\": 8125072.0, \"fecha\": \"2020-06-08T00:00:00\", \"casos\": 112029.0, \"tasa_casos\": 1378.8062431939065}, {\"region\": \"O\\u2019Higgins\", \"poblacion\": 991063.0, \"fecha\": \"2020-06-08T00:00:00\", \"casos\": 1280.0, \"tasa_casos\": 129.1542515460672}, {\"region\": \"Tarapac\\u00e1\", \"poblacion\": 382773.0, \"fecha\": \"2020-06-08T00:00:00\", \"casos\": 3374.0, \"tasa_casos\": 881.4623810979353}, {\"region\": \"Valpara\\u00edso\", \"poblacion\": 1960170.0, \"fecha\": \"2020-06-08T00:00:00\", \"casos\": 5215.0, \"tasa_casos\": 266.0483529489789}, {\"region\": \"\\u00d1uble\", \"poblacion\": 511551.0, \"fecha\": \"2020-06-08T00:00:00\", \"casos\": 1566.0, \"tasa_casos\": 306.1278347613434}, {\"region\": \"Antofagasta\", \"poblacion\": 691854.0, \"fecha\": \"2020-06-12T00:00:00\", \"casos\": 3821.0, \"tasa_casos\": 552.2841524367858}, {\"region\": \"Araucan\\u00eda\", \"poblacion\": 1014343.0, \"fecha\": \"2020-06-12T00:00:00\", \"casos\": 2572.0, \"tasa_casos\": 253.56314382807395}, {\"region\": \"Arica y Parinacota\", \"poblacion\": 252110.0, \"fecha\": \"2020-06-12T00:00:00\", \"casos\": 1048.0, \"tasa_casos\": 415.69156320653684}, {\"region\": \"Atacama\", \"poblacion\": 314709.0, \"fecha\": \"2020-06-12T00:00:00\", \"casos\": 420.0, \"tasa_casos\": 133.4566218315968}, {\"region\": \"Ays\\u00e9n\", \"poblacion\": 107297.0, \"fecha\": \"2020-06-12T00:00:00\", \"casos\": 18.0, \"tasa_casos\": 16.77586512204442}, {\"region\": \"Biob\\u00edo\", \"poblacion\": 1663696.0, \"fecha\": \"2020-06-12T00:00:00\", \"casos\": 3077.0, \"tasa_casos\": 184.94965426375973}, {\"region\": \"Coquimbo\", \"poblacion\": 836096.0, \"fecha\": \"2020-06-12T00:00:00\", \"casos\": 1460.0, \"tasa_casos\": 174.6210961420698}, {\"region\": \"Los Lagos\", \"poblacion\": 891440.0, \"fecha\": \"2020-06-12T00:00:00\", \"casos\": 1048.0, \"tasa_casos\": 117.56259535134164}, {\"region\": \"Los R\\u00edos\", \"poblacion\": 405835.0, \"fecha\": \"2020-06-12T00:00:00\", \"casos\": 487.0, \"tasa_casos\": 119.99950718888219}, {\"region\": \"Magallanes\", \"poblacion\": 178362.0, \"fecha\": \"2020-06-12T00:00:00\", \"casos\": 1106.0, \"tasa_casos\": 620.0872383130936}, {\"region\": \"Maule\", \"poblacion\": 1131939.0, \"fecha\": \"2020-06-12T00:00:00\", \"casos\": 2726.0, \"tasa_casos\": 240.82569820458522}, {\"region\": \"Metropolitana\", \"poblacion\": 8125072.0, \"fecha\": \"2020-06-12T00:00:00\", \"casos\": 129580.0, \"tasa_casos\": 1594.816636701804}, {\"region\": \"O\\u2019Higgins\", \"poblacion\": 991063.0, \"fecha\": \"2020-06-12T00:00:00\", \"casos\": 1658.0, \"tasa_casos\": 167.29511645576517}, {\"region\": \"Tarapac\\u00e1\", \"poblacion\": 382773.0, \"fecha\": \"2020-06-12T00:00:00\", \"casos\": 3799.0, \"tasa_casos\": 992.4942459368868}, {\"region\": \"Valpara\\u00edso\", \"poblacion\": 1960170.0, \"fecha\": \"2020-06-12T00:00:00\", \"casos\": 6252.0, \"tasa_casos\": 318.95192763892925}, {\"region\": \"\\u00d1uble\", \"poblacion\": 511551.0, \"fecha\": \"2020-06-12T00:00:00\", \"casos\": 1735.0, \"tasa_casos\": 339.16461897249735}, {\"region\": \"Antofagasta\", \"poblacion\": 691854.0, \"fecha\": \"2020-06-15T00:00:00\", \"casos\": 4483.0, \"tasa_casos\": 647.9690801816569}, {\"region\": \"Araucan\\u00eda\", \"poblacion\": 1014343.0, \"fecha\": \"2020-06-15T00:00:00\", \"casos\": 2722.0, \"tasa_casos\": 268.35104101866926}, {\"region\": \"Arica y Parinacota\", \"poblacion\": 252110.0, \"fecha\": \"2020-06-15T00:00:00\", \"casos\": 1179.0, \"tasa_casos\": 467.65300860735397}, {\"region\": \"Atacama\", \"poblacion\": 314709.0, \"fecha\": \"2020-06-15T00:00:00\", \"casos\": 489.0, \"tasa_casos\": 155.38163827535914}, {\"region\": \"Ays\\u00e9n\", \"poblacion\": 107297.0, \"fecha\": \"2020-06-15T00:00:00\", \"casos\": 22.0, \"tasa_casos\": 20.5038351491654}, {\"region\": \"Biob\\u00edo\", \"poblacion\": 1663696.0, \"fecha\": \"2020-06-15T00:00:00\", \"casos\": 3433.0, \"tasa_casos\": 206.3477943085756}, {\"region\": \"Coquimbo\", \"poblacion\": 836096.0, \"fecha\": \"2020-06-15T00:00:00\", \"casos\": 1705.0, \"tasa_casos\": 203.92395131659524}, {\"region\": \"Los Lagos\", \"poblacion\": 891440.0, \"fecha\": \"2020-06-15T00:00:00\", \"casos\": 1132.0, \"tasa_casos\": 126.98555146728889}, {\"region\": \"Los R\\u00edos\", \"poblacion\": 405835.0, \"fecha\": \"2020-06-15T00:00:00\", \"casos\": 539.0, \"tasa_casos\": 132.81259625217146}, {\"region\": \"Magallanes\", \"poblacion\": 178362.0, \"fecha\": \"2020-06-15T00:00:00\", \"casos\": 1185.0, \"tasa_casos\": 664.3791839068859}, {\"region\": \"Maule\", \"poblacion\": 1131939.0, \"fecha\": \"2020-06-15T00:00:00\", \"casos\": 3133.0, \"tasa_casos\": 276.78169936719206}, {\"region\": \"Metropolitana\", \"poblacion\": 8125072.0, \"fecha\": \"2020-06-15T00:00:00\", \"casos\": 144151.0, \"tasa_casos\": 1774.1504321438626}, {\"region\": \"O\\u2019Higgins\", \"poblacion\": 991063.0, \"fecha\": \"2020-06-15T00:00:00\", \"casos\": 2044.0, \"tasa_casos\": 206.24319543762607}, {\"region\": \"Tarapac\\u00e1\", \"poblacion\": 382773.0, \"fecha\": \"2020-06-15T00:00:00\", \"casos\": 4223.0, \"tasa_casos\": 1103.2648593291585}, {\"region\": \"Valpara\\u00edso\", \"poblacion\": 1960170.0, \"fecha\": \"2020-06-15T00:00:00\", \"casos\": 7107.0, \"tasa_casos\": 362.57059336690185}, {\"region\": \"\\u00d1uble\", \"poblacion\": 511551.0, \"fecha\": \"2020-06-15T00:00:00\", \"casos\": 1850.0, \"tasa_casos\": 361.6452709505015}, {\"region\": \"Antofagasta\", \"poblacion\": 691854.0, \"fecha\": \"2020-06-19T00:00:00\", \"casos\": 5923.0, \"tasa_casos\": 856.1054789016179}, {\"region\": \"Araucan\\u00eda\", \"poblacion\": 1014343.0, \"fecha\": \"2020-06-19T00:00:00\", \"casos\": 2966.0, \"tasa_casos\": 292.4060204487042}, {\"region\": \"Arica y Parinacota\", \"poblacion\": 252110.0, \"fecha\": \"2020-06-19T00:00:00\", \"casos\": 1382.0, \"tasa_casos\": 548.1734163658721}, {\"region\": \"Atacama\", \"poblacion\": 314709.0, \"fecha\": \"2020-06-19T00:00:00\", \"casos\": 659.0, \"tasa_casos\": 209.39979473100547}, {\"region\": \"Ays\\u00e9n\", \"poblacion\": 107297.0, \"fecha\": \"2020-06-19T00:00:00\", \"casos\": 25.0, \"tasa_casos\": 23.299812669506135}, {\"region\": \"Biob\\u00edo\", \"poblacion\": 1663696.0, \"fecha\": \"2020-06-19T00:00:00\", \"casos\": 4869.0, \"tasa_casos\": 292.6616401073273}, {\"region\": \"Coquimbo\", \"poblacion\": 836096.0, \"fecha\": \"2020-06-19T00:00:00\", \"casos\": 2352.0, \"tasa_casos\": 281.307409675444}, {\"region\": \"Los Lagos\", \"poblacion\": 891440.0, \"fecha\": \"2020-06-19T00:00:00\", \"casos\": 1317.0, \"tasa_casos\": 147.73849053217268}, {\"region\": \"Los R\\u00edos\", \"poblacion\": 405835.0, \"fecha\": \"2020-06-19T00:00:00\", \"casos\": 606.0, \"tasa_casos\": 149.32176869910185}, {\"region\": \"Magallanes\", \"poblacion\": 178362.0, \"fecha\": \"2020-06-19T00:00:00\", \"casos\": 1322.0, \"tasa_casos\": 741.1892667720704}, {\"region\": \"Maule\", \"poblacion\": 1131939.0, \"fecha\": \"2020-06-19T00:00:00\", \"casos\": 4112.0, \"tasa_casos\": 363.27045892048955}, {\"region\": \"Metropolitana\", \"poblacion\": 8125072.0, \"fecha\": \"2020-06-19T00:00:00\", \"casos\": 203580.0, \"tasa_casos\": 2505.577796725986}, {\"region\": \"O\\u2019Higgins\", \"poblacion\": 991063.0, \"fecha\": \"2020-06-19T00:00:00\", \"casos\": 3664.0, \"tasa_casos\": 369.70404505061737}, {\"region\": \"Tarapac\\u00e1\", \"poblacion\": 382773.0, \"fecha\": \"2020-06-19T00:00:00\", \"casos\": 5100.0, \"tasa_casos\": 1332.3823780674186}, {\"region\": \"Valpara\\u00edso\", \"poblacion\": 1960170.0, \"fecha\": \"2020-06-19T00:00:00\", \"casos\": 10551.0, \"tasa_casos\": 538.2696398781738}, {\"region\": \"\\u00d1uble\", \"poblacion\": 511551.0, \"fecha\": \"2020-06-19T00:00:00\", \"casos\": 2353.0, \"tasa_casos\": 459.9736878629892}, {\"region\": \"Antofagasta\", \"poblacion\": 691854.0, \"fecha\": \"2020-06-23T00:00:00\", \"casos\": 7172.0, \"tasa_casos\": 1036.6348969580288}, {\"region\": \"Araucan\\u00eda\", \"poblacion\": 1014343.0, \"fecha\": \"2020-06-23T00:00:00\", \"casos\": 3135.0, \"tasa_casos\": 309.0670512834416}, {\"region\": \"Arica y Parinacota\", \"poblacion\": 252110.0, \"fecha\": \"2020-06-23T00:00:00\", \"casos\": 1544.0, \"tasa_casos\": 612.4310816706993}, {\"region\": \"Atacama\", \"poblacion\": 314709.0, \"fecha\": \"2020-06-23T00:00:00\", \"casos\": 819.0, \"tasa_casos\": 260.2404125716138}, {\"region\": \"Ays\\u00e9n\", \"poblacion\": 107297.0, \"fecha\": \"2020-06-23T00:00:00\", \"casos\": 25.0, \"tasa_casos\": 23.299812669506135}, {\"region\": \"Biob\\u00edo\", \"poblacion\": 1663696.0, \"fecha\": \"2020-06-23T00:00:00\", \"casos\": 5978.0, \"tasa_casos\": 359.3204527750262}, {\"region\": \"Coquimbo\", \"poblacion\": 836096.0, \"fecha\": \"2020-06-23T00:00:00\", \"casos\": 2814.0, \"tasa_casos\": 336.56422229026333}, {\"region\": \"Los Lagos\", \"poblacion\": 891440.0, \"fecha\": \"2020-06-23T00:00:00\", \"casos\": 1500.0, \"tasa_casos\": 168.26707349905772}, {\"region\": \"Los R\\u00edos\", \"poblacion\": 405835.0, \"fecha\": \"2020-06-23T00:00:00\", \"casos\": 659.0, \"tasa_casos\": 162.38126332130054}, {\"region\": \"Magallanes\", \"poblacion\": 178362.0, \"fecha\": \"2020-06-23T00:00:00\", \"casos\": 1384.0, \"tasa_casos\": 775.9500342001099}, {\"region\": \"Maule\", \"poblacion\": 1131939.0, \"fecha\": \"2020-06-23T00:00:00\", \"casos\": 4874.0, \"tasa_casos\": 430.58857411927676}, {\"region\": \"Metropolitana\", \"poblacion\": 8125072.0, \"fecha\": \"2020-06-23T00:00:00\", \"casos\": 220297.0, \"tasa_casos\": 2711.3236658087462}, {\"region\": \"O\\u2019Higgins\", \"poblacion\": 991063.0, \"fecha\": \"2020-06-23T00:00:00\", \"casos\": 5066.0, \"tasa_casos\": 511.1683111971691}, {\"region\": \"Tarapac\\u00e1\", \"poblacion\": 382773.0, \"fecha\": \"2020-06-23T00:00:00\", \"casos\": 5585.0, \"tasa_casos\": 1459.0893297071632}, {\"region\": \"Valpara\\u00edso\", \"poblacion\": 1960170.0, \"fecha\": \"2020-06-23T00:00:00\", \"casos\": 12118.0, \"tasa_casos\": 618.2116857211364}, {\"region\": \"\\u00d1uble\", \"poblacion\": 511551.0, \"fecha\": \"2020-06-23T00:00:00\", \"casos\": 2521.0, \"tasa_casos\": 492.8149881438996}, {\"region\": \"Antofagasta\", \"poblacion\": 691854.0, \"fecha\": \"2020-06-28T00:00:00\", \"casos\": 8591.0, \"tasa_casos\": 1241.7359731966571}, {\"region\": \"Araucan\\u00eda\", \"poblacion\": 1014343.0, \"fecha\": \"2020-06-28T00:00:00\", \"casos\": 3272.0, \"tasa_casos\": 322.5733307175187}, {\"region\": \"Arica y Parinacota\", \"poblacion\": 252110.0, \"fecha\": \"2020-06-28T00:00:00\", \"casos\": 1772.0, \"tasa_casos\": 702.8677958034192}, {\"region\": \"Atacama\", \"poblacion\": 314709.0, \"fecha\": \"2020-06-28T00:00:00\", \"casos\": 1030.0, \"tasa_casos\": 327.286477348916}, {\"region\": \"Ays\\u00e9n\", \"poblacion\": 107297.0, \"fecha\": \"2020-06-28T00:00:00\", \"casos\": 40.0, \"tasa_casos\": 37.27970027120982}, {\"region\": \"Biob\\u00edo\", \"poblacion\": 1663696.0, \"fecha\": \"2020-06-28T00:00:00\", \"casos\": 7107.0, \"tasa_casos\": 427.18140814187205}, {\"region\": \"Coquimbo\", \"poblacion\": 836096.0, \"fecha\": \"2020-06-28T00:00:00\", \"casos\": 3282.0, \"tasa_casos\": 392.5386558481323}, {\"region\": \"Los Lagos\", \"poblacion\": 891440.0, \"fecha\": \"2020-06-28T00:00:00\", \"casos\": 1667.0, \"tasa_casos\": 187.0008076819528}, {\"region\": \"Los R\\u00edos\", \"poblacion\": 405835.0, \"fecha\": \"2020-06-28T00:00:00\", \"casos\": 727.0, \"tasa_casos\": 179.13684132714033}, {\"region\": \"Magallanes\", \"poblacion\": 178362.0, \"fecha\": \"2020-06-28T00:00:00\", \"casos\": 1447.0, \"tasa_casos\": 811.2714591673115}, {\"region\": \"Maule\", \"poblacion\": 1131939.0, \"fecha\": \"2020-06-28T00:00:00\", \"casos\": 5730.0, \"tasa_casos\": 506.2110237389117}, {\"region\": \"Metropolitana\", \"poblacion\": 8125072.0, \"fecha\": \"2020-06-28T00:00:00\", \"casos\": 236572.0, \"tasa_casos\": 2911.629583097848}, {\"region\": \"O\\u2019Higgins\", \"poblacion\": 991063.0, \"fecha\": \"2020-06-28T00:00:00\", \"casos\": 6541.0, \"tasa_casos\": 659.9984057522074}, {\"region\": \"Tarapac\\u00e1\", \"poblacion\": 382773.0, \"fecha\": \"2020-06-28T00:00:00\", \"casos\": 6030.0, \"tasa_casos\": 1575.3462234797125}, {\"region\": \"Valpara\\u00edso\", \"poblacion\": 1960170.0, \"fecha\": \"2020-06-28T00:00:00\", \"casos\": 14272.0, \"tasa_casos\": 728.1001137656427}, {\"region\": \"\\u00d1uble\", \"poblacion\": 511551.0, \"fecha\": \"2020-06-28T00:00:00\", \"casos\": 2800.0, \"tasa_casos\": 547.3550046818401}, {\"region\": \"Antofagasta\", \"poblacion\": 691854.0, \"fecha\": \"2020-07-01T00:00:00\", \"casos\": 9388.0, \"tasa_casos\": 1356.9336883215246}, {\"region\": \"Araucan\\u00eda\", \"poblacion\": 1014343.0, \"fecha\": \"2020-07-01T00:00:00\", \"casos\": 3366.0, \"tasa_casos\": 331.84041295695835}, {\"region\": \"Arica y Parinacota\", \"poblacion\": 252110.0, \"fecha\": \"2020-07-01T00:00:00\", \"casos\": 1899.0, \"tasa_casos\": 753.242632184364}, {\"region\": \"Atacama\", \"poblacion\": 314709.0, \"fecha\": \"2020-07-01T00:00:00\", \"casos\": 1171.0, \"tasa_casos\": 372.089771820952}, {\"region\": \"Ays\\u00e9n\", \"poblacion\": 107297.0, \"fecha\": \"2020-07-01T00:00:00\", \"casos\": 40.0, \"tasa_casos\": 37.27970027120982}, {\"region\": \"Biob\\u00edo\", \"poblacion\": 1663696.0, \"fecha\": \"2020-07-01T00:00:00\", \"casos\": 7607.0, \"tasa_casos\": 457.2349756205461}, {\"region\": \"Coquimbo\", \"poblacion\": 836096.0, \"fecha\": \"2020-07-01T00:00:00\", \"casos\": 3554.0, \"tasa_casos\": 425.0708052663809}, {\"region\": \"Los Lagos\", \"poblacion\": 891440.0, \"fecha\": \"2020-07-01T00:00:00\", \"casos\": 1759.0, \"tasa_casos\": 197.321188189895}, {\"region\": \"Los R\\u00edos\", \"poblacion\": 405835.0, \"fecha\": \"2020-07-01T00:00:00\", \"casos\": 757.0, \"tasa_casos\": 186.5290080944226}, {\"region\": \"Magallanes\", \"poblacion\": 178362.0, \"fecha\": \"2020-07-01T00:00:00\", \"casos\": 1474.0, \"tasa_casos\": 826.4092127246835}, {\"region\": \"Maule\", \"poblacion\": 1131939.0, \"fecha\": \"2020-07-01T00:00:00\", \"casos\": 6146.0, \"tasa_casos\": 542.9621207503232}, {\"region\": \"Metropolitana\", \"poblacion\": 8125072.0, \"fecha\": \"2020-07-01T00:00:00\", \"casos\": 244042.0, \"tasa_casos\": 3003.5672299273165}, {\"region\": \"O\\u2019Higgins\", \"poblacion\": 991063.0, \"fecha\": \"2020-07-01T00:00:00\", \"casos\": 7423.0, \"tasa_casos\": 748.9937572081694}, {\"region\": \"Tarapac\\u00e1\", \"poblacion\": 382773.0, \"fecha\": \"2020-07-01T00:00:00\", \"casos\": 6238.0, \"tasa_casos\": 1629.6865243891289}, {\"region\": \"Valpara\\u00edso\", \"poblacion\": 1960170.0, \"fecha\": \"2020-07-01T00:00:00\", \"casos\": 15184.0, \"tasa_casos\": 774.6266905421469}, {\"region\": \"\\u00d1uble\", \"poblacion\": 511551.0, \"fecha\": \"2020-07-01T00:00:00\", \"casos\": 2863.0, \"tasa_casos\": 559.6704922871816}, {\"region\": \"Antofagasta\", \"poblacion\": 691854.0, \"fecha\": \"2020-07-05T00:00:00\", \"casos\": 10555.0, \"tasa_casos\": 1525.6108947841597}, {\"region\": \"Araucan\\u00eda\", \"poblacion\": 1014343.0, \"fecha\": \"2020-07-05T00:00:00\", \"casos\": 3444.0, \"tasa_casos\": 339.5301194960679}, {\"region\": \"Arica y Parinacota\", \"poblacion\": 252110.0, \"fecha\": \"2020-07-05T00:00:00\", \"casos\": 2153.0, \"tasa_casos\": 853.9923049462536}, {\"region\": \"Atacama\", \"poblacion\": 314709.0, \"fecha\": \"2020-07-05T00:00:00\", \"casos\": 1319.0, \"tasa_casos\": 419.1173433235148}, {\"region\": \"Ays\\u00e9n\", \"poblacion\": 107297.0, \"fecha\": \"2020-07-05T00:00:00\", \"casos\": 46.0, \"tasa_casos\": 42.87165531189129}, {\"region\": \"Biob\\u00edo\", \"poblacion\": 1663696.0, \"fecha\": \"2020-07-05T00:00:00\", \"casos\": 8288.0, \"tasa_casos\": 498.16793452650006}, {\"region\": \"Coquimbo\", \"poblacion\": 836096.0, \"fecha\": \"2020-07-05T00:00:00\", \"casos\": 3903.0, \"tasa_casos\": 466.8124234537661}, {\"region\": \"Los Lagos\", \"poblacion\": 891440.0, \"fecha\": \"2020-07-05T00:00:00\", \"casos\": 2054.0, \"tasa_casos\": 230.41371264470968}, {\"region\": \"Los R\\u00edos\", \"poblacion\": 405835.0, \"fecha\": \"2020-07-05T00:00:00\", \"casos\": 786.0, \"tasa_casos\": 193.67476930279545}, {\"region\": \"Magallanes\", \"poblacion\": 178362.0, \"fecha\": \"2020-07-05T00:00:00\", \"casos\": 1506.0, \"tasa_casos\": 844.3502539778652}, {\"region\": \"Maule\", \"poblacion\": 1131939.0, \"fecha\": \"2020-07-05T00:00:00\", \"casos\": 6767.0, \"tasa_casos\": 597.8237343178387}, {\"region\": \"Metropolitana\", \"poblacion\": 8125072.0, \"fecha\": \"2020-07-05T00:00:00\", \"casos\": 254025.0, \"tasa_casos\": 3126.433833447876}, {\"region\": \"O\\u2019Higgins\", \"poblacion\": 991063.0, \"fecha\": \"2020-07-05T00:00:00\", \"casos\": 8514.0, \"tasa_casos\": 859.0775762993876}, {\"region\": \"Tarapac\\u00e1\", \"poblacion\": 382773.0, \"fecha\": \"2020-07-05T00:00:00\", \"casos\": 6662.0, \"tasa_casos\": 1740.4571377814002}, {\"region\": \"Valpara\\u00edso\", \"poblacion\": 1960170.0, \"fecha\": \"2020-07-05T00:00:00\", \"casos\": 16860.0, \"tasa_casos\": 860.1294785656346}, {\"region\": \"\\u00d1uble\", \"poblacion\": 511551.0, \"fecha\": \"2020-07-05T00:00:00\", \"casos\": 3132.0, \"tasa_casos\": 612.2556695226868}, {\"region\": \"Antofagasta\", \"poblacion\": 691854.0, \"fecha\": \"2020-07-10T00:00:00\", \"casos\": 11799.0, \"tasa_casos\": 1705.4176170116816}, {\"region\": \"Araucan\\u00eda\", \"poblacion\": 1014343.0, \"fecha\": \"2020-07-10T00:00:00\", \"casos\": 3555.0, \"tasa_casos\": 350.4731634171084}, {\"region\": \"Arica y Parinacota\", \"poblacion\": 252110.0, \"fecha\": \"2020-07-10T00:00:00\", \"casos\": 2493.0, \"tasa_casos\": 988.8540716353972}, {\"region\": \"Atacama\", \"poblacion\": 314709.0, \"fecha\": \"2020-07-10T00:00:00\", \"casos\": 1531.0, \"tasa_casos\": 486.4811619623207}, {\"region\": \"Ays\\u00e9n\", \"poblacion\": 107297.0, \"fecha\": \"2020-07-10T00:00:00\", \"casos\": 47.0, \"tasa_casos\": 43.803647818671536}, {\"region\": \"Biob\\u00edo\", \"poblacion\": 1663696.0, \"fecha\": \"2020-07-10T00:00:00\", \"casos\": 9120.0, \"tasa_casos\": 548.1770708110136}, {\"region\": \"Coquimbo\", \"poblacion\": 836096.0, \"fecha\": \"2020-07-10T00:00:00\", \"casos\": 4469.0, \"tasa_casos\": 534.5079990814452}, {\"region\": \"Los Lagos\", \"poblacion\": 891440.0, \"fecha\": \"2020-07-10T00:00:00\", \"casos\": 2306.0, \"tasa_casos\": 258.6825809925514}, {\"region\": \"Los R\\u00edos\", \"poblacion\": 405835.0, \"fecha\": \"2020-07-10T00:00:00\", \"casos\": 778.0, \"tasa_casos\": 191.7035248315202}, {\"region\": \"Magallanes\", \"poblacion\": 178362.0, \"fecha\": \"2020-07-10T00:00:00\", \"casos\": 1554.0, \"tasa_casos\": 871.2618158576378}, {\"region\": \"Maule\", \"poblacion\": 1131939.0, \"fecha\": \"2020-07-10T00:00:00\", \"casos\": 7453.0, \"tasa_casos\": 658.4277067933872}, {\"region\": \"Metropolitana\", \"poblacion\": 8125072.0, \"fecha\": \"2020-07-10T00:00:00\", \"casos\": 262725.0, \"tasa_casos\": 3233.509807666935}, {\"region\": \"O\\u2019Higgins\", \"poblacion\": 991063.0, \"fecha\": \"2020-07-10T00:00:00\", \"casos\": 9745.0, \"tasa_casos\": 983.287641653457}, {\"region\": \"Tarapac\\u00e1\", \"poblacion\": 382773.0, \"fecha\": \"2020-07-10T00:00:00\", \"casos\": 7110.0, \"tasa_casos\": 1857.4977858939894}, {\"region\": \"Valpara\\u00edso\", \"poblacion\": 1960170.0, \"fecha\": \"2020-07-10T00:00:00\", \"casos\": 18452.0, \"tasa_casos\": 941.3469239912864}, {\"region\": \"\\u00d1uble\", \"poblacion\": 511551.0, \"fecha\": \"2020-07-10T00:00:00\", \"casos\": 3464.0, \"tasa_casos\": 677.1563343635337}, {\"region\": \"Antofagasta\", \"poblacion\": 691854.0, \"fecha\": \"2020-07-13T00:00:00\", \"casos\": 12601.0, \"tasa_casos\": 1821.3380279654377}, {\"region\": \"Araucan\\u00eda\", \"poblacion\": 1014343.0, \"fecha\": \"2020-07-13T00:00:00\", \"casos\": 3622.0, \"tasa_casos\": 357.07842416224094}, {\"region\": \"Arica y Parinacota\", \"poblacion\": 252110.0, \"fecha\": \"2020-07-13T00:00:00\", \"casos\": 2760.0, \"tasa_casos\": 1094.7602237118717}, {\"region\": \"Atacama\", \"poblacion\": 314709.0, \"fecha\": \"2020-07-13T00:00:00\", \"casos\": 1680.0, \"tasa_casos\": 533.8264873263872}, {\"region\": \"Ays\\u00e9n\", \"poblacion\": 107297.0, \"fecha\": \"2020-07-13T00:00:00\", \"casos\": 56.0, \"tasa_casos\": 52.191580379693754}, {\"region\": \"Biob\\u00edo\", \"poblacion\": 1663696.0, \"fecha\": \"2020-07-13T00:00:00\", \"casos\": 9621.0, \"tasa_casos\": 578.2907454246449}, {\"region\": \"Coquimbo\", \"poblacion\": 836096.0, \"fecha\": \"2020-07-13T00:00:00\", \"casos\": 4774.0, \"tasa_casos\": 570.9870636864666}, {\"region\": \"Los Lagos\", \"poblacion\": 891440.0, \"fecha\": \"2020-07-13T00:00:00\", \"casos\": 2516.0, \"tasa_casos\": 282.23997128241945}, {\"region\": \"Los R\\u00edos\", \"poblacion\": 405835.0, \"fecha\": \"2020-07-13T00:00:00\", \"casos\": 795.0, \"tasa_casos\": 195.89241933298018}, {\"region\": \"Magallanes\", \"poblacion\": 178362.0, \"fecha\": \"2020-07-13T00:00:00\", \"casos\": 1587.0, \"tasa_casos\": 889.7635146499815}, {\"region\": \"Maule\", \"poblacion\": 1131939.0, \"fecha\": \"2020-07-13T00:00:00\", \"casos\": 7823.0, \"tasa_casos\": 691.1149805775752}, {\"region\": \"Metropolitana\", \"poblacion\": 8125072.0, \"fecha\": \"2020-07-13T00:00:00\", \"casos\": 267963.0, \"tasa_casos\": 3297.9769286967544}, {\"region\": \"O\\u2019Higgins\", \"poblacion\": 991063.0, \"fecha\": \"2020-07-13T00:00:00\", \"casos\": 10335.0, \"tasa_casos\": 1042.8196794754722}, {\"region\": \"Tarapac\\u00e1\", \"poblacion\": 382773.0, \"fecha\": \"2020-07-13T00:00:00\", \"casos\": 7341.0, \"tasa_casos\": 1917.8468700770431}, {\"region\": \"Valpara\\u00edso\", \"poblacion\": 1960170.0, \"fecha\": \"2020-07-13T00:00:00\", \"casos\": 19461.0, \"tasa_casos\": 992.822051148625}, {\"region\": \"\\u00d1uble\", \"poblacion\": 511551.0, \"fecha\": \"2020-07-13T00:00:00\", \"casos\": 3687.0, \"tasa_casos\": 720.7492508078373}, {\"region\": \"Antofagasta\", \"poblacion\": 691854.0, \"fecha\": \"2020-07-17T00:00:00\", \"casos\": 13385.0, \"tasa_casos\": 1934.6567339351946}, {\"region\": \"Araucan\\u00eda\", \"poblacion\": 1014343.0, \"fecha\": \"2020-07-17T00:00:00\", \"casos\": 3713.0, \"tasa_casos\": 366.0497484578688}, {\"region\": \"Arica y Parinacota\", \"poblacion\": 252110.0, \"fecha\": \"2020-07-17T00:00:00\", \"casos\": 3169.0, \"tasa_casos\": 1256.9909959938122}, {\"region\": \"Atacama\", \"poblacion\": 314709.0, \"fecha\": \"2020-07-17T00:00:00\", \"casos\": 1796.0, \"tasa_casos\": 570.6859352608283}, {\"region\": \"Ays\\u00e9n\", \"poblacion\": 107297.0, \"fecha\": \"2020-07-17T00:00:00\", \"casos\": 67.0, \"tasa_casos\": 62.44349795427645}, {\"region\": \"Biob\\u00edo\", \"poblacion\": 1663696.0, \"fecha\": \"2020-07-17T00:00:00\", \"casos\": 10206.0, \"tasa_casos\": 613.4534193746935}, {\"region\": \"Coquimbo\", \"poblacion\": 836096.0, \"fecha\": \"2020-07-17T00:00:00\", \"casos\": 5137.0, \"tasa_casos\": 614.4031307409675}, {\"region\": \"Los Lagos\", \"poblacion\": 891440.0, \"fecha\": \"2020-07-17T00:00:00\", \"casos\": 2776.0, \"tasa_casos\": 311.4062640222561}, {\"region\": \"Los R\\u00edos\", \"poblacion\": 405835.0, \"fecha\": \"2020-07-17T00:00:00\", \"casos\": 845.0, \"tasa_casos\": 208.21269727845058}, {\"region\": \"Magallanes\", \"poblacion\": 178362.0, \"fecha\": \"2020-07-17T00:00:00\", \"casos\": 1619.0, \"tasa_casos\": 907.7045559031633}, {\"region\": \"Maule\", \"poblacion\": 1131939.0, \"fecha\": \"2020-07-17T00:00:00\", \"casos\": 8315.0, \"tasa_casos\": 734.5802203122253}, {\"region\": \"Metropolitana\", \"poblacion\": 8125072.0, \"fecha\": \"2020-07-17T00:00:00\", \"casos\": 272804.0, \"tasa_casos\": 3357.5579391788774}, {\"region\": \"O\\u2019Higgins\", \"poblacion\": 991063.0, \"fecha\": \"2020-07-17T00:00:00\", \"casos\": 11001.0, \"tasa_casos\": 1110.0202509830353}, {\"region\": \"Tarapac\\u00e1\", \"poblacion\": 382773.0, \"fecha\": \"2020-07-17T00:00:00\", \"casos\": 7577.0, \"tasa_casos\": 1979.502211493496}, {\"region\": \"Valpara\\u00edso\", \"poblacion\": 1960170.0, \"fecha\": \"2020-07-17T00:00:00\", \"casos\": 20189.0, \"tasa_casos\": 1029.961686996536}, {\"region\": \"\\u00d1uble\", \"poblacion\": 511551.0, \"fecha\": \"2020-07-17T00:00:00\", \"casos\": 3924.0, \"tasa_casos\": 767.0789422755503}, {\"region\": \"Antofagasta\", \"poblacion\": 691854.0, \"fecha\": \"2020-07-20T00:00:00\", \"casos\": 13868.0, \"tasa_casos\": 2004.469151005848}, {\"region\": \"Araucan\\u00eda\", \"poblacion\": 1014343.0, \"fecha\": \"2020-07-20T00:00:00\", \"casos\": 3769.0, \"tasa_casos\": 371.5705634090244}, {\"region\": \"Arica y Parinacota\", \"poblacion\": 252110.0, \"fecha\": \"2020-07-20T00:00:00\", \"casos\": 3420.0, \"tasa_casos\": 1356.5507119907977}, {\"region\": \"Atacama\", \"poblacion\": 314709.0, \"fecha\": \"2020-07-20T00:00:00\", \"casos\": 1947.0, \"tasa_casos\": 618.6667683479023}, {\"region\": \"Ays\\u00e9n\", \"poblacion\": 107297.0, \"fecha\": \"2020-07-20T00:00:00\", \"casos\": 67.0, \"tasa_casos\": 62.44349795427645}, {\"region\": \"Biob\\u00edo\", \"poblacion\": 1663696.0, \"fecha\": \"2020-07-20T00:00:00\", \"casos\": 10601.0, \"tasa_casos\": 637.1957376828459}, {\"region\": \"Coquimbo\", \"poblacion\": 836096.0, \"fecha\": \"2020-07-20T00:00:00\", \"casos\": 5560.0, \"tasa_casos\": 664.9954072259645}, {\"region\": \"Los Lagos\", \"poblacion\": 891440.0, \"fecha\": \"2020-07-20T00:00:00\", \"casos\": 2923.0, \"tasa_casos\": 327.89643722516377}, {\"region\": \"Los R\\u00edos\", \"poblacion\": 405835.0, \"fecha\": \"2020-07-20T00:00:00\", \"casos\": 870.0, \"tasa_casos\": 214.37283625118584}, {\"region\": \"Magallanes\", \"poblacion\": 178362.0, \"fecha\": \"2020-07-20T00:00:00\", \"casos\": 1641.0, \"tasa_casos\": 920.0390217647257}, {\"region\": \"Maule\", \"poblacion\": 1131939.0, \"fecha\": \"2020-07-20T00:00:00\", \"casos\": 8584.0, \"tasa_casos\": 758.344751793162}, {\"region\": \"Metropolitana\", \"poblacion\": 8125072.0, \"fecha\": \"2020-07-20T00:00:00\", \"casos\": 275391.0, \"tasa_casos\": 3389.3976570299933}, {\"region\": \"O\\u2019Higgins\", \"poblacion\": 991063.0, \"fecha\": \"2020-07-20T00:00:00\", \"casos\": 11283.0, \"tasa_casos\": 1138.4745470267783}, {\"region\": \"Tarapac\\u00e1\", \"poblacion\": 382773.0, \"fecha\": \"2020-07-20T00:00:00\", \"casos\": 7867.0, \"tasa_casos\": 2055.265131030663}, {\"region\": \"Valpara\\u00edso\", \"poblacion\": 1960170.0, \"fecha\": \"2020-07-20T00:00:00\", \"casos\": 19397.0, \"tasa_casos\": 989.5570282169404}, {\"region\": \"\\u00d1uble\", \"poblacion\": 511551.0, \"fecha\": \"2020-07-20T00:00:00\", \"casos\": 4061.0, \"tasa_casos\": 793.8602407189117}, {\"region\": \"Antofagasta\", \"poblacion\": 691854.0, \"fecha\": \"2020-07-24T00:00:00\", \"casos\": 14481.0, \"tasa_casos\": 2093.0716596276093}, {\"region\": \"Araucan\\u00eda\", \"poblacion\": 1014343.0, \"fecha\": \"2020-07-24T00:00:00\", \"casos\": 3865.0, \"tasa_casos\": 381.03481761100534}, {\"region\": \"Arica y Parinacota\", \"poblacion\": 252110.0, \"fecha\": \"2020-07-24T00:00:00\", \"casos\": 3938.0, \"tasa_casos\": 1562.0165800642576}, {\"region\": \"Atacama\", \"poblacion\": 314709.0, \"fecha\": \"2020-07-24T00:00:00\", \"casos\": 2162.0, \"tasa_casos\": 686.9838485712197}, {\"region\": \"Ays\\u00e9n\", \"poblacion\": 107297.0, \"fecha\": \"2020-07-24T00:00:00\", \"casos\": 68.0, \"tasa_casos\": 63.37549046105669}, {\"region\": \"Biob\\u00edo\", \"poblacion\": 1663696.0, \"fecha\": \"2020-07-24T00:00:00\", \"casos\": 11186.0, \"tasa_casos\": 672.3584116328946}, {\"region\": \"Coquimbo\", \"poblacion\": 836096.0, \"fecha\": \"2020-07-24T00:00:00\", \"casos\": 6064.0, \"tasa_casos\": 725.275566442131}, {\"region\": \"Los Lagos\", \"poblacion\": 891440.0, \"fecha\": \"2020-07-24T00:00:00\", \"casos\": 3269.0, \"tasa_casos\": 366.7100421789464}, {\"region\": \"Los R\\u00edos\", \"poblacion\": 405835.0, \"fecha\": \"2020-07-24T00:00:00\", \"casos\": 892.0, \"tasa_casos\": 219.79375854719285}, {\"region\": \"Magallanes\", \"poblacion\": 178362.0, \"fecha\": \"2020-07-24T00:00:00\", \"casos\": 1663.0, \"tasa_casos\": 932.3734876262882}, {\"region\": \"Maule\", \"poblacion\": 1131939.0, \"fecha\": \"2020-07-24T00:00:00\", \"casos\": 9030.0, \"tasa_casos\": 797.7461683005886}, {\"region\": \"Metropolitana\", \"poblacion\": 8125072.0, \"fecha\": \"2020-07-24T00:00:00\", \"casos\": 278890.0, \"tasa_casos\": 3432.4618907992444}, {\"region\": \"O\\u2019Higgins\", \"poblacion\": 991063.0, \"fecha\": \"2020-07-24T00:00:00\", \"casos\": 11930.0, \"tasa_casos\": 1203.7579851129544}, {\"region\": \"Tarapac\\u00e1\", \"poblacion\": 382773.0, \"fecha\": \"2020-07-24T00:00:00\", \"casos\": 8185.0, \"tasa_casos\": 2138.343091074867}, {\"region\": \"Valpara\\u00edso\", \"poblacion\": 1960170.0, \"fecha\": \"2020-07-24T00:00:00\", \"casos\": 21367.0, \"tasa_casos\": 1090.0585153328539}, {\"region\": \"\\u00d1uble\", \"poblacion\": 511551.0, \"fecha\": \"2020-07-24T00:00:00\", \"casos\": 4163.0, \"tasa_casos\": 813.7996016037501}, {\"region\": \"Antofagasta\", \"poblacion\": 691854.0, \"fecha\": \"2020-07-27T00:00:00\", \"casos\": 14924.0, \"tasa_casos\": 2157.1025100671527}, {\"region\": \"Araucan\\u00eda\", \"poblacion\": 1014343.0, \"fecha\": \"2020-07-27T00:00:00\", \"casos\": 3965.0, \"tasa_casos\": 390.8934157380689}, {\"region\": \"Arica y Parinacota\", \"poblacion\": 252110.0, \"fecha\": \"2020-07-27T00:00:00\", \"casos\": 4270.0, \"tasa_casos\": 1693.7051287136567}, {\"region\": \"Atacama\", \"poblacion\": 314709.0, \"fecha\": \"2020-07-27T00:00:00\", \"casos\": 2409.0, \"tasa_casos\": 765.4690523626589}, {\"region\": \"Ays\\u00e9n\", \"poblacion\": 107297.0, \"fecha\": \"2020-07-27T00:00:00\", \"casos\": 73.0, \"tasa_casos\": 68.03545299495792}, {\"region\": \"Biob\\u00edo\", \"poblacion\": 1663696.0, \"fecha\": \"2020-07-27T00:00:00\", \"casos\": 11700.0, \"tasa_casos\": 703.2534790009713}, {\"region\": \"Coquimbo\", \"poblacion\": 836096.0, \"fecha\": \"2020-07-27T00:00:00\", \"casos\": 6525.0, \"tasa_casos\": 780.4127755664421}, {\"region\": \"Los Lagos\", \"poblacion\": 891440.0, \"fecha\": \"2020-07-27T00:00:00\", \"casos\": 3653.0, \"tasa_casos\": 409.7864129947052}, {\"region\": \"Los R\\u00edos\", \"poblacion\": 405835.0, \"fecha\": \"2020-07-27T00:00:00\", \"casos\": 918.0, \"tasa_casos\": 226.20030307883746}, {\"region\": \"Magallanes\", \"poblacion\": 178362.0, \"fecha\": \"2020-07-27T00:00:00\", \"casos\": 1687.0, \"tasa_casos\": 945.8292685661744}, {\"region\": \"Maule\", \"poblacion\": 1131939.0, \"fecha\": \"2020-07-27T00:00:00\", \"casos\": 9400.0, \"tasa_casos\": 830.4334420847766}, {\"region\": \"Metropolitana\", \"poblacion\": 8125072.0, \"fecha\": \"2020-07-27T00:00:00\", \"casos\": 281115.0, \"tasa_casos\": 3459.8462635161877}, {\"region\": \"O\\u2019Higgins\", \"poblacion\": 991063.0, \"fecha\": \"2020-07-27T00:00:00\", \"casos\": 12246.0, \"tasa_casos\": 1235.64294096339}, {\"region\": \"Tarapac\\u00e1\", \"poblacion\": 382773.0, \"fecha\": \"2020-07-27T00:00:00\", \"casos\": 8419.0, \"tasa_casos\": 2199.47592959796}, {\"region\": \"Valpara\\u00edso\", \"poblacion\": 1960170.0, \"fecha\": \"2020-07-27T00:00:00\", \"casos\": 21965.0, \"tasa_casos\": 1120.5660733507807}, {\"region\": \"\\u00d1uble\", \"poblacion\": 511551.0, \"fecha\": \"2020-07-27T00:00:00\", \"casos\": 4270.0, \"tasa_casos\": 834.7163821398062}, {\"region\": \"Antofagasta\", \"poblacion\": 691854.0, \"fecha\": \"2020-07-31T00:00:00\", \"casos\": 15429.0, \"tasa_casos\": 2230.094788784917}, {\"region\": \"Araucan\\u00eda\", \"poblacion\": 1014343.0, \"fecha\": \"2020-07-31T00:00:00\", \"casos\": 4115.0, \"tasa_casos\": 405.68131292866417}, {\"region\": \"Arica y Parinacota\", \"poblacion\": 252110.0, \"fecha\": \"2020-07-31T00:00:00\", \"casos\": 4699.0, \"tasa_casos\": 1863.8689460949583}, {\"region\": \"Atacama\", \"poblacion\": 314709.0, \"fecha\": \"2020-07-31T00:00:00\", \"casos\": 2747.0, \"tasa_casos\": 872.8698575509438}, {\"region\": \"Ays\\u00e9n\", \"poblacion\": 107297.0, \"fecha\": \"2020-07-31T00:00:00\", \"casos\": 78.0, \"tasa_casos\": 72.69541552885914}, {\"region\": \"Biob\\u00edo\", \"poblacion\": 1663696.0, \"fecha\": \"2020-07-31T00:00:00\", \"casos\": 12332.0, \"tasa_casos\": 741.2411882940153}, {\"region\": \"Coquimbo\", \"poblacion\": 836096.0, \"fecha\": \"2020-07-31T00:00:00\", \"casos\": 7063.0, \"tasa_casos\": 844.7594534598898}, {\"region\": \"Los Lagos\", \"poblacion\": 891440.0, \"fecha\": \"2020-07-31T00:00:00\", \"casos\": 4043.0, \"tasa_casos\": 453.5358521044602}, {\"region\": \"Los R\\u00edos\", \"poblacion\": 405835.0, \"fecha\": \"2020-07-31T00:00:00\", \"casos\": 940.0, \"tasa_casos\": 231.62122537484444}, {\"region\": \"Magallanes\", \"poblacion\": 178362.0, \"fecha\": \"2020-07-31T00:00:00\", \"casos\": 1793.0, \"tasa_casos\": 1005.2589677173389}, {\"region\": \"Maule\", \"poblacion\": 1131939.0, \"fecha\": \"2020-07-31T00:00:00\", \"casos\": 9770.0, \"tasa_casos\": 863.1207158689647}, {\"region\": \"Metropolitana\", \"poblacion\": 8125072.0, \"fecha\": \"2020-07-31T00:00:00\", \"casos\": 283672.0, \"tasa_casos\": 3491.3167538699963}, {\"region\": \"O\\u2019Higgins\", \"poblacion\": 991063.0, \"fecha\": \"2020-07-31T00:00:00\", \"casos\": 12551.0, \"tasa_casos\": 1266.417977464601}, {\"region\": \"Tarapac\\u00e1\", \"poblacion\": 382773.0, \"fecha\": \"2020-07-31T00:00:00\", \"casos\": 8928.0, \"tasa_casos\": 2332.452915958022}, {\"region\": \"Valpara\\u00edso\", \"poblacion\": 1960170.0, \"fecha\": \"2020-07-31T00:00:00\", \"casos\": 22671.0, \"tasa_casos\": 1156.5833575659253}, {\"region\": \"\\u00d1uble\", \"poblacion\": 511551.0, \"fecha\": \"2020-07-31T00:00:00\", \"casos\": 4357.0, \"tasa_casos\": 851.7234840709918}, {\"region\": \"Antofagasta\", \"poblacion\": 691854.0, \"fecha\": \"2020-08-03T00:00:00\", \"casos\": 15841.0, \"tasa_casos\": 2289.64492508535}, {\"region\": \"Araucan\\u00eda\", \"poblacion\": 1014343.0, \"fecha\": \"2020-08-03T00:00:00\", \"casos\": 4217.0, \"tasa_casos\": 415.73708301826895}, {\"region\": \"Arica y Parinacota\", \"poblacion\": 252110.0, \"fecha\": \"2020-08-03T00:00:00\", \"casos\": 4947.0, \"tasa_casos\": 1962.2387053270397}, {\"region\": \"Atacama\", \"poblacion\": 314709.0, \"fecha\": \"2020-08-03T00:00:00\", \"casos\": 3071.0, \"tasa_casos\": 975.8221086781756}, {\"region\": \"Ays\\u00e9n\", \"poblacion\": 107297.0, \"fecha\": \"2020-08-03T00:00:00\", \"casos\": 83.0, \"tasa_casos\": 77.35537806276038}, {\"region\": \"Biob\\u00edo\", \"poblacion\": 1663696.0, \"fecha\": \"2020-08-03T00:00:00\", \"casos\": 12825.0, \"tasa_casos\": 770.8740058279877}, {\"region\": \"Coquimbo\", \"poblacion\": 836096.0, \"fecha\": \"2020-08-03T00:00:00\", \"casos\": 7376.0, \"tasa_casos\": 882.1953459889775}, {\"region\": \"Los Lagos\", \"poblacion\": 891440.0, \"fecha\": \"2020-08-03T00:00:00\", \"casos\": 4388.0, \"tasa_casos\": 492.2372790092435}, {\"region\": \"Los R\\u00edos\", \"poblacion\": 405835.0, \"fecha\": \"2020-08-03T00:00:00\", \"casos\": 958.0, \"tasa_casos\": 236.0565254352138}, {\"region\": \"Magallanes\", \"poblacion\": 178362.0, \"fecha\": \"2020-08-03T00:00:00\", \"casos\": 1860.0, \"tasa_casos\": 1042.823022841188}, {\"region\": \"Maule\", \"poblacion\": 1131939.0, \"fecha\": \"2020-08-03T00:00:00\", \"casos\": 9989.0, \"tasa_casos\": 882.4680481898761}, {\"region\": \"Metropolitana\", \"poblacion\": 8125072.0, \"fecha\": \"2020-08-03T00:00:00\", \"casos\": 285779.0, \"tasa_casos\": 3517.2488317641983}, {\"region\": \"O\\u2019Higgins\", \"poblacion\": 991063.0, \"fecha\": \"2020-08-03T00:00:00\", \"casos\": 12835.0, \"tasa_casos\": 1295.0740770263849}, {\"region\": \"Tarapac\\u00e1\", \"poblacion\": 382773.0, \"fecha\": \"2020-08-03T00:00:00\", \"casos\": 9147.0, \"tasa_casos\": 2389.666982780917}, {\"region\": \"Valpara\\u00edso\", \"poblacion\": 1960170.0, \"fecha\": \"2020-08-03T00:00:00\", \"casos\": 23326.0, \"tasa_casos\": 1189.998826632384}, {\"region\": \"\\u00d1uble\", \"poblacion\": 511551.0, \"fecha\": \"2020-08-03T00:00:00\", \"casos\": 4438.0, \"tasa_casos\": 867.5576824207167}, {\"region\": \"Antofagasta\", \"poblacion\": 691854.0, \"fecha\": \"2020-08-07T00:00:00\", \"casos\": 16412.0, \"tasa_casos\": 2372.1767887444457}, {\"region\": \"Araucan\\u00eda\", \"poblacion\": 1014343.0, \"fecha\": \"2020-08-07T00:00:00\", \"casos\": 4359.0, \"tasa_casos\": 429.73629235869913}, {\"region\": \"Arica y Parinacota\", \"poblacion\": 252110.0, \"fecha\": \"2020-08-07T00:00:00\", \"casos\": 5308.0, \"tasa_casos\": 2105.430169370513}, {\"region\": \"Atacama\", \"poblacion\": 314709.0, \"fecha\": \"2020-08-07T00:00:00\", \"casos\": 3464.0, \"tasa_casos\": 1100.6993762491697}, {\"region\": \"Ays\\u00e9n\", \"poblacion\": 107297.0, \"fecha\": \"2020-08-07T00:00:00\", \"casos\": 86.0, \"tasa_casos\": 80.15135558310111}, {\"region\": \"Biob\\u00edo\", \"poblacion\": 1663696.0, \"fecha\": \"2020-08-07T00:00:00\", \"casos\": 13600.0, \"tasa_casos\": 817.4570354199325}, {\"region\": \"Coquimbo\", \"poblacion\": 836096.0, \"fecha\": \"2020-08-07T00:00:00\", \"casos\": 7914.0, \"tasa_casos\": 946.5420238824249}, {\"region\": \"Los Lagos\", \"poblacion\": 891440.0, \"fecha\": \"2020-08-07T00:00:00\", \"casos\": 4907.0, \"tasa_casos\": 550.4576864399174}, {\"region\": \"Los R\\u00edos\", \"poblacion\": 405835.0, \"fecha\": \"2020-08-07T00:00:00\", \"casos\": 984.0, \"tasa_casos\": 242.46306996685846}, {\"region\": \"Magallanes\", \"poblacion\": 178362.0, \"fecha\": \"2020-08-07T00:00:00\", \"casos\": 1982.0, \"tasa_casos\": 1111.2232426189435}, {\"region\": \"Maule\", \"poblacion\": 1131939.0, \"fecha\": \"2020-08-07T00:00:00\", \"casos\": 10386.0, \"tasa_casos\": 917.5406095204777}, {\"region\": \"Metropolitana\", \"poblacion\": 8125072.0, \"fecha\": \"2020-08-07T00:00:00\", \"casos\": 288952.0, \"tasa_casos\": 3556.3007933960466}, {\"region\": \"O\\u2019Higgins\", \"poblacion\": 991063.0, \"fecha\": \"2020-08-07T00:00:00\", \"casos\": 13336.0, \"tasa_casos\": 1345.6258582955877}, {\"region\": \"Tarapac\\u00e1\", \"poblacion\": 382773.0, \"fecha\": \"2020-08-07T00:00:00\", \"casos\": 9476.0, \"tasa_casos\": 2475.6187087385997}, {\"region\": \"Valpara\\u00edso\", \"poblacion\": 1960170.0, \"fecha\": \"2020-08-07T00:00:00\", \"casos\": 25046.0, \"tasa_casos\": 1277.7463179214049}, {\"region\": \"\\u00d1uble\", \"poblacion\": 511551.0, \"fecha\": \"2020-08-07T00:00:00\", \"casos\": 4594.0, \"tasa_casos\": 898.0531755387047}, {\"region\": \"Antofagasta\", \"poblacion\": 691854.0, \"fecha\": \"2020-08-10T00:00:00\", \"casos\": 16886.0, \"tasa_casos\": 2440.6883533231}, {\"region\": \"Araucan\\u00eda\", \"poblacion\": 1014343.0, \"fecha\": \"2020-08-10T00:00:00\", \"casos\": 4450.0, \"tasa_casos\": 438.70761665432696}, {\"region\": \"Arica y Parinacota\", \"poblacion\": 252110.0, \"fecha\": \"2020-08-10T00:00:00\", \"casos\": 5645.0, \"tasa_casos\": 2239.1019792947523}, {\"region\": \"Atacama\", \"poblacion\": 314709.0, \"fecha\": \"2020-08-10T00:00:00\", \"casos\": 3944.0, \"tasa_casos\": 1253.2212297709948}, {\"region\": \"Ays\\u00e9n\", \"poblacion\": 107297.0, \"fecha\": \"2020-08-10T00:00:00\", \"casos\": 95.0, \"tasa_casos\": 88.53928814412332}, {\"region\": \"Biob\\u00edo\", \"poblacion\": 1663696.0, \"fecha\": \"2020-08-10T00:00:00\", \"casos\": 14213.0, \"tasa_casos\": 854.3027091487868}, {\"region\": \"Coquimbo\", \"poblacion\": 836096.0, \"fecha\": \"2020-08-10T00:00:00\", \"casos\": 8359.0, \"tasa_casos\": 999.7655771586037}, {\"region\": \"Los Lagos\", \"poblacion\": 891440.0, \"fecha\": \"2020-08-10T00:00:00\", \"casos\": 5207.0, \"tasa_casos\": 584.1111011397289}, {\"region\": \"Los R\\u00edos\", \"poblacion\": 405835.0, \"fecha\": \"2020-08-10T00:00:00\", \"casos\": 1016.0, \"tasa_casos\": 250.34804785195954}, {\"region\": \"Magallanes\", \"poblacion\": 178362.0, \"fecha\": \"2020-08-10T00:00:00\", \"casos\": 2114.0, \"tasa_casos\": 1185.230037788318}, {\"region\": \"Maule\", \"poblacion\": 1131939.0, \"fecha\": \"2020-08-10T00:00:00\", \"casos\": 10703.0, \"tasa_casos\": 945.5456521950389}, {\"region\": \"Metropolitana\", \"poblacion\": 8125072.0, \"fecha\": \"2020-08-10T00:00:00\", \"casos\": 291235.0, \"tasa_casos\": 3584.3990059411162}, {\"region\": \"O\\u2019Higgins\", \"poblacion\": 991063.0, \"fecha\": \"2020-08-10T00:00:00\", \"casos\": 13852.0, \"tasa_casos\": 1397.691165950096}, {\"region\": \"Tarapac\\u00e1\", \"poblacion\": 382773.0, \"fecha\": \"2020-08-10T00:00:00\", \"casos\": 9678.0, \"tasa_casos\": 2528.3915009679367}, {\"region\": \"Valpara\\u00edso\", \"poblacion\": 1960170.0, \"fecha\": \"2020-08-10T00:00:00\", \"casos\": 26017.0, \"tasa_casos\": 1327.2828377130554}, {\"region\": \"\\u00d1uble\", \"poblacion\": 511551.0, \"fecha\": \"2020-08-10T00:00:00\", \"casos\": 4719.0, \"tasa_casos\": 922.4886668191441}, {\"region\": \"Antofagasta\", \"poblacion\": 691854.0, \"fecha\": \"2020-08-14T00:00:00\", \"casos\": 17382.0, \"tasa_casos\": 2512.3797795488645}, {\"region\": \"Araucan\\u00eda\", \"poblacion\": 1014343.0, \"fecha\": \"2020-08-14T00:00:00\", \"casos\": 4579.0, \"tasa_casos\": 451.425208238239}, {\"region\": \"Arica y Parinacota\", \"poblacion\": 252110.0, \"fecha\": \"2020-08-14T00:00:00\", \"casos\": 6021.0, \"tasa_casos\": 2388.2432271627467}, {\"region\": \"Atacama\", \"poblacion\": 314709.0, \"fecha\": \"2020-08-14T00:00:00\", \"casos\": 4399.0, \"tasa_casos\": 1397.7992367552247}, {\"region\": \"Ays\\u00e9n\", \"poblacion\": 107297.0, \"fecha\": \"2020-08-14T00:00:00\", \"casos\": 95.0, \"tasa_casos\": 88.53928814412332}, {\"region\": \"Biob\\u00edo\", \"poblacion\": 1663696.0, \"fecha\": \"2020-08-14T00:00:00\", \"casos\": 15053.0, \"tasa_casos\": 904.7927025129591}, {\"region\": \"Coquimbo\", \"poblacion\": 836096.0, \"fecha\": \"2020-08-14T00:00:00\", \"casos\": 8892.0, \"tasa_casos\": 1063.5142375995101}, {\"region\": \"Los Lagos\", \"poblacion\": 891440.0, \"fecha\": \"2020-08-14T00:00:00\", \"casos\": 5589.0, \"tasa_casos\": 626.963115857489}, {\"region\": \"Los R\\u00edos\", \"poblacion\": 405835.0, \"fecha\": \"2020-08-14T00:00:00\", \"casos\": 1055.0, \"tasa_casos\": 259.9578646494265}, {\"region\": \"Magallanes\", \"poblacion\": 178362.0, \"fecha\": \"2020-08-14T00:00:00\", \"casos\": 2246.0, \"tasa_casos\": 1259.2368329576927}, {\"region\": \"Maule\", \"poblacion\": 1131939.0, \"fecha\": \"2020-08-14T00:00:00\", \"casos\": 11047.0, \"tasa_casos\": 975.9359824160136}, {\"region\": \"Metropolitana\", \"poblacion\": 8125072.0, \"fecha\": \"2020-08-14T00:00:00\", \"casos\": 293989.0, \"tasa_casos\": 3618.2940901939082}, {\"region\": \"O\\u2019Higgins\", \"poblacion\": 991063.0, \"fecha\": \"2020-08-14T00:00:00\", \"casos\": 14403.0, \"tasa_casos\": 1453.2880351703172}, {\"region\": \"Tarapac\\u00e1\", \"poblacion\": 382773.0, \"fecha\": \"2020-08-14T00:00:00\", \"casos\": 10088.0, \"tasa_casos\": 2635.5045941066896}, {\"region\": \"Valpara\\u00edso\", \"poblacion\": 1960170.0, \"fecha\": \"2020-08-14T00:00:00\", \"casos\": 27299.0, \"tasa_casos\": 1392.6853283133607}, {\"region\": \"\\u00d1uble\", \"poblacion\": 511551.0, \"fecha\": \"2020-08-14T00:00:00\", \"casos\": 4894.0, \"tasa_casos\": 956.6983546117591}, {\"region\": \"Antofagasta\", \"poblacion\": 691854.0, \"fecha\": \"2020-08-17T00:00:00\", \"casos\": 17744.0, \"tasa_casos\": 2564.70295756041}, {\"region\": \"Araucan\\u00eda\", \"poblacion\": 1014343.0, \"fecha\": \"2020-08-17T00:00:00\", \"casos\": 4678.0, \"tasa_casos\": 461.1852203840318}, {\"region\": \"Arica y Parinacota\", \"poblacion\": 252110.0, \"fecha\": \"2020-08-17T00:00:00\", \"casos\": 6282.0, \"tasa_casos\": 2491.7694657094125}, {\"region\": \"Atacama\", \"poblacion\": 314709.0, \"fecha\": \"2020-08-17T00:00:00\", \"casos\": 4782.0, \"tasa_casos\": 1519.4989657111807}, {\"region\": \"Ays\\u00e9n\", \"poblacion\": 107297.0, \"fecha\": \"2020-08-17T00:00:00\", \"casos\": 98.0, \"tasa_casos\": 91.33526566446406}, {\"region\": \"Biob\\u00edo\", \"poblacion\": 1663696.0, \"fecha\": \"2020-08-17T00:00:00\", \"casos\": 15741.0, \"tasa_casos\": 946.1464113636144}, {\"region\": \"Coquimbo\", \"poblacion\": 836096.0, \"fecha\": \"2020-08-17T00:00:00\", \"casos\": 9364.0, \"tasa_casos\": 1119.967085119412}, {\"region\": \"Los Lagos\", \"poblacion\": 891440.0, \"fecha\": \"2020-08-17T00:00:00\", \"casos\": 5819.0, \"tasa_casos\": 652.7640671273446}, {\"region\": \"Los R\\u00edos\", \"poblacion\": 405835.0, \"fecha\": \"2020-08-17T00:00:00\", \"casos\": 1069.0, \"tasa_casos\": 263.4075424741582}, {\"region\": \"Magallanes\", \"poblacion\": 178362.0, \"fecha\": \"2020-08-17T00:00:00\", \"casos\": 2381.0, \"tasa_casos\": 1334.9256007445533}, {\"region\": \"Maule\", \"poblacion\": 1131939.0, \"fecha\": \"2020-08-17T00:00:00\", \"casos\": 11310.0, \"tasa_casos\": 999.1704499977471}, {\"region\": \"Metropolitana\", \"poblacion\": 8125072.0, \"fecha\": \"2020-08-17T00:00:00\", \"casos\": 295864.0, \"tasa_casos\": 3641.370808775602}, {\"region\": \"O\\u2019Higgins\", \"poblacion\": 991063.0, \"fecha\": \"2020-08-17T00:00:00\", \"casos\": 14665.0, \"tasa_casos\": 1479.7242960336528}, {\"region\": \"Tarapac\\u00e1\", \"poblacion\": 382773.0, \"fecha\": \"2020-08-17T00:00:00\", \"casos\": 10354.0, \"tasa_casos\": 2704.99747892354}, {\"region\": \"Valpara\\u00edso\", \"poblacion\": 1960170.0, \"fecha\": \"2020-08-17T00:00:00\", \"casos\": 28131.0, \"tasa_casos\": 1435.130626425259}, {\"region\": \"\\u00d1uble\", \"poblacion\": 511551.0, \"fecha\": \"2020-08-17T00:00:00\", \"casos\": 4973.0, \"tasa_casos\": 972.1415851009968}, {\"region\": \"Antofagasta\", \"poblacion\": 691854.0, \"fecha\": \"2020-08-21T00:00:00\", \"casos\": 18119.0, \"tasa_casos\": 2618.9051447270667}, {\"region\": \"Araucan\\u00eda\", \"poblacion\": 1014343.0, \"fecha\": \"2020-08-21T00:00:00\", \"casos\": 4834.0, \"tasa_casos\": 476.5646334622509}, {\"region\": \"Arica y Parinacota\", \"poblacion\": 252110.0, \"fecha\": \"2020-08-21T00:00:00\", \"casos\": 6531.0, \"tasa_casos\": 2590.5358771964616}, {\"region\": \"Atacama\", \"poblacion\": 314709.0, \"fecha\": \"2020-08-21T00:00:00\", \"casos\": 5086.0, \"tasa_casos\": 1616.0961396083364}, {\"region\": \"Ays\\u00e9n\", \"poblacion\": 107297.0, \"fecha\": \"2020-08-21T00:00:00\", \"casos\": 99.0, \"tasa_casos\": 92.2672581712443}, {\"region\": \"Biob\\u00edo\", \"poblacion\": 1663696.0, \"fecha\": \"2020-08-21T00:00:00\", \"casos\": 16675.0, \"tasa_casos\": 1002.2864754137776}, {\"region\": \"Coquimbo\", \"poblacion\": 836096.0, \"fecha\": \"2020-08-21T00:00:00\", \"casos\": 9888.0, \"tasa_casos\": 1182.639314145744}, {\"region\": \"Los Lagos\", \"poblacion\": 891440.0, \"fecha\": \"2020-08-21T00:00:00\", \"casos\": 6137.0, \"tasa_casos\": 688.4366867091447}, {\"region\": \"Los R\\u00edos\", \"poblacion\": 405835.0, \"fecha\": \"2020-08-21T00:00:00\", \"casos\": 1077.0, \"tasa_casos\": 265.3787869454335}, {\"region\": \"Magallanes\", \"poblacion\": 178362.0, \"fecha\": \"2020-08-21T00:00:00\", \"casos\": 2585.0, \"tasa_casos\": 1449.2997387335868}, {\"region\": \"Maule\", \"poblacion\": 1131939.0, \"fecha\": \"2020-08-21T00:00:00\", \"casos\": 11660.0, \"tasa_casos\": 1030.0908441179251}, {\"region\": \"Metropolitana\", \"poblacion\": 8125072.0, \"fecha\": \"2020-08-21T00:00:00\", \"casos\": 297998.0, \"tasa_casos\": 3667.635191417381}, {\"region\": \"O\\u2019Higgins\", \"poblacion\": 991063.0, \"fecha\": \"2020-08-21T00:00:00\", \"casos\": 15131.0, \"tasa_casos\": 1526.7445157371428}, {\"region\": \"Tarapac\\u00e1\", \"poblacion\": 382773.0, \"fecha\": \"2020-08-21T00:00:00\", \"casos\": 10679.0, \"tasa_casos\": 2789.9041990945025}, {\"region\": \"Valpara\\u00edso\", \"poblacion\": 1960170.0, \"fecha\": \"2020-08-21T00:00:00\", \"casos\": 29093.0, \"tasa_casos\": 1484.2080023671417}, {\"region\": \"\\u00d1uble\", \"poblacion\": 511551.0, \"fecha\": \"2020-08-21T00:00:00\", \"casos\": 5167.0, \"tasa_casos\": 1010.0654675682385}, {\"region\": \"Antofagasta\", \"poblacion\": 691854.0, \"fecha\": \"2020-08-24T00:00:00\", \"casos\": 18456.0, \"tasa_casos\": 2667.6148435941686}, {\"region\": \"Araucan\\u00eda\", \"poblacion\": 1014343.0, \"fecha\": \"2020-08-24T00:00:00\", \"casos\": 4921.0, \"tasa_casos\": 485.14161383279617}, {\"region\": \"Arica y Parinacota\", \"poblacion\": 252110.0, \"fecha\": \"2020-08-24T00:00:00\", \"casos\": 6740.0, \"tasa_casos\": 2673.4361984847887}, {\"region\": \"Atacama\", \"poblacion\": 314709.0, \"fecha\": \"2020-08-24T00:00:00\", \"casos\": 5364.0, \"tasa_casos\": 1704.4317131063933}, {\"region\": \"Ays\\u00e9n\", \"poblacion\": 107297.0, \"fecha\": \"2020-08-24T00:00:00\", \"casos\": 102.0, \"tasa_casos\": 95.06323569158504}, {\"region\": \"Biob\\u00edo\", \"poblacion\": 1663696.0, \"fecha\": \"2020-08-24T00:00:00\", \"casos\": 17552.0, \"tasa_casos\": 1055.0004327713718}, {\"region\": \"Coquimbo\", \"poblacion\": 836096.0, \"fecha\": \"2020-08-24T00:00:00\", \"casos\": 10435.0, \"tasa_casos\": 1248.062423453766}, {\"region\": \"Los Lagos\", \"poblacion\": 891440.0, \"fecha\": \"2020-08-24T00:00:00\", \"casos\": 6357.0, \"tasa_casos\": 713.1158574890065}, {\"region\": \"Los R\\u00edos\", \"poblacion\": 405835.0, \"fecha\": \"2020-08-24T00:00:00\", \"casos\": 1111.0, \"tasa_casos\": 273.7565759483534}, {\"region\": \"Magallanes\", \"poblacion\": 178362.0, \"fecha\": \"2020-08-24T00:00:00\", \"casos\": 2901.0, \"tasa_casos\": 1626.4675211087563}, {\"region\": \"Maule\", \"poblacion\": 1131939.0, \"fecha\": \"2020-08-24T00:00:00\", \"casos\": 11936.0, \"tasa_casos\": 1054.4737834812654}, {\"region\": \"Metropolitana\", \"poblacion\": 8125072.0, \"fecha\": \"2020-08-24T00:00:00\", \"casos\": 299962.0, \"tasa_casos\": 3691.807284907752}, {\"region\": \"O\\u2019Higgins\", \"poblacion\": 991063.0, \"fecha\": \"2020-08-24T00:00:00\", \"casos\": 15489.0, \"tasa_casos\": 1562.8673454664336}, {\"region\": \"Tarapac\\u00e1\", \"poblacion\": 382773.0, \"fecha\": \"2020-08-24T00:00:00\", \"casos\": 10947.0, \"tasa_casos\": 2859.919586804712}, {\"region\": \"Valpara\\u00edso\", \"poblacion\": 1960170.0, \"fecha\": \"2020-08-24T00:00:00\", \"casos\": 29820.0, \"tasa_casos\": 1521.2966222317452}, {\"region\": \"\\u00d1uble\", \"poblacion\": 511551.0, \"fecha\": \"2020-08-24T00:00:00\", \"casos\": 5369.0, \"tasa_casos\": 1049.5532214774285}, {\"region\": \"Antofagasta\", \"poblacion\": 691854.0, \"fecha\": \"2020-08-28T00:00:00\", \"casos\": 18801.0, \"tasa_casos\": 2717.480855787493}, {\"region\": \"Araucan\\u00eda\", \"poblacion\": 1014343.0, \"fecha\": \"2020-08-28T00:00:00\", \"casos\": 5042.0, \"tasa_casos\": 497.07051756654306}, {\"region\": \"Arica y Parinacota\", \"poblacion\": 252110.0, \"fecha\": \"2020-08-28T00:00:00\", \"casos\": 6943.0, \"tasa_casos\": 2753.9566062433064}, {\"region\": \"Atacama\", \"poblacion\": 314709.0, \"fecha\": \"2020-08-28T00:00:00\", \"casos\": 5577.0, \"tasa_casos\": 1772.1132856067034}, {\"region\": \"Ays\\u00e9n\", \"poblacion\": 107297.0, \"fecha\": \"2020-08-28T00:00:00\", \"casos\": 114.0, \"tasa_casos\": 106.24714577294799}, {\"region\": \"Biob\\u00edo\", \"poblacion\": 1663696.0, \"fecha\": \"2020-08-28T00:00:00\", \"casos\": 18735.0, \"tasa_casos\": 1126.1071734259144}, {\"region\": \"Coquimbo\", \"poblacion\": 836096.0, \"fecha\": \"2020-08-28T00:00:00\", \"casos\": 10996.0, \"tasa_casos\": 1315.1599816289038}, {\"region\": \"Los Lagos\", \"poblacion\": 891440.0, \"fecha\": \"2020-08-28T00:00:00\", \"casos\": 6651.0, \"tasa_casos\": 746.0962038948219}, {\"region\": \"Los R\\u00edos\", \"poblacion\": 405835.0, \"fecha\": \"2020-08-28T00:00:00\", \"casos\": 1142.0, \"tasa_casos\": 281.3951482745451}, {\"region\": \"Magallanes\", \"poblacion\": 178362.0, \"fecha\": \"2020-08-28T00:00:00\", \"casos\": 3270.0, \"tasa_casos\": 1833.350153059508}, {\"region\": \"Maule\", \"poblacion\": 1131939.0, \"fecha\": \"2020-08-28T00:00:00\", \"casos\": 12301.0, \"tasa_casos\": 1086.7193373494508}, {\"region\": \"Metropolitana\", \"poblacion\": 8125072.0, \"fecha\": \"2020-08-28T00:00:00\", \"casos\": 302265.0, \"tasa_casos\": 3720.1516491176935}, {\"region\": \"O\\u2019Higgins\", \"poblacion\": 991063.0, \"fecha\": \"2020-08-28T00:00:00\", \"casos\": 16006.0, \"tasa_casos\": 1615.0335548799621}, {\"region\": \"Tarapac\\u00e1\", \"poblacion\": 382773.0, \"fecha\": \"2020-08-28T00:00:00\", \"casos\": 11180.0, \"tasa_casos\": 2920.7911738811254}, {\"region\": \"Valpara\\u00edso\", \"poblacion\": 1960170.0, \"fecha\": \"2020-08-28T00:00:00\", \"casos\": 30800.0, \"tasa_casos\": 1571.2922858731642}, {\"region\": \"\\u00d1uble\", \"poblacion\": 511551.0, \"fecha\": \"2020-08-28T00:00:00\", \"casos\": 5716.0, \"tasa_casos\": 1117.386145271928}, {\"region\": \"Antofagasta\", \"poblacion\": 691854.0, \"fecha\": \"2020-08-31T00:00:00\", \"casos\": 19084.0, \"tasa_casos\": 2758.385439702596}, {\"region\": \"Araucan\\u00eda\", \"poblacion\": 1014343.0, \"fecha\": \"2020-08-31T00:00:00\", \"casos\": 5148.0, \"tasa_casos\": 507.5206315812304}, {\"region\": \"Arica y Parinacota\", \"poblacion\": 252110.0, \"fecha\": \"2020-08-31T00:00:00\", \"casos\": 7131.0, \"tasa_casos\": 2828.527230177304}, {\"region\": \"Atacama\", \"poblacion\": 314709.0, \"fecha\": \"2020-08-31T00:00:00\", \"casos\": 5760.0, \"tasa_casos\": 1830.262242261899}, {\"region\": \"Ays\\u00e9n\", \"poblacion\": 107297.0, \"fecha\": \"2020-08-31T00:00:00\", \"casos\": 124.0, \"tasa_casos\": 115.56707084075045}, {\"region\": \"Biob\\u00edo\", \"poblacion\": 1663696.0, \"fecha\": \"2020-08-31T00:00:00\", \"casos\": 19703.0, \"tasa_casos\": 1184.2908800646273}, {\"region\": \"Coquimbo\", \"poblacion\": 836096.0, \"fecha\": \"2020-08-31T00:00:00\", \"casos\": 11328.0, \"tasa_casos\": 1354.8683404776486}, {\"region\": \"Los Lagos\", \"poblacion\": 891440.0, \"fecha\": \"2020-08-31T00:00:00\", \"casos\": 6891.0, \"tasa_casos\": 773.018935654671}, {\"region\": \"Los R\\u00edos\", \"poblacion\": 405835.0, \"fecha\": \"2020-08-31T00:00:00\", \"casos\": 1167.0, \"tasa_casos\": 287.5552872472803}, {\"region\": \"Magallanes\", \"poblacion\": 178362.0, \"fecha\": \"2020-08-31T00:00:00\", \"casos\": 3600.0, \"tasa_casos\": 2018.3671409829449}, {\"region\": \"Maule\", \"poblacion\": 1131939.0, \"fecha\": \"2020-08-31T00:00:00\", \"casos\": 12595.0, \"tasa_casos\": 1112.6924684104004}, {\"region\": \"Metropolitana\", \"poblacion\": 8125072.0, \"fecha\": \"2020-08-31T00:00:00\", \"casos\": 304233.0, \"tasa_casos\": 3744.3729729410397}, {\"region\": \"O\\u2019Higgins\", \"poblacion\": 991063.0, \"fecha\": \"2020-08-31T00:00:00\", \"casos\": 16355.0, \"tasa_casos\": 1650.2482687780696}, {\"region\": \"Tarapac\\u00e1\", \"poblacion\": 382773.0, \"fecha\": \"2020-08-31T00:00:00\", \"casos\": 11383.0, \"tasa_casos\": 2973.825217557142}, {\"region\": \"Valpara\\u00edso\", \"poblacion\": 1960170.0, \"fecha\": \"2020-08-31T00:00:00\", \"casos\": 31637.0, \"tasa_casos\": 1613.9926639016003}, {\"region\": \"\\u00d1uble\", \"poblacion\": 511551.0, \"fecha\": \"2020-08-31T00:00:00\", \"casos\": 6033.0, \"tasa_casos\": 1179.354551159122}, {\"region\": \"Antofagasta\", \"poblacion\": 691854.0, \"fecha\": \"2020-09-04T00:00:00\", \"casos\": 19378.0, \"tasa_casos\": 2800.879954441255}, {\"region\": \"Araucan\\u00eda\", \"poblacion\": 1014343.0, \"fecha\": \"2020-09-04T00:00:00\", \"casos\": 5358.0, \"tasa_casos\": 528.2236876480638}, {\"region\": \"Arica y Parinacota\", \"poblacion\": 252110.0, \"fecha\": \"2020-09-04T00:00:00\", \"casos\": 7338.0, \"tasa_casos\": 2910.634246955694}, {\"region\": \"Atacama\", \"poblacion\": 314709.0, \"fecha\": \"2020-09-04T00:00:00\", \"casos\": 5902.0, \"tasa_casos\": 1875.383290595439}, {\"region\": \"Ays\\u00e9n\", \"poblacion\": 107297.0, \"fecha\": \"2020-09-04T00:00:00\", \"casos\": 125.0, \"tasa_casos\": 116.49906334753068}, {\"region\": \"Biob\\u00edo\", \"poblacion\": 1663696.0, \"fecha\": \"2020-09-04T00:00:00\", \"casos\": 20767.0, \"tasa_casos\": 1248.2448716592453}, {\"region\": \"Coquimbo\", \"poblacion\": 836096.0, \"fecha\": \"2020-09-04T00:00:00\", \"casos\": 11768.0, \"tasa_casos\": 1407.493876301286}, {\"region\": \"Los Lagos\", \"poblacion\": 891440.0, \"fecha\": \"2020-09-04T00:00:00\", \"casos\": 7200.0, \"tasa_casos\": 807.681952795477}, {\"region\": \"Los R\\u00edos\", \"poblacion\": 405835.0, \"fecha\": \"2020-09-04T00:00:00\", \"casos\": 1229.0, \"tasa_casos\": 302.8324318996637}, {\"region\": \"Magallanes\", \"poblacion\": 178362.0, \"fecha\": \"2020-09-04T00:00:00\", \"casos\": 4089.0, \"tasa_casos\": 2292.528677633128}, {\"region\": \"Maule\", \"poblacion\": 1131939.0, \"fecha\": \"2020-09-04T00:00:00\", \"casos\": 13042.0, \"tasa_casos\": 1152.1822289010274}, {\"region\": \"Metropolitana\", \"poblacion\": 8125072.0, \"fecha\": \"2020-09-04T00:00:00\", \"casos\": 306670.0, \"tasa_casos\": 3774.36655330562}, {\"region\": \"O\\u2019Higgins\", \"poblacion\": 991063.0, \"fecha\": \"2020-09-04T00:00:00\", \"casos\": 16875.0, \"tasa_casos\": 1702.7171834686594}, {\"region\": \"Tarapac\\u00e1\", \"poblacion\": 382773.0, \"fecha\": \"2020-09-04T00:00:00\", \"casos\": 11622.0, \"tasa_casos\": 3036.2643133136353}, {\"region\": \"Valpara\\u00edso\", \"poblacion\": 1960170.0, \"fecha\": \"2020-09-04T00:00:00\", \"casos\": 32749.0, \"tasa_casos\": 1670.7224373396184}, {\"region\": \"\\u00d1uble\", \"poblacion\": 511551.0, \"fecha\": \"2020-09-04T00:00:00\", \"casos\": 6370.0, \"tasa_casos\": 1245.2326356511862}, {\"region\": \"Antofagasta\", \"poblacion\": 691854.0, \"fecha\": \"2020-09-07T00:00:00\", \"casos\": 19640.0, \"tasa_casos\": 2838.7492158750256}, {\"region\": \"Araucan\\u00eda\", \"poblacion\": 1014343.0, \"fecha\": \"2020-09-07T00:00:00\", \"casos\": 5502.0, \"tasa_casos\": 542.4200689510353}, {\"region\": \"Arica y Parinacota\", \"poblacion\": 252110.0, \"fecha\": \"2020-09-07T00:00:00\", \"casos\": 7514.0, \"tasa_casos\": 2980.445043830074}, {\"region\": \"Atacama\", \"poblacion\": 314709.0, \"fecha\": \"2020-09-07T00:00:00\", \"casos\": 6021.0, \"tasa_casos\": 1913.1960001143914}, {\"region\": \"Ays\\u00e9n\", \"poblacion\": 107297.0, \"fecha\": \"2020-09-07T00:00:00\", \"casos\": 136.0, \"tasa_casos\": 126.75098092211338}, {\"region\": \"Biob\\u00edo\", \"poblacion\": 1663696.0, \"fecha\": \"2020-09-07T00:00:00\", \"casos\": 21701.0, \"tasa_casos\": 1304.3849357094084}, {\"region\": \"Coquimbo\", \"poblacion\": 836096.0, \"fecha\": \"2020-09-07T00:00:00\", \"casos\": 12090.0, \"tasa_casos\": 1446.0062002449479}, {\"region\": \"Los Lagos\", \"poblacion\": 891440.0, \"fecha\": \"2020-09-07T00:00:00\", \"casos\": 7481.0, \"tasa_casos\": 839.2039845643004}, {\"region\": \"Los R\\u00edos\", \"poblacion\": 405835.0, \"fecha\": \"2020-09-07T00:00:00\", \"casos\": 1283.0, \"tasa_casos\": 316.13833208077176}, {\"region\": \"Magallanes\", \"poblacion\": 178362.0, \"fecha\": \"2020-09-07T00:00:00\", \"casos\": 4694.0, \"tasa_casos\": 2631.726488826095}, {\"region\": \"Maule\", \"poblacion\": 1131939.0, \"fecha\": \"2020-09-07T00:00:00\", \"casos\": 13463.0, \"tasa_casos\": 1189.3750458284414}, {\"region\": \"Metropolitana\", \"poblacion\": 8125072.0, \"fecha\": \"2020-09-07T00:00:00\", \"casos\": 308641.0, \"tasa_casos\": 3798.624799878696}, {\"region\": \"O\\u2019Higgins\", \"poblacion\": 991063.0, \"fecha\": \"2020-09-07T00:00:00\", \"casos\": 17244.0, \"tasa_casos\": 1739.9499325471743}, {\"region\": \"Tarapac\\u00e1\", \"poblacion\": 382773.0, \"fecha\": \"2020-09-07T00:00:00\", \"casos\": 11767.0, \"tasa_casos\": 3074.1457730822185}, {\"region\": \"Valpara\\u00edso\", \"poblacion\": 1960170.0, \"fecha\": \"2020-09-07T00:00:00\", \"casos\": 33539.0, \"tasa_casos\": 1711.0250641525988}, {\"region\": \"\\u00d1uble\", \"poblacion\": 511551.0, \"fecha\": \"2020-09-07T00:00:00\", \"casos\": 6636.0, \"tasa_casos\": 1297.2313610959611}, {\"region\": \"Antofagasta\", \"poblacion\": 691854.0, \"fecha\": \"2020-09-11T00:00:00\", \"casos\": 19920.0, \"tasa_casos\": 2879.220182292796}, {\"region\": \"Araucan\\u00eda\", \"poblacion\": 1014343.0, \"fecha\": \"2020-09-11T00:00:00\", \"casos\": 5771.0, \"tasa_casos\": 568.9396979128362}, {\"region\": \"Arica y Parinacota\", \"poblacion\": 252110.0, \"fecha\": \"2020-09-11T00:00:00\", \"casos\": 7677.0, \"tasa_casos\": 3045.0993613898695}, {\"region\": \"Atacama\", \"poblacion\": 314709.0, \"fecha\": \"2020-09-11T00:00:00\", \"casos\": 6225.0, \"tasa_casos\": 1978.0177878611669}, {\"region\": \"Ays\\u00e9n\", \"poblacion\": 107297.0, \"fecha\": \"2020-09-11T00:00:00\", \"casos\": 145.0, \"tasa_casos\": 135.13891348313558}, {\"region\": \"Biob\\u00edo\", \"poblacion\": 1663696.0, \"fecha\": \"2020-09-11T00:00:00\", \"casos\": 22795.0, \"tasa_casos\": 1370.142141352747}, {\"region\": \"Coquimbo\", \"poblacion\": 836096.0, \"fecha\": \"2020-09-11T00:00:00\", \"casos\": 12474.0, \"tasa_casos\": 1491.9339406001225}, {\"region\": \"Los Lagos\", \"poblacion\": 891440.0, \"fecha\": \"2020-09-11T00:00:00\", \"casos\": 7732.0, \"tasa_casos\": 867.3606748631428}, {\"region\": \"Los R\\u00edos\", \"poblacion\": 405835.0, \"fecha\": \"2020-09-11T00:00:00\", \"casos\": 1378.0, \"tasa_casos\": 339.54686017716557}, {\"region\": \"Magallanes\", \"poblacion\": 178362.0, \"fecha\": \"2020-09-11T00:00:00\", \"casos\": 5077.0, \"tasa_casos\": 2846.4583263251143}, {\"region\": \"Maule\", \"poblacion\": 1131939.0, \"fecha\": \"2020-09-11T00:00:00\", \"casos\": 14011.0, \"tasa_casos\": 1237.7875486223197}, {\"region\": \"Metropolitana\", \"poblacion\": 8125072.0, \"fecha\": \"2020-09-11T00:00:00\", \"casos\": 310855.0, \"tasa_casos\": 3825.8737891799606}, {\"region\": \"O\\u2019Higgins\", \"poblacion\": 991063.0, \"fecha\": \"2020-09-11T00:00:00\", \"casos\": 17765.0, \"tasa_casos\": 1792.519748996784}, {\"region\": \"Tarapac\\u00e1\", \"poblacion\": 382773.0, \"fecha\": \"2020-09-11T00:00:00\", \"casos\": 11990.0, \"tasa_casos\": 3132.404845691833}, {\"region\": \"Valpara\\u00edso\", \"poblacion\": 1960170.0, \"fecha\": \"2020-09-11T00:00:00\", \"casos\": 34447.0, \"tasa_casos\": 1757.3475769958727}, {\"region\": \"\\u00d1uble\", \"poblacion\": 511551.0, \"fecha\": \"2020-09-11T00:00:00\", \"casos\": 6961.0, \"tasa_casos\": 1360.7636384251034}, {\"region\": \"Antofagasta\", \"poblacion\": 691854.0, \"fecha\": \"2020-09-14T00:00:00\", \"casos\": 20107.0, \"tasa_casos\": 2906.249006293235}, {\"region\": \"Araucan\\u00eda\", \"poblacion\": 1014343.0, \"fecha\": \"2020-09-14T00:00:00\", \"casos\": 5994.0, \"tasa_casos\": 590.9243717361879}, {\"region\": \"Arica y Parinacota\", \"poblacion\": 252110.0, \"fecha\": \"2020-09-14T00:00:00\", \"casos\": 7824.0, \"tasa_casos\": 3103.4072428701757}, {\"region\": \"Atacama\", \"poblacion\": 314709.0, \"fecha\": \"2020-09-14T00:00:00\", \"casos\": 6358.0, \"tasa_casos\": 2020.2790514411727}, {\"region\": \"Ays\\u00e9n\", \"poblacion\": 107297.0, \"fecha\": \"2020-09-14T00:00:00\", \"casos\": 168.0, \"tasa_casos\": 156.57474113908125}, {\"region\": \"Biob\\u00edo\", \"poblacion\": 1663696.0, \"fecha\": \"2020-09-14T00:00:00\", \"casos\": 23687.0, \"tasa_casos\": 1423.7577057347016}, {\"region\": \"Coquimbo\", \"poblacion\": 836096.0, \"fecha\": \"2020-09-14T00:00:00\", \"casos\": 12815.0, \"tasa_casos\": 1532.7187308634416}, {\"region\": \"Los Lagos\", \"poblacion\": 891440.0, \"fecha\": \"2020-09-14T00:00:00\", \"casos\": 7958.0, \"tasa_casos\": 892.7129139370007}, {\"region\": \"Los R\\u00edos\", \"poblacion\": 405835.0, \"fecha\": \"2020-09-14T00:00:00\", \"casos\": 1501.0, \"tasa_casos\": 369.8547439230229}, {\"region\": \"Magallanes\", \"poblacion\": 178362.0, \"fecha\": \"2020-09-14T00:00:00\", \"casos\": 5732.0, \"tasa_casos\": 3213.6890144761774}, {\"region\": \"Maule\", \"poblacion\": 1131939.0, \"fecha\": \"2020-09-14T00:00:00\", \"casos\": 14472.0, \"tasa_casos\": 1278.514124877754}, {\"region\": \"Metropolitana\", \"poblacion\": 8125072.0, \"fecha\": \"2020-09-14T00:00:00\", \"casos\": 312483.0, \"tasa_casos\": 3845.9105347004925}, {\"region\": \"O\\u2019Higgins\", \"poblacion\": 991063.0, \"fecha\": \"2020-09-14T00:00:00\", \"casos\": 18243.0, \"tasa_casos\": 1840.7507898085187}, {\"region\": \"Tarapac\\u00e1\", \"poblacion\": 382773.0, \"fecha\": \"2020-09-14T00:00:00\", \"casos\": 12181.0, \"tasa_casos\": 3182.303872007691}, {\"region\": \"Valpara\\u00edso\", \"poblacion\": 1960170.0, \"fecha\": \"2020-09-14T00:00:00\", \"casos\": 35256.0, \"tasa_casos\": 1798.6195074916973}, {\"region\": \"\\u00d1uble\", \"poblacion\": 511551.0, \"fecha\": \"2020-09-14T00:00:00\", \"casos\": 7301.0, \"tasa_casos\": 1427.2281747078982}, {\"region\": \"Antofagasta\", \"poblacion\": 691854.0, \"fecha\": \"2020-09-18T00:00:00\", \"casos\": 20307.0, \"tasa_casos\": 2935.1568394487854}, {\"region\": \"Araucan\\u00eda\", \"poblacion\": 1014343.0, \"fecha\": \"2020-09-18T00:00:00\", \"casos\": 6298.0, \"tasa_casos\": 620.894510042461}, {\"region\": \"Arica y Parinacota\", \"poblacion\": 252110.0, \"fecha\": \"2020-09-18T00:00:00\", \"casos\": 7998.0, \"tasa_casos\": 3172.4247352346197}, {\"region\": \"Atacama\", \"poblacion\": 314709.0, \"fecha\": \"2020-09-18T00:00:00\", \"casos\": 6530.0, \"tasa_casos\": 2074.9327156198265}, {\"region\": \"Ays\\u00e9n\", \"poblacion\": 107297.0, \"fecha\": \"2020-09-18T00:00:00\", \"casos\": 204.0, \"tasa_casos\": 190.12647138317007}, {\"region\": \"Biob\\u00edo\", \"poblacion\": 1663696.0, \"fecha\": \"2020-09-18T00:00:00\", \"casos\": 24640.0, \"tasa_casos\": 1481.0398053490542}, {\"region\": \"Coquimbo\", \"poblacion\": 836096.0, \"fecha\": \"2020-09-18T00:00:00\", \"casos\": 13121.0, \"tasa_casos\": 1569.3173989589714}, {\"region\": \"Los Lagos\", \"poblacion\": 891440.0, \"fecha\": \"2020-09-18T00:00:00\", \"casos\": 8331.0, \"tasa_casos\": 934.5553262137665}, {\"region\": \"Los R\\u00edos\", \"poblacion\": 405835.0, \"fecha\": \"2020-09-18T00:00:00\", \"casos\": 1568.0, \"tasa_casos\": 386.3639163699533}, {\"region\": \"Magallanes\", \"poblacion\": 178362.0, \"fecha\": \"2020-09-18T00:00:00\", \"casos\": 6385.0, \"tasa_casos\": 3579.798387548917}, {\"region\": \"Maule\", \"poblacion\": 1131939.0, \"fecha\": \"2020-09-18T00:00:00\", \"casos\": 15045.0, \"tasa_casos\": 1329.1352272516451}, {\"region\": \"Metropolitana\", \"poblacion\": 8125072.0, \"fecha\": \"2020-09-18T00:00:00\", \"casos\": 314414.0, \"tasa_casos\": 3869.6764779438267}, {\"region\": \"O\\u2019Higgins\", \"poblacion\": 991063.0, \"fecha\": \"2020-09-18T00:00:00\", \"casos\": 18829.0, \"tasa_casos\": 1899.8792205944526}, {\"region\": \"Tarapac\\u00e1\", \"poblacion\": 382773.0, \"fecha\": \"2020-09-18T00:00:00\", \"casos\": 12392.0, \"tasa_casos\": 3237.427927257147}, {\"region\": \"Valpara\\u00edso\", \"poblacion\": 1960170.0, \"fecha\": \"2020-09-18T00:00:00\", \"casos\": 36084.0, \"tasa_casos\": 1840.8607416703655}, {\"region\": \"\\u00d1uble\", \"poblacion\": 511551.0, \"fecha\": \"2020-09-18T00:00:00\", \"casos\": 7642.0, \"tasa_casos\": 1493.8881949209365}, {\"region\": \"Antofagasta\", \"poblacion\": 691854.0, \"fecha\": \"2020-09-21T00:00:00\", \"casos\": 20418.0, \"tasa_casos\": 2951.2006868501157}, {\"region\": \"Araucan\\u00eda\", \"poblacion\": 1014343.0, \"fecha\": \"2020-09-21T00:00:00\", \"casos\": 6533.0, \"tasa_casos\": 644.0622156410602}, {\"region\": \"Arica y Parinacota\", \"poblacion\": 252110.0, \"fecha\": \"2020-09-21T00:00:00\", \"casos\": 8129.0, \"tasa_casos\": 3224.386180635437}, {\"region\": \"Atacama\", \"poblacion\": 314709.0, \"fecha\": \"2020-09-21T00:00:00\", \"casos\": 6701.0, \"tasa_casos\": 2129.2686259369766}, {\"region\": \"Ays\\u00e9n\", \"poblacion\": 107297.0, \"fecha\": \"2020-09-21T00:00:00\", \"casos\": 246.0, \"tasa_casos\": 229.27015666794037}, {\"region\": \"Biob\\u00edo\", \"poblacion\": 1663696.0, \"fecha\": \"2020-09-21T00:00:00\", \"casos\": 25210.0, \"tasa_casos\": 1515.3008722747425}, {\"region\": \"Coquimbo\", \"poblacion\": 836096.0, \"fecha\": \"2020-09-21T00:00:00\", \"casos\": 13259.0, \"tasa_casos\": 1585.822680649112}, {\"region\": \"Los Lagos\", \"poblacion\": 891440.0, \"fecha\": \"2020-09-21T00:00:00\", \"casos\": 8679.0, \"tasa_casos\": 973.5932872655478}, {\"region\": \"Los R\\u00edos\", \"poblacion\": 405835.0, \"fecha\": \"2020-09-21T00:00:00\", \"casos\": 1637.0, \"tasa_casos\": 403.3658999347025}, {\"region\": \"Magallanes\", \"poblacion\": 178362.0, \"fecha\": \"2020-09-21T00:00:00\", \"casos\": 6998.0, \"tasa_casos\": 3923.48145905518}, {\"region\": \"Maule\", \"poblacion\": 1131939.0, \"fecha\": \"2020-09-21T00:00:00\", \"casos\": 15387.0, \"tasa_casos\": 1359.348869506219}, {\"region\": \"Metropolitana\", \"poblacion\": 8125072.0, \"fecha\": \"2020-09-21T00:00:00\", \"casos\": 315595.0, \"tasa_casos\": 3884.211733754482}, {\"region\": \"O\\u2019Higgins\", \"poblacion\": 991063.0, \"fecha\": \"2020-09-21T00:00:00\", \"casos\": 19202.0, \"tasa_casos\": 1937.5155767090487}, {\"region\": \"Tarapac\\u00e1\", \"poblacion\": 382773.0, \"fecha\": \"2020-09-21T00:00:00\", \"casos\": 12503.0, \"tasa_casos\": 3266.4268378386146}, {\"region\": \"Valpara\\u00edso\", \"poblacion\": 1960170.0, \"fecha\": \"2020-09-21T00:00:00\", \"casos\": 36559.0, \"tasa_casos\": 1865.0933337414613}, {\"region\": \"\\u00d1uble\", \"poblacion\": 511551.0, \"fecha\": \"2020-09-21T00:00:00\", \"casos\": 7823.0, \"tasa_casos\": 1529.2707862950126}, {\"region\": \"Antofagasta\", \"poblacion\": 691854.0, \"fecha\": \"2020-09-25T00:00:00\", \"casos\": 20672.0, \"tasa_casos\": 2987.9136349576647}, {\"region\": \"Araucan\\u00eda\", \"poblacion\": 1014343.0, \"fecha\": \"2020-09-25T00:00:00\", \"casos\": 7002.0, \"tasa_casos\": 690.2990408569882}, {\"region\": \"Arica y Parinacota\", \"poblacion\": 252110.0, \"fecha\": \"2020-09-25T00:00:00\", \"casos\": 8320.0, \"tasa_casos\": 3300.1467613343384}, {\"region\": \"Atacama\", \"poblacion\": 314709.0, \"fecha\": \"2020-09-25T00:00:00\", \"casos\": 6853.0, \"tasa_casos\": 2177.567212885555}, {\"region\": \"Ays\\u00e9n\", \"poblacion\": 107297.0, \"fecha\": \"2020-09-25T00:00:00\", \"casos\": 302.0, \"tasa_casos\": 281.46173704763413}, {\"region\": \"Biob\\u00edo\", \"poblacion\": 1663696.0, \"fecha\": \"2020-09-25T00:00:00\", \"casos\": 26321.0, \"tasa_casos\": 1582.0798992123562}, {\"region\": \"Coquimbo\", \"poblacion\": 836096.0, \"fecha\": \"2020-09-25T00:00:00\", \"casos\": 13466.0, \"tasa_casos\": 1610.5806031843233}, {\"region\": \"Los Lagos\", \"poblacion\": 891440.0, \"fecha\": \"2020-09-25T00:00:00\", \"casos\": 9158.0, \"tasa_casos\": 1027.3265727362468}, {\"region\": \"Los R\\u00edos\", \"poblacion\": 405835.0, \"fecha\": \"2020-09-25T00:00:00\", \"casos\": 1778.0, \"tasa_casos\": 438.1090837409292}, {\"region\": \"Magallanes\", \"poblacion\": 178362.0, \"fecha\": \"2020-09-25T00:00:00\", \"casos\": 7794.0, \"tasa_casos\": 4369.764860228075}, {\"region\": \"Maule\", \"poblacion\": 1131939.0, \"fecha\": \"2020-09-25T00:00:00\", \"casos\": 15967.0, \"tasa_casos\": 1410.5883797625138}, {\"region\": \"Metropolitana\", \"poblacion\": 8125072.0, \"fecha\": \"2020-09-25T00:00:00\", \"casos\": 317377.0, \"tasa_casos\": 3906.1438470945245}, {\"region\": \"O\\u2019Higgins\", \"poblacion\": 991063.0, \"fecha\": \"2020-09-25T00:00:00\", \"casos\": 19778.0, \"tasa_casos\": 1995.6349899047789}, {\"region\": \"Tarapac\\u00e1\", \"poblacion\": 382773.0, \"fecha\": \"2020-09-25T00:00:00\", \"casos\": 12668.0, \"tasa_casos\": 3309.5333265407958}, {\"region\": \"Valpara\\u00edso\", \"poblacion\": 1960170.0, \"fecha\": \"2020-09-25T00:00:00\", \"casos\": 37363.0, \"tasa_casos\": 1906.1101843207477}, {\"region\": \"\\u00d1uble\", \"poblacion\": 511551.0, \"fecha\": \"2020-09-25T00:00:00\", \"casos\": 8091.0, \"tasa_casos\": 1581.6604796002744}, {\"region\": \"Antofagasta\", \"poblacion\": 691854.0, \"fecha\": \"2020-09-28T00:00:00\", \"casos\": 20863.0, \"tasa_casos\": 3015.520615621215}, {\"region\": \"Araucan\\u00eda\", \"poblacion\": 1014343.0, \"fecha\": \"2020-09-28T00:00:00\", \"casos\": 7356.0, \"tasa_casos\": 725.1984782267931}, {\"region\": \"Arica y Parinacota\", \"poblacion\": 252110.0, \"fecha\": \"2020-09-28T00:00:00\", \"casos\": 8524.0, \"tasa_casos\": 3381.0638213478246}, {\"region\": \"Atacama\", \"poblacion\": 314709.0, \"fecha\": \"2020-09-28T00:00:00\", \"casos\": 7018.0, \"tasa_casos\": 2229.9966000336817}, {\"region\": \"Ays\\u00e9n\", \"poblacion\": 107297.0, \"fecha\": \"2020-09-28T00:00:00\", \"casos\": 333.0, \"tasa_casos\": 310.3535047578218}, {\"region\": \"Biob\\u00edo\", \"poblacion\": 1663696.0, \"fecha\": \"2020-09-28T00:00:00\", \"casos\": 27151.0, \"tasa_casos\": 1631.9688212269548}, {\"region\": \"Coquimbo\", \"poblacion\": 836096.0, \"fecha\": \"2020-09-28T00:00:00\", \"casos\": 13704.0, \"tasa_casos\": 1639.0462339252908}, {\"region\": \"Los Lagos\", \"poblacion\": 891440.0, \"fecha\": \"2020-09-28T00:00:00\", \"casos\": 9674.0, \"tasa_casos\": 1085.210446019923}, {\"region\": \"Los R\\u00edos\", \"poblacion\": 405835.0, \"fecha\": \"2020-09-28T00:00:00\", \"casos\": 1927.0, \"tasa_casos\": 474.82351201843113}, {\"region\": \"Magallanes\", \"poblacion\": 178362.0, \"fecha\": \"2020-09-28T00:00:00\", \"casos\": 8524.0, \"tasa_casos\": 4779.044863816283}, {\"region\": \"Maule\", \"poblacion\": 1131939.0, \"fecha\": \"2020-09-28T00:00:00\", \"casos\": 16410.0, \"tasa_casos\": 1449.7247643203389}, {\"region\": \"Metropolitana\", \"poblacion\": 8125072.0, \"fecha\": \"2020-09-28T00:00:00\", \"casos\": 318994.0, \"tasa_casos\": 3926.0452091993766}, {\"region\": \"O\\u2019Higgins\", \"poblacion\": 991063.0, \"fecha\": \"2020-09-28T00:00:00\", \"casos\": 20161.0, \"tasa_casos\": 2034.2803636095787}, {\"region\": \"Tarapac\\u00e1\", \"poblacion\": 382773.0, \"fecha\": \"2020-09-28T00:00:00\", \"casos\": 12846.0, \"tasa_casos\": 3356.0360840498156}, {\"region\": \"Valpara\\u00edso\", \"poblacion\": 1960170.0, \"fecha\": \"2020-09-28T00:00:00\", \"casos\": 38088.0, \"tasa_casos\": 1943.0967722187363}, {\"region\": \"\\u00d1uble\", \"poblacion\": 511551.0, \"fecha\": \"2020-09-28T00:00:00\", \"casos\": 8337.0, \"tasa_casos\": 1629.7495264401791}, {\"region\": \"Antofagasta\", \"poblacion\": 691854.0, \"fecha\": \"2020-10-02T00:00:00\", \"casos\": 21055.0, \"tasa_casos\": 3043.272135450543}, {\"region\": \"Araucan\\u00eda\", \"poblacion\": 1014343.0, \"fecha\": \"2020-10-02T00:00:00\", \"casos\": 7867.0, \"tasa_casos\": 775.5759146560878}, {\"region\": \"Arica y Parinacota\", \"poblacion\": 252110.0, \"fecha\": \"2020-10-02T00:00:00\", \"casos\": 8792.0, \"tasa_casos\": 3487.3666256792667}, {\"region\": \"Atacama\", \"poblacion\": 314709.0, \"fecha\": \"2020-10-02T00:00:00\", \"casos\": 7170.0, \"tasa_casos\": 2278.29518698226}, {\"region\": \"Ays\\u00e9n\", \"poblacion\": 107297.0, \"fecha\": \"2020-10-02T00:00:00\", \"casos\": 499.0, \"tasa_casos\": 465.06426088334246}, {\"region\": \"Biob\\u00edo\", \"poblacion\": 1663696.0, \"fecha\": \"2020-10-02T00:00:00\", \"casos\": 28033.0, \"tasa_casos\": 1684.9833142593359}, {\"region\": \"Coquimbo\", \"poblacion\": 836096.0, \"fecha\": \"2020-10-02T00:00:00\", \"casos\": 13897.0, \"tasa_casos\": 1662.1297075933865}, {\"region\": \"Los Lagos\", \"poblacion\": 891440.0, \"fecha\": \"2020-10-02T00:00:00\", \"casos\": 10259.0, \"tasa_casos\": 1150.8346046845552}, {\"region\": \"Los R\\u00edos\", \"poblacion\": 405835.0, \"fecha\": \"2020-10-02T00:00:00\", \"casos\": 2131.0, \"tasa_casos\": 525.0902460359506}, {\"region\": \"Magallanes\", \"poblacion\": 178362.0, \"fecha\": \"2020-10-02T00:00:00\", \"casos\": 9281.0, \"tasa_casos\": 5203.462620961865}, {\"region\": \"Maule\", \"poblacion\": 1131939.0, \"fecha\": \"2020-10-02T00:00:00\", \"casos\": 16962.0, \"tasa_casos\": 1498.4906430470194}, {\"region\": \"Metropolitana\", \"poblacion\": 8125072.0, \"fecha\": \"2020-10-02T00:00:00\", \"casos\": 320989.0, \"tasa_casos\": 3950.5988377702993}, {\"region\": \"O\\u2019Higgins\", \"poblacion\": 991063.0, \"fecha\": \"2020-10-02T00:00:00\", \"casos\": 20674.0, \"tasa_casos\": 2086.042965987026}, {\"region\": \"Tarapac\\u00e1\", \"poblacion\": 382773.0, \"fecha\": \"2020-10-02T00:00:00\", \"casos\": 13091.0, \"tasa_casos\": 3420.0426884863878}, {\"region\": \"Valpara\\u00edso\", \"poblacion\": 1960170.0, \"fecha\": \"2020-10-02T00:00:00\", \"casos\": 38901.0, \"tasa_casos\": 1984.5727666477908}, {\"region\": \"\\u00d1uble\", \"poblacion\": 511551.0, \"fecha\": \"2020-10-02T00:00:00\", \"casos\": 8565.0, \"tasa_casos\": 1674.3198625357004}, {\"region\": \"Antofagasta\", \"poblacion\": 691854.0, \"fecha\": \"2020-10-05T00:00:00\", \"casos\": 21236.0, \"tasa_casos\": 3069.433724456316}, {\"region\": \"Araucan\\u00eda\", \"poblacion\": 1014343.0, \"fecha\": \"2020-10-05T00:00:00\", \"casos\": 8334.0, \"tasa_casos\": 821.6155679094743}, {\"region\": \"Arica y Parinacota\", \"poblacion\": 252110.0, \"fecha\": \"2020-10-05T00:00:00\", \"casos\": 8970.0, \"tasa_casos\": 3557.9707270635836}, {\"region\": \"Atacama\", \"poblacion\": 314709.0, \"fecha\": \"2020-10-05T00:00:00\", \"casos\": 7252.0, \"tasa_casos\": 2304.3510036255716}, {\"region\": \"Ays\\u00e9n\", \"poblacion\": 107297.0, \"fecha\": \"2020-10-05T00:00:00\", \"casos\": 569.0, \"tasa_casos\": 530.3037363579597}, {\"region\": \"Biob\\u00edo\", \"poblacion\": 1663696.0, \"fecha\": \"2020-10-05T00:00:00\", \"casos\": 28606.0, \"tasa_casos\": 1719.4247025898962}, {\"region\": \"Coquimbo\", \"poblacion\": 836096.0, \"fecha\": \"2020-10-05T00:00:00\", \"casos\": 14041.0, \"tasa_casos\": 1679.3526102265769}, {\"region\": \"Los Lagos\", \"poblacion\": 891440.0, \"fecha\": \"2020-10-05T00:00:00\", \"casos\": 10795.0, \"tasa_casos\": 1210.9620389482186}, {\"region\": \"Los R\\u00edos\", \"poblacion\": 405835.0, \"fecha\": \"2020-10-05T00:00:00\", \"casos\": 2263.0, \"tasa_casos\": 557.6157798119925}, {\"region\": \"Magallanes\", \"poblacion\": 178362.0, \"fecha\": \"2020-10-05T00:00:00\", \"casos\": 9935.0, \"tasa_casos\": 5570.1326515737655}, {\"region\": \"Maule\", \"poblacion\": 1131939.0, \"fecha\": \"2020-10-05T00:00:00\", \"casos\": 17315.0, \"tasa_casos\": 1529.6760691167988}, {\"region\": \"Metropolitana\", \"poblacion\": 8125072.0, \"fecha\": \"2020-10-05T00:00:00\", \"casos\": 322120.0, \"tasa_casos\": 3964.518714418777}, {\"region\": \"O\\u2019Higgins\", \"poblacion\": 991063.0, \"fecha\": \"2020-10-05T00:00:00\", \"casos\": 20978.0, \"tasa_casos\": 2116.717100729217}, {\"region\": \"Tarapac\\u00e1\", \"poblacion\": 382773.0, \"fecha\": \"2020-10-05T00:00:00\", \"casos\": 13255.0, \"tasa_casos\": 3462.8879257418885}, {\"region\": \"Valpara\\u00edso\", \"poblacion\": 1960170.0, \"fecha\": \"2020-10-05T00:00:00\", \"casos\": 39464.0, \"tasa_casos\": 2013.294765249953}, {\"region\": \"\\u00d1uble\", \"poblacion\": 511551.0, \"fecha\": \"2020-10-05T00:00:00\", \"casos\": 8674.0, \"tasa_casos\": 1695.6276109322432}, {\"region\": \"Antofagasta\", \"poblacion\": 691854.0, \"fecha\": \"2020-10-09T00:00:00\", \"casos\": 21415.0, \"tasa_casos\": 3095.3062351305334}, {\"region\": \"Araucan\\u00eda\", \"poblacion\": 1014343.0, \"fecha\": \"2020-10-09T00:00:00\", \"casos\": 9005.0, \"tasa_casos\": 887.7667613420707}, {\"region\": \"Arica y Parinacota\", \"poblacion\": 252110.0, \"fecha\": \"2020-10-09T00:00:00\", \"casos\": 9194.0, \"tasa_casos\": 3646.820832176431}, {\"region\": \"Atacama\", \"poblacion\": 314709.0, \"fecha\": \"2020-10-09T00:00:00\", \"casos\": 7390.0, \"tasa_casos\": 2348.201036513096}, {\"region\": \"Ays\\u00e9n\", \"poblacion\": 107297.0, \"fecha\": \"2020-10-09T00:00:00\", \"casos\": 640.0, \"tasa_casos\": 596.4752043393571}, {\"region\": \"Biob\\u00edo\", \"poblacion\": 1663696.0, \"fecha\": \"2020-10-09T00:00:00\", \"casos\": 29294.0, \"tasa_casos\": 1760.7784114405517}, {\"region\": \"Coquimbo\", \"poblacion\": 836096.0, \"fecha\": \"2020-10-09T00:00:00\", \"casos\": 14184.0, \"tasa_casos\": 1696.455909369259}, {\"region\": \"Los Lagos\", \"poblacion\": 891440.0, \"fecha\": \"2020-10-09T00:00:00\", \"casos\": 11382.0, \"tasa_casos\": 1276.81055371085}, {\"region\": \"Los R\\u00edos\", \"poblacion\": 405835.0, \"fecha\": \"2020-10-09T00:00:00\", \"casos\": 2472.0, \"tasa_casos\": 609.114541624059}, {\"region\": \"Magallanes\", \"poblacion\": 178362.0, \"fecha\": \"2020-10-09T00:00:00\", \"casos\": 10844.0, \"tasa_casos\": 6079.7703546719595}, {\"region\": \"Maule\", \"poblacion\": 1131939.0, \"fecha\": \"2020-10-09T00:00:00\", \"casos\": 17725.0, \"tasa_casos\": 1565.897102229007}, {\"region\": \"Metropolitana\", \"poblacion\": 8125072.0, \"fecha\": \"2020-10-09T00:00:00\", \"casos\": 323688.0, \"tasa_casos\": 3983.8170049446944}, {\"region\": \"O\\u2019Higgins\", \"poblacion\": 991063.0, \"fecha\": \"2020-10-09T00:00:00\", \"casos\": 21357.0, \"tasa_casos\": 2154.958867397935}, {\"region\": \"Tarapac\\u00e1\", \"poblacion\": 382773.0, \"fecha\": \"2020-10-09T00:00:00\", \"casos\": 13452.0, \"tasa_casos\": 3514.3544607378262}, {\"region\": \"Valpara\\u00edso\", \"poblacion\": 1960170.0, \"fecha\": \"2020-10-09T00:00:00\", \"casos\": 40101.0, \"tasa_casos\": 2045.791946616875}, {\"region\": \"\\u00d1uble\", \"poblacion\": 511551.0, \"fecha\": \"2020-10-09T00:00:00\", \"casos\": 8857.0, \"tasa_casos\": 1731.4011701668064}, {\"region\": \"Antofagasta\", \"poblacion\": 691854.0, \"fecha\": \"2020-10-12T00:00:00\", \"casos\": 21599.0, \"tasa_casos\": 3121.9014416336395}, {\"region\": \"Araucan\\u00eda\", \"poblacion\": 1014343.0, \"fecha\": \"2020-10-12T00:00:00\", \"casos\": 9455.0, \"tasa_casos\": 932.1304529138565}, {\"region\": \"Arica y Parinacota\", \"poblacion\": 252110.0, \"fecha\": \"2020-10-12T00:00:00\", \"casos\": 9340.0, \"tasa_casos\": 3704.7320614017694}, {\"region\": \"Atacama\", \"poblacion\": 314709.0, \"fecha\": \"2020-10-12T00:00:00\", \"casos\": 7507.0, \"tasa_casos\": 2385.378238309041}, {\"region\": \"Ays\\u00e9n\", \"poblacion\": 107297.0, \"fecha\": \"2020-10-12T00:00:00\", \"casos\": 741.0, \"tasa_casos\": 690.6064475241619}, {\"region\": \"Biob\\u00edo\", \"poblacion\": 1663696.0, \"fecha\": \"2020-10-12T00:00:00\", \"casos\": 30057.0, \"tasa_casos\": 1806.6401554130082}, {\"region\": \"Coquimbo\", \"poblacion\": 836096.0, \"fecha\": \"2020-10-12T00:00:00\", \"casos\": 14264.0, \"tasa_casos\": 1706.0241886099204}, {\"region\": \"Los Lagos\", \"poblacion\": 891440.0, \"fecha\": \"2020-10-12T00:00:00\", \"casos\": 11942.0, \"tasa_casos\": 1339.6302611504982}, {\"region\": \"Los R\\u00edos\", \"poblacion\": 405835.0, \"fecha\": \"2020-10-12T00:00:00\", \"casos\": 2622.0, \"tasa_casos\": 646.0753754604704}, {\"region\": \"Magallanes\", \"poblacion\": 178362.0, \"fecha\": \"2020-10-12T00:00:00\", \"casos\": 11438.0, \"tasa_casos\": 6412.800932934146}, {\"region\": \"Maule\", \"poblacion\": 1131939.0, \"fecha\": \"2020-10-12T00:00:00\", \"casos\": 18115.0, \"tasa_casos\": 1600.3512556772052}, {\"region\": \"Metropolitana\", \"poblacion\": 8125072.0, \"fecha\": \"2020-10-12T00:00:00\", \"casos\": 324890.0, \"tasa_casos\": 3998.6107200034658}, {\"region\": \"O\\u2019Higgins\", \"poblacion\": 991063.0, \"fecha\": \"2020-10-12T00:00:00\", \"casos\": 21643.0, \"tasa_casos\": 2183.8167704777597}, {\"region\": \"Tarapac\\u00e1\", \"poblacion\": 382773.0, \"fecha\": \"2020-10-12T00:00:00\", \"casos\": 13606.0, \"tasa_casos\": 3554.587183526529}, {\"region\": \"Valpara\\u00edso\", \"poblacion\": 1960170.0, \"fecha\": \"2020-10-12T00:00:00\", \"casos\": 40625.0, \"tasa_casos\": 2072.524321870042}, {\"region\": \"\\u00d1uble\", \"poblacion\": 511551.0, \"fecha\": \"2020-10-12T00:00:00\", \"casos\": 8975.0, \"tasa_casos\": 1754.4682739355412}, {\"region\": \"Antofagasta\", \"poblacion\": 691854.0, \"fecha\": \"2020-10-16T00:00:00\", \"casos\": 21760.0, \"tasa_casos\": 3145.1722473238574}, {\"region\": \"Araucan\\u00eda\", \"poblacion\": 1014343.0, \"fecha\": \"2020-10-16T00:00:00\", \"casos\": 10056.0, \"tasa_casos\": 991.3806276575083}, {\"region\": \"Arica y Parinacota\", \"poblacion\": 252110.0, \"fecha\": \"2020-10-16T00:00:00\", \"casos\": 9548.0, \"tasa_casos\": 3787.2357304351276}, {\"region\": \"Atacama\", \"poblacion\": 314709.0, \"fecha\": \"2020-10-16T00:00:00\", \"casos\": 7593.0, \"tasa_casos\": 2412.705070398368}, {\"region\": \"Ays\\u00e9n\", \"poblacion\": 107297.0, \"fecha\": \"2020-10-16T00:00:00\", \"casos\": 835.0, \"tasa_casos\": 778.213743161505}, {\"region\": \"Biob\\u00edo\", \"poblacion\": 1663696.0, \"fecha\": \"2020-10-16T00:00:00\", \"casos\": 31005.0, \"tasa_casos\": 1863.621719352574}, {\"region\": \"Coquimbo\", \"poblacion\": 836096.0, \"fecha\": \"2020-10-16T00:00:00\", \"casos\": 14394.0, \"tasa_casos\": 1721.5726423759952}, {\"region\": \"Los Lagos\", \"poblacion\": 891440.0, \"fecha\": \"2020-10-16T00:00:00\", \"casos\": 12663.0, \"tasa_casos\": 1420.5106344790452}, {\"region\": \"Los R\\u00edos\", \"poblacion\": 405835.0, \"fecha\": \"2020-10-16T00:00:00\", \"casos\": 2780.0, \"tasa_casos\": 685.007453768157}, {\"region\": \"Magallanes\", \"poblacion\": 178362.0, \"fecha\": \"2020-10-16T00:00:00\", \"casos\": 11856.0, \"tasa_casos\": 6647.155784303832}, {\"region\": \"Maule\", \"poblacion\": 1131939.0, \"fecha\": \"2020-10-16T00:00:00\", \"casos\": 18355.0, \"tasa_casos\": 1621.5538116453272}, {\"region\": \"Metropolitana\", \"poblacion\": 8125072.0, \"fecha\": \"2020-10-16T00:00:00\", \"casos\": 326288.0, \"tasa_casos\": 4015.8167213779766}, {\"region\": \"O\\u2019Higgins\", \"poblacion\": 991063.0, \"fecha\": \"2020-10-16T00:00:00\", \"casos\": 21945.0, \"tasa_casos\": 2214.28910170191}, {\"region\": \"Tarapac\\u00e1\", \"poblacion\": 382773.0, \"fecha\": \"2020-10-16T00:00:00\", \"casos\": 13784.0, \"tasa_casos\": 3601.0899410355487}, {\"region\": \"Valpara\\u00edso\", \"poblacion\": 1960170.0, \"fecha\": \"2020-10-16T00:00:00\", \"casos\": 41113.0, \"tasa_casos\": 2097.420121724136}, {\"region\": \"\\u00d1uble\", \"poblacion\": 511551.0, \"fecha\": \"2020-10-16T00:00:00\", \"casos\": 9129.0, \"tasa_casos\": 1784.572799193042}, {\"region\": \"Antofagasta\", \"poblacion\": 691854.0, \"fecha\": \"2020-10-19T00:00:00\", \"casos\": 21915.0, \"tasa_casos\": 3167.575818019409}, {\"region\": \"Araucan\\u00eda\", \"poblacion\": 1014343.0, \"fecha\": \"2020-10-19T00:00:00\", \"casos\": 10572.0, \"tasa_casos\": 1042.250993993156}, {\"region\": \"Arica y Parinacota\", \"poblacion\": 252110.0, \"fecha\": \"2020-10-19T00:00:00\", \"casos\": 9677.0, \"tasa_casos\": 3838.4038713260084}, {\"region\": \"Atacama\", \"poblacion\": 314709.0, \"fecha\": \"2020-10-19T00:00:00\", \"casos\": 7700.0, \"tasa_casos\": 2446.7047335792745}, {\"region\": \"Ays\\u00e9n\", \"poblacion\": 107297.0, \"fecha\": \"2020-10-19T00:00:00\", \"casos\": 908.0, \"tasa_casos\": 846.2491961564629}, {\"region\": \"Biob\\u00edo\", \"poblacion\": 1663696.0, \"fecha\": \"2020-10-19T00:00:00\", \"casos\": 31746.0, \"tasa_casos\": 1908.1611063559687}, {\"region\": \"Coquimbo\", \"poblacion\": 836096.0, \"fecha\": \"2020-10-19T00:00:00\", \"casos\": 14463.0, \"tasa_casos\": 1729.8252832210655}, {\"region\": \"Los Lagos\", \"poblacion\": 891440.0, \"fecha\": \"2020-10-19T00:00:00\", \"casos\": 13288.0, \"tasa_casos\": 1490.6219151036526}, {\"region\": \"Los R\\u00edos\", \"poblacion\": 405835.0, \"fecha\": \"2020-10-19T00:00:00\", \"casos\": 2958.0, \"tasa_casos\": 728.8676432540318}, {\"region\": \"Magallanes\", \"poblacion\": 178362.0, \"fecha\": \"2020-10-19T00:00:00\", \"casos\": 12181.0, \"tasa_casos\": 6829.3694845314585}, {\"region\": \"Maule\", \"poblacion\": 1131939.0, \"fecha\": \"2020-10-19T00:00:00\", \"casos\": 18751.0, \"tasa_casos\": 1656.5380289927284}, {\"region\": \"Metropolitana\", \"poblacion\": 8125072.0, \"fecha\": \"2020-10-19T00:00:00\", \"casos\": 327598.0, \"tasa_casos\": 4031.9396554270534}, {\"region\": \"O\\u2019Higgins\", \"poblacion\": 991063.0, \"fecha\": \"2020-10-19T00:00:00\", \"casos\": 22336.0, \"tasa_casos\": 2253.7416894788726}, {\"region\": \"Tarapac\\u00e1\", \"poblacion\": 382773.0, \"fecha\": \"2020-10-19T00:00:00\", \"casos\": 13918.0, \"tasa_casos\": 3636.0976348906534}, {\"region\": \"Valpara\\u00edso\", \"poblacion\": 1960170.0, \"fecha\": \"2020-10-19T00:00:00\", \"casos\": 41604.0, \"tasa_casos\": 2122.468969528153}, {\"region\": \"\\u00d1uble\", \"poblacion\": 511551.0, \"fecha\": \"2020-10-19T00:00:00\", \"casos\": 9270.0, \"tasa_casos\": 1812.136033357378}, {\"region\": \"Antofagasta\", \"poblacion\": 691854.0, \"fecha\": \"2020-10-24T00:00:00\", \"casos\": 22153.0, \"tasa_casos\": 3201.9761394745133}, {\"region\": \"Araucan\\u00eda\", \"poblacion\": 1014343.0, \"fecha\": \"2020-10-24T00:00:00\", \"casos\": 11457.0, \"tasa_casos\": 1129.4995874176684}, {\"region\": \"Arica y Parinacota\", \"poblacion\": 252110.0, \"fecha\": \"2020-10-24T00:00:00\", \"casos\": 9885.0, \"tasa_casos\": 3920.907540359367}, {\"region\": \"Atacama\", \"poblacion\": 314709.0, \"fecha\": \"2020-10-24T00:00:00\", \"casos\": 7804.0, \"tasa_casos\": 2479.7511351756702}, {\"region\": \"Ays\\u00e9n\", \"poblacion\": 107297.0, \"fecha\": \"2020-10-24T00:00:00\", \"casos\": 1034.0, \"tasa_casos\": 963.6802520107738}, {\"region\": \"Biob\\u00edo\", \"poblacion\": 1663696.0, \"fecha\": \"2020-10-24T00:00:00\", \"casos\": 32936.0, \"tasa_casos\": 1979.688596955213}, {\"region\": \"Coquimbo\", \"poblacion\": 836096.0, \"fecha\": \"2020-10-24T00:00:00\", \"casos\": 14591.0, \"tasa_casos\": 1745.1345300061237}, {\"region\": \"Los Lagos\", \"poblacion\": 891440.0, \"fecha\": \"2020-10-24T00:00:00\", \"casos\": 14333.0, \"tasa_casos\": 1607.847976307996}, {\"region\": \"Los R\\u00edos\", \"poblacion\": 405835.0, \"fecha\": \"2020-10-24T00:00:00\", \"casos\": 3211.0, \"tasa_casos\": 791.2082496581122}, {\"region\": \"Magallanes\", \"poblacion\": 178362.0, \"fecha\": \"2020-10-24T00:00:00\", \"casos\": 12666.0, \"tasa_casos\": 7101.288391024995}, {\"region\": \"Maule\", \"poblacion\": 1131939.0, \"fecha\": \"2020-10-24T00:00:00\", \"casos\": 19168.0, \"tasa_casos\": 1693.3774699873404}, {\"region\": \"Metropolitana\", \"poblacion\": 8125072.0, \"fecha\": \"2020-10-24T00:00:00\", \"casos\": 329489.0, \"tasa_casos\": 4055.213295340644}, {\"region\": \"O\\u2019Higgins\", \"poblacion\": 991063.0, \"fecha\": \"2020-10-24T00:00:00\", \"casos\": 22795.0, \"tasa_casos\": 2300.05559686922}, {\"region\": \"Tarapac\\u00e1\", \"poblacion\": 382773.0, \"fecha\": \"2020-10-24T00:00:00\", \"casos\": 14164.0, \"tasa_casos\": 3700.3654907739055}, {\"region\": \"Valpara\\u00edso\", \"poblacion\": 1960170.0, \"fecha\": \"2020-10-24T00:00:00\", \"casos\": 42302.0, \"tasa_casos\": 2158.078125876837}, {\"region\": \"\\u00d1uble\", \"poblacion\": 511551.0, \"fecha\": \"2020-10-24T00:00:00\", \"casos\": 9534.0, \"tasa_casos\": 1863.7437909416656}, {\"region\": \"Antofagasta\", \"poblacion\": 691854.0, \"fecha\": \"2020-10-26T00:00:00\", \"casos\": 22245.0, \"tasa_casos\": 3215.2737427260663}, {\"region\": \"Araucan\\u00eda\", \"poblacion\": 1014343.0, \"fecha\": \"2020-10-26T00:00:00\", \"casos\": 11839.0, \"tasa_casos\": 1167.159432263051}, {\"region\": \"Arica y Parinacota\", \"poblacion\": 252110.0, \"fecha\": \"2020-10-26T00:00:00\", \"casos\": 9971.0, \"tasa_casos\": 3955.019634286621}, {\"region\": \"Atacama\", \"poblacion\": 314709.0, \"fecha\": \"2020-10-26T00:00:00\", \"casos\": 7857.0, \"tasa_casos\": 2496.5920898353716}, {\"region\": \"Ays\\u00e9n\", \"poblacion\": 107297.0, \"fecha\": \"2020-10-26T00:00:00\", \"casos\": 1052.0, \"tasa_casos\": 980.4561171328182}, {\"region\": \"Biob\\u00edo\", \"poblacion\": 1663696.0, \"fecha\": \"2020-10-26T00:00:00\", \"casos\": 33385.0, \"tasa_casos\": 2006.6767005510621}, {\"region\": \"Coquimbo\", \"poblacion\": 836096.0, \"fecha\": \"2020-10-26T00:00:00\", \"casos\": 14626.0, \"tasa_casos\": 1749.3206521739132}, {\"region\": \"Los Lagos\", \"poblacion\": 891440.0, \"fecha\": \"2020-10-26T00:00:00\", \"casos\": 14774.0, \"tasa_casos\": 1657.318495916719}, {\"region\": \"Los R\\u00edos\", \"poblacion\": 405835.0, \"fecha\": \"2020-10-26T00:00:00\", \"casos\": 3337.0, \"tasa_casos\": 822.2553500806978}, {\"region\": \"Magallanes\", \"poblacion\": 178362.0, \"fecha\": \"2020-10-26T00:00:00\", \"casos\": 12876.0, \"tasa_casos\": 7219.026474248999}, {\"region\": \"Maule\", \"poblacion\": 1131939.0, \"fecha\": \"2020-10-26T00:00:00\", \"casos\": 19364.0, \"tasa_casos\": 1710.69289069464}, {\"region\": \"Metropolitana\", \"poblacion\": 8125072.0, \"fecha\": \"2020-10-26T00:00:00\", \"casos\": 330274.0, \"tasa_casos\": 4064.874748186847}, {\"region\": \"O\\u2019Higgins\", \"poblacion\": 991063.0, \"fecha\": \"2020-10-26T00:00:00\", \"casos\": 22941.0, \"tasa_casos\": 2314.7872536861937}, {\"region\": \"Tarapac\\u00e1\", \"poblacion\": 382773.0, \"fecha\": \"2020-10-26T00:00:00\", \"casos\": 14266.0, \"tasa_casos\": 3727.0131383352536}, {\"region\": \"Valpara\\u00edso\", \"poblacion\": 1960170.0, \"fecha\": \"2020-10-26T00:00:00\", \"casos\": 42507.0, \"tasa_casos\": 2168.5364024548894}, {\"region\": \"\\u00d1uble\", \"poblacion\": 511551.0, \"fecha\": \"2020-10-26T00:00:00\", \"casos\": 9634.0, \"tasa_casos\": 1883.292183966017}, {\"region\": \"Antofagasta\", \"poblacion\": 691854.0, \"fecha\": \"2020-10-30T00:00:00\", \"casos\": 22426.0, \"tasa_casos\": 3241.4353317318396}, {\"region\": \"Araucan\\u00eda\", \"poblacion\": 1014343.0, \"fecha\": \"2020-10-30T00:00:00\", \"casos\": 12540.0, \"tasa_casos\": 1236.2682051337663}, {\"region\": \"Arica y Parinacota\", \"poblacion\": 252110.0, \"fecha\": \"2020-10-30T00:00:00\", \"casos\": 10088.0, \"tasa_casos\": 4001.4279481178855}, {\"region\": \"Atacama\", \"poblacion\": 314709.0, \"fecha\": \"2020-10-30T00:00:00\", \"casos\": 7941.0, \"tasa_casos\": 2523.283414201691}, {\"region\": \"Ays\\u00e9n\", \"poblacion\": 107297.0, \"fecha\": \"2020-10-30T00:00:00\", \"casos\": 1105.0, \"tasa_casos\": 1029.8517199921712}, {\"region\": \"Biob\\u00edo\", \"poblacion\": 1663696.0, \"fecha\": \"2020-10-30T00:00:00\", \"casos\": 34174.0, \"tasa_casos\": 2054.1012300324096}, {\"region\": \"Coquimbo\", \"poblacion\": 836096.0, \"fecha\": \"2020-10-30T00:00:00\", \"casos\": 14710.0, \"tasa_casos\": 1759.3673453766073}, {\"region\": \"Los Lagos\", \"poblacion\": 891440.0, \"fecha\": \"2020-10-30T00:00:00\", \"casos\": 15544.0, \"tasa_casos\": 1743.6955936462352}, {\"region\": \"Los R\\u00edos\", \"poblacion\": 405835.0, \"fecha\": \"2020-10-30T00:00:00\", \"casos\": 3594.0, \"tasa_casos\": 885.5815787204159}, {\"region\": \"Magallanes\", \"poblacion\": 178362.0, \"fecha\": \"2020-10-30T00:00:00\", \"casos\": 13177.0, \"tasa_casos\": 7387.784393536739}, {\"region\": \"Maule\", \"poblacion\": 1131939.0, \"fecha\": \"2020-10-30T00:00:00\", \"casos\": 19682.0, \"tasa_casos\": 1738.7862773524016}, {\"region\": \"Metropolitana\", \"poblacion\": 8125072.0, \"fecha\": \"2020-10-30T00:00:00\", \"casos\": 331557.0, \"tasa_casos\": 4080.6653774883475}, {\"region\": \"O\\u2019Higgins\", \"poblacion\": 991063.0, \"fecha\": \"2020-10-30T00:00:00\", \"casos\": 23177.0, \"tasa_casos\": 2338.6000688149998}, {\"region\": \"Tarapac\\u00e1\", \"poblacion\": 382773.0, \"fecha\": \"2020-10-30T00:00:00\", \"casos\": 14467.0, \"tasa_casos\": 3779.5246791179106}, {\"region\": \"Valpara\\u00edso\", \"poblacion\": 1960170.0, \"fecha\": \"2020-10-30T00:00:00\", \"casos\": 42903.0, \"tasa_casos\": 2188.738731844687}, {\"region\": \"\\u00d1uble\", \"poblacion\": 511551.0, \"fecha\": \"2020-10-30T00:00:00\", \"casos\": 9815.0, \"tasa_casos\": 1918.6747753400932}, {\"region\": \"Antofagasta\", \"poblacion\": 691854.0, \"fecha\": \"2020-11-02T00:00:00\", \"casos\": 22542.0, \"tasa_casos\": 3258.2018749620584}, {\"region\": \"Araucan\\u00eda\", \"poblacion\": 1014343.0, \"fecha\": \"2020-11-02T00:00:00\", \"casos\": 13101.0, \"tasa_casos\": 1291.5749406265927}, {\"region\": \"Arica y Parinacota\", \"poblacion\": 252110.0, \"fecha\": \"2020-11-02T00:00:00\", \"casos\": 10175.0, \"tasa_casos\": 4035.9366943001073}, {\"region\": \"Atacama\", \"poblacion\": 314709.0, \"fecha\": \"2020-11-02T00:00:00\", \"casos\": 7985.0, \"tasa_casos\": 2537.2645841078584}, {\"region\": \"Ays\\u00e9n\", \"poblacion\": 107297.0, \"fecha\": \"2020-11-02T00:00:00\", \"casos\": 1146.0, \"tasa_casos\": 1068.0634127701612}, {\"region\": \"Biob\\u00edo\", \"poblacion\": 1663696.0, \"fecha\": \"2020-11-02T00:00:00\", \"casos\": 34884.0, \"tasa_casos\": 2096.777295852127}, {\"region\": \"Coquimbo\", \"poblacion\": 836096.0, \"fecha\": \"2020-11-02T00:00:00\", \"casos\": 14753.0, \"tasa_casos\": 1764.510295468463}, {\"region\": \"Los Lagos\", \"poblacion\": 891440.0, \"fecha\": \"2020-11-02T00:00:00\", \"casos\": 16293.0, \"tasa_casos\": 1827.7169523467646}, {\"region\": \"Los R\\u00edos\", \"poblacion\": 405835.0, \"fecha\": \"2020-11-02T00:00:00\", \"casos\": 3900.0, \"tasa_casos\": 960.981679746695}, {\"region\": \"Magallanes\", \"poblacion\": 178362.0, \"fecha\": \"2020-11-02T00:00:00\", \"casos\": 13498.0, \"tasa_casos\": 7567.755463607718}, {\"region\": \"Maule\", \"poblacion\": 1131939.0, \"fecha\": \"2020-11-02T00:00:00\", \"casos\": 19947.0, \"tasa_casos\": 1762.1974329005363}, {\"region\": \"Metropolitana\", \"poblacion\": 8125072.0, \"fecha\": \"2020-11-02T00:00:00\", \"casos\": 332731.0, \"tasa_casos\": 4095.1144802162985}, {\"region\": \"O\\u2019Higgins\", \"poblacion\": 991063.0, \"fecha\": \"2020-11-02T00:00:00\", \"casos\": 23351.0, \"tasa_casos\": 2356.156974884543}, {\"region\": \"Tarapac\\u00e1\", \"poblacion\": 382773.0, \"fecha\": \"2020-11-02T00:00:00\", \"casos\": 14608.0, \"tasa_casos\": 3816.361133099774}, {\"region\": \"Valpara\\u00edso\", \"poblacion\": 1960170.0, \"fecha\": \"2020-11-02T00:00:00\", \"casos\": 43248.0, \"tasa_casos\": 2206.339246085799}, {\"region\": \"\\u00d1uble\", \"poblacion\": 511551.0, \"fecha\": \"2020-11-02T00:00:00\", \"casos\": 9981.0, \"tasa_casos\": 1951.1251077605166}]}}, {\"mode\": \"vega-lite\"});\n",
       "</script>"
      ],
      "text/plain": [
       "alt.Chart(...)"
      ]
     },
     "execution_count": 8,
     "metadata": {},
     "output_type": "execute_result"
    }
   ],
   "source": [
    "alt.Chart(tot_reg_melt).mark_line().encode(\n",
    "    x = 'fecha:T',\n",
    "    y = 'tasa_casos:Q',\n",
    "    color = 'region',\n",
    "    tooltip = ['fecha', 'tasa_casos', 'region']\n",
    ").interactive()"
   ]
  },
  {
   "cell_type": "markdown",
   "metadata": {},
   "source": [
    "Ahora, ¿cómo lo hacemos intereactivo?. El como es relativamente fácil, `IpyWidgets`. El qué es algo más complicado, ¿Qué queremos hacer con el gráfico? En este caso yo haré tres cosas, una caja que nos pregunté cual de los dos gráfico queremos, un selector de regiones, y un selector de rango de fechas. Pero antes un pequeño repaso de como funciona la libreria. En resumen, nosotros creamos un widget, este nos entrega una valor dependiendo de cual sea lo que selecionamos, y usamos la función interact para hacerlo interactuar con una funcion de nuestra creacion.\n",
    "\n",
    "Cremos un widget para ver como funcionan"
   ]
  },
  {
   "cell_type": "code",
   "execution_count": 9,
   "metadata": {},
   "outputs": [
    {
     "data": {
      "application/vnd.jupyter.widget-view+json": {
       "model_id": "f8ec5f4b911049ef8242fe4425c93d1d",
       "version_major": 2,
       "version_minor": 0
      },
      "text/plain": [
       "IntSlider(value=0)"
      ]
     },
     "metadata": {},
     "output_type": "display_data"
    }
   ],
   "source": [
    "slider = widgets.IntSlider()\n",
    "slider"
   ]
  },
  {
   "cell_type": "markdown",
   "metadata": {},
   "source": [
    "Podemos ver que `IntSlider` nos entrega una barrita en la que podemos seleccionar los valores. Ahora usemos definamos una función simple y usemos `interact`"
   ]
  },
  {
   "cell_type": "code",
   "execution_count": 10,
   "metadata": {},
   "outputs": [],
   "source": [
    "def f(x):\n",
    "    print(x)"
   ]
  },
  {
   "cell_type": "code",
   "execution_count": 11,
   "metadata": {},
   "outputs": [
    {
     "data": {
      "application/vnd.jupyter.widget-view+json": {
       "model_id": "03f10e760e634e17a3170a22ff24be89",
       "version_major": 2,
       "version_minor": 0
      },
      "text/plain": [
       "interactive(children=(IntSlider(value=0, description='x'), Output()), _dom_classes=('widget-interact',))"
      ]
     },
     "metadata": {},
     "output_type": "display_data"
    },
    {
     "data": {
      "text/plain": [
       "<function __main__.f(x)>"
      ]
     },
     "execution_count": 11,
     "metadata": {},
     "output_type": "execute_result"
    }
   ],
   "source": [
    "widgets.interact(f, x=slider)"
   ]
  },
  {
   "cell_type": "markdown",
   "metadata": {},
   "source": [
    "Podemos ver que el valor que esta escupiendo la función es el que designamos en la barrita, notemos tambien que tuvimos que decirle que valor usar, en este caso `x`, estor será importante más adelante. Puede encontrar una lista de todos los *widdgets* que existen en la [documentacion](https://ipywidgets.readthedocs.io/en/latest/examples/Widget%20List.html). Mientras hacemos el ejemplo podremos ver algunos extra\n",
    "\n",
    "Empezemos el ejemplo, lo primero que haremos será crear el selecior de si el gráfico es el de tasa o el de casos totales, para esto usaremos [`RadioButtons`](https://ipywidgets.readthedocs.io/en/latest/examples/Widget%20List.html#RadioButtons), primero crearemos el widget:"
   ]
  },
  {
   "cell_type": "code",
   "execution_count": 12,
   "metadata": {},
   "outputs": [
    {
     "data": {
      "application/vnd.jupyter.widget-view+json": {
       "model_id": "635c3dc288e64631aa2681e0b7bc79e3",
       "version_major": 2,
       "version_minor": 0
      },
      "text/plain": [
       "RadioButtons(description='Col. graf.:', options=('casos', 'tasa_casos'), value='casos')"
      ]
     },
     "metadata": {},
     "output_type": "display_data"
    }
   ],
   "source": [
    "tipo_de_grap = widgets.RadioButtons(options=['casos', 'tasa_casos'], #opciones de los botones\n",
    "                                    description='Col. graf.:', #descripcion del boton\n",
    "                                   )\n",
    "tipo_de_grap"
   ]
  },
  {
   "cell_type": "markdown",
   "metadata": {},
   "source": [
    "Ya tenemos nuestro widget, ahora definamos una funcion que nos entrege el grafico que tenemos con opciones para lo que estamos buscando modoficar."
   ]
  },
  {
   "cell_type": "code",
   "execution_count": 13,
   "metadata": {},
   "outputs": [],
   "source": [
    "def graf_casos(df, col):\n",
    "    viz = alt.Chart(df).mark_line().encode(\n",
    "              x = 'fecha:T',\n",
    "              y = f'{col}:Q',\n",
    "              color = 'region',\n",
    "              tooltip = ['fecha', 'tasa_casos', 'region']\n",
    "          ).interactive()\n",
    "    return viz"
   ]
  },
  {
   "cell_type": "markdown",
   "metadata": {},
   "source": [
    "Y ahora, usaremos interact para generar al grafico:"
   ]
  },
  {
   "cell_type": "code",
   "execution_count": 14,
   "metadata": {},
   "outputs": [
    {
     "data": {
      "application/vnd.jupyter.widget-view+json": {
       "model_id": "b7ed11ef565b40099bae1ceedc0e3505",
       "version_major": 2,
       "version_minor": 0
      },
      "text/plain": [
       "interactive(children=(RadioButtons(description='Col. graf.:', options=('casos', 'tasa_casos'), value='casos'),…"
      ]
     },
     "metadata": {},
     "output_type": "display_data"
    },
    {
     "data": {
      "text/plain": [
       "<function __main__.graf_casos(df, col)>"
      ]
     },
     "execution_count": 14,
     "metadata": {},
     "output_type": "execute_result"
    }
   ],
   "source": [
    "widgets.interact(graf_casos, df = widgets.fixed(tot_reg_melt), col = tipo_de_grap)"
   ]
  },
  {
   "cell_type": "markdown",
   "metadata": {},
   "source": [
    "Genial! Notemos el uso de `fixed()` este es un *widgtet* que en verdad no hace nada, solo fija el valor de una variable, pero es necesario al usar `interact`, ya que este nos exige que le entregemos *widgets* para todas las variables.\n",
    "\n",
    "Ahora haremos el selector de regiones, para esto usaremos [`Dropdown`](https://ipywidgets.readthedocs.io/en/latest/examples/Widget%20List.html#Dropdown), la primera opción será hacerlas todas, y luego region por region"
   ]
  },
  {
   "cell_type": "code",
   "execution_count": 15,
   "metadata": {},
   "outputs": [
    {
     "data": {
      "application/vnd.jupyter.widget-view+json": {
       "model_id": "bbce0210c247463f96fe7431d7f5c76e",
       "version_major": 2,
       "version_minor": 0
      },
      "text/plain": [
       "Dropdown(description='Region:', options=('Todas', 'Antofagasta', 'Araucanía', 'Arica y Parinacota', 'Atacama',…"
      ]
     },
     "metadata": {},
     "output_type": "display_data"
    }
   ],
   "source": [
    "regiones = list(tot_reg_melt.region.unique())\n",
    "select_reg = widgets.Dropdown(\n",
    "                              options = ['Todas'] + regiones, #valores paara elegir\n",
    "                              value = 'Todas', #valor por defecto\n",
    "                              description='Region:', #descripcion\n",
    "                             )\n",
    "select_reg"
   ]
  },
  {
   "cell_type": "markdown",
   "metadata": {},
   "source": [
    "Ahora modifiquemos nuestra funcion:"
   ]
  },
  {
   "cell_type": "code",
   "execution_count": 16,
   "metadata": {},
   "outputs": [],
   "source": [
    "def graf_casos(df, col, reg):\n",
    "    if reg != 'Todas':\n",
    "        df = df[df.region == reg]\n",
    "    viz = alt.Chart(df).mark_line().encode(\n",
    "              x = 'fecha:T',\n",
    "              y = f'{col}:Q',\n",
    "              color = 'region',\n",
    "              tooltip = ['fecha', 'tasa_casos', 'region']\n",
    "          ).interactive()\n",
    "    return viz"
   ]
  },
  {
   "cell_type": "code",
   "execution_count": 17,
   "metadata": {},
   "outputs": [
    {
     "data": {
      "application/vnd.jupyter.widget-view+json": {
       "model_id": "69bfc5846c1847c2bc8ff75be24d3b3a",
       "version_major": 2,
       "version_minor": 0
      },
      "text/plain": [
       "interactive(children=(RadioButtons(description='Col. graf.:', options=('casos', 'tasa_casos'), value='casos'),…"
      ]
     },
     "metadata": {},
     "output_type": "display_data"
    },
    {
     "data": {
      "text/plain": [
       "<function __main__.graf_casos(df, col, reg)>"
      ]
     },
     "execution_count": 17,
     "metadata": {},
     "output_type": "execute_result"
    }
   ],
   "source": [
    "widgets.interact(graf_casos, df = widgets.fixed(tot_reg_melt), col = tipo_de_grap, reg = select_reg)"
   ]
  },
  {
   "cell_type": "markdown",
   "metadata": {},
   "source": [
    "Ahora solo nos queda una, y es la más difil, crear un slider para eleguir las fechas. En verdad no es tan complejo, usaremos [`SelectionRangeSlider`](https://ipywidgets.readthedocs.io/en/latest/examples/Widget%20List.html#SelectionRangeSlider), pero este nos pide más cosas para poder usarlo:"
   ]
  },
  {
   "cell_type": "code",
   "execution_count": 18,
   "metadata": {},
   "outputs": [],
   "source": [
    "start_date = tot_reg_melt.fecha.min() #primera fecha\n",
    "end_date = tot_reg_melt.fecha.max() #ultima fecha\n",
    "\n",
    "dates = tot_reg_melt.fecha.unique() #lista de fechas en el dataframe\n",
    "\n",
    "options = [(pd.to_datetime(str(date)).strftime(' %d %b %Y '), pd.to_datetime(str(date)) ) for date in dates] #esto genera los valores de la forma (02 Nov 2020, fecha real)\n",
    "index = (0, len(options)-1) #los indices que usiaremos \n",
    "\n",
    "rango_fechas = widgets.SelectionRangeSlider(\n",
    "    options=options,\n",
    "    index=index,\n",
    "    description='Fechas',\n",
    "    orientation='horizontal',\n",
    "    layout={'width': '500px'} #largo del widget\n",
    ")"
   ]
  },
  {
   "cell_type": "code",
   "execution_count": 19,
   "metadata": {},
   "outputs": [
    {
     "data": {
      "application/vnd.jupyter.widget-view+json": {
       "model_id": "b67075baab264133a9de0b5695a49f29",
       "version_major": 2,
       "version_minor": 0
      },
      "text/plain": [
       "SelectionRangeSlider(description='Fechas', index=(0, 64), layout=Layout(width='500px'), options=((' 30 Mar 202…"
      ]
     },
     "metadata": {},
     "output_type": "display_data"
    }
   ],
   "source": [
    "rango_fechas"
   ]
  },
  {
   "cell_type": "markdown",
   "metadata": {},
   "source": [
    "Por ultimo nos queda modificar la funcion de forma que filtre los datos antes de graficar:"
   ]
  },
  {
   "cell_type": "code",
   "execution_count": 20,
   "metadata": {},
   "outputs": [],
   "source": [
    "def graf_casos(df, col, reg, date_range):\n",
    "    mask = (df.fecha > date_range[0]) & (df.fecha <= date_range[1])\n",
    "    df = df.loc[mask]\n",
    "    if reg != 'Todas':\n",
    "        df = df[df.region == reg]\n",
    "    viz = alt.Chart(df).mark_line().encode(\n",
    "              x = 'fecha:T',\n",
    "              y = f'{col}:Q',\n",
    "              color = 'region',\n",
    "              tooltip = ['fecha', 'tasa_casos', 'region']\n",
    "          ).interactive()\n",
    "    return viz"
   ]
  },
  {
   "cell_type": "markdown",
   "metadata": {},
   "source": [
    "Ahora, con esto listo solo hay que invcar al `interact`"
   ]
  },
  {
   "cell_type": "code",
   "execution_count": 21,
   "metadata": {},
   "outputs": [
    {
     "data": {
      "application/vnd.jupyter.widget-view+json": {
       "model_id": "1f98c5acb0c6483aa84637ea62b33cbb",
       "version_major": 2,
       "version_minor": 0
      },
      "text/plain": [
       "interactive(children=(RadioButtons(description='Col. graf.:', options=('casos', 'tasa_casos'), value='casos'),…"
      ]
     },
     "metadata": {},
     "output_type": "display_data"
    },
    {
     "data": {
      "text/plain": [
       "<function __main__.graf_casos(df, col, reg, date_range)>"
      ]
     },
     "execution_count": 21,
     "metadata": {},
     "output_type": "execute_result"
    }
   ],
   "source": [
    "widgets.interact(graf_casos, df = widgets.fixed(tot_reg_melt), col = tipo_de_grap, reg = select_reg, date_range = rango_fechas)"
   ]
  },
  {
   "cell_type": "markdown",
   "metadata": {},
   "source": [
    "Con esto ya deberían tenre una idea, ahora les toca a ustedes implementar!"
   ]
  },
  {
   "cell_type": "markdown",
   "metadata": {},
   "source": [
    "## Ejercicios\n",
    "### Ejercicio 1\n",
    "\n",
    "Para este ejercio usaremos el *dataset* de *Kaggle* [*Amazon Top 50 Bestselling Books 2009 - 2019*](https://www.kaggle.com/sootersaalu/amazon-top-50-bestselling-books-2009-2019), que, citando de ahí mismo:\n",
    "\n",
    "*Dataset on Amazon's Top 50 bestselling books from 2009 to 2019. Contains 550 books, data has been categorized into fiction and non-fiction using Goodreads*\n",
    "\n",
    "Invoquemos estos datos y hagamos el típico formato de columnas"
   ]
  },
  {
   "cell_type": "code",
   "execution_count": 22,
   "metadata": {},
   "outputs": [],
   "source": [
    "import ipywidgets as widgets \n",
    "import numpy as np\n",
    "import pandas as pd\n",
    "import altair as alt\n",
    "\n",
    "alt.data_transformers.disable_max_rows()\n",
    "%matplotlib inline"
   ]
  },
  {
   "cell_type": "code",
   "execution_count": 23,
   "metadata": {},
   "outputs": [
    {
     "data": {
      "text/html": [
       "<div>\n",
       "<style scoped>\n",
       "    .dataframe tbody tr th:only-of-type {\n",
       "        vertical-align: middle;\n",
       "    }\n",
       "\n",
       "    .dataframe tbody tr th {\n",
       "        vertical-align: top;\n",
       "    }\n",
       "\n",
       "    .dataframe thead th {\n",
       "        text-align: right;\n",
       "    }\n",
       "</style>\n",
       "<table border=\"1\" class=\"dataframe\">\n",
       "  <thead>\n",
       "    <tr style=\"text-align: right;\">\n",
       "      <th></th>\n",
       "      <th>name</th>\n",
       "      <th>author</th>\n",
       "      <th>user_rating</th>\n",
       "      <th>reviews</th>\n",
       "      <th>price</th>\n",
       "      <th>year</th>\n",
       "      <th>genre</th>\n",
       "    </tr>\n",
       "  </thead>\n",
       "  <tbody>\n",
       "    <tr>\n",
       "      <th>0</th>\n",
       "      <td>10-Day Green Smoothie Cleanse</td>\n",
       "      <td>JJ Smith</td>\n",
       "      <td>4.7</td>\n",
       "      <td>17350</td>\n",
       "      <td>8</td>\n",
       "      <td>2016</td>\n",
       "      <td>Non Fiction</td>\n",
       "    </tr>\n",
       "    <tr>\n",
       "      <th>1</th>\n",
       "      <td>11/22/63: A Novel</td>\n",
       "      <td>Stephen King</td>\n",
       "      <td>4.6</td>\n",
       "      <td>2052</td>\n",
       "      <td>22</td>\n",
       "      <td>2011</td>\n",
       "      <td>Fiction</td>\n",
       "    </tr>\n",
       "    <tr>\n",
       "      <th>2</th>\n",
       "      <td>12 Rules for Life: An Antidote to Chaos</td>\n",
       "      <td>Jordan B. Peterson</td>\n",
       "      <td>4.7</td>\n",
       "      <td>18979</td>\n",
       "      <td>15</td>\n",
       "      <td>2018</td>\n",
       "      <td>Non Fiction</td>\n",
       "    </tr>\n",
       "    <tr>\n",
       "      <th>3</th>\n",
       "      <td>1984 (Signet Classics)</td>\n",
       "      <td>George Orwell</td>\n",
       "      <td>4.7</td>\n",
       "      <td>21424</td>\n",
       "      <td>6</td>\n",
       "      <td>2017</td>\n",
       "      <td>Fiction</td>\n",
       "    </tr>\n",
       "    <tr>\n",
       "      <th>4</th>\n",
       "      <td>5,000 Awesome Facts (About Everything!) (Natio...</td>\n",
       "      <td>National Geographic Kids</td>\n",
       "      <td>4.8</td>\n",
       "      <td>7665</td>\n",
       "      <td>12</td>\n",
       "      <td>2019</td>\n",
       "      <td>Non Fiction</td>\n",
       "    </tr>\n",
       "  </tbody>\n",
       "</table>\n",
       "</div>"
      ],
      "text/plain": [
       "                                                name  \\\n",
       "0                      10-Day Green Smoothie Cleanse   \n",
       "1                                  11/22/63: A Novel   \n",
       "2            12 Rules for Life: An Antidote to Chaos   \n",
       "3                             1984 (Signet Classics)   \n",
       "4  5,000 Awesome Facts (About Everything!) (Natio...   \n",
       "\n",
       "                     author  user_rating  reviews  price  year        genre  \n",
       "0                  JJ Smith          4.7    17350      8  2016  Non Fiction  \n",
       "1              Stephen King          4.6     2052     22  2011      Fiction  \n",
       "2        Jordan B. Peterson          4.7    18979     15  2018  Non Fiction  \n",
       "3             George Orwell          4.7    21424      6  2017      Fiction  \n",
       "4  National Geographic Kids          4.8     7665     12  2019  Non Fiction  "
      ]
     },
     "execution_count": 23,
     "metadata": {},
     "output_type": "execute_result"
    }
   ],
   "source": [
    "books = pd.read_csv('data/bestsellers_with_categories.csv')\n",
    "books.columns = books.columns.str.lower().str.replace(' ','_')\n",
    "books.head()"
   ]
  },
  {
   "cell_type": "markdown",
   "metadata": {},
   "source": [
    "Comenzaremos por lo básico, gráfica (para lo que vamos a usar recomiendo usar Altair), de forma que en el eje x esté `user_rating`, en el eje y esté `reviews`, el color sea 'genre' y un *tooltop* que nos muestre estos dos datos junto con `'name'` y` 'author'`."
   ]
  },
  {
   "cell_type": "code",
   "execution_count": 24,
   "metadata": {},
   "outputs": [
    {
     "ename": "SyntaxError",
     "evalue": "invalid syntax (<ipython-input-24-d5b208bde051>, line 3)",
     "output_type": "error",
     "traceback": [
      "\u001b[1;36m  File \u001b[1;32m\"<ipython-input-24-d5b208bde051>\"\u001b[1;36m, line \u001b[1;32m3\u001b[0m\n\u001b[1;33m    y = #fill\u001b[0m\n\u001b[1;37m      ^\u001b[0m\n\u001b[1;31mSyntaxError\u001b[0m\u001b[1;31m:\u001b[0m invalid syntax\n"
     ]
    }
   ],
   "source": [
    "alt.Chart(books).mark_circle(size=60).encode(\n",
    "    x = #fill\n",
    "    y = #fill\n",
    "    color = #fill\n",
    "    tooltip = #fill\n",
    ").interactive()"
   ]
  },
  {
   "cell_type": "markdown",
   "metadata": {},
   "source": [
    "Ahora, tenemos más columnas con datos, construiremos un *Widget* que nos permita elegir que columnas queremos mostrar al graficar, para esto construye dos [`RadioButtons`](https://ipywidgets.readthedocs.io/en/latest/examples/Widget%20List.html#RadioButtons) que tengan por opciones las columnas de valores numericos de los datos y descripción el eje que modifican."
   ]
  },
  {
   "cell_type": "code",
   "execution_count": null,
   "metadata": {},
   "outputs": [],
   "source": [
    "w_eje_x = widgets.RadioButtons(\n",
    "                               options = #fill\n",
    "                               description = #fill\n",
    "                              )"
   ]
  },
  {
   "cell_type": "code",
   "execution_count": null,
   "metadata": {},
   "outputs": [],
   "source": [
    "w_eje_y = widgets.RadioButtons(\n",
    "                               options = #fill\n",
    "                               description = #fill\n",
    "                              )"
   ]
  },
  {
   "cell_type": "markdown",
   "metadata": {},
   "source": [
    "Ahora, contruye la función que nos entrege al gráfico que queremos, donde los datos mostrados sean los ejes selacionados con los *widgets*"
   ]
  },
  {
   "cell_type": "code",
   "execution_count": null,
   "metadata": {},
   "outputs": [],
   "source": [
    "def book_alt(df, eje_x, eje_y):\n",
    "    viz = (alt.Chart(books)\n",
    "               .mark_circle(size=60)\n",
    "               .encode(\n",
    "                       x = #fill\n",
    "                       y = #fill\n",
    "                       color = #fill\n",
    "                       tooltip = #fill\n",
    "                      )\n",
    "               .interactive()\n",
    "           ) \n",
    "    return viz"
   ]
  },
  {
   "cell_type": "code",
   "execution_count": null,
   "metadata": {},
   "outputs": [],
   "source": [
    "widgets.interact(book_alt\n",
    "                 , df = #fill\n",
    "                 , eje_x = #fill\n",
    "                 , eje_y = #fill)"
   ]
  },
  {
   "cell_type": "markdown",
   "metadata": {},
   "source": [
    "¡Genial! Un solo problema, al seleccionar `year` nuestro gráfico se rompe, esto es porque trata esa variable como una cuiantitativa en vez de una nominal, modifica la función de forma qué, si se selecciona `year` en una de variables, el tipo de dato que muestra sea nominal."
   ]
  },
  {
   "cell_type": "code",
   "execution_count": null,
   "metadata": {},
   "outputs": [],
   "source": [
    "def book_alt(df, eje_x, eje_y):\n",
    "\n",
    "    #fill\n",
    "    \n",
    "    viz = (alt.Chart(books)\n",
    "               .mark_circle(size=60)\n",
    "               .encode(\n",
    "                       x = #fill\n",
    "                       y = #fill\n",
    "                       color = #fill\n",
    "                       tooltip = #fill\n",
    "                      )\n",
    "               .interactive()\n",
    "           ) \n",
    "    return viz"
   ]
  },
  {
   "cell_type": "code",
   "execution_count": null,
   "metadata": {},
   "outputs": [],
   "source": [
    "widgets.interact(#fill\n",
    "                 , df = #fill\n",
    "                 , eje_x = #fill\n",
    "                 , eje_y = #fill \n",
    "                )"
   ]
  },
  {
   "cell_type": "markdown",
   "metadata": {},
   "source": [
    "Aun hay más cosas que podriamos agregar, pero ¿y si quremos filtrar los datos que vamos a mostrar? Esto es lo que veremos en la siguiente actividad"
   ]
  },
  {
   "cell_type": "markdown",
   "metadata": {},
   "source": [
    "## Ejercicios\n",
    "### Ejercicio 2\n",
    "\n",
    "Para este ejercicio usaremos el dataset de Kaggle [\"COVID-19's Impact on Airport Traffic\"](https://www.kaggle.com/terenceshin/covid19s-impact-on-airport-traffic), citando desde ahí:\n",
    "\n",
    "*This dataset shows traffic to and from the Airport as a Percentage of the Traffic volume during the baseline period. The baseline period used for computing this metric is from 1st Feb to 15th March 2020. The dataset gets updated monthly.*\n",
    "\n",
    "Para eso lo vamos a llamar, y luego haremos lo típico, arreglar el formato de las columnas y sacar las columnas que no usaremos; también converstiremos la columnas `Date` al tipo de dato que corresponde"
   ]
  },
  {
   "cell_type": "code",
   "execution_count": null,
   "metadata": {},
   "outputs": [],
   "source": [
    "air = pd.read_csv('data/covid_impact_on_airport_traffic.csv')\n",
    "air.drop(columns = ['AggregationMethod', 'Version','ISO_3166_2','Centroid', 'Geography'], inplace = True)\n",
    "air.columns = air.columns.str.strip().str.lower() \n",
    "air.date = pd.to_datetime(air.date)\n",
    "air.head()"
   ]
  },
  {
   "cell_type": "markdown",
   "metadata": {},
   "source": [
    "Ahora, realiza un plot de los datos (para lo que vamos a usar recomiendo usar Altair), con las fechas en el eje X, `mean(percentofbaseline)` (esto lo hacemos porque hay mas de una entrada por pais por fecha) en el eje Y, y los paises separados por colores: "
   ]
  },
  {
   "cell_type": "code",
   "execution_count": null,
   "metadata": {},
   "outputs": [],
   "source": [
    "alt.Chart(air).mark_line().encode(\n",
    "    x=#fill,\n",
    "    y=#fill,\n",
    "    color = #fill\n",
    "    )"
   ]
  },
  {
   "cell_type": "markdown",
   "metadata": {},
   "source": [
    "Podemos ver que tenemos se ven fuertemente afectados por un vaiven semanal, esto es malo porque no nos permite apreciar ver las tendencias que se puedan formar en los datos, para esto quedaria mejor porder ver los datos semana a semana, ya que no es el objetivo de la actividad de esta semana les entrego esta pega hecha, pero de todas formas quiero que describan paso a paso que es lo que está haciendo el codigo de abajo:"
   ]
  },
  {
   "cell_type": "code",
   "execution_count": null,
   "metadata": {},
   "outputs": [],
   "source": [
    "air = (air.set_index('date')\n",
    "          .groupby(['country'\n",
    "                    , 'state'\n",
    "                    , 'city'\n",
    "                    , 'airportname']\n",
    "                  )\n",
    "          .apply(lambda x: x.resample('W', label='right').mean())\n",
    "          .reset_index()\n",
    "      )"
   ]
  },
  {
   "cell_type": "markdown",
   "metadata": {},
   "source": [
    "**¿Que está haciendo la celda de arriba?**\n",
    "\n",
    "**Respuesta:**"
   ]
  },
  {
   "cell_type": "markdown",
   "metadata": {},
   "source": [
    "Ahora, veamos como queda nuestro nuevo grafico luego de lo que hicimos:"
   ]
  },
  {
   "cell_type": "code",
   "execution_count": null,
   "metadata": {},
   "outputs": [],
   "source": [
    "alt.Chart(air).mark_line().encode(\n",
    "    x = #fill,\n",
    "    y = #fill\n",
    "    color = #fill\n",
    "    )"
   ]
  },
  {
   "cell_type": "markdown",
   "metadata": {},
   "source": [
    "Ahora, queremos hacer que esta vizualización sea interactiva. Lo primero que nos permita seleccionar entre que fechas queremos ver los datos, para eso utiliza `SelectionRangeSlider` para crear un *slider* que vaya desde la primera fecha de los datos, hazta la ultima, en incrementos de una semana\n",
    "\n",
    "Hint: para la lista de todos los valores te recomiento usar ``"
   ]
  },
  {
   "cell_type": "code",
   "execution_count": null,
   "metadata": {},
   "outputs": [],
   "source": [
    "start_date =#fill\n",
    "end_date = #fill\n",
    "\n",
    "dates = pd.date_range(start_date, end_date, freq='W') #esto es una forma de generar lsitas de cefhas\n",
    "\n",
    "options = [(date.strftime(' %d %b %Y '), date) for date in dates] #no es necesario hacer la conversion, dado formato que nos entreaga\n",
    "\n",
    "selection_range_slider = widgets.SelectionRangeSlider(\n",
    "    options=#fill,\n",
    "    index=#fill\n",
    "    description=#fill\n",
    "    orientation='horizontal',\n",
    "    layout={'width': #fill\n",
    "           }\n",
    ")"
   ]
  },
  {
   "cell_type": "code",
   "execution_count": null,
   "metadata": {},
   "outputs": [],
   "source": [
    "selection_range_slider"
   ]
  },
  {
   "cell_type": "markdown",
   "metadata": {},
   "source": [
    "Con nuestro *slider* funcionando, ahora crea la funcion que nos entregará el gráfico entre las fechas pedidas. Para esto, te recomiendo filtrar el *DataFrame* y luego generar la vizualización:"
   ]
  },
  {
   "cell_type": "code",
   "execution_count": null,
   "metadata": {},
   "outputs": [],
   "source": [
    "def altair_plot(df, date_range):\n",
    "    mask = #fill\n",
    "    df = df.loc[mask]\n",
    "    viz = alt.Chart(df).mark_line().encode(\n",
    "    x=#fill\n",
    "    y=#fill\n",
    "    color = #fill\n",
    "    )\n",
    "    return viz"
   ]
  },
  {
   "cell_type": "code",
   "execution_count": null,
   "metadata": {},
   "outputs": [],
   "source": [
    "widgets.interact(altair_plot, date_range=selection_range_slider, df=widgets.fixed(air));"
   ]
  },
  {
   "cell_type": "markdown",
   "metadata": {},
   "source": [
    "Supongamos que queremos seleccionar que paises podemos ver, para esto usaremos 4 `Checkbox` con los valores para cada pais. \n",
    "\n",
    "Hint: Puedes usar el metodo `[i for i in countries]` si tienes una lsita de los paises"
   ]
  },
  {
   "cell_type": "code",
   "execution_count": null,
   "metadata": {},
   "outputs": [],
   "source": [
    "check_boxes = [widgets.Checkbox(\n",
    "                                description=#fill,\n",
    "                               ) for i in #fill\n",
    "              ]"
   ]
  },
  {
   "cell_type": "markdown",
   "metadata": {},
   "source": [
    "Ahora, haz algo similar a lo anterior, recuerda que cada caja entrega un valor *booleano*, así que filtra los datos antes de meterlos a la vizualización"
   ]
  },
  {
   "cell_type": "code",
   "execution_count": null,
   "metadata": {},
   "outputs": [],
   "source": [
    "def altair_plot(df, date_range, show_aus , show_cnd , show_cl , show_usa ):\n",
    "#fill\n",
    "    mask =#fill\n",
    "    df = df.loc[mask]\n",
    "    viz = alt.Chart(df).mark_line().encode(\n",
    "                                           x=#fill\n",
    "                                           y=#fill\n",
    "                                           color = #fill\n",
    "                                          )\n",
    "    return viz"
   ]
  },
  {
   "cell_type": "code",
   "execution_count": null,
   "metadata": {},
   "outputs": [],
   "source": [
    "widgets.interact(altair_plot\n",
    "                 , date_range = #fill\n",
    "                 , df = #fill\n",
    "                 , show_aus =  #fill\n",
    "                 , show_cnd = #fill\n",
    "                 , show_cl = #fill\n",
    "                 , show_usa = #fill\n",
    "                )"
   ]
  },
  {
   "cell_type": "markdown",
   "metadata": {},
   "source": [
    "Con esto ya te puedes hacer una idea de como podemos usar *ipywidgets* para la vizualizacion de datos ."
   ]
  }
 ],
 "metadata": {
  "kernelspec": {
   "display_name": "Python 3",
   "language": "python",
   "name": "python3"
  },
  "language_info": {
   "codemirror_mode": {
    "name": "ipython",
    "version": 3
   },
   "file_extension": ".py",
   "mimetype": "text/x-python",
   "name": "python",
   "nbconvert_exporter": "python",
   "pygments_lexer": "ipython3",
   "version": "3.8.3"
  }
 },
 "nbformat": 4,
 "nbformat_minor": 4
}
