{
 "cells": [
  {
   "cell_type": "markdown",
   "metadata": {},
   "source": [
    "# Ayudantía 6: Visualización\n",
    "\n",
    "Altair es una librería de visualización estadistica para python, durante esta ayudantía haremos un repaso rapido de esta librería. Quiero notar que la gran mayoría de cosas hechas en esta se pueden replicar con `matplotlib`, y que la actividad indicada más abajo puede ser hecha de ambar formas.\n",
    "\n",
    "Altair ofrece un gramática de visualización poderosa y concisa que permite construir un amplio rango de vizualización rápidas. Comenzaremos con un ejemplo rápido:"
   ]
  },
  {
   "cell_type": "code",
   "execution_count": 1,
   "metadata": {
    "Collapsed": "false"
   },
   "outputs": [],
   "source": [
    "import os\n",
    "import numpy as np\n",
    "import pandas as pd\n",
    "import matplotlib.pyplot as plt\n",
    "import altair as alt\n",
    "\n",
    "from vega_datasets import data\n",
    "\n",
    "pd.set_option('display.max_columns', 999)\n",
    "alt.themes.enable('opaque')\n",
    "\n",
    "%matplotlib inline"
   ]
  },
  {
   "cell_type": "code",
   "execution_count": 2,
   "metadata": {},
   "outputs": [
    {
     "data": {
      "text/html": [
       "\n",
       "<div id=\"altair-viz-ada56d29513640a2909112d5ae43cfcb\"></div>\n",
       "<script type=\"text/javascript\">\n",
       "  (function(spec, embedOpt){\n",
       "    let outputDiv = document.currentScript.previousElementSibling;\n",
       "    if (outputDiv.id !== \"altair-viz-ada56d29513640a2909112d5ae43cfcb\") {\n",
       "      outputDiv = document.getElementById(\"altair-viz-ada56d29513640a2909112d5ae43cfcb\");\n",
       "    }\n",
       "    const paths = {\n",
       "      \"vega\": \"https://cdn.jsdelivr.net/npm//vega@5?noext\",\n",
       "      \"vega-lib\": \"https://cdn.jsdelivr.net/npm//vega-lib?noext\",\n",
       "      \"vega-lite\": \"https://cdn.jsdelivr.net/npm//vega-lite@4.8.1?noext\",\n",
       "      \"vega-embed\": \"https://cdn.jsdelivr.net/npm//vega-embed@6?noext\",\n",
       "    };\n",
       "\n",
       "    function loadScript(lib) {\n",
       "      return new Promise(function(resolve, reject) {\n",
       "        var s = document.createElement('script');\n",
       "        s.src = paths[lib];\n",
       "        s.async = true;\n",
       "        s.onload = () => resolve(paths[lib]);\n",
       "        s.onerror = () => reject(`Error loading script: ${paths[lib]}`);\n",
       "        document.getElementsByTagName(\"head\")[0].appendChild(s);\n",
       "      });\n",
       "    }\n",
       "\n",
       "    function showError(err) {\n",
       "      outputDiv.innerHTML = `<div class=\"error\" style=\"color:red;\">${err}</div>`;\n",
       "      throw err;\n",
       "    }\n",
       "\n",
       "    function displayChart(vegaEmbed) {\n",
       "      vegaEmbed(outputDiv, spec, embedOpt)\n",
       "        .catch(err => showError(`Javascript Error: ${err.message}<br>This usually means there's a typo in your chart specification. See the javascript console for the full traceback.`));\n",
       "    }\n",
       "\n",
       "    if(typeof define === \"function\" && define.amd) {\n",
       "      requirejs.config({paths});\n",
       "      require([\"vega-embed\"], displayChart, err => showError(`Error loading script: ${err.message}`));\n",
       "    } else if (typeof vegaEmbed === \"function\") {\n",
       "      displayChart(vegaEmbed);\n",
       "    } else {\n",
       "      loadScript(\"vega\")\n",
       "        .then(() => loadScript(\"vega-lite\"))\n",
       "        .then(() => loadScript(\"vega-embed\"))\n",
       "        .catch(showError)\n",
       "        .then(() => displayChart(vegaEmbed));\n",
       "    }\n",
       "  })({\"config\": {\"background\": \"white\", \"view\": {\"continuousWidth\": 400, \"continuousHeight\": 300}}, \"data\": {\"name\": \"data-a264acbd6e539a8b3afc0cb5f240fb57\"}, \"mark\": \"point\", \"encoding\": {\"color\": {\"type\": \"nominal\", \"field\": \"species\"}, \"x\": {\"type\": \"quantitative\", \"field\": \"petalLength\"}, \"y\": {\"type\": \"quantitative\", \"field\": \"petalWidth\"}}, \"selection\": {\"selector001\": {\"type\": \"interval\", \"bind\": \"scales\", \"encodings\": [\"x\", \"y\"]}}, \"$schema\": \"https://vega.github.io/schema/vega-lite/v4.8.1.json\", \"datasets\": {\"data-a264acbd6e539a8b3afc0cb5f240fb57\": [{\"sepalLength\": 5.1, \"sepalWidth\": 3.5, \"petalLength\": 1.4, \"petalWidth\": 0.2, \"species\": \"setosa\"}, {\"sepalLength\": 4.9, \"sepalWidth\": 3.0, \"petalLength\": 1.4, \"petalWidth\": 0.2, \"species\": \"setosa\"}, {\"sepalLength\": 4.7, \"sepalWidth\": 3.2, \"petalLength\": 1.3, \"petalWidth\": 0.2, \"species\": \"setosa\"}, {\"sepalLength\": 4.6, \"sepalWidth\": 3.1, \"petalLength\": 1.5, \"petalWidth\": 0.2, \"species\": \"setosa\"}, {\"sepalLength\": 5.0, \"sepalWidth\": 3.6, \"petalLength\": 1.4, \"petalWidth\": 0.2, \"species\": \"setosa\"}, {\"sepalLength\": 5.4, \"sepalWidth\": 3.9, \"petalLength\": 1.7000000000000002, \"petalWidth\": 0.4, \"species\": \"setosa\"}, {\"sepalLength\": 4.6, \"sepalWidth\": 3.4, \"petalLength\": 1.4, \"petalWidth\": 0.30000000000000004, \"species\": \"setosa\"}, {\"sepalLength\": 5.0, \"sepalWidth\": 3.4, \"petalLength\": 1.5, \"petalWidth\": 0.2, \"species\": \"setosa\"}, {\"sepalLength\": 4.4, \"sepalWidth\": 2.9, \"petalLength\": 1.4, \"petalWidth\": 0.2, \"species\": \"setosa\"}, {\"sepalLength\": 4.9, \"sepalWidth\": 3.1, \"petalLength\": 1.5, \"petalWidth\": 0.1, \"species\": \"setosa\"}, {\"sepalLength\": 5.4, \"sepalWidth\": 3.7, \"petalLength\": 1.5, \"petalWidth\": 0.2, \"species\": \"setosa\"}, {\"sepalLength\": 4.8, \"sepalWidth\": 3.4, \"petalLength\": 1.6, \"petalWidth\": 0.2, \"species\": \"setosa\"}, {\"sepalLength\": 4.8, \"sepalWidth\": 3.0, \"petalLength\": 1.4, \"petalWidth\": 0.1, \"species\": \"setosa\"}, {\"sepalLength\": 4.3, \"sepalWidth\": 3.0, \"petalLength\": 1.1, \"petalWidth\": 0.1, \"species\": \"setosa\"}, {\"sepalLength\": 5.8, \"sepalWidth\": 4.0, \"petalLength\": 1.2, \"petalWidth\": 0.2, \"species\": \"setosa\"}, {\"sepalLength\": 5.7, \"sepalWidth\": 4.4, \"petalLength\": 1.5, \"petalWidth\": 0.4, \"species\": \"setosa\"}, {\"sepalLength\": 5.4, \"sepalWidth\": 3.9, \"petalLength\": 1.3, \"petalWidth\": 0.4, \"species\": \"setosa\"}, {\"sepalLength\": 5.1, \"sepalWidth\": 3.5, \"petalLength\": 1.4, \"petalWidth\": 0.30000000000000004, \"species\": \"setosa\"}, {\"sepalLength\": 5.7, \"sepalWidth\": 3.8, \"petalLength\": 1.7000000000000002, \"petalWidth\": 0.30000000000000004, \"species\": \"setosa\"}, {\"sepalLength\": 5.1, \"sepalWidth\": 3.8, \"petalLength\": 1.5, \"petalWidth\": 0.30000000000000004, \"species\": \"setosa\"}, {\"sepalLength\": 5.4, \"sepalWidth\": 3.4, \"petalLength\": 1.7000000000000002, \"petalWidth\": 0.2, \"species\": \"setosa\"}, {\"sepalLength\": 5.1, \"sepalWidth\": 3.7, \"petalLength\": 1.5, \"petalWidth\": 0.4, \"species\": \"setosa\"}, {\"sepalLength\": 4.6, \"sepalWidth\": 3.6, \"petalLength\": 1.0, \"petalWidth\": 0.2, \"species\": \"setosa\"}, {\"sepalLength\": 5.1, \"sepalWidth\": 3.3, \"petalLength\": 1.7000000000000002, \"petalWidth\": 0.5, \"species\": \"setosa\"}, {\"sepalLength\": 4.8, \"sepalWidth\": 3.4, \"petalLength\": 1.9, \"petalWidth\": 0.2, \"species\": \"setosa\"}, {\"sepalLength\": 5.0, \"sepalWidth\": 3.0, \"petalLength\": 1.6, \"petalWidth\": 0.2, \"species\": \"setosa\"}, {\"sepalLength\": 5.0, \"sepalWidth\": 3.4, \"petalLength\": 1.6, \"petalWidth\": 0.4, \"species\": \"setosa\"}, {\"sepalLength\": 5.2, \"sepalWidth\": 3.5, \"petalLength\": 1.5, \"petalWidth\": 0.2, \"species\": \"setosa\"}, {\"sepalLength\": 5.2, \"sepalWidth\": 3.4, \"petalLength\": 1.4, \"petalWidth\": 0.2, \"species\": \"setosa\"}, {\"sepalLength\": 4.7, \"sepalWidth\": 3.2, \"petalLength\": 1.6, \"petalWidth\": 0.2, \"species\": \"setosa\"}, {\"sepalLength\": 4.8, \"sepalWidth\": 3.1, \"petalLength\": 1.6, \"petalWidth\": 0.2, \"species\": \"setosa\"}, {\"sepalLength\": 5.4, \"sepalWidth\": 3.4, \"petalLength\": 1.5, \"petalWidth\": 0.4, \"species\": \"setosa\"}, {\"sepalLength\": 5.2, \"sepalWidth\": 4.1, \"petalLength\": 1.5, \"petalWidth\": 0.1, \"species\": \"setosa\"}, {\"sepalLength\": 5.5, \"sepalWidth\": 4.2, \"petalLength\": 1.4, \"petalWidth\": 0.2, \"species\": \"setosa\"}, {\"sepalLength\": 4.9, \"sepalWidth\": 3.1, \"petalLength\": 1.5, \"petalWidth\": 0.2, \"species\": \"setosa\"}, {\"sepalLength\": 5.0, \"sepalWidth\": 3.2, \"petalLength\": 1.2, \"petalWidth\": 0.2, \"species\": \"setosa\"}, {\"sepalLength\": 5.5, \"sepalWidth\": 3.5, \"petalLength\": 1.3, \"petalWidth\": 0.2, \"species\": \"setosa\"}, {\"sepalLength\": 4.9, \"sepalWidth\": 3.6, \"petalLength\": 1.4, \"petalWidth\": 0.1, \"species\": \"setosa\"}, {\"sepalLength\": 4.4, \"sepalWidth\": 3.0, \"petalLength\": 1.3, \"petalWidth\": 0.2, \"species\": \"setosa\"}, {\"sepalLength\": 5.1, \"sepalWidth\": 3.4, \"petalLength\": 1.5, \"petalWidth\": 0.2, \"species\": \"setosa\"}, {\"sepalLength\": 5.0, \"sepalWidth\": 3.5, \"petalLength\": 1.3, \"petalWidth\": 0.30000000000000004, \"species\": \"setosa\"}, {\"sepalLength\": 4.5, \"sepalWidth\": 2.3, \"petalLength\": 1.3, \"petalWidth\": 0.30000000000000004, \"species\": \"setosa\"}, {\"sepalLength\": 4.4, \"sepalWidth\": 3.2, \"petalLength\": 1.3, \"petalWidth\": 0.2, \"species\": \"setosa\"}, {\"sepalLength\": 5.0, \"sepalWidth\": 3.5, \"petalLength\": 1.6, \"petalWidth\": 0.6000000000000001, \"species\": \"setosa\"}, {\"sepalLength\": 5.1, \"sepalWidth\": 3.8, \"petalLength\": 1.9, \"petalWidth\": 0.4, \"species\": \"setosa\"}, {\"sepalLength\": 4.8, \"sepalWidth\": 3.0, \"petalLength\": 1.4, \"petalWidth\": 0.30000000000000004, \"species\": \"setosa\"}, {\"sepalLength\": 5.1, \"sepalWidth\": 3.8, \"petalLength\": 1.6, \"petalWidth\": 0.2, \"species\": \"setosa\"}, {\"sepalLength\": 4.6, \"sepalWidth\": 3.2, \"petalLength\": 1.4, \"petalWidth\": 0.2, \"species\": \"setosa\"}, {\"sepalLength\": 5.3, \"sepalWidth\": 3.7, \"petalLength\": 1.5, \"petalWidth\": 0.2, \"species\": \"setosa\"}, {\"sepalLength\": 5.0, \"sepalWidth\": 3.3, \"petalLength\": 1.4, \"petalWidth\": 0.2, \"species\": \"setosa\"}, {\"sepalLength\": 7.0, \"sepalWidth\": 3.2, \"petalLength\": 4.7, \"petalWidth\": 1.4, \"species\": \"versicolor\"}, {\"sepalLength\": 6.4, \"sepalWidth\": 3.2, \"petalLength\": 4.5, \"petalWidth\": 1.5, \"species\": \"versicolor\"}, {\"sepalLength\": 6.9, \"sepalWidth\": 3.1, \"petalLength\": 4.9, \"petalWidth\": 1.5, \"species\": \"versicolor\"}, {\"sepalLength\": 5.5, \"sepalWidth\": 2.3, \"petalLength\": 4.0, \"petalWidth\": 1.3, \"species\": \"versicolor\"}, {\"sepalLength\": 6.5, \"sepalWidth\": 2.8, \"petalLength\": 4.6, \"petalWidth\": 1.5, \"species\": \"versicolor\"}, {\"sepalLength\": 5.7, \"sepalWidth\": 2.8, \"petalLength\": 4.5, \"petalWidth\": 1.3, \"species\": \"versicolor\"}, {\"sepalLength\": 6.3, \"sepalWidth\": 3.3, \"petalLength\": 4.7, \"petalWidth\": 1.6, \"species\": \"versicolor\"}, {\"sepalLength\": 4.9, \"sepalWidth\": 2.4, \"petalLength\": 3.3, \"petalWidth\": 1.0, \"species\": \"versicolor\"}, {\"sepalLength\": 6.6, \"sepalWidth\": 2.9, \"petalLength\": 4.6, \"petalWidth\": 1.3, \"species\": \"versicolor\"}, {\"sepalLength\": 5.2, \"sepalWidth\": 2.7, \"petalLength\": 3.9, \"petalWidth\": 1.4, \"species\": \"versicolor\"}, {\"sepalLength\": 5.0, \"sepalWidth\": 2.0, \"petalLength\": 3.5, \"petalWidth\": 1.0, \"species\": \"versicolor\"}, {\"sepalLength\": 5.9, \"sepalWidth\": 3.0, \"petalLength\": 4.2, \"petalWidth\": 1.5, \"species\": \"versicolor\"}, {\"sepalLength\": 6.0, \"sepalWidth\": 2.2, \"petalLength\": 4.0, \"petalWidth\": 1.0, \"species\": \"versicolor\"}, {\"sepalLength\": 6.1, \"sepalWidth\": 2.9, \"petalLength\": 4.7, \"petalWidth\": 1.4, \"species\": \"versicolor\"}, {\"sepalLength\": 5.6, \"sepalWidth\": 2.9, \"petalLength\": 3.6, \"petalWidth\": 1.3, \"species\": \"versicolor\"}, {\"sepalLength\": 6.7, \"sepalWidth\": 3.1, \"petalLength\": 4.4, \"petalWidth\": 1.4, \"species\": \"versicolor\"}, {\"sepalLength\": 5.6, \"sepalWidth\": 3.0, \"petalLength\": 4.5, \"petalWidth\": 1.5, \"species\": \"versicolor\"}, {\"sepalLength\": 5.8, \"sepalWidth\": 2.7, \"petalLength\": 4.1, \"petalWidth\": 1.0, \"species\": \"versicolor\"}, {\"sepalLength\": 6.2, \"sepalWidth\": 2.2, \"petalLength\": 4.5, \"petalWidth\": 1.5, \"species\": \"versicolor\"}, {\"sepalLength\": 5.6, \"sepalWidth\": 2.5, \"petalLength\": 3.9, \"petalWidth\": 1.1, \"species\": \"versicolor\"}, {\"sepalLength\": 5.9, \"sepalWidth\": 3.2, \"petalLength\": 4.8, \"petalWidth\": 1.8, \"species\": \"versicolor\"}, {\"sepalLength\": 6.1, \"sepalWidth\": 2.8, \"petalLength\": 4.0, \"petalWidth\": 1.3, \"species\": \"versicolor\"}, {\"sepalLength\": 6.3, \"sepalWidth\": 2.5, \"petalLength\": 4.9, \"petalWidth\": 1.5, \"species\": \"versicolor\"}, {\"sepalLength\": 6.1, \"sepalWidth\": 2.8, \"petalLength\": 4.7, \"petalWidth\": 1.2, \"species\": \"versicolor\"}, {\"sepalLength\": 6.4, \"sepalWidth\": 2.9, \"petalLength\": 4.3, \"petalWidth\": 1.3, \"species\": \"versicolor\"}, {\"sepalLength\": 6.6, \"sepalWidth\": 3.0, \"petalLength\": 4.4, \"petalWidth\": 1.4, \"species\": \"versicolor\"}, {\"sepalLength\": 6.8, \"sepalWidth\": 2.8, \"petalLength\": 4.8, \"petalWidth\": 1.4, \"species\": \"versicolor\"}, {\"sepalLength\": 6.7, \"sepalWidth\": 3.0, \"petalLength\": 5.0, \"petalWidth\": 1.7000000000000002, \"species\": \"versicolor\"}, {\"sepalLength\": 6.0, \"sepalWidth\": 2.9, \"petalLength\": 4.5, \"petalWidth\": 1.5, \"species\": \"versicolor\"}, {\"sepalLength\": 5.7, \"sepalWidth\": 2.6, \"petalLength\": 3.5, \"petalWidth\": 1.0, \"species\": \"versicolor\"}, {\"sepalLength\": 5.5, \"sepalWidth\": 2.4, \"petalLength\": 3.8, \"petalWidth\": 1.1, \"species\": \"versicolor\"}, {\"sepalLength\": 5.5, \"sepalWidth\": 2.4, \"petalLength\": 3.7, \"petalWidth\": 1.0, \"species\": \"versicolor\"}, {\"sepalLength\": 5.8, \"sepalWidth\": 2.7, \"petalLength\": 3.9, \"petalWidth\": 1.2, \"species\": \"versicolor\"}, {\"sepalLength\": 6.0, \"sepalWidth\": 2.7, \"petalLength\": 5.1, \"petalWidth\": 1.6, \"species\": \"versicolor\"}, {\"sepalLength\": 5.4, \"sepalWidth\": 3.0, \"petalLength\": 4.5, \"petalWidth\": 1.5, \"species\": \"versicolor\"}, {\"sepalLength\": 6.0, \"sepalWidth\": 3.4, \"petalLength\": 4.5, \"petalWidth\": 1.6, \"species\": \"versicolor\"}, {\"sepalLength\": 6.7, \"sepalWidth\": 3.1, \"petalLength\": 4.7, \"petalWidth\": 1.5, \"species\": \"versicolor\"}, {\"sepalLength\": 6.3, \"sepalWidth\": 2.3, \"petalLength\": 4.4, \"petalWidth\": 1.3, \"species\": \"versicolor\"}, {\"sepalLength\": 5.6, \"sepalWidth\": 3.0, \"petalLength\": 4.1, \"petalWidth\": 1.3, \"species\": \"versicolor\"}, {\"sepalLength\": 5.5, \"sepalWidth\": 2.5, \"petalLength\": 4.0, \"petalWidth\": 1.3, \"species\": \"versicolor\"}, {\"sepalLength\": 5.5, \"sepalWidth\": 2.6, \"petalLength\": 4.4, \"petalWidth\": 1.2, \"species\": \"versicolor\"}, {\"sepalLength\": 6.1, \"sepalWidth\": 3.0, \"petalLength\": 4.6, \"petalWidth\": 1.4, \"species\": \"versicolor\"}, {\"sepalLength\": 5.8, \"sepalWidth\": 2.6, \"petalLength\": 4.0, \"petalWidth\": 1.2, \"species\": \"versicolor\"}, {\"sepalLength\": 5.0, \"sepalWidth\": 2.3, \"petalLength\": 3.3, \"petalWidth\": 1.0, \"species\": \"versicolor\"}, {\"sepalLength\": 5.6, \"sepalWidth\": 2.7, \"petalLength\": 4.2, \"petalWidth\": 1.3, \"species\": \"versicolor\"}, {\"sepalLength\": 5.7, \"sepalWidth\": 3.0, \"petalLength\": 4.2, \"petalWidth\": 1.2, \"species\": \"versicolor\"}, {\"sepalLength\": 5.7, \"sepalWidth\": 2.9, \"petalLength\": 4.2, \"petalWidth\": 1.3, \"species\": \"versicolor\"}, {\"sepalLength\": 6.2, \"sepalWidth\": 2.9, \"petalLength\": 4.3, \"petalWidth\": 1.3, \"species\": \"versicolor\"}, {\"sepalLength\": 5.1, \"sepalWidth\": 2.5, \"petalLength\": 3.0, \"petalWidth\": 1.1, \"species\": \"versicolor\"}, {\"sepalLength\": 5.7, \"sepalWidth\": 2.8, \"petalLength\": 4.1, \"petalWidth\": 1.3, \"species\": \"versicolor\"}, {\"sepalLength\": 6.3, \"sepalWidth\": 3.3, \"petalLength\": 6.0, \"petalWidth\": 2.5, \"species\": \"virginica\"}, {\"sepalLength\": 5.8, \"sepalWidth\": 2.7, \"petalLength\": 5.1, \"petalWidth\": 1.9, \"species\": \"virginica\"}, {\"sepalLength\": 7.1, \"sepalWidth\": 3.0, \"petalLength\": 5.9, \"petalWidth\": 2.1, \"species\": \"virginica\"}, {\"sepalLength\": 6.3, \"sepalWidth\": 2.9, \"petalLength\": 5.6, \"petalWidth\": 1.8, \"species\": \"virginica\"}, {\"sepalLength\": 6.5, \"sepalWidth\": 3.0, \"petalLength\": 5.8, \"petalWidth\": 2.2, \"species\": \"virginica\"}, {\"sepalLength\": 7.6, \"sepalWidth\": 3.0, \"petalLength\": 6.6, \"petalWidth\": 2.1, \"species\": \"virginica\"}, {\"sepalLength\": 4.9, \"sepalWidth\": 2.5, \"petalLength\": 4.5, \"petalWidth\": 1.7000000000000002, \"species\": \"virginica\"}, {\"sepalLength\": 7.3, \"sepalWidth\": 2.9, \"petalLength\": 6.3, \"petalWidth\": 1.8, \"species\": \"virginica\"}, {\"sepalLength\": 6.7, \"sepalWidth\": 2.5, \"petalLength\": 5.8, \"petalWidth\": 1.8, \"species\": \"virginica\"}, {\"sepalLength\": 7.2, \"sepalWidth\": 3.6, \"petalLength\": 6.1, \"petalWidth\": 2.5, \"species\": \"virginica\"}, {\"sepalLength\": 6.5, \"sepalWidth\": 3.2, \"petalLength\": 5.1, \"petalWidth\": 2.0, \"species\": \"virginica\"}, {\"sepalLength\": 6.4, \"sepalWidth\": 2.7, \"petalLength\": 5.3, \"petalWidth\": 1.9, \"species\": \"virginica\"}, {\"sepalLength\": 6.8, \"sepalWidth\": 3.0, \"petalLength\": 5.5, \"petalWidth\": 2.1, \"species\": \"virginica\"}, {\"sepalLength\": 5.7, \"sepalWidth\": 2.5, \"petalLength\": 5.0, \"petalWidth\": 2.0, \"species\": \"virginica\"}, {\"sepalLength\": 5.8, \"sepalWidth\": 2.8, \"petalLength\": 5.1, \"petalWidth\": 2.4, \"species\": \"virginica\"}, {\"sepalLength\": 6.4, \"sepalWidth\": 3.2, \"petalLength\": 5.3, \"petalWidth\": 2.3, \"species\": \"virginica\"}, {\"sepalLength\": 6.5, \"sepalWidth\": 3.0, \"petalLength\": 5.5, \"petalWidth\": 1.8, \"species\": \"virginica\"}, {\"sepalLength\": 7.7, \"sepalWidth\": 3.8, \"petalLength\": 6.7, \"petalWidth\": 2.2, \"species\": \"virginica\"}, {\"sepalLength\": 7.7, \"sepalWidth\": 2.6, \"petalLength\": 6.9, \"petalWidth\": 2.3, \"species\": \"virginica\"}, {\"sepalLength\": 6.0, \"sepalWidth\": 2.2, \"petalLength\": 5.0, \"petalWidth\": 1.5, \"species\": \"virginica\"}, {\"sepalLength\": 6.9, \"sepalWidth\": 3.2, \"petalLength\": 5.7, \"petalWidth\": 2.3, \"species\": \"virginica\"}, {\"sepalLength\": 5.6, \"sepalWidth\": 2.8, \"petalLength\": 4.9, \"petalWidth\": 2.0, \"species\": \"virginica\"}, {\"sepalLength\": 7.7, \"sepalWidth\": 2.8, \"petalLength\": 6.7, \"petalWidth\": 2.0, \"species\": \"virginica\"}, {\"sepalLength\": 6.3, \"sepalWidth\": 2.7, \"petalLength\": 4.9, \"petalWidth\": 1.8, \"species\": \"virginica\"}, {\"sepalLength\": 6.7, \"sepalWidth\": 3.3, \"petalLength\": 5.7, \"petalWidth\": 2.1, \"species\": \"virginica\"}, {\"sepalLength\": 7.2, \"sepalWidth\": 3.2, \"petalLength\": 6.0, \"petalWidth\": 1.8, \"species\": \"virginica\"}, {\"sepalLength\": 6.2, \"sepalWidth\": 2.8, \"petalLength\": 4.8, \"petalWidth\": 1.8, \"species\": \"virginica\"}, {\"sepalLength\": 6.1, \"sepalWidth\": 3.0, \"petalLength\": 4.9, \"petalWidth\": 1.8, \"species\": \"virginica\"}, {\"sepalLength\": 6.4, \"sepalWidth\": 2.8, \"petalLength\": 5.6, \"petalWidth\": 2.1, \"species\": \"virginica\"}, {\"sepalLength\": 7.2, \"sepalWidth\": 3.0, \"petalLength\": 5.8, \"petalWidth\": 1.6, \"species\": \"virginica\"}, {\"sepalLength\": 7.4, \"sepalWidth\": 2.8, \"petalLength\": 6.1, \"petalWidth\": 1.9, \"species\": \"virginica\"}, {\"sepalLength\": 7.9, \"sepalWidth\": 3.8, \"petalLength\": 6.4, \"petalWidth\": 2.0, \"species\": \"virginica\"}, {\"sepalLength\": 6.4, \"sepalWidth\": 2.8, \"petalLength\": 5.6, \"petalWidth\": 2.2, \"species\": \"virginica\"}, {\"sepalLength\": 6.3, \"sepalWidth\": 2.8, \"petalLength\": 5.1, \"petalWidth\": 1.5, \"species\": \"virginica\"}, {\"sepalLength\": 6.1, \"sepalWidth\": 2.6, \"petalLength\": 5.6, \"petalWidth\": 1.4, \"species\": \"virginica\"}, {\"sepalLength\": 7.7, \"sepalWidth\": 3.0, \"petalLength\": 6.1, \"petalWidth\": 2.3, \"species\": \"virginica\"}, {\"sepalLength\": 6.3, \"sepalWidth\": 3.4, \"petalLength\": 5.6, \"petalWidth\": 2.4, \"species\": \"virginica\"}, {\"sepalLength\": 6.4, \"sepalWidth\": 3.1, \"petalLength\": 5.5, \"petalWidth\": 1.8, \"species\": \"virginica\"}, {\"sepalLength\": 6.0, \"sepalWidth\": 3.0, \"petalLength\": 4.8, \"petalWidth\": 1.8, \"species\": \"virginica\"}, {\"sepalLength\": 6.9, \"sepalWidth\": 3.1, \"petalLength\": 5.4, \"petalWidth\": 2.1, \"species\": \"virginica\"}, {\"sepalLength\": 6.7, \"sepalWidth\": 3.1, \"petalLength\": 5.6, \"petalWidth\": 2.4, \"species\": \"virginica\"}, {\"sepalLength\": 6.9, \"sepalWidth\": 3.1, \"petalLength\": 5.1, \"petalWidth\": 2.3, \"species\": \"virginica\"}, {\"sepalLength\": 5.8, \"sepalWidth\": 2.7, \"petalLength\": 5.1, \"petalWidth\": 1.9, \"species\": \"virginica\"}, {\"sepalLength\": 6.8, \"sepalWidth\": 3.2, \"petalLength\": 5.9, \"petalWidth\": 2.3, \"species\": \"virginica\"}, {\"sepalLength\": 6.7, \"sepalWidth\": 3.3, \"petalLength\": 5.7, \"petalWidth\": 2.5, \"species\": \"virginica\"}, {\"sepalLength\": 6.7, \"sepalWidth\": 3.0, \"petalLength\": 5.2, \"petalWidth\": 2.3, \"species\": \"virginica\"}, {\"sepalLength\": 6.3, \"sepalWidth\": 2.5, \"petalLength\": 5.0, \"petalWidth\": 1.9, \"species\": \"virginica\"}, {\"sepalLength\": 6.5, \"sepalWidth\": 3.0, \"petalLength\": 5.2, \"petalWidth\": 2.0, \"species\": \"virginica\"}, {\"sepalLength\": 6.2, \"sepalWidth\": 3.4, \"petalLength\": 5.4, \"petalWidth\": 2.3, \"species\": \"virginica\"}, {\"sepalLength\": 5.9, \"sepalWidth\": 3.0, \"petalLength\": 5.1, \"petalWidth\": 1.8, \"species\": \"virginica\"}]}}, {\"mode\": \"vega-lite\"});\n",
       "</script>"
      ],
      "text/plain": [
       "alt.Chart(...)"
      ]
     },
     "execution_count": 2,
     "metadata": {},
     "output_type": "execute_result"
    }
   ],
   "source": [
    "iris = data.iris()\n",
    "\n",
    "alt.Chart(iris).mark_point().encode(\n",
    "    x='petalLength',\n",
    "    y='petalWidth',\n",
    "    color='species'\n",
    ").interactive()"
   ]
  },
  {
   "cell_type": "markdown",
   "metadata": {},
   "source": [
    "Idealmente, esto debería mostrar un diagrama de dispersión de la longitud de los pétalos de diferentes especies de flores de Iris.\n",
    "\n",
    "Ahora estamos listos para comenzar con nuestro propio gráfico.\n",
    "\n",
    "Como recordatorio, aquí está la visualización de datos original que usaremos para trabajar:\n",
    "\n",
    "![alt text](img/infographic.png \"infografía original\")\n",
    "\n",
    "\n",
    "\n",
    "#### Análisis de datos exploratorios: \n",
    "A menudo, la visualización de datos es una parte clave del análisis de datos exploratorios, donde se encuentra un nuevo conjunto de datos y aún no sabe lo que contiene. Por ejemplo, los datos de un nuevo telescopio pueden contener efectos sistemáticos que conduzcan a datos de aspecto extraño. La visualización de los conjuntos de datos le ayuda a descubrir cómo se ven sus datos y qué sesgos pueden haber en ellos.\n",
    "#### Explicar un resultado con una visualización: \n",
    "En nuestras publicaciones científicas (¡o no científicas!), A menudo usamos visualizaciones para explicar un resultado científico. En estos casos, ya conocemos la historia, nuestro resultado científico, por lo que en este caso nuestra tarea es asegurarnos de que nuestra visualización (1) represente los datos con precisión (todo lo demás estaría mintiendo), y (2) que permite la visor para comprender sus resultados y cómo ha llegado allí.\n",
    "Obteniendo los datos\n",
    "Al igual que con el tutorial, primero necesitamos obtener los datos en un formato legible por máquina de la figura."
   ]
  },
  {
   "cell_type": "markdown",
   "metadata": {},
   "source": [
    "Ahora, almacenemos nuestros datos en `pandas.DataFrame`:"
   ]
  },
  {
   "cell_type": "code",
   "execution_count": 3,
   "metadata": {},
   "outputs": [],
   "source": [
    "ad_type = [\"SEO\", \"Email\", \"PPC\",  \"PR\", \"Direct Mail\", \"OMB\"]\n",
    "roi = [68.9, 56.7, 52.4, 48.5, 37.4,  19.9]\n",
    "\n",
    "data = {\"adtype\":ad_type, \"roi\":roi}"
   ]
  },
  {
   "cell_type": "markdown",
   "metadata": {},
   "source": [
    "Aquí hemos creado dos listas, una con el tipo de publicidad, la otra con los valores de retorno de la inversión y luego pasamos ambas a un diccionario. Ahora podemos almacenarlos en un DataFrame:"
   ]
  },
  {
   "cell_type": "code",
   "execution_count": 4,
   "metadata": {},
   "outputs": [
    {
     "data": {
      "text/html": [
       "<div>\n",
       "<style scoped>\n",
       "    .dataframe tbody tr th:only-of-type {\n",
       "        vertical-align: middle;\n",
       "    }\n",
       "\n",
       "    .dataframe tbody tr th {\n",
       "        vertical-align: top;\n",
       "    }\n",
       "\n",
       "    .dataframe thead th {\n",
       "        text-align: right;\n",
       "    }\n",
       "</style>\n",
       "<table border=\"1\" class=\"dataframe\">\n",
       "  <thead>\n",
       "    <tr style=\"text-align: right;\">\n",
       "      <th></th>\n",
       "      <th>adtype</th>\n",
       "      <th>roi</th>\n",
       "    </tr>\n",
       "  </thead>\n",
       "  <tbody>\n",
       "    <tr>\n",
       "      <th>0</th>\n",
       "      <td>SEO</td>\n",
       "      <td>68.9</td>\n",
       "    </tr>\n",
       "    <tr>\n",
       "      <th>1</th>\n",
       "      <td>Email</td>\n",
       "      <td>56.7</td>\n",
       "    </tr>\n",
       "    <tr>\n",
       "      <th>2</th>\n",
       "      <td>PPC</td>\n",
       "      <td>52.4</td>\n",
       "    </tr>\n",
       "    <tr>\n",
       "      <th>3</th>\n",
       "      <td>PR</td>\n",
       "      <td>48.5</td>\n",
       "    </tr>\n",
       "    <tr>\n",
       "      <th>4</th>\n",
       "      <td>Direct Mail</td>\n",
       "      <td>37.4</td>\n",
       "    </tr>\n",
       "    <tr>\n",
       "      <th>5</th>\n",
       "      <td>OMB</td>\n",
       "      <td>19.9</td>\n",
       "    </tr>\n",
       "  </tbody>\n",
       "</table>\n",
       "</div>"
      ],
      "text/plain": [
       "        adtype   roi\n",
       "0          SEO  68.9\n",
       "1        Email  56.7\n",
       "2          PPC  52.4\n",
       "3           PR  48.5\n",
       "4  Direct Mail  37.4\n",
       "5          OMB  19.9"
      ]
     },
     "execution_count": 4,
     "metadata": {},
     "output_type": "execute_result"
    }
   ],
   "source": [
    "df = pd.DataFrame(data)\n",
    "df"
   ]
  },
  {
   "cell_type": "markdown",
   "metadata": {},
   "source": [
    "Altair puede trabajar con DataFrames, pero también puede guardar sus datos en un archivo json o un archivo csv (valores separados por comas), y luego pasarle el nombre del archivo y la ubicación (o URL) del archivo. Pandas pueden escribir ambos, lo que a veces puede ayudar a mantener más pequeño el tamaño de su cuaderno.\n",
    "\n",
    "Pero en este caso, usemos el DataFrame.\n",
    "\n",
    "### Gráficos *(de barra)* en Altair\n",
    "Todas las figuras que generas en Altair siguen una convención similar, y todas son objetos de la clase `Chart()`. `Chart()` generalmente toma sus datos como entrada y luego usará métodos (funciones que se aplican a una clase específica de objeto) para especificar lo que realmente desea trazar.\n",
    "\n",
    "Intentemos esto:"
   ]
  },
  {
   "cell_type": "code",
   "execution_count": 5,
   "metadata": {},
   "outputs": [
    {
     "data": {
      "text/html": [
       "\n",
       "<div id=\"altair-viz-e074a53719304a06a4324dc3e93413c4\"></div>\n",
       "<script type=\"text/javascript\">\n",
       "  (function(spec, embedOpt){\n",
       "    let outputDiv = document.currentScript.previousElementSibling;\n",
       "    if (outputDiv.id !== \"altair-viz-e074a53719304a06a4324dc3e93413c4\") {\n",
       "      outputDiv = document.getElementById(\"altair-viz-e074a53719304a06a4324dc3e93413c4\");\n",
       "    }\n",
       "    const paths = {\n",
       "      \"vega\": \"https://cdn.jsdelivr.net/npm//vega@5?noext\",\n",
       "      \"vega-lib\": \"https://cdn.jsdelivr.net/npm//vega-lib?noext\",\n",
       "      \"vega-lite\": \"https://cdn.jsdelivr.net/npm//vega-lite@4.8.1?noext\",\n",
       "      \"vega-embed\": \"https://cdn.jsdelivr.net/npm//vega-embed@6?noext\",\n",
       "    };\n",
       "\n",
       "    function loadScript(lib) {\n",
       "      return new Promise(function(resolve, reject) {\n",
       "        var s = document.createElement('script');\n",
       "        s.src = paths[lib];\n",
       "        s.async = true;\n",
       "        s.onload = () => resolve(paths[lib]);\n",
       "        s.onerror = () => reject(`Error loading script: ${paths[lib]}`);\n",
       "        document.getElementsByTagName(\"head\")[0].appendChild(s);\n",
       "      });\n",
       "    }\n",
       "\n",
       "    function showError(err) {\n",
       "      outputDiv.innerHTML = `<div class=\"error\" style=\"color:red;\">${err}</div>`;\n",
       "      throw err;\n",
       "    }\n",
       "\n",
       "    function displayChart(vegaEmbed) {\n",
       "      vegaEmbed(outputDiv, spec, embedOpt)\n",
       "        .catch(err => showError(`Javascript Error: ${err.message}<br>This usually means there's a typo in your chart specification. See the javascript console for the full traceback.`));\n",
       "    }\n",
       "\n",
       "    if(typeof define === \"function\" && define.amd) {\n",
       "      requirejs.config({paths});\n",
       "      require([\"vega-embed\"], displayChart, err => showError(`Error loading script: ${err.message}`));\n",
       "    } else if (typeof vegaEmbed === \"function\") {\n",
       "      displayChart(vegaEmbed);\n",
       "    } else {\n",
       "      loadScript(\"vega\")\n",
       "        .then(() => loadScript(\"vega-lite\"))\n",
       "        .then(() => loadScript(\"vega-embed\"))\n",
       "        .catch(showError)\n",
       "        .then(() => displayChart(vegaEmbed));\n",
       "    }\n",
       "  })({\"config\": {\"background\": \"white\", \"view\": {\"continuousWidth\": 400, \"continuousHeight\": 300}}, \"data\": {\"name\": \"data-3b61b76e831b803e45874039d9068ed3\"}, \"mark\": \"bar\", \"encoding\": {\"x\": {\"type\": \"ordinal\", \"field\": \"adtype\"}, \"y\": {\"type\": \"quantitative\", \"field\": \"roi\"}}, \"$schema\": \"https://vega.github.io/schema/vega-lite/v4.8.1.json\", \"datasets\": {\"data-3b61b76e831b803e45874039d9068ed3\": [{\"adtype\": \"SEO\", \"roi\": 68.9}, {\"adtype\": \"Email\", \"roi\": 56.7}, {\"adtype\": \"PPC\", \"roi\": 52.4}, {\"adtype\": \"PR\", \"roi\": 48.5}, {\"adtype\": \"Direct Mail\", \"roi\": 37.4}, {\"adtype\": \"OMB\", \"roi\": 19.9}]}}, {\"mode\": \"vega-lite\"});\n",
       "</script>"
      ],
      "text/plain": [
       "alt.Chart(...)"
      ]
     },
     "execution_count": 5,
     "metadata": {},
     "output_type": "execute_result"
    }
   ],
   "source": [
    "alt.Chart(df).mark_bar().encode(\n",
    "    x = \"adtype:O\",\n",
    "    y = \"roi:Q\"\n",
    ")"
   ]
  },
  {
   "cell_type": "markdown",
   "metadata": {},
   "source": [
    "¿Qué hemos hecho? La sintaxis puede parecer un poco rara, pero básicamente hemos llamado a varios métodos en la clase `Chart()` para decirle qué hacer. Una cosa que hemos usado es el método `mark_bar()`. Esto le dice a Altair que el gráfico que debe producir es un gráfico de barras. Luego, usamos el método de codificación `encode()` para decirle realmente qué valores trazar.\n",
    "\n",
    "Prácticamente siempre tiene que llamar al método de codificación en algún lugar: podría pasar un *DataFrame* con muchas más columnas (por ejemplo, una columna llamada \"costo\"), y luego Altair no sabría cuáles usar y cuáles omitir . En el caso anterior, le hemos dicho que ponga `adtype` en el eje `x` y `roi` en el eje `y`. La sintaxis: `O` y: `Q` después de cada uno le dice a Altair que `adtype` contiene datos ordinales (es decir, categorías distintas y separadas), y `roi` contiene datos cuantitativos (es decir, números continuos).\n",
    "\n",
    "También puede notar que Altair ha tomado algunas decisiones predeterminadas sobre las dimensiones del gráfico, las unidades en el eje y, las líneas de la cuadrícula en el fondo, etc. También agrega automáticamente etiquetas de eje cuando tiene una idea de qué etiquetas darle (eligió las etiquetas de columna de nuestro DataFrame en este caso).\n",
    "\n",
    "Ese gráfico se ve muy bien, pero está un poco aplastado. Podemos deshacerlo configurando el tamaño del gráfico:"
   ]
  },
  {
   "cell_type": "code",
   "execution_count": 6,
   "metadata": {},
   "outputs": [
    {
     "data": {
      "text/html": [
       "\n",
       "<div id=\"altair-viz-b2388281326f4b20a9758c654815bc84\"></div>\n",
       "<script type=\"text/javascript\">\n",
       "  (function(spec, embedOpt){\n",
       "    let outputDiv = document.currentScript.previousElementSibling;\n",
       "    if (outputDiv.id !== \"altair-viz-b2388281326f4b20a9758c654815bc84\") {\n",
       "      outputDiv = document.getElementById(\"altair-viz-b2388281326f4b20a9758c654815bc84\");\n",
       "    }\n",
       "    const paths = {\n",
       "      \"vega\": \"https://cdn.jsdelivr.net/npm//vega@5?noext\",\n",
       "      \"vega-lib\": \"https://cdn.jsdelivr.net/npm//vega-lib?noext\",\n",
       "      \"vega-lite\": \"https://cdn.jsdelivr.net/npm//vega-lite@4.8.1?noext\",\n",
       "      \"vega-embed\": \"https://cdn.jsdelivr.net/npm//vega-embed@6?noext\",\n",
       "    };\n",
       "\n",
       "    function loadScript(lib) {\n",
       "      return new Promise(function(resolve, reject) {\n",
       "        var s = document.createElement('script');\n",
       "        s.src = paths[lib];\n",
       "        s.async = true;\n",
       "        s.onload = () => resolve(paths[lib]);\n",
       "        s.onerror = () => reject(`Error loading script: ${paths[lib]}`);\n",
       "        document.getElementsByTagName(\"head\")[0].appendChild(s);\n",
       "      });\n",
       "    }\n",
       "\n",
       "    function showError(err) {\n",
       "      outputDiv.innerHTML = `<div class=\"error\" style=\"color:red;\">${err}</div>`;\n",
       "      throw err;\n",
       "    }\n",
       "\n",
       "    function displayChart(vegaEmbed) {\n",
       "      vegaEmbed(outputDiv, spec, embedOpt)\n",
       "        .catch(err => showError(`Javascript Error: ${err.message}<br>This usually means there's a typo in your chart specification. See the javascript console for the full traceback.`));\n",
       "    }\n",
       "\n",
       "    if(typeof define === \"function\" && define.amd) {\n",
       "      requirejs.config({paths});\n",
       "      require([\"vega-embed\"], displayChart, err => showError(`Error loading script: ${err.message}`));\n",
       "    } else if (typeof vegaEmbed === \"function\") {\n",
       "      displayChart(vegaEmbed);\n",
       "    } else {\n",
       "      loadScript(\"vega\")\n",
       "        .then(() => loadScript(\"vega-lite\"))\n",
       "        .then(() => loadScript(\"vega-embed\"))\n",
       "        .catch(showError)\n",
       "        .then(() => displayChart(vegaEmbed));\n",
       "    }\n",
       "  })({\"config\": {\"background\": \"white\", \"view\": {\"continuousWidth\": 400, \"continuousHeight\": 300}}, \"data\": {\"name\": \"data-3b61b76e831b803e45874039d9068ed3\"}, \"mark\": \"bar\", \"encoding\": {\"x\": {\"type\": \"ordinal\", \"field\": \"adtype\"}, \"y\": {\"type\": \"quantitative\", \"field\": \"roi\"}}, \"height\": 200, \"width\": 300, \"$schema\": \"https://vega.github.io/schema/vega-lite/v4.8.1.json\", \"datasets\": {\"data-3b61b76e831b803e45874039d9068ed3\": [{\"adtype\": \"SEO\", \"roi\": 68.9}, {\"adtype\": \"Email\", \"roi\": 56.7}, {\"adtype\": \"PPC\", \"roi\": 52.4}, {\"adtype\": \"PR\", \"roi\": 48.5}, {\"adtype\": \"Direct Mail\", \"roi\": 37.4}, {\"adtype\": \"OMB\", \"roi\": 19.9}]}}, {\"mode\": \"vega-lite\"});\n",
       "</script>"
      ],
      "text/plain": [
       "alt.Chart(...)"
      ]
     },
     "execution_count": 6,
     "metadata": {},
     "output_type": "execute_result"
    }
   ],
   "source": [
    "alt.Chart(df).mark_bar().encode(\n",
    "    x = \"adtype:O\",\n",
    "    y = \"roi:Q\"\n",
    ").properties(\n",
    "    width=300,\n",
    "    height=200\n",
    ")"
   ]
  },
  {
   "cell_type": "markdown",
   "metadata": {},
   "source": [
    "Se ve mejor, ¿no? A diferencia de Seaborn, Altair automáticamente da a las barras el mismo color. Puede especificar el color de dos formas diferentes. Puede pasarlo directamente al método `mark_bar()`:"
   ]
  },
  {
   "cell_type": "code",
   "execution_count": 7,
   "metadata": {},
   "outputs": [
    {
     "data": {
      "text/html": [
       "\n",
       "<div id=\"altair-viz-8c4b1405b75b4fd897bcae325b76c424\"></div>\n",
       "<script type=\"text/javascript\">\n",
       "  (function(spec, embedOpt){\n",
       "    let outputDiv = document.currentScript.previousElementSibling;\n",
       "    if (outputDiv.id !== \"altair-viz-8c4b1405b75b4fd897bcae325b76c424\") {\n",
       "      outputDiv = document.getElementById(\"altair-viz-8c4b1405b75b4fd897bcae325b76c424\");\n",
       "    }\n",
       "    const paths = {\n",
       "      \"vega\": \"https://cdn.jsdelivr.net/npm//vega@5?noext\",\n",
       "      \"vega-lib\": \"https://cdn.jsdelivr.net/npm//vega-lib?noext\",\n",
       "      \"vega-lite\": \"https://cdn.jsdelivr.net/npm//vega-lite@4.8.1?noext\",\n",
       "      \"vega-embed\": \"https://cdn.jsdelivr.net/npm//vega-embed@6?noext\",\n",
       "    };\n",
       "\n",
       "    function loadScript(lib) {\n",
       "      return new Promise(function(resolve, reject) {\n",
       "        var s = document.createElement('script');\n",
       "        s.src = paths[lib];\n",
       "        s.async = true;\n",
       "        s.onload = () => resolve(paths[lib]);\n",
       "        s.onerror = () => reject(`Error loading script: ${paths[lib]}`);\n",
       "        document.getElementsByTagName(\"head\")[0].appendChild(s);\n",
       "      });\n",
       "    }\n",
       "\n",
       "    function showError(err) {\n",
       "      outputDiv.innerHTML = `<div class=\"error\" style=\"color:red;\">${err}</div>`;\n",
       "      throw err;\n",
       "    }\n",
       "\n",
       "    function displayChart(vegaEmbed) {\n",
       "      vegaEmbed(outputDiv, spec, embedOpt)\n",
       "        .catch(err => showError(`Javascript Error: ${err.message}<br>This usually means there's a typo in your chart specification. See the javascript console for the full traceback.`));\n",
       "    }\n",
       "\n",
       "    if(typeof define === \"function\" && define.amd) {\n",
       "      requirejs.config({paths});\n",
       "      require([\"vega-embed\"], displayChart, err => showError(`Error loading script: ${err.message}`));\n",
       "    } else if (typeof vegaEmbed === \"function\") {\n",
       "      displayChart(vegaEmbed);\n",
       "    } else {\n",
       "      loadScript(\"vega\")\n",
       "        .then(() => loadScript(\"vega-lite\"))\n",
       "        .then(() => loadScript(\"vega-embed\"))\n",
       "        .catch(showError)\n",
       "        .then(() => displayChart(vegaEmbed));\n",
       "    }\n",
       "  })({\"config\": {\"background\": \"white\", \"view\": {\"continuousWidth\": 400, \"continuousHeight\": 300}}, \"data\": {\"name\": \"data-3b61b76e831b803e45874039d9068ed3\"}, \"mark\": {\"type\": \"bar\", \"color\": \"darkblue\"}, \"encoding\": {\"x\": {\"type\": \"ordinal\", \"field\": \"adtype\"}, \"y\": {\"type\": \"quantitative\", \"field\": \"roi\"}}, \"height\": 200, \"width\": 300, \"$schema\": \"https://vega.github.io/schema/vega-lite/v4.8.1.json\", \"datasets\": {\"data-3b61b76e831b803e45874039d9068ed3\": [{\"adtype\": \"SEO\", \"roi\": 68.9}, {\"adtype\": \"Email\", \"roi\": 56.7}, {\"adtype\": \"PPC\", \"roi\": 52.4}, {\"adtype\": \"PR\", \"roi\": 48.5}, {\"adtype\": \"Direct Mail\", \"roi\": 37.4}, {\"adtype\": \"OMB\", \"roi\": 19.9}]}}, {\"mode\": \"vega-lite\"});\n",
       "</script>"
      ],
      "text/plain": [
       "alt.Chart(...)"
      ]
     },
     "execution_count": 7,
     "metadata": {},
     "output_type": "execute_result"
    }
   ],
   "source": [
    "alt.Chart(df).mark_bar(color=\"darkblue\").encode(\n",
    "    x = \"adtype:O\",\n",
    "    y = \"roi:Q\"\n",
    ").properties(\n",
    "    width=300,\n",
    "    height=200\n",
    ")"
   ]
  },
  {
   "cell_type": "markdown",
   "metadata": {},
   "source": [
    "Cualquier código de color html funcionará, junto con cualquier código de color hexadecimal que pueda generar en ese sitio web u otros.\n",
    "\n",
    "La otra cosa interesante que puede hacer es hacer algo llamado formato condicional. Supongamos que queremos colorear los métodos de publicidad online y los métodos de publicidad offline por separado. Agreguemos una columna a nuestro DataFrame para hacer exactamente eso:"
   ]
  },
  {
   "cell_type": "code",
   "execution_count": 8,
   "metadata": {},
   "outputs": [
    {
     "data": {
      "text/html": [
       "<div>\n",
       "<style scoped>\n",
       "    .dataframe tbody tr th:only-of-type {\n",
       "        vertical-align: middle;\n",
       "    }\n",
       "\n",
       "    .dataframe tbody tr th {\n",
       "        vertical-align: top;\n",
       "    }\n",
       "\n",
       "    .dataframe thead th {\n",
       "        text-align: right;\n",
       "    }\n",
       "</style>\n",
       "<table border=\"1\" class=\"dataframe\">\n",
       "  <thead>\n",
       "    <tr style=\"text-align: right;\">\n",
       "      <th></th>\n",
       "      <th>adtype</th>\n",
       "      <th>roi</th>\n",
       "      <th>online</th>\n",
       "    </tr>\n",
       "  </thead>\n",
       "  <tbody>\n",
       "    <tr>\n",
       "      <th>0</th>\n",
       "      <td>SEO</td>\n",
       "      <td>68.9</td>\n",
       "      <td>yes</td>\n",
       "    </tr>\n",
       "    <tr>\n",
       "      <th>1</th>\n",
       "      <td>Email</td>\n",
       "      <td>56.7</td>\n",
       "      <td>yes</td>\n",
       "    </tr>\n",
       "    <tr>\n",
       "      <th>2</th>\n",
       "      <td>PPC</td>\n",
       "      <td>52.4</td>\n",
       "      <td>yes</td>\n",
       "    </tr>\n",
       "    <tr>\n",
       "      <th>3</th>\n",
       "      <td>PR</td>\n",
       "      <td>48.5</td>\n",
       "      <td>no</td>\n",
       "    </tr>\n",
       "    <tr>\n",
       "      <th>4</th>\n",
       "      <td>Direct Mail</td>\n",
       "      <td>37.4</td>\n",
       "      <td>no</td>\n",
       "    </tr>\n",
       "    <tr>\n",
       "      <th>5</th>\n",
       "      <td>OMB</td>\n",
       "      <td>19.9</td>\n",
       "      <td>yes</td>\n",
       "    </tr>\n",
       "  </tbody>\n",
       "</table>\n",
       "</div>"
      ],
      "text/plain": [
       "        adtype   roi online\n",
       "0          SEO  68.9    yes\n",
       "1        Email  56.7    yes\n",
       "2          PPC  52.4    yes\n",
       "3           PR  48.5     no\n",
       "4  Direct Mail  37.4     no\n",
       "5          OMB  19.9    yes"
      ]
     },
     "execution_count": 8,
     "metadata": {},
     "output_type": "execute_result"
    }
   ],
   "source": [
    "df[\"online\"] = [\"yes\", \"yes\", \"yes\", \"no\", \"no\", \"yes\"]\n",
    "df"
   ]
  },
  {
   "cell_type": "markdown",
   "metadata": {},
   "source": [
    "Le dije que todos excepto *PR* y *Direct Mail* son versiones en línea. En lugar de pasar \"color\" al método `mark_bar()`, también podemos pasarlo al método `encoding()`. Veamos qué sucede cuando hacemos eso:"
   ]
  },
  {
   "cell_type": "code",
   "execution_count": 9,
   "metadata": {},
   "outputs": [
    {
     "data": {
      "text/html": [
       "\n",
       "<div id=\"altair-viz-5d12a4a0e3a64e42b0b671afd3229227\"></div>\n",
       "<script type=\"text/javascript\">\n",
       "  (function(spec, embedOpt){\n",
       "    let outputDiv = document.currentScript.previousElementSibling;\n",
       "    if (outputDiv.id !== \"altair-viz-5d12a4a0e3a64e42b0b671afd3229227\") {\n",
       "      outputDiv = document.getElementById(\"altair-viz-5d12a4a0e3a64e42b0b671afd3229227\");\n",
       "    }\n",
       "    const paths = {\n",
       "      \"vega\": \"https://cdn.jsdelivr.net/npm//vega@5?noext\",\n",
       "      \"vega-lib\": \"https://cdn.jsdelivr.net/npm//vega-lib?noext\",\n",
       "      \"vega-lite\": \"https://cdn.jsdelivr.net/npm//vega-lite@4.8.1?noext\",\n",
       "      \"vega-embed\": \"https://cdn.jsdelivr.net/npm//vega-embed@6?noext\",\n",
       "    };\n",
       "\n",
       "    function loadScript(lib) {\n",
       "      return new Promise(function(resolve, reject) {\n",
       "        var s = document.createElement('script');\n",
       "        s.src = paths[lib];\n",
       "        s.async = true;\n",
       "        s.onload = () => resolve(paths[lib]);\n",
       "        s.onerror = () => reject(`Error loading script: ${paths[lib]}`);\n",
       "        document.getElementsByTagName(\"head\")[0].appendChild(s);\n",
       "      });\n",
       "    }\n",
       "\n",
       "    function showError(err) {\n",
       "      outputDiv.innerHTML = `<div class=\"error\" style=\"color:red;\">${err}</div>`;\n",
       "      throw err;\n",
       "    }\n",
       "\n",
       "    function displayChart(vegaEmbed) {\n",
       "      vegaEmbed(outputDiv, spec, embedOpt)\n",
       "        .catch(err => showError(`Javascript Error: ${err.message}<br>This usually means there's a typo in your chart specification. See the javascript console for the full traceback.`));\n",
       "    }\n",
       "\n",
       "    if(typeof define === \"function\" && define.amd) {\n",
       "      requirejs.config({paths});\n",
       "      require([\"vega-embed\"], displayChart, err => showError(`Error loading script: ${err.message}`));\n",
       "    } else if (typeof vegaEmbed === \"function\") {\n",
       "      displayChart(vegaEmbed);\n",
       "    } else {\n",
       "      loadScript(\"vega\")\n",
       "        .then(() => loadScript(\"vega-lite\"))\n",
       "        .then(() => loadScript(\"vega-embed\"))\n",
       "        .catch(showError)\n",
       "        .then(() => displayChart(vegaEmbed));\n",
       "    }\n",
       "  })({\"config\": {\"background\": \"white\", \"view\": {\"continuousWidth\": 400, \"continuousHeight\": 300}}, \"data\": {\"name\": \"data-0a6c0b52e145303587c34fb1927674f0\"}, \"mark\": \"bar\", \"encoding\": {\"color\": {\"type\": \"ordinal\", \"field\": \"online\"}, \"x\": {\"type\": \"ordinal\", \"field\": \"adtype\"}, \"y\": {\"type\": \"quantitative\", \"field\": \"roi\"}}, \"height\": 200, \"width\": 300, \"$schema\": \"https://vega.github.io/schema/vega-lite/v4.8.1.json\", \"datasets\": {\"data-0a6c0b52e145303587c34fb1927674f0\": [{\"adtype\": \"SEO\", \"roi\": 68.9, \"online\": \"yes\"}, {\"adtype\": \"Email\", \"roi\": 56.7, \"online\": \"yes\"}, {\"adtype\": \"PPC\", \"roi\": 52.4, \"online\": \"yes\"}, {\"adtype\": \"PR\", \"roi\": 48.5, \"online\": \"no\"}, {\"adtype\": \"Direct Mail\", \"roi\": 37.4, \"online\": \"no\"}, {\"adtype\": \"OMB\", \"roi\": 19.9, \"online\": \"yes\"}]}}, {\"mode\": \"vega-lite\"});\n",
       "</script>"
      ],
      "text/plain": [
       "alt.Chart(...)"
      ]
     },
     "execution_count": 9,
     "metadata": {},
     "output_type": "execute_result"
    }
   ],
   "source": [
    "alt.Chart(df).mark_bar().encode(\n",
    "    x = \"adtype:O\",\n",
    "    y = \"roi:Q\",\n",
    "    color= \"online:O\"\n",
    ").properties(\n",
    "    width=300,\n",
    "    height=200\n",
    ")"
   ]
  },
  {
   "cell_type": "markdown",
   "metadata": {},
   "source": [
    "¡Ahora ha coloreado las dos barras de manera diferente y ha agregado automáticamente una leyenda!\n",
    "\n",
    "Hay otros valores que puede elegir. Por ejemplo, en un diagrama de dispersión (*scatter plot*), puede usar el tamaño como canal de codificación para variar el tamaño de los puntos en función de alguna propiedad de cada punto. También puede codificar la opacidad, es decir, qué tan transparente es un elemento de la trama:"
   ]
  },
  {
   "cell_type": "code",
   "execution_count": 10,
   "metadata": {},
   "outputs": [
    {
     "data": {
      "text/html": [
       "\n",
       "<div id=\"altair-viz-98f8990c91594106a5428ab5eb71d70a\"></div>\n",
       "<script type=\"text/javascript\">\n",
       "  (function(spec, embedOpt){\n",
       "    let outputDiv = document.currentScript.previousElementSibling;\n",
       "    if (outputDiv.id !== \"altair-viz-98f8990c91594106a5428ab5eb71d70a\") {\n",
       "      outputDiv = document.getElementById(\"altair-viz-98f8990c91594106a5428ab5eb71d70a\");\n",
       "    }\n",
       "    const paths = {\n",
       "      \"vega\": \"https://cdn.jsdelivr.net/npm//vega@5?noext\",\n",
       "      \"vega-lib\": \"https://cdn.jsdelivr.net/npm//vega-lib?noext\",\n",
       "      \"vega-lite\": \"https://cdn.jsdelivr.net/npm//vega-lite@4.8.1?noext\",\n",
       "      \"vega-embed\": \"https://cdn.jsdelivr.net/npm//vega-embed@6?noext\",\n",
       "    };\n",
       "\n",
       "    function loadScript(lib) {\n",
       "      return new Promise(function(resolve, reject) {\n",
       "        var s = document.createElement('script');\n",
       "        s.src = paths[lib];\n",
       "        s.async = true;\n",
       "        s.onload = () => resolve(paths[lib]);\n",
       "        s.onerror = () => reject(`Error loading script: ${paths[lib]}`);\n",
       "        document.getElementsByTagName(\"head\")[0].appendChild(s);\n",
       "      });\n",
       "    }\n",
       "\n",
       "    function showError(err) {\n",
       "      outputDiv.innerHTML = `<div class=\"error\" style=\"color:red;\">${err}</div>`;\n",
       "      throw err;\n",
       "    }\n",
       "\n",
       "    function displayChart(vegaEmbed) {\n",
       "      vegaEmbed(outputDiv, spec, embedOpt)\n",
       "        .catch(err => showError(`Javascript Error: ${err.message}<br>This usually means there's a typo in your chart specification. See the javascript console for the full traceback.`));\n",
       "    }\n",
       "\n",
       "    if(typeof define === \"function\" && define.amd) {\n",
       "      requirejs.config({paths});\n",
       "      require([\"vega-embed\"], displayChart, err => showError(`Error loading script: ${err.message}`));\n",
       "    } else if (typeof vegaEmbed === \"function\") {\n",
       "      displayChart(vegaEmbed);\n",
       "    } else {\n",
       "      loadScript(\"vega\")\n",
       "        .then(() => loadScript(\"vega-lite\"))\n",
       "        .then(() => loadScript(\"vega-embed\"))\n",
       "        .catch(showError)\n",
       "        .then(() => displayChart(vegaEmbed));\n",
       "    }\n",
       "  })({\"config\": {\"background\": \"white\", \"view\": {\"continuousWidth\": 400, \"continuousHeight\": 300}}, \"data\": {\"name\": \"data-0a6c0b52e145303587c34fb1927674f0\"}, \"mark\": \"bar\", \"encoding\": {\"opacity\": {\"type\": \"ordinal\", \"field\": \"online\"}, \"x\": {\"type\": \"ordinal\", \"field\": \"adtype\"}, \"y\": {\"type\": \"quantitative\", \"field\": \"roi\"}}, \"height\": 200, \"width\": 300, \"$schema\": \"https://vega.github.io/schema/vega-lite/v4.8.1.json\", \"datasets\": {\"data-0a6c0b52e145303587c34fb1927674f0\": [{\"adtype\": \"SEO\", \"roi\": 68.9, \"online\": \"yes\"}, {\"adtype\": \"Email\", \"roi\": 56.7, \"online\": \"yes\"}, {\"adtype\": \"PPC\", \"roi\": 52.4, \"online\": \"yes\"}, {\"adtype\": \"PR\", \"roi\": 48.5, \"online\": \"no\"}, {\"adtype\": \"Direct Mail\", \"roi\": 37.4, \"online\": \"no\"}, {\"adtype\": \"OMB\", \"roi\": 19.9, \"online\": \"yes\"}]}}, {\"mode\": \"vega-lite\"});\n",
       "</script>"
      ],
      "text/plain": [
       "alt.Chart(...)"
      ]
     },
     "execution_count": 10,
     "metadata": {},
     "output_type": "execute_result"
    }
   ],
   "source": [
    "alt.Chart(df).mark_bar().encode(\n",
    "    x = \"adtype:O\",\n",
    "    y = \"roi:Q\",\n",
    "    opacity= \"online:O\"\n",
    ").properties(\n",
    "    width=300,\n",
    "    height=200\n",
    ")"
   ]
  },
  {
   "cell_type": "markdown",
   "metadata": {},
   "source": [
    "Aquí, el color sigue siendo el mismo, pero los métodos *offline* son menos opacos que los métodos *online*. Para obtener una lista de todas las diferentes codificaciones posibles y cómo usarlas, puede consultar la [documentación de Altair](https://altair-viz.github.io/user_guide/encoding.html) correspondiente.\n",
    "\n",
    "Advertencia: ¡Poder codificar muchas propiedades diferentes en la misma gráfica no significa que sea una buena idea hacerlo! Es poco probable que las personas comprendan realmente más de 2-3 dimensiones diferentes en una trama. Siempre que sea posible, intente utilizar diferentes codificaciones para reforzar las propiedades importantes de los datos (por ejemplo, podría utilizar una codificación de \"color\" y \"tamaño\" utilizando la misma propiedad de datos, de modo que, por ejemplo, en su diagrama de dispersión también aparecerán marcas más grandes azul, y las marcas más pequeñas también serán verdes). Esto ayuda a los espectadores a comprender mejor la estructura de sus datos.\n",
    "\n",
    "Puede que no nos gusten los valores predeterminados de Altair para el color y la opacidad, así que cambiémoslo. Podemos hacer eso usando la función condición así:"
   ]
  },
  {
   "cell_type": "code",
   "execution_count": 11,
   "metadata": {},
   "outputs": [
    {
     "data": {
      "text/html": [
       "\n",
       "<div id=\"altair-viz-85135b2824404febb99685585be4e8aa\"></div>\n",
       "<script type=\"text/javascript\">\n",
       "  (function(spec, embedOpt){\n",
       "    let outputDiv = document.currentScript.previousElementSibling;\n",
       "    if (outputDiv.id !== \"altair-viz-85135b2824404febb99685585be4e8aa\") {\n",
       "      outputDiv = document.getElementById(\"altair-viz-85135b2824404febb99685585be4e8aa\");\n",
       "    }\n",
       "    const paths = {\n",
       "      \"vega\": \"https://cdn.jsdelivr.net/npm//vega@5?noext\",\n",
       "      \"vega-lib\": \"https://cdn.jsdelivr.net/npm//vega-lib?noext\",\n",
       "      \"vega-lite\": \"https://cdn.jsdelivr.net/npm//vega-lite@4.8.1?noext\",\n",
       "      \"vega-embed\": \"https://cdn.jsdelivr.net/npm//vega-embed@6?noext\",\n",
       "    };\n",
       "\n",
       "    function loadScript(lib) {\n",
       "      return new Promise(function(resolve, reject) {\n",
       "        var s = document.createElement('script');\n",
       "        s.src = paths[lib];\n",
       "        s.async = true;\n",
       "        s.onload = () => resolve(paths[lib]);\n",
       "        s.onerror = () => reject(`Error loading script: ${paths[lib]}`);\n",
       "        document.getElementsByTagName(\"head\")[0].appendChild(s);\n",
       "      });\n",
       "    }\n",
       "\n",
       "    function showError(err) {\n",
       "      outputDiv.innerHTML = `<div class=\"error\" style=\"color:red;\">${err}</div>`;\n",
       "      throw err;\n",
       "    }\n",
       "\n",
       "    function displayChart(vegaEmbed) {\n",
       "      vegaEmbed(outputDiv, spec, embedOpt)\n",
       "        .catch(err => showError(`Javascript Error: ${err.message}<br>This usually means there's a typo in your chart specification. See the javascript console for the full traceback.`));\n",
       "    }\n",
       "\n",
       "    if(typeof define === \"function\" && define.amd) {\n",
       "      requirejs.config({paths});\n",
       "      require([\"vega-embed\"], displayChart, err => showError(`Error loading script: ${err.message}`));\n",
       "    } else if (typeof vegaEmbed === \"function\") {\n",
       "      displayChart(vegaEmbed);\n",
       "    } else {\n",
       "      loadScript(\"vega\")\n",
       "        .then(() => loadScript(\"vega-lite\"))\n",
       "        .then(() => loadScript(\"vega-embed\"))\n",
       "        .catch(showError)\n",
       "        .then(() => displayChart(vegaEmbed));\n",
       "    }\n",
       "  })({\"config\": {\"background\": \"white\", \"view\": {\"continuousWidth\": 400, \"continuousHeight\": 300}}, \"data\": {\"name\": \"data-0a6c0b52e145303587c34fb1927674f0\"}, \"mark\": \"bar\", \"encoding\": {\"color\": {\"condition\": {\"value\": \"orange\", \"test\": \"(datum.online === 'yes')\"}, \"value\": \"steelblue\"}, \"x\": {\"type\": \"ordinal\", \"field\": \"adtype\"}, \"y\": {\"type\": \"quantitative\", \"field\": \"roi\"}}, \"height\": 200, \"width\": 300, \"$schema\": \"https://vega.github.io/schema/vega-lite/v4.8.1.json\", \"datasets\": {\"data-0a6c0b52e145303587c34fb1927674f0\": [{\"adtype\": \"SEO\", \"roi\": 68.9, \"online\": \"yes\"}, {\"adtype\": \"Email\", \"roi\": 56.7, \"online\": \"yes\"}, {\"adtype\": \"PPC\", \"roi\": 52.4, \"online\": \"yes\"}, {\"adtype\": \"PR\", \"roi\": 48.5, \"online\": \"no\"}, {\"adtype\": \"Direct Mail\", \"roi\": 37.4, \"online\": \"no\"}, {\"adtype\": \"OMB\", \"roi\": 19.9, \"online\": \"yes\"}]}}, {\"mode\": \"vega-lite\"});\n",
       "</script>"
      ],
      "text/plain": [
       "alt.Chart(...)"
      ]
     },
     "execution_count": 11,
     "metadata": {},
     "output_type": "execute_result"
    }
   ],
   "source": [
    "alt.Chart(df).mark_bar().encode(\n",
    "    x = \"adtype:O\",\n",
    "    y = \"roi:Q\",\n",
    "    color= alt.condition(\n",
    "        alt.datum.online == \"yes\", \n",
    "        alt.value(\"orange\"),\n",
    "        alt.value(\"steelblue\"))\n",
    ").properties(\n",
    "    width=300,\n",
    "    height=200\n",
    ")"
   ]
  },
  {
   "cell_type": "markdown",
   "metadata": {},
   "source": [
    "Aquí, le hemos dicho que grafique los métodos en línea en naranja y luego los métodos fuera de línea en azul. la función `condition()` toma como primer argumento una condición, aquí `alt.datum.online == \"yes\"`, que básicamente dice \"tomar los puntos de datos en la columna `\"online\"` y encontrar todas las filas para las que el valor es `\"yes\"`. Los siguientes dos argumentos especifican qué debe hacer si esta condición es verdadera (aquí, use un color naranja) y qué debe hacer si la condición es falsa (use un color azul). La función de condición es bastante poderosa y útil en Altair, y se usa a menudo en visualizaciones interactivas, por lo que vale la pena comprender cómo funciona. Puede encontrar más información en la sección Interacción de la documentación.\n",
    "\n",
    "### Especificación de ejes \n",
    "Lo que actualmente no me gusta de nuestro gráfico son las etiquetas de los ejes. Los nombres de las columnas que proporcionamos son bastante descriptivos y cortos, muy útiles cuando tienes que escribirlos muchas veces en un análisis de datos, pero si los incluyes en tu artículo, pocas personas entenderían lo que significan.\n",
    "\n",
    "Démosle a nuestra trama algunas etiquetas de eje más descriptivas. Para ello, tendrá que saber que la sintaxis de codificación que usamos anteriormente, donde escribimos `x = \"adtype: Q\"` es una abreviatura de un comando más largo. La abreviatura es útil para gráficos rápidos en los que no le importa nada más que los valores predeterminados, pero cuando desee especificar más detalles, es posible que desee utilizar una sintaxis un poco más detallada:"
   ]
  },
  {
   "cell_type": "code",
   "execution_count": 12,
   "metadata": {},
   "outputs": [
    {
     "data": {
      "text/html": [
       "\n",
       "<div id=\"altair-viz-59006d31d9784d019c20e15adcc848a0\"></div>\n",
       "<script type=\"text/javascript\">\n",
       "  (function(spec, embedOpt){\n",
       "    let outputDiv = document.currentScript.previousElementSibling;\n",
       "    if (outputDiv.id !== \"altair-viz-59006d31d9784d019c20e15adcc848a0\") {\n",
       "      outputDiv = document.getElementById(\"altair-viz-59006d31d9784d019c20e15adcc848a0\");\n",
       "    }\n",
       "    const paths = {\n",
       "      \"vega\": \"https://cdn.jsdelivr.net/npm//vega@5?noext\",\n",
       "      \"vega-lib\": \"https://cdn.jsdelivr.net/npm//vega-lib?noext\",\n",
       "      \"vega-lite\": \"https://cdn.jsdelivr.net/npm//vega-lite@4.8.1?noext\",\n",
       "      \"vega-embed\": \"https://cdn.jsdelivr.net/npm//vega-embed@6?noext\",\n",
       "    };\n",
       "\n",
       "    function loadScript(lib) {\n",
       "      return new Promise(function(resolve, reject) {\n",
       "        var s = document.createElement('script');\n",
       "        s.src = paths[lib];\n",
       "        s.async = true;\n",
       "        s.onload = () => resolve(paths[lib]);\n",
       "        s.onerror = () => reject(`Error loading script: ${paths[lib]}`);\n",
       "        document.getElementsByTagName(\"head\")[0].appendChild(s);\n",
       "      });\n",
       "    }\n",
       "\n",
       "    function showError(err) {\n",
       "      outputDiv.innerHTML = `<div class=\"error\" style=\"color:red;\">${err}</div>`;\n",
       "      throw err;\n",
       "    }\n",
       "\n",
       "    function displayChart(vegaEmbed) {\n",
       "      vegaEmbed(outputDiv, spec, embedOpt)\n",
       "        .catch(err => showError(`Javascript Error: ${err.message}<br>This usually means there's a typo in your chart specification. See the javascript console for the full traceback.`));\n",
       "    }\n",
       "\n",
       "    if(typeof define === \"function\" && define.amd) {\n",
       "      requirejs.config({paths});\n",
       "      require([\"vega-embed\"], displayChart, err => showError(`Error loading script: ${err.message}`));\n",
       "    } else if (typeof vegaEmbed === \"function\") {\n",
       "      displayChart(vegaEmbed);\n",
       "    } else {\n",
       "      loadScript(\"vega\")\n",
       "        .then(() => loadScript(\"vega-lite\"))\n",
       "        .then(() => loadScript(\"vega-embed\"))\n",
       "        .catch(showError)\n",
       "        .then(() => displayChart(vegaEmbed));\n",
       "    }\n",
       "  })({\"config\": {\"background\": \"white\", \"view\": {\"continuousWidth\": 400, \"continuousHeight\": 300}}, \"data\": {\"name\": \"data-0a6c0b52e145303587c34fb1927674f0\"}, \"mark\": \"bar\", \"encoding\": {\"color\": {\"condition\": {\"value\": \"orange\", \"test\": \"(datum.online === 'yes')\"}, \"value\": \"steelblue\"}, \"x\": {\"type\": \"ordinal\", \"field\": \"adtype\", \"title\": \"Type of Advertising\"}, \"y\": {\"type\": \"quantitative\", \"field\": \"roi\", \"title\": \"Return on Investment [%]\"}}, \"height\": 200, \"width\": 300, \"$schema\": \"https://vega.github.io/schema/vega-lite/v4.8.1.json\", \"datasets\": {\"data-0a6c0b52e145303587c34fb1927674f0\": [{\"adtype\": \"SEO\", \"roi\": 68.9, \"online\": \"yes\"}, {\"adtype\": \"Email\", \"roi\": 56.7, \"online\": \"yes\"}, {\"adtype\": \"PPC\", \"roi\": 52.4, \"online\": \"yes\"}, {\"adtype\": \"PR\", \"roi\": 48.5, \"online\": \"no\"}, {\"adtype\": \"Direct Mail\", \"roi\": 37.4, \"online\": \"no\"}, {\"adtype\": \"OMB\", \"roi\": 19.9, \"online\": \"yes\"}]}}, {\"mode\": \"vega-lite\"});\n",
       "</script>"
      ],
      "text/plain": [
       "alt.Chart(...)"
      ]
     },
     "execution_count": 12,
     "metadata": {},
     "output_type": "execute_result"
    }
   ],
   "source": [
    "alt.Chart(df).mark_bar().encode(\n",
    "    x = alt.X(\"adtype:O\", title=\"Type of Advertising\"),\n",
    "    y = alt.Y(\"roi:Q\", title=\"Return on Investment [%]\"),\n",
    "    color= alt.condition(\n",
    "        alt.datum.online == \"yes\", \n",
    "        alt.value(\"orange\"),\n",
    "        alt.value(\"steelblue\"))\n",
    ").properties(\n",
    "    width=300,\n",
    "    height=200\n",
    ")"
   ]
  },
  {
   "cell_type": "markdown",
   "metadata": {},
   "source": [
    "Aquí, hemos utilizado las funciones `alt.X()` y `alt.Y()` para especificar más detalles de nuestros ejes x e y, en este caso dándole la palabra clave title con títulos más descriptivos.\n",
    "\n",
    "### Agregar texto\n",
    "Usando una combinación de la función `condition()` que hemos visto antes y la propiedad `mark_text` podemos modificar el texto que se muestra en pantalla.\n",
    "\n",
    "Para ello, también debe saber que es posible superponer gráficos uno encima del otro. En nuestro caso, vamos a colocar un elemento mark_bar y un elemento mark_text uno encima del otro en el mismo gráfico.\n",
    "\n",
    "Para hacer esto, vamos a guardar nuestras marcas en variables. Hasta ahora, hemos escrito los comandos directamente en el campo de comando y el cuaderno ha generado automáticamente el resultado. Sin embargo, también podemos guardarlo en una variable del nombre que elijamos, y luego hacer que el cuaderno lo renderice más tarde cuando lo necesitemos.\n",
    "\n",
    "Entonces, primero, generemos nuestro antiguo gráfico de barras y resaltemos \"Correo electrónico\" usando nuestro condicional:"
   ]
  },
  {
   "cell_type": "code",
   "execution_count": 13,
   "metadata": {},
   "outputs": [],
   "source": [
    "roi_bars = alt.Chart(df).mark_bar().encode(\n",
    "    x = alt.X(\"adtype:O\", title=\"Type of Advertising\"),\n",
    "    y = alt.Y(\"roi:Q\", title=\"Return on Investment [%]\"),\n",
    "    color= alt.condition(\n",
    "        alt.datum.adtype == \"Email\", \n",
    "        alt.value(\"darkred\"),\n",
    "        alt.value(\"lightgrey\"))\n",
    ").properties(\n",
    "    width=300,\n",
    "    height=200\n",
    ")"
   ]
  },
  {
   "cell_type": "markdown",
   "metadata": {},
   "source": [
    "La ejecución de esa celda no trazó nada, porque hasta ahora, solo hemos guardado la especificación del gráfico en una variable, sin decirle al cuaderno que realmente lo renderice.\n",
    "\n",
    "Usemos ahora `mark_text` para dibujar nuestros números:"
   ]
  },
  {
   "cell_type": "code",
   "execution_count": 14,
   "metadata": {},
   "outputs": [
    {
     "data": {
      "text/html": [
       "\n",
       "<div id=\"altair-viz-542cd2c464bb45b9b1c7767e14fa153f\"></div>\n",
       "<script type=\"text/javascript\">\n",
       "  (function(spec, embedOpt){\n",
       "    let outputDiv = document.currentScript.previousElementSibling;\n",
       "    if (outputDiv.id !== \"altair-viz-542cd2c464bb45b9b1c7767e14fa153f\") {\n",
       "      outputDiv = document.getElementById(\"altair-viz-542cd2c464bb45b9b1c7767e14fa153f\");\n",
       "    }\n",
       "    const paths = {\n",
       "      \"vega\": \"https://cdn.jsdelivr.net/npm//vega@5?noext\",\n",
       "      \"vega-lib\": \"https://cdn.jsdelivr.net/npm//vega-lib?noext\",\n",
       "      \"vega-lite\": \"https://cdn.jsdelivr.net/npm//vega-lite@4.8.1?noext\",\n",
       "      \"vega-embed\": \"https://cdn.jsdelivr.net/npm//vega-embed@6?noext\",\n",
       "    };\n",
       "\n",
       "    function loadScript(lib) {\n",
       "      return new Promise(function(resolve, reject) {\n",
       "        var s = document.createElement('script');\n",
       "        s.src = paths[lib];\n",
       "        s.async = true;\n",
       "        s.onload = () => resolve(paths[lib]);\n",
       "        s.onerror = () => reject(`Error loading script: ${paths[lib]}`);\n",
       "        document.getElementsByTagName(\"head\")[0].appendChild(s);\n",
       "      });\n",
       "    }\n",
       "\n",
       "    function showError(err) {\n",
       "      outputDiv.innerHTML = `<div class=\"error\" style=\"color:red;\">${err}</div>`;\n",
       "      throw err;\n",
       "    }\n",
       "\n",
       "    function displayChart(vegaEmbed) {\n",
       "      vegaEmbed(outputDiv, spec, embedOpt)\n",
       "        .catch(err => showError(`Javascript Error: ${err.message}<br>This usually means there's a typo in your chart specification. See the javascript console for the full traceback.`));\n",
       "    }\n",
       "\n",
       "    if(typeof define === \"function\" && define.amd) {\n",
       "      requirejs.config({paths});\n",
       "      require([\"vega-embed\"], displayChart, err => showError(`Error loading script: ${err.message}`));\n",
       "    } else if (typeof vegaEmbed === \"function\") {\n",
       "      displayChart(vegaEmbed);\n",
       "    } else {\n",
       "      loadScript(\"vega\")\n",
       "        .then(() => loadScript(\"vega-lite\"))\n",
       "        .then(() => loadScript(\"vega-embed\"))\n",
       "        .catch(showError)\n",
       "        .then(() => displayChart(vegaEmbed));\n",
       "    }\n",
       "  })({\"config\": {\"background\": \"white\", \"view\": {\"continuousWidth\": 400, \"continuousHeight\": 300}}, \"layer\": [{\"mark\": \"bar\", \"encoding\": {\"color\": {\"condition\": {\"value\": \"darkred\", \"test\": \"(datum.adtype === 'Email')\"}, \"value\": \"lightgrey\"}, \"x\": {\"type\": \"ordinal\", \"field\": \"adtype\", \"title\": \"Type of Advertising\"}, \"y\": {\"type\": \"quantitative\", \"field\": \"roi\", \"title\": \"Return on Investment [%]\"}}, \"height\": 200, \"width\": 300}, {\"mark\": {\"type\": \"text\", \"align\": \"center\", \"baseline\": \"middle\", \"color\": \"darkred\", \"dy\": -10}, \"encoding\": {\"color\": {\"condition\": {\"value\": \"darkred\", \"test\": \"(datum.adtype === 'Email')\"}, \"value\": \"lightgrey\"}, \"opacity\": {\"condition\": {\"value\": 1.0, \"test\": \"(datum.adtype === 'Email')\"}, \"value\": 0.0}, \"text\": {\"type\": \"quantitative\", \"field\": \"roi\"}, \"x\": {\"type\": \"ordinal\", \"field\": \"adtype\", \"title\": \"Type of Advertising\"}, \"y\": {\"type\": \"quantitative\", \"field\": \"roi\", \"title\": \"Return on Investment [%]\"}}, \"height\": 200, \"width\": 300}], \"data\": {\"name\": \"data-0a6c0b52e145303587c34fb1927674f0\"}, \"$schema\": \"https://vega.github.io/schema/vega-lite/v4.8.1.json\", \"datasets\": {\"data-0a6c0b52e145303587c34fb1927674f0\": [{\"adtype\": \"SEO\", \"roi\": 68.9, \"online\": \"yes\"}, {\"adtype\": \"Email\", \"roi\": 56.7, \"online\": \"yes\"}, {\"adtype\": \"PPC\", \"roi\": 52.4, \"online\": \"yes\"}, {\"adtype\": \"PR\", \"roi\": 48.5, \"online\": \"no\"}, {\"adtype\": \"Direct Mail\", \"roi\": 37.4, \"online\": \"no\"}, {\"adtype\": \"OMB\", \"roi\": 19.9, \"online\": \"yes\"}]}}, {\"mode\": \"vega-lite\"});\n",
       "</script>"
      ],
      "text/plain": [
       "alt.LayerChart(...)"
      ]
     },
     "execution_count": 14,
     "metadata": {},
     "output_type": "execute_result"
    }
   ],
   "source": [
    "roi_text = roi_bars.mark_text(\n",
    "    align='center',\n",
    "    baseline='middle',\n",
    "    dy=-10,  # Mueve el texto hacia arriba para que no aparezca en la parte superior de la barra.\n",
    "    color=\"darkred\"\n",
    ").encode(\n",
    "    text=\"roi:Q\",\n",
    "    opacity= alt.condition(\n",
    "        alt.datum.adtype == \"Email\", \n",
    "        alt.value(1.0),\n",
    "        alt.value(0.0))\n",
    ")\n",
    "roi_bars + roi_text"
   ]
  },
  {
   "cell_type": "markdown",
   "metadata": {},
   "source": [
    "¡Eso casi se parece a nuestra trama de matplotlib!\n",
    "\n",
    "Como último paso, nos gustaría ordenar el gráfico de barras por altura en orden descendente. Podemos usar esto usando la propiedad \"sort\" en alt.Y:"
   ]
  },
  {
   "cell_type": "code",
   "execution_count": 15,
   "metadata": {},
   "outputs": [
    {
     "data": {
      "text/html": [
       "\n",
       "<div id=\"altair-viz-688bb6c1801446b78162905655db6f6b\"></div>\n",
       "<script type=\"text/javascript\">\n",
       "  (function(spec, embedOpt){\n",
       "    let outputDiv = document.currentScript.previousElementSibling;\n",
       "    if (outputDiv.id !== \"altair-viz-688bb6c1801446b78162905655db6f6b\") {\n",
       "      outputDiv = document.getElementById(\"altair-viz-688bb6c1801446b78162905655db6f6b\");\n",
       "    }\n",
       "    const paths = {\n",
       "      \"vega\": \"https://cdn.jsdelivr.net/npm//vega@5?noext\",\n",
       "      \"vega-lib\": \"https://cdn.jsdelivr.net/npm//vega-lib?noext\",\n",
       "      \"vega-lite\": \"https://cdn.jsdelivr.net/npm//vega-lite@4.8.1?noext\",\n",
       "      \"vega-embed\": \"https://cdn.jsdelivr.net/npm//vega-embed@6?noext\",\n",
       "    };\n",
       "\n",
       "    function loadScript(lib) {\n",
       "      return new Promise(function(resolve, reject) {\n",
       "        var s = document.createElement('script');\n",
       "        s.src = paths[lib];\n",
       "        s.async = true;\n",
       "        s.onload = () => resolve(paths[lib]);\n",
       "        s.onerror = () => reject(`Error loading script: ${paths[lib]}`);\n",
       "        document.getElementsByTagName(\"head\")[0].appendChild(s);\n",
       "      });\n",
       "    }\n",
       "\n",
       "    function showError(err) {\n",
       "      outputDiv.innerHTML = `<div class=\"error\" style=\"color:red;\">${err}</div>`;\n",
       "      throw err;\n",
       "    }\n",
       "\n",
       "    function displayChart(vegaEmbed) {\n",
       "      vegaEmbed(outputDiv, spec, embedOpt)\n",
       "        .catch(err => showError(`Javascript Error: ${err.message}<br>This usually means there's a typo in your chart specification. See the javascript console for the full traceback.`));\n",
       "    }\n",
       "\n",
       "    if(typeof define === \"function\" && define.amd) {\n",
       "      requirejs.config({paths});\n",
       "      require([\"vega-embed\"], displayChart, err => showError(`Error loading script: ${err.message}`));\n",
       "    } else if (typeof vegaEmbed === \"function\") {\n",
       "      displayChart(vegaEmbed);\n",
       "    } else {\n",
       "      loadScript(\"vega\")\n",
       "        .then(() => loadScript(\"vega-lite\"))\n",
       "        .then(() => loadScript(\"vega-embed\"))\n",
       "        .catch(showError)\n",
       "        .then(() => displayChart(vegaEmbed));\n",
       "    }\n",
       "  })({\"config\": {\"background\": \"white\", \"view\": {\"continuousWidth\": 400, \"continuousHeight\": 300}}, \"layer\": [{\"mark\": \"bar\", \"encoding\": {\"color\": {\"condition\": {\"value\": \"darkred\", \"test\": \"(datum.adtype === 'Email')\"}, \"value\": \"lightgrey\"}, \"x\": {\"type\": \"ordinal\", \"field\": \"adtype\", \"sort\": {\"field\": \"roi\", \"order\": \"descending\"}, \"title\": \"Type of Advertising\"}, \"y\": {\"type\": \"quantitative\", \"field\": \"roi\", \"title\": \"Return on Investment [%]\"}}, \"height\": 200, \"width\": 300}, {\"mark\": {\"type\": \"text\", \"align\": \"center\", \"baseline\": \"middle\", \"color\": \"darkred\", \"dy\": -10}, \"encoding\": {\"color\": {\"condition\": {\"value\": \"darkred\", \"test\": \"(datum.adtype === 'Email')\"}, \"value\": \"lightgrey\"}, \"opacity\": {\"condition\": {\"value\": 1.0, \"test\": \"(datum.adtype === 'Email')\"}, \"value\": 0.0}, \"text\": {\"type\": \"quantitative\", \"field\": \"roi\"}, \"x\": {\"type\": \"ordinal\", \"field\": \"adtype\", \"sort\": {\"field\": \"roi\", \"order\": \"descending\"}, \"title\": \"Type of Advertising\"}, \"y\": {\"type\": \"quantitative\", \"field\": \"roi\", \"title\": \"Return on Investment [%]\"}}, \"height\": 200, \"width\": 300}], \"data\": {\"name\": \"data-0a6c0b52e145303587c34fb1927674f0\"}, \"$schema\": \"https://vega.github.io/schema/vega-lite/v4.8.1.json\", \"datasets\": {\"data-0a6c0b52e145303587c34fb1927674f0\": [{\"adtype\": \"SEO\", \"roi\": 68.9, \"online\": \"yes\"}, {\"adtype\": \"Email\", \"roi\": 56.7, \"online\": \"yes\"}, {\"adtype\": \"PPC\", \"roi\": 52.4, \"online\": \"yes\"}, {\"adtype\": \"PR\", \"roi\": 48.5, \"online\": \"no\"}, {\"adtype\": \"Direct Mail\", \"roi\": 37.4, \"online\": \"no\"}, {\"adtype\": \"OMB\", \"roi\": 19.9, \"online\": \"yes\"}]}}, {\"mode\": \"vega-lite\"});\n",
       "</script>"
      ],
      "text/plain": [
       "alt.LayerChart(...)"
      ]
     },
     "execution_count": 15,
     "metadata": {},
     "output_type": "execute_result"
    }
   ],
   "source": [
    "roi_bars = (alt.Chart(df)\n",
    "               .mark_bar()\n",
    "               .encode(x = alt.X(\"adtype:O\"\n",
    "                                 , title = \"Type of Advertising\"\n",
    "                                 , sort = alt.EncodingSortField(field = \"roi\",  # El campo que se utilizará para la clasificación.\n",
    "                                                                order = \"descending\"  # El orden para clasificar\n",
    "                                                               )\n",
    "\n",
    "                                )\n",
    "                       , y = alt.Y(\"roi:Q\"\n",
    "                                   , title = \"Return on Investment [%]\"\n",
    "                                  )\n",
    "                       , color = alt.condition(alt.datum.adtype == \"Email\"\n",
    "                                               , alt.value(\"darkred\")\n",
    "                                               , alt.value(\"lightgrey\")\n",
    "                                             )\n",
    "                    )\n",
    "            .properties(width = 300\n",
    "                        , height = 200\n",
    "                       )\n",
    "        )\n",
    "roi_text = (roi_bars.mark_text(align = 'center'\n",
    "                               , baseline = 'middle'\n",
    "                               , dy = -10 # Mueve el texto hacia arriba para que no aparezca en la parte superior de la barra\n",
    "                               , color = \"darkred\")\n",
    "                    .encode(text = \"roi:Q\"\n",
    "                            , opacity= alt.condition(alt.datum.adtype == \"Email\"\n",
    "                                                     , alt.value(1.0)\n",
    "                                                     , alt.value(0.0)\n",
    "                                                    )\n",
    "                           )\n",
    "           )\n",
    "roi_bars + roi_text"
   ]
  },
  {
   "cell_type": "markdown",
   "metadata": {},
   "source": [
    "Muy bien, eso se parece bastante a una versión de matplotlib.\n",
    "\n",
    "Sin embargo, una de las mejores cosas de altair es que es bastante fácil incluir interactividad. Para una funcionalidad de zoom simple, todo lo que necesita hacer es agregar `.interactive()`:"
   ]
  },
  {
   "cell_type": "code",
   "execution_count": 16,
   "metadata": {},
   "outputs": [
    {
     "data": {
      "text/html": [
       "\n",
       "<div id=\"altair-viz-a49aef24e69e4dc7b41e844ddbf6a1d9\"></div>\n",
       "<script type=\"text/javascript\">\n",
       "  (function(spec, embedOpt){\n",
       "    let outputDiv = document.currentScript.previousElementSibling;\n",
       "    if (outputDiv.id !== \"altair-viz-a49aef24e69e4dc7b41e844ddbf6a1d9\") {\n",
       "      outputDiv = document.getElementById(\"altair-viz-a49aef24e69e4dc7b41e844ddbf6a1d9\");\n",
       "    }\n",
       "    const paths = {\n",
       "      \"vega\": \"https://cdn.jsdelivr.net/npm//vega@5?noext\",\n",
       "      \"vega-lib\": \"https://cdn.jsdelivr.net/npm//vega-lib?noext\",\n",
       "      \"vega-lite\": \"https://cdn.jsdelivr.net/npm//vega-lite@4.8.1?noext\",\n",
       "      \"vega-embed\": \"https://cdn.jsdelivr.net/npm//vega-embed@6?noext\",\n",
       "    };\n",
       "\n",
       "    function loadScript(lib) {\n",
       "      return new Promise(function(resolve, reject) {\n",
       "        var s = document.createElement('script');\n",
       "        s.src = paths[lib];\n",
       "        s.async = true;\n",
       "        s.onload = () => resolve(paths[lib]);\n",
       "        s.onerror = () => reject(`Error loading script: ${paths[lib]}`);\n",
       "        document.getElementsByTagName(\"head\")[0].appendChild(s);\n",
       "      });\n",
       "    }\n",
       "\n",
       "    function showError(err) {\n",
       "      outputDiv.innerHTML = `<div class=\"error\" style=\"color:red;\">${err}</div>`;\n",
       "      throw err;\n",
       "    }\n",
       "\n",
       "    function displayChart(vegaEmbed) {\n",
       "      vegaEmbed(outputDiv, spec, embedOpt)\n",
       "        .catch(err => showError(`Javascript Error: ${err.message}<br>This usually means there's a typo in your chart specification. See the javascript console for the full traceback.`));\n",
       "    }\n",
       "\n",
       "    if(typeof define === \"function\" && define.amd) {\n",
       "      requirejs.config({paths});\n",
       "      require([\"vega-embed\"], displayChart, err => showError(`Error loading script: ${err.message}`));\n",
       "    } else if (typeof vegaEmbed === \"function\") {\n",
       "      displayChart(vegaEmbed);\n",
       "    } else {\n",
       "      loadScript(\"vega\")\n",
       "        .then(() => loadScript(\"vega-lite\"))\n",
       "        .then(() => loadScript(\"vega-embed\"))\n",
       "        .catch(showError)\n",
       "        .then(() => displayChart(vegaEmbed));\n",
       "    }\n",
       "  })({\"config\": {\"background\": \"white\", \"view\": {\"continuousWidth\": 400, \"continuousHeight\": 300}}, \"layer\": [{\"mark\": \"bar\", \"encoding\": {\"color\": {\"condition\": {\"value\": \"darkred\", \"test\": \"(datum.adtype === 'Email')\"}, \"value\": \"lightgrey\"}, \"x\": {\"type\": \"ordinal\", \"field\": \"adtype\", \"sort\": {\"field\": \"roi\", \"order\": \"descending\"}, \"title\": \"Type of Advertising\"}, \"y\": {\"type\": \"quantitative\", \"field\": \"roi\", \"title\": \"Return on Investment [%]\"}}, \"height\": 200, \"selection\": {\"selector002\": {\"type\": \"interval\", \"bind\": \"scales\", \"encodings\": [\"x\", \"y\"]}}, \"width\": 300}, {\"mark\": {\"type\": \"text\", \"align\": \"center\", \"baseline\": \"middle\", \"color\": \"darkred\", \"dy\": -10}, \"encoding\": {\"color\": {\"condition\": {\"value\": \"darkred\", \"test\": \"(datum.adtype === 'Email')\"}, \"value\": \"lightgrey\"}, \"opacity\": {\"condition\": {\"value\": 1.0, \"test\": \"(datum.adtype === 'Email')\"}, \"value\": 0.0}, \"text\": {\"type\": \"quantitative\", \"field\": \"roi\"}, \"x\": {\"type\": \"ordinal\", \"field\": \"adtype\", \"sort\": {\"field\": \"roi\", \"order\": \"descending\"}, \"title\": \"Type of Advertising\"}, \"y\": {\"type\": \"quantitative\", \"field\": \"roi\", \"title\": \"Return on Investment [%]\"}}, \"height\": 200, \"width\": 300}], \"data\": {\"name\": \"data-0a6c0b52e145303587c34fb1927674f0\"}, \"$schema\": \"https://vega.github.io/schema/vega-lite/v4.8.1.json\", \"datasets\": {\"data-0a6c0b52e145303587c34fb1927674f0\": [{\"adtype\": \"SEO\", \"roi\": 68.9, \"online\": \"yes\"}, {\"adtype\": \"Email\", \"roi\": 56.7, \"online\": \"yes\"}, {\"adtype\": \"PPC\", \"roi\": 52.4, \"online\": \"yes\"}, {\"adtype\": \"PR\", \"roi\": 48.5, \"online\": \"no\"}, {\"adtype\": \"Direct Mail\", \"roi\": 37.4, \"online\": \"no\"}, {\"adtype\": \"OMB\", \"roi\": 19.9, \"online\": \"yes\"}]}}, {\"mode\": \"vega-lite\"});\n",
       "</script>"
      ],
      "text/plain": [
       "alt.LayerChart(...)"
      ]
     },
     "execution_count": 16,
     "metadata": {},
     "output_type": "execute_result"
    }
   ],
   "source": [
    "(roi_bars + roi_text).interactive()"
   ]
  },
  {
   "cell_type": "markdown",
   "metadata": {},
   "source": [
    "Por supuesto, hacer zoom en un gráfico de barras no es particularmente satisfactorio, pero ya veremos el poder que nos puede dar es"
   ]
  },
  {
   "cell_type": "markdown",
   "metadata": {},
   "source": [
    "Ahora vamos a hacer dos gráficos de barras y luego vincularlos:"
   ]
  },
  {
   "cell_type": "code",
   "execution_count": 17,
   "metadata": {},
   "outputs": [],
   "source": [
    "costs = [1.2, 0.4, 1.5, 2.2, 8.7, 0.3]\n",
    "\n",
    "df[\"costs\"] = costs"
   ]
  },
  {
   "cell_type": "code",
   "execution_count": 18,
   "metadata": {},
   "outputs": [
    {
     "data": {
      "text/html": [
       "\n",
       "<div id=\"altair-viz-deceec430627414f8f1697f73f178480\"></div>\n",
       "<script type=\"text/javascript\">\n",
       "  (function(spec, embedOpt){\n",
       "    let outputDiv = document.currentScript.previousElementSibling;\n",
       "    if (outputDiv.id !== \"altair-viz-deceec430627414f8f1697f73f178480\") {\n",
       "      outputDiv = document.getElementById(\"altair-viz-deceec430627414f8f1697f73f178480\");\n",
       "    }\n",
       "    const paths = {\n",
       "      \"vega\": \"https://cdn.jsdelivr.net/npm//vega@5?noext\",\n",
       "      \"vega-lib\": \"https://cdn.jsdelivr.net/npm//vega-lib?noext\",\n",
       "      \"vega-lite\": \"https://cdn.jsdelivr.net/npm//vega-lite@4.8.1?noext\",\n",
       "      \"vega-embed\": \"https://cdn.jsdelivr.net/npm//vega-embed@6?noext\",\n",
       "    };\n",
       "\n",
       "    function loadScript(lib) {\n",
       "      return new Promise(function(resolve, reject) {\n",
       "        var s = document.createElement('script');\n",
       "        s.src = paths[lib];\n",
       "        s.async = true;\n",
       "        s.onload = () => resolve(paths[lib]);\n",
       "        s.onerror = () => reject(`Error loading script: ${paths[lib]}`);\n",
       "        document.getElementsByTagName(\"head\")[0].appendChild(s);\n",
       "      });\n",
       "    }\n",
       "\n",
       "    function showError(err) {\n",
       "      outputDiv.innerHTML = `<div class=\"error\" style=\"color:red;\">${err}</div>`;\n",
       "      throw err;\n",
       "    }\n",
       "\n",
       "    function displayChart(vegaEmbed) {\n",
       "      vegaEmbed(outputDiv, spec, embedOpt)\n",
       "        .catch(err => showError(`Javascript Error: ${err.message}<br>This usually means there's a typo in your chart specification. See the javascript console for the full traceback.`));\n",
       "    }\n",
       "\n",
       "    if(typeof define === \"function\" && define.amd) {\n",
       "      requirejs.config({paths});\n",
       "      require([\"vega-embed\"], displayChart, err => showError(`Error loading script: ${err.message}`));\n",
       "    } else if (typeof vegaEmbed === \"function\") {\n",
       "      displayChart(vegaEmbed);\n",
       "    } else {\n",
       "      loadScript(\"vega\")\n",
       "        .then(() => loadScript(\"vega-lite\"))\n",
       "        .then(() => loadScript(\"vega-embed\"))\n",
       "        .catch(showError)\n",
       "        .then(() => displayChart(vegaEmbed));\n",
       "    }\n",
       "  })({\"config\": {\"background\": \"white\", \"view\": {\"continuousWidth\": 400, \"continuousHeight\": 300}}, \"hconcat\": [{\"mark\": \"bar\", \"encoding\": {\"x\": {\"type\": \"nominal\", \"field\": \"adtype\"}, \"y\": {\"type\": \"quantitative\", \"field\": \"roi\"}}, \"height\": 200, \"width\": 300}, {\"mark\": \"bar\", \"encoding\": {\"x\": {\"type\": \"nominal\", \"field\": \"adtype\"}, \"y\": {\"type\": \"quantitative\", \"field\": \"costs\"}}, \"height\": 200, \"width\": 300}], \"data\": {\"name\": \"data-e0cfff88ee0e2b9c126f9c4df50d5f72\"}, \"$schema\": \"https://vega.github.io/schema/vega-lite/v4.8.1.json\", \"datasets\": {\"data-e0cfff88ee0e2b9c126f9c4df50d5f72\": [{\"adtype\": \"SEO\", \"roi\": 68.9, \"online\": \"yes\", \"costs\": 1.2}, {\"adtype\": \"Email\", \"roi\": 56.7, \"online\": \"yes\", \"costs\": 0.4}, {\"adtype\": \"PPC\", \"roi\": 52.4, \"online\": \"yes\", \"costs\": 1.5}, {\"adtype\": \"PR\", \"roi\": 48.5, \"online\": \"no\", \"costs\": 2.2}, {\"adtype\": \"Direct Mail\", \"roi\": 37.4, \"online\": \"no\", \"costs\": 8.7}, {\"adtype\": \"OMB\", \"roi\": 19.9, \"online\": \"yes\", \"costs\": 0.3}]}}, {\"mode\": \"vega-lite\"});\n",
       "</script>"
      ],
      "text/plain": [
       "alt.HConcatChart(...)"
      ]
     },
     "execution_count": 18,
     "metadata": {},
     "output_type": "execute_result"
    }
   ],
   "source": [
    "base_chart = alt.Chart(df).mark_bar().encode(\n",
    "    x = alt.X(\"adtype\")\n",
    ").properties(\n",
    "    width=300,\n",
    "    height=200\n",
    ")\n",
    "\n",
    "base_chart.encode(y=alt.Y(\"roi\")) | base_chart.encode(y=alt.Y(\"costs\"))"
   ]
  },
  {
   "cell_type": "markdown",
   "metadata": {},
   "source": [
    "Hacer gráficos de varios paneles es tan simple como hacer algo como `Chart1 | Chart2`: el | El símbolo le dice a Altair que debe hacer un diagrama de dos paneles. Para un gráfico de varios paneles apilado verticalmente, puede utilizar el símbolo &.\n",
    "\n",
    "Ahora queremos agregar nuestras propiedades y selecciones nuevamente, y queremos asegurarnos de que se seleccionen las mismas en ambos lados:"
   ]
  },
  {
   "cell_type": "code",
   "execution_count": 19,
   "metadata": {},
   "outputs": [
    {
     "data": {
      "text/html": [
       "\n",
       "<div id=\"altair-viz-77ed3bd593704efd9cacea115b984a03\"></div>\n",
       "<script type=\"text/javascript\">\n",
       "  (function(spec, embedOpt){\n",
       "    let outputDiv = document.currentScript.previousElementSibling;\n",
       "    if (outputDiv.id !== \"altair-viz-77ed3bd593704efd9cacea115b984a03\") {\n",
       "      outputDiv = document.getElementById(\"altair-viz-77ed3bd593704efd9cacea115b984a03\");\n",
       "    }\n",
       "    const paths = {\n",
       "      \"vega\": \"https://cdn.jsdelivr.net/npm//vega@5?noext\",\n",
       "      \"vega-lib\": \"https://cdn.jsdelivr.net/npm//vega-lib?noext\",\n",
       "      \"vega-lite\": \"https://cdn.jsdelivr.net/npm//vega-lite@4.8.1?noext\",\n",
       "      \"vega-embed\": \"https://cdn.jsdelivr.net/npm//vega-embed@6?noext\",\n",
       "    };\n",
       "\n",
       "    function loadScript(lib) {\n",
       "      return new Promise(function(resolve, reject) {\n",
       "        var s = document.createElement('script');\n",
       "        s.src = paths[lib];\n",
       "        s.async = true;\n",
       "        s.onload = () => resolve(paths[lib]);\n",
       "        s.onerror = () => reject(`Error loading script: ${paths[lib]}`);\n",
       "        document.getElementsByTagName(\"head\")[0].appendChild(s);\n",
       "      });\n",
       "    }\n",
       "\n",
       "    function showError(err) {\n",
       "      outputDiv.innerHTML = `<div class=\"error\" style=\"color:red;\">${err}</div>`;\n",
       "      throw err;\n",
       "    }\n",
       "\n",
       "    function displayChart(vegaEmbed) {\n",
       "      vegaEmbed(outputDiv, spec, embedOpt)\n",
       "        .catch(err => showError(`Javascript Error: ${err.message}<br>This usually means there's a typo in your chart specification. See the javascript console for the full traceback.`));\n",
       "    }\n",
       "\n",
       "    if(typeof define === \"function\" && define.amd) {\n",
       "      requirejs.config({paths});\n",
       "      require([\"vega-embed\"], displayChart, err => showError(`Error loading script: ${err.message}`));\n",
       "    } else if (typeof vegaEmbed === \"function\") {\n",
       "      displayChart(vegaEmbed);\n",
       "    } else {\n",
       "      loadScript(\"vega\")\n",
       "        .then(() => loadScript(\"vega-lite\"))\n",
       "        .then(() => loadScript(\"vega-embed\"))\n",
       "        .catch(showError)\n",
       "        .then(() => displayChart(vegaEmbed));\n",
       "    }\n",
       "  })({\"config\": {\"background\": \"white\", \"view\": {\"continuousWidth\": 400, \"continuousHeight\": 300}}, \"hconcat\": [{\"mark\": \"bar\", \"encoding\": {\"color\": {\"condition\": {\"value\": \"darkred\", \"selection\": \"selector003\"}, \"value\": \"lightgrey\"}, \"tooltip\": [{\"type\": \"quantitative\", \"field\": \"roi\"}, {\"type\": \"quantitative\", \"field\": \"costs\"}, {\"type\": \"nominal\", \"field\": \"online\"}], \"x\": {\"type\": \"ordinal\", \"field\": \"adtype\", \"sort\": {\"field\": \"roi\", \"order\": \"descending\"}, \"title\": \"Type of Advertising\"}, \"y\": {\"type\": \"quantitative\", \"field\": \"roi\", \"title\": \"Return on Investment [%]\"}}, \"height\": 200, \"selection\": {\"selector003\": {\"type\": \"single\", \"empty\": \"none\", \"on\": \"click\"}}, \"width\": 300}, {\"mark\": \"bar\", \"encoding\": {\"color\": {\"condition\": {\"value\": \"darkred\", \"selection\": \"selector003\"}, \"value\": \"lightgrey\"}, \"tooltip\": [{\"type\": \"quantitative\", \"field\": \"roi\"}, {\"type\": \"quantitative\", \"field\": \"costs\"}, {\"type\": \"nominal\", \"field\": \"online\"}], \"x\": {\"type\": \"ordinal\", \"field\": \"adtype\", \"sort\": {\"field\": \"roi\", \"order\": \"descending\"}, \"title\": \"Type of Advertising\"}, \"y\": {\"type\": \"quantitative\", \"field\": \"costs\", \"title\": \"Cost in Million USD\"}}, \"height\": 200, \"selection\": {\"selector003\": {\"type\": \"single\", \"empty\": \"none\", \"on\": \"click\"}}, \"width\": 300}], \"data\": {\"name\": \"data-e0cfff88ee0e2b9c126f9c4df50d5f72\"}, \"$schema\": \"https://vega.github.io/schema/vega-lite/v4.8.1.json\", \"datasets\": {\"data-e0cfff88ee0e2b9c126f9c4df50d5f72\": [{\"adtype\": \"SEO\", \"roi\": 68.9, \"online\": \"yes\", \"costs\": 1.2}, {\"adtype\": \"Email\", \"roi\": 56.7, \"online\": \"yes\", \"costs\": 0.4}, {\"adtype\": \"PPC\", \"roi\": 52.4, \"online\": \"yes\", \"costs\": 1.5}, {\"adtype\": \"PR\", \"roi\": 48.5, \"online\": \"no\", \"costs\": 2.2}, {\"adtype\": \"Direct Mail\", \"roi\": 37.4, \"online\": \"no\", \"costs\": 8.7}, {\"adtype\": \"OMB\", \"roi\": 19.9, \"online\": \"yes\", \"costs\": 0.3}]}}, {\"mode\": \"vega-lite\"});\n",
       "</script>"
      ],
      "text/plain": [
       "alt.HConcatChart(...)"
      ]
     },
     "execution_count": 19,
     "metadata": {},
     "output_type": "execute_result"
    }
   ],
   "source": [
    "selector = alt.selection(type=\"single\", empty='none', on='click')\n",
    "\n",
    "base_chart = alt.Chart(df).mark_bar().encode(\n",
    "    x = alt.X(\"adtype:O\", title=\"Type of Advertising\",\n",
    "               sort = alt.EncodingSortField(\n",
    "                    field=\"roi\",\n",
    "                    order=\"descending\"\n",
    "        )\n",
    "),\n",
    "    color= alt.condition(\n",
    "        selector, \n",
    "        alt.value(\"darkred\"),\n",
    "        alt.value(\"lightgrey\")),\n",
    "        tooltip=[\"roi\", \"costs\", \"online\"] # display ROI and online properties on mouseover\n",
    ").add_selection(\n",
    "    selector\n",
    ").properties(\n",
    "    width=300,\n",
    "    height=200\n",
    ")\n",
    "\n",
    "\n",
    "base_chart.encode(y = alt.Y(\"roi:Q\", title=\"Return on Investment [%]\")) | base_chart.encode(y = alt.Y(\"costs:Q\", title=\"Cost in Million USD\"))"
   ]
  },
  {
   "cell_type": "markdown",
   "metadata": {},
   "source": [
    "Ahora, cuando haga clic en cualquiera de las barras a cada lado, se resaltará la barra correspondiente en el otro lado. Resulta bastante fácil ver que el correo directo es una idea terrible (muy costosa, porque en realidad tienes que producir y enviar cartas físicas), y que el SEO y el correo electrónico son baratos y efectivos (por supuesto, acabamos de inventar los datos).\n",
    "\n",
    "\n",
    "### Puntos clave\n",
    "* altair es una poderosa biblioteca para generar visualizaciones (interactivas)\n",
    "\n",
    "* Hacer coincidir el tipo de visualización con su tipo de datos puede mejorar drásticamente la legibilidad\n",
    "\n",
    "* La elección de una paleta de colores informativa y de alto contraste puede ayudar a que la figura sea visible para una amplia gama de espectadores."
   ]
  },
  {
   "cell_type": "markdown",
   "metadata": {
    "Collapsed": "false"
   },
   "source": [
    "## Actividad: Índices de Costos de Vida"
   ]
  },
  {
   "cell_type": "markdown",
   "metadata": {
    "Collapsed": "false"
   },
   "source": [
    "Estos índices están ajustados a la Ciudad de Nueva York (NYC). Lo que significa que para la Ciudad de Nueva York, cada índice debería marcar 100(%). Si otra ciudad tiene, por ejemplo, un índice de alquiler de 120, significa que en esa ciudad se paga de media por el alquiler un 20% más que en Nueva York. Si una ciudad tiene un índice de alquiler de 70, significa que en esa ciudad los alquileres son de media un 30% más baratos que en Nueva York.\n",
    "\n",
    "* El Índice de Costo de Vida (Sin Alquiler) es un indicador relativo de los precios de bienes de consumo, incluyendo comestibles, restaurantes, transporte y servicios. El Índice de Costo de Vida no incluye gastos de residencia como alquileres o hipotecas. Si una ciudad tiene un Costo de Vida de 120, significa que Numbeo estima que es un 20% más cara que Nueva York (sin contar alquiler).\n",
    "\n",
    "* El Índice de Alquiler es una estimación de precios de alquiler de apartamentos de una ciudad comparada con Nueva York. Si el Índice de Alquiler es 80, Numbeo estima que el precio de los alquileres en esa ciudad es de media un 20% más barato que en Nueva York.\n",
    "\n",
    "* El Índice de Comestibles es una estimación de los precios de la compra de una ciudad en comparación con Nueva York. Para calcular esta sección, Numbeo utiliza el peso de los artículos en la sección \"Mercados\" por cada ciudad.\n",
    "\n",
    "* El Índice de Restaurantes es una comparación de precios de comidas y bebidas en bares y restaurantes en comparación con NY.\n",
    "\n",
    "* El Índice de Costo de Vida más Alquiler es una estimación de precios de consumo incluyendo alquiler en comparación con la Ciudad de Nueva York.\n",
    "\n",
    "* El Poder Adquisitivo Local muestra la capacidad adquisitiva relativa a la hora de comprar bienes y servicios en una ciudad determinada, con relación al salario medio de la ciudad. Si el poder adquisitivo doméstico es 40, significa que los habitantes de dicha ciudad con salario medio pueden permitirse comprar una media de 60% menos bienes y servicios que los habitantes de Nueva York con salario medio. \n",
    "\n",
    "Para más información sobre los pesos utilizados (fórmula completa) puedes visitar: [motivación y metodología](https://es.numbeo.com/coste-de-vida/motivaci%C3%B3n-y-metodolog%C3%ADa)."
   ]
  },
  {
   "cell_type": "markdown",
   "metadata": {
    "Collapsed": "false"
   },
   "source": [
    "Para comenzar es necesario instalar el paquete `lxml` en tu entorno virtual de conda para poder descargar los datos. Basta con ejecutar \n",
    "\n",
    "`conda install -n mat281 lxml`\n",
    "\n",
    "O cambia `mat281` por el ambiente que estés utilizando."
   ]
  },
  {
   "cell_type": "markdown",
   "metadata": {
    "Collapsed": "false"
   },
   "source": [
    "Se disponibiliza a continuación la carga de datos de un dataframe."
   ]
  },
  {
   "cell_type": "code",
   "execution_count": null,
   "metadata": {
    "Collapsed": "false"
   },
   "outputs": [],
   "source": [
    "years = [2015, 2016, 2017, 2018, 2019, 2020]\n",
    "life_cost = (\n",
    "    pd.concat(\n",
    "        {\n",
    "            year: (\n",
    "                pd.read_html(f\"https://www.numbeo.com/cost-of-living/rankings.jsp?title={year}\")[1]\n",
    "                .rename(columns=lambda x: x.lower().replace(\" \", \"_\"))\n",
    "                .assign(rank=lambda x: x.index + 1)\n",
    "                .set_index(\"rank\")\n",
    "            ) for year in years\n",
    "        }\n",
    "    )\n",
    "    .rename_axis([\"year\", \"rank\"])\n",
    "    .reset_index()\n",
    ")\n",
    "life_cost.head()"
   ]
  },
  {
   "cell_type": "markdown",
   "metadata": {
    "Collapsed": "false"
   },
   "source": [
    "### Ejercicio 1.1 \n",
    "\n",
    "Explique lo que se hizo en la celda anterior detalladamente."
   ]
  },
  {
   "cell_type": "markdown",
   "metadata": {
    "Collapsed": "false"
   },
   "source": [
    "_## TU RESPUESTA AQUÍ ##_"
   ]
  },
  {
   "cell_type": "markdown",
   "metadata": {
    "Collapsed": "false"
   },
   "source": [
    "### Ejercicio 1.2 (10 pts)\n",
    "\n",
    "Genera un histograma del índice del costo de vida (sin alquiler) para cada año (es decir, 6 histogramas).\n"
   ]
  },
  {
   "cell_type": "code",
   "execution_count": null,
   "metadata": {
    "Collapsed": "false"
   },
   "outputs": [],
   "source": [
    "## FIX ME PLEASE ##"
   ]
  },
  {
   "cell_type": "markdown",
   "metadata": {
    "Collapsed": "false"
   },
   "source": [
    "_## TU RESPUESTA AQUÍ ##_"
   ]
  },
  {
   "cell_type": "markdown",
   "metadata": {},
   "source": [
    "### *spoiler*\n",
    "Presione los tres puntitos si quiere un outline de como hacer el gráfico"
   ]
  },
  {
   "cell_type": "code",
   "execution_count": null,
   "metadata": {
    "jupyter": {
     "source_hidden": true
    }
   },
   "outputs": [],
   "source": [
    "(alt.Chart(life_cost)\n",
    "    .mark_bar()\n",
    "    .encode(x = alt.X( #fill\n",
    "                      title = #fill, \n",
    "                      sort = alt.EncodingSortField(field = #fill, \n",
    "                                                   order = #fill\n",
    "                                                  ), \n",
    "                      axis = alt.Axis(labelFontSize = 13)\n",
    "                     ),\n",
    "            y = alt.Y(#fill, \n",
    "                      title = #fill\n",
    "                     ),\n",
    "            row = alt.Row(#fill, \n",
    "                          title = #fill, \n",
    "                          header = alt.Header(labelFontSize=15)\n",
    "                         ),\n",
    "            tooltip = #fill\n",
    "           )\n",
    "    .properties(title = alt.TitleParams(text = #fill, \n",
    "                                        align = #fill, \n",
    "                                        dy = #fill, \n",
    "                                        anchor = #fill\n",
    "                                       )\n",
    "               )\n",
    "    .resolve_scale(x = #fill)\n",
    ")"
   ]
  },
  {
   "cell_type": "markdown",
   "metadata": {
    "Collapsed": "false"
   },
   "source": [
    "### Ejercicio 1.3 ( pts)\n",
    "\n",
    "Grafica el índice de restaurantes a través de los años para diez ciudades escogidas pseudo-aleatoriamente (variable `my_cities` de la celda siguiente) en un mismo gráfico. Recuerda escoger el tipo de gráfico adecuadamente.\n",
    "\n",
    "¿Ves alguna relación? ¿Qué podrías decir del gráfico? ¿Por qué no graficar todas las ciudades en lugar de solo escoger algunas?"
   ]
  },
  {
   "cell_type": "code",
   "execution_count": null,
   "metadata": {
    "Collapsed": "false"
   },
   "outputs": [],
   "source": [
    "seed = 420  #para reproduicibilidad\n",
    "my_cities = life_cost[\"city\"].drop_duplicates().sample(n=10, random_state=seed).values"
   ]
  },
  {
   "cell_type": "code",
   "execution_count": null,
   "metadata": {
    "Collapsed": "false"
   },
   "outputs": [],
   "source": [
    "## FIX ME PLEASE ##"
   ]
  },
  {
   "cell_type": "markdown",
   "metadata": {
    "Collapsed": "false"
   },
   "source": [
    "_## TU RESPUESTA AQUÍ ##_"
   ]
  },
  {
   "cell_type": "markdown",
   "metadata": {},
   "source": [
    "### *spoiler*\n",
    "Presione los tres puntitos si quiere un outline de como hacer el gráfico"
   ]
  },
  {
   "cell_type": "code",
   "execution_count": null,
   "metadata": {
    "jupyter": {
     "source_hidden": true
    }
   },
   "outputs": [],
   "source": [
    "(alt.Chart(life_cost[lambda #fill])\n",
    "    .mark_line()\n",
    "    .encode(alt.X(#fill, \n",
    "                  title = #fill, \n",
    "                  axis = alt.Axis(labelFontSize=11)\n",
    "                 ),\n",
    "            alt.Y(#fill, \n",
    "                  title = #fill\n",
    "                 ),\n",
    "            alt.Color(#fill, \n",
    "                      title = #fill\n",
    "                     ),\n",
    "            tooltip = #fill\n",
    "           )\n",
    "    .properties(title = alt.TitleParams(text =#fill, \n",
    "                                        anchor = #fill, \n",
    "                                        dy = #fill, \n",
    "                                        dx = #fill\n",
    "                                       )\n",
    "               )\n",
    ")"
   ]
  },
  {
   "cell_type": "markdown",
   "metadata": {
    "Collapsed": "false"
   },
   "source": [
    "### Ejercicio 1.4\n",
    "\n",
    "Genera un mapa de calor tal que:\n",
    "\n",
    "- El eje horizontal corresponda a cada uno de los índices.\n",
    "- El eje vertical corresponda a cada una de las ciudades de `my_cities`.\n",
    "- El color y valor en cada celda sea el promedio de los indicadores.\n",
    "    - El valor de la celda debe tener solo dos decimales."
   ]
  },
  {
   "cell_type": "code",
   "execution_count": null,
   "metadata": {
    "Collapsed": "false"
   },
   "outputs": [],
   "source": [
    "redable_index_names = {\n",
    "    'cost_of_living_index': 'Costo de Vida',\n",
    "    'rent_index': 'Alquiler',\n",
    "    'cost_of_living_plus_rent_index': 'Costo de Vida + Alquiler',\n",
    "    'groceries_index': 'Comestibles',\n",
    "    'restaurant_price_index': 'Restaurantes',\n",
    "    'local_purchasing_power_index': 'Poder Adquisitivo Local'\n",
    "}"
   ]
  },
  {
   "cell_type": "code",
   "execution_count": null,
   "metadata": {
    "Collapsed": "false"
   },
   "outputs": [],
   "source": [
    "## FIX ME PLEASE ##"
   ]
  },
  {
   "cell_type": "markdown",
   "metadata": {
    "Collapsed": "false"
   },
   "source": [
    "_## TU RESPUESTA AQUÍ ##_"
   ]
  },
  {
   "cell_type": "markdown",
   "metadata": {},
   "source": [
    "### *spoiler*\n",
    "Presione los tres puntitos si quiere un outline de como hacer el gráfico"
   ]
  },
  {
   "cell_type": "code",
   "execution_count": null,
   "metadata": {
    "jupyter": {
     "source_hidden": true
    }
   },
   "outputs": [],
   "source": [
    "df = (life_cost[lambda df: df['city'].isin(#fill)]\n",
    "                                     .drop(#fill)\n",
    "                                     .groupby(#fill)\n",
    "                                     .agg(#fill)\n",
    "                                     .rename(#fill)\n",
    "                                     .round(#fill)\n",
    "                                     .reset_index()\n",
    "                                     .melt(#fill)\n",
    "\n",
    "    )"
   ]
  },
  {
   "cell_type": "code",
   "execution_count": null,
   "metadata": {
    "jupyter": {
     "source_hidden": true
    }
   },
   "outputs": [],
   "source": [
    "base = (alt.Chart(df)\n",
    "           .encode(x = alt.X(#fill, \n",
    "                             title = #fill, \n",
    "                             axis = alt.Axis(orient = #fill, \n",
    "                                             labelAngle = #fill, \n",
    "                                             labelFontSize=#fill\n",
    "                                            )\n",
    "                            ),\n",
    "                   y=alt.Y(#fill, \n",
    "                           title = #fill, \n",
    "                           axis = alt.Axis(#fill)\n",
    "                          )\n",
    "                  )\n",
    "           .properties(title = alt.TitleParams(text =#fill, \n",
    "                                               dy = #fill, \n",
    "                                               anchor = #fill, \n",
    "                                               dx = #fill\n",
    "                                             ),\n",
    "                       width = #fill,\n",
    "                       height = #fill\n",
    "                      )\n",
    "     )\n",
    "heatmap = (base.mark_rect()\n",
    "               .encode(color = alt.Color(#fill,\n",
    "                                         scale = alt.Scale(scheme = #fill),\n",
    "                                         title=#fill,\n",
    "                                        ),     \n",
    "                       tooltip = [alt.Tooltip(#fill),\n",
    "                                  alt.Tooltip(#fill),\n",
    "                                  alt.Tooltip(#fill)\n",
    "                                 ]\n",
    "                       )\n",
    "          )\n",
    "text = (base.mark_text(#fill)\n",
    "            .encode(text=#fill,\n",
    "                    color=alt.condition(#fill,\n",
    "                                        #fill,\n",
    "                                        #fill\n",
    "                                       )\n",
    "                   )\n",
    "       ) \n",
    "heatmap + text"
   ]
  }
 ],
 "metadata": {
  "kernelspec": {
   "display_name": "Python 3",
   "language": "python",
   "name": "python3"
  },
  "language_info": {
   "codemirror_mode": {
    "name": "ipython",
    "version": 3
   },
   "file_extension": ".py",
   "mimetype": "text/x-python",
   "name": "python",
   "nbconvert_exporter": "python",
   "pygments_lexer": "ipython3",
   "version": "3.8.3"
  }
 },
 "nbformat": 4,
 "nbformat_minor": 4
}
