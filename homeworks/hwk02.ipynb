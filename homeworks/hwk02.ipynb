{
 "cells": [
  {
   "cell_type": "markdown",
   "metadata": {},
   "source": [
    "# MAT281 - Tarea 2"
   ]
  },
  {
   "cell_type": "markdown",
   "metadata": {},
   "source": [
    "**Indicaciones**:\n",
    "\n",
    "* En los **Ejercicio 1-8** puedes utilizar tanto `matplotlib` como `altair` según te parezca más conveniente o cómodo, en ambos casos cada gráfico debe tener elementos mínimos como:\n",
    "    - Título\n",
    "    - Nombre de los ejes, leyendas, etc. en formato _amigable_/_humano_, por ejemplo, si la columna del dataframe en cuestión tiene por nombre `casos_confirmados` se espera que el eje del gráfico tenga por nombre `Casos confirmados`.\n",
    "    - Colores adecuados al tipo de datos.\n",
    "    - Un tamaño adecuado para ver con facilidad en una pantalla con resolución HD o FullHD.\n",
    "    - Cada vez que no se cumplan alguna de estos requerimientos se descontará __1 punto__ de la nota final.\n",
    "\n",
    "* Para el **Ejercicio 9** es obligación utilizar `altair`.\n",
    "* Cada ejercicio debe estar acompañado con una celda con comentarios o análisis que puedas desprender de los gráficos."
   ]
  },
  {
   "cell_type": "code",
   "execution_count": null,
   "metadata": {},
   "outputs": [],
   "source": [
    "import numpy as np\n",
    "import pandas as pd\n",
    "import matplotlib.pyplot as plt\n",
    "import altair as alt\n",
    "import ipywidgets as widgets\n",
    "\n",
    "from datetime import date\n",
    "from ipywidgets import interactive, interact\n",
    "\n",
    "pd.set_option('display.max_columns', 999)\n",
    "alt.data_transformers.enable('data_server')\n",
    "alt.themes.enable('opaque')\n",
    "\n",
    "%matplotlib inline"
   ]
  },
  {
   "cell_type": "markdown",
   "metadata": {},
   "source": [
    "**COVID-19 en Chile** \n",
    "\n",
    "En esta tarea exploraremos los datos de Covid-19 en Chile a profundidad. Las siguientes celdas cargarán los datos a utilizar en tu sesión. Es importante que leas la documentación de cada conjunto de datos para comprender las columnas."
   ]
  },
  {
   "cell_type": "code",
   "execution_count": null,
   "metadata": {},
   "outputs": [],
   "source": [
    "start_date = pd.to_datetime(\"2020-04-13\")"
   ]
  },
  {
   "cell_type": "code",
   "execution_count": null,
   "metadata": {},
   "outputs": [],
   "source": [
    "# https://github.com/MinCiencia/Datos-COVID19/tree/master/output/producto6\n",
    "confirmados = (\n",
    "    pd.read_csv(\"https://raw.githubusercontent.com/MinCiencia/Datos-COVID19/master/output/producto6/bulk/data.csv\")\n",
    "    .rename(columns=lambda x: x.lower().replace(\" \", \"_\"))\n",
    "    .assign(fecha=lambda x: pd.to_datetime(x[\"fecha\"]))\n",
    "    .loc[lambda x: x[\"fecha\"] >= start_date]\n",
    "    .dropna()\n",
    "    .astype({\"casos_confirmados\": np.float, \"tasa\": np.float})\n",
    ")\n",
    "\n",
    "confirmados.head()"
   ]
  },
  {
   "cell_type": "code",
   "execution_count": null,
   "metadata": {},
   "outputs": [],
   "source": [
    "# Borrame\n",
    "confirmados"
   ]
  },
  {
   "cell_type": "code",
   "execution_count": null,
   "metadata": {},
   "outputs": [],
   "source": [
    "# https://github.com/MinCiencia/Datos-COVID19/tree/master/output/producto19\n",
    "activos = (\n",
    "    pd.read_csv(\"https://raw.githubusercontent.com/MinCiencia/Datos-COVID19/master/output/producto19/CasosActivosPorComuna.csv\")\n",
    "    .rename(columns=lambda x: x.lower().replace(\" \", \"_\"))\n",
    "    .loc[lambda x: x[\"codigo_comuna\"].notnull()]\n",
    "    .melt(id_vars=[\"region\", \"codigo_region\", \"comuna\", \"codigo_comuna\", \"poblacion\"], var_name=\"fecha\", value_name=\"casos_activos\")\n",
    "    .assign(fecha=lambda x: pd.to_datetime(x[\"fecha\"]))\n",
    "    .loc[lambda x: x[\"fecha\"] >= start_date]\n",
    ")\n",
    "\n",
    "activos.head()"
   ]
  },
  {
   "cell_type": "code",
   "execution_count": null,
   "metadata": {},
   "outputs": [],
   "source": [
    "# https://github.com/MinCiencia/Datos-COVID19/tree/master/output/producto14\n",
    "fallecidos = (\n",
    "    pd.read_csv(\"https://raw.githubusercontent.com/MinCiencia/Datos-COVID19/master/output/producto14/FallecidosCumulativo.csv\")\n",
    "    .rename(columns=lambda x: x.lower().replace(\" \", \"_\"))\n",
    "    .melt(id_vars=[\"region\"], var_name=\"fecha\", value_name=\"fallecidos\")\n",
    "    .assign(\n",
    "        fecha=lambda x: pd.to_datetime(x[\"fecha\"]),\n",
    "    )\n",
    "    .loc[lambda x: x[\"fecha\"] >= start_date]\n",
    ")\n",
    "\n",
    "fallecidos.head()"
   ]
  },
  {
   "cell_type": "code",
   "execution_count": null,
   "metadata": {},
   "outputs": [],
   "source": [
    "# https://github.com/MinCiencia/Datos-COVID19/tree/master/output/producto10\n",
    "fallecidos_etareo = (\n",
    "    pd.read_csv(\"https://raw.githubusercontent.com/MinCiencia/Datos-COVID19/master/output/producto10/FallecidosEtario.csv\")\n",
    "    .rename(columns=lambda x: x.lower().replace(\" \", \"_\"))\n",
    "    .melt(id_vars=[\"grupo_de_edad\"], var_name=\"fecha\", value_name=\"fallecidos\")\n",
    "    .assign(\n",
    "        fecha=lambda x: pd.to_datetime(x[\"fecha\"]),\n",
    "        grupo_de_edad=lambda x: x[\"grupo_de_edad\"].str.replace(\"<=39\", \"0-39\")\n",
    "    )\n",
    "    .loc[lambda x: x[\"fecha\"] >= start_date]\n",
    ")\n",
    "\n",
    "fallecidos_etareo.head()"
   ]
  },
  {
   "cell_type": "markdown",
   "metadata": {},
   "source": [
    "## Ejercicio 1\n",
    "\n",
    "(10 puntos)\n",
    "\n",
    "Mostrar cantidad de fallecidos a la fecha por cada grupo etáreo."
   ]
  },
  {
   "cell_type": "code",
   "execution_count": null,
   "metadata": {},
   "outputs": [],
   "source": [
    "alt.Chart(fallecidos_etareo).mark_bar().encode(\n",
    "    y=alt.Y('fallecidos', axis=alt.Axis(title='Cantidad de Fallecidos')),\n",
    "    x=alt.X('grupo_de_edad', axis=alt.Axis(title='Grupos Etarios'))\n",
    ").properties(\n",
    "    title='Total de fallecidos a la Fecha',\n",
    "    width=300,\n",
    "    height=400,\n",
    ")"
   ]
  },
  {
   "cell_type": "markdown",
   "metadata": {},
   "source": [
    "**Comentarios:** Podemos notar que la tercera edad tiene una mayor cantidad de fallecidos a causas del covid, especificamente los que se encuentran entre 70-79 años. "
   ]
  },
  {
   "cell_type": "markdown",
   "metadata": {},
   "source": [
    "## Ejercicio 2\n",
    "\n",
    "(10 puntos)\n",
    "\n",
    "¿Qué tan variable es la población de las comunas de Chile? Considera utilizar un gráfico que resuma de buena forma la información sin agregar la variable de región o provincia."
   ]
  },
  {
   "cell_type": "code",
   "execution_count": null,
   "metadata": {},
   "outputs": [],
   "source": [
    "alt.Chart(activos).mark_bar().encode(\n",
    "    y=alt.Y('poblacion', axis=alt.Axis(title='Poblacion')),\n",
    "    x=alt.X('comuna', axis=alt.Axis(title='Comunas'))\n",
    ").properties(\n",
    "    title='Poblacion comunas de Chile',\n",
    "    width=6500,\n",
    "    height=400,\n",
    ")"
   ]
  },
  {
   "cell_type": "markdown",
   "metadata": {},
   "source": [
    "**Comentarios:** Podemos ver que es bastante variable, generalmente donde hay mayor población es en comunas conocidas , como Santiago, Antofagasta, etc..."
   ]
  },
  {
   "cell_type": "markdown",
   "metadata": {},
   "source": [
    "## Ejercicio 3\n",
    "\n",
    "(10 puntos)\n",
    "\n",
    "Mostrar evolución y comparación de los fallecimientos entre distintos grupos etáreos, pero que al mismo tiempo sea fácil identificar la cantidad de fallecidos total en cada fecha."
   ]
  },
  {
   "cell_type": "code",
   "execution_count": null,
   "metadata": {},
   "outputs": [],
   "source": [
    "alt.Chart(fallecidos_etareo).mark_area().encode(\n",
    "    x=alt.X('fecha', axis=alt.Axis(title='Fecha')),\n",
    "    y=alt.Y('fallecidos', axis=alt.Axis(title='Total de Fallecidos')),\n",
    "    color='grupo_de_edad'\n",
    ").properties(\n",
    "    title='Evolucion fallecidos por grupo de Edad',\n",
    "    width=970,\n",
    "    height=400\n",
    ")"
   ]
  },
  {
   "cell_type": "markdown",
   "metadata": {},
   "source": [
    "**Comentarios:** Podemos notar que luego de mayo, aproximadamente, la cantidad de muertos crecio de forma dramatica, especialmente para los mayores de 50."
   ]
  },
  {
   "cell_type": "markdown",
   "metadata": {},
   "source": [
    "## Ejercicio 4\n",
    "\n",
    "(10 puntos)\n",
    "\n",
    "Mostrar en tres gráficos la evolución de casos confirmados, evolución de fallecimientos y evolución de casos activos."
   ]
  },
  {
   "cell_type": "code",
   "execution_count": null,
   "metadata": {},
   "outputs": [],
   "source": [
    "evo_confirmados = alt.Chart(confirmados).mark_line().encode(\n",
    "    x=alt.X('fecha', axis=alt.Axis(title='Fecha')),\n",
    "    y=alt.Y('sum(casos_confirmados)', axis=alt.Axis(title='Total de casos confirmados')),\n",
    ").properties(\n",
    "    title='Evolucion casos confirmados',\n",
    "    width=970,\n",
    "    height=200\n",
    ")\n",
    "\n",
    "evo_fallecimientos = alt.Chart(fallecidos_etareo).mark_line().encode(\n",
    "    x=alt.X('fecha', axis=alt.Axis(title='Fecha')),\n",
    "    y=alt.Y('sum(fallecidos)', axis=alt.Axis(title='Total de Fallecidos')),\n",
    ").properties(\n",
    "    title='Evolucion fallecidos',\n",
    "    width=970,\n",
    "    height=200\n",
    ")\n",
    "\n",
    "evo_activos = alt.Chart(activos).mark_line().encode(\n",
    "    x=alt.X('fecha', axis=alt.Axis(title='Fecha')),\n",
    "    y=alt.Y('sum(casos_activos)', axis=alt.Axis(title='Total casos activos')),\n",
    ").properties(\n",
    "    title='Evolucion casos activos',\n",
    "    width=970,\n",
    "    height=200\n",
    ")\n",
    "\n",
    "display(evo_confirmados,\n",
    "        evo_fallecimientos,  \n",
    "        evo_activos)"
   ]
  },
  {
   "cell_type": "markdown",
   "metadata": {},
   "source": [
    "**Comentarios:** De aqui podemos rescatar varias cosas: el total de casos confirmados y fallecido aumenta de manera pronunciada despues de mayo, y los casos activos tuvieron su pic en junio para luego disminuir de forma precipitada y mantenerse aproximadamente constante."
   ]
  },
  {
   "cell_type": "markdown",
   "metadata": {},
   "source": [
    "## Ejercicio 5\n",
    "\n",
    "(10 puntos)\n",
    "\n",
    "Comparar la tasa de incidencia entre las regiones a lo largo del tiempo."
   ]
  },
  {
   "cell_type": "code",
   "execution_count": null,
   "metadata": {},
   "outputs": [],
   "source": [
    "alt.Chart(confirmados).mark_line().encode(\n",
    "    x=alt.X('fecha', axis=alt.Axis(title='Fecha')),\n",
    "    y=alt.Y('average(tasa)', axis=alt.Axis(title='Tasa de incidencia')),\n",
    "    color=alt.Color('region',\n",
    "        scale=alt.Scale(scheme='category20'),\n",
    "        legend=alt.Legend(direction='vertical')\n",
    "    )\n",
    ").properties(\n",
    "    title='Evolucion tasa de incidencia por regiones',\n",
    "    width=890,\n",
    "    height=400\n",
    ")"
   ]
  },
  {
   "cell_type": "markdown",
   "metadata": {},
   "source": [
    "**Comentarios:** La mayor tasa de incidencia que podemos apreciar es en la region de Tarapacá, luego de aproximadamente la mitad de Julio, eso significa que se infecta una mayor cantidad de personas con respecto a su poblacion total. "
   ]
  },
  {
   "cell_type": "markdown",
   "metadata": {},
   "source": [
    "## Ejercicio 6\n",
    "\n",
    "(10 puntos)\n",
    "\n",
    "¿Hay alguna conclusión que puedas obtener rápidamente al graficar un _scatter plot_ con los casos confirmados y tasa de incidencia de cada comuna para los días 13 de abril y 6 de noviembre del 2020? Además, colorea cada punto según la región a la que pertenece y considera si es útil en el gráfico que el tamaño sea proporcional a la población."
   ]
  },
  {
   "cell_type": "code",
   "execution_count": null,
   "metadata": {},
   "outputs": [],
   "source": [
    "data_13_abr = confirmados.query('fecha == \"2020-04-13\"') \n",
    "data_6_nov = confirmados.query('fecha == \"2020-11-06\"')\n",
    "\n",
    "abril = alt.Chart(data_13_abr).mark_circle(size=60).encode(\n",
    "    x=alt.X('casos_confirmados', axis=alt.Axis(title='Casos confirmados')),\n",
    "    y=alt.Y('tasa', axis=alt.Axis(title='Tasa de incidencia')),\n",
    "    color=alt.Color('region',\n",
    "        scale=alt.Scale(scheme='category20b'),\n",
    "        legend=alt.Legend(direction='vertical')\n",
    "    )\n",
    ").properties(\n",
    "    title='13 de abril',\n",
    "    width=380,\n",
    "    height=400\n",
    ")\n",
    "\n",
    "nov = alt.Chart(data_6_nov).mark_circle(size=60).encode(\n",
    "    x=alt.X('casos_confirmados', axis=alt.Axis(title='Casos confirmados')),\n",
    "    y=alt.Y('tasa', axis=alt.Axis(title='Tasa de incidencia')),\n",
    "    color=alt.Color('region',\n",
    "        scale=alt.Scale(scheme='category20b'),\n",
    "        legend=alt.Legend(direction='vertical')\n",
    "    )\n",
    ").properties(\n",
    "    title='6 de noviembre',\n",
    "    width=380,\n",
    "    height=400\n",
    ")\n",
    "\n",
    "abril | nov"
   ]
  },
  {
   "cell_type": "markdown",
   "metadata": {},
   "source": [
    "**Comentarios:** No consiero que sea necesario que el tamaño sea proporcional a la población ya que la tasa de incidencia ya resulta ser proporcional al tamaño de la poblacion. De los graficos podemos concluir que mientras aumenten los casos confirmados mayor resulta ser la tasa de incidencia, y tiene sentido ya que la tasa de incidencia corresponde a los casos confirmados proporcional a la poblacion cada 100000 habitantes."
   ]
  },
  {
   "cell_type": "markdown",
   "metadata": {},
   "source": [
    "## Ejercicio 7\n",
    "\n",
    "(10 puntos)\n",
    "\n",
    "1. Grafica la evolución de los casos activos de cada comuna en un solo gráfico. \n",
    "2. Grafica la evolución de los casos activos de cada comuna en gráficos separados por región.\n",
    "\n",
    "Entrega los pros y contras de cada uno de estos enfoques."
   ]
  },
  {
   "cell_type": "code",
   "execution_count": null,
   "metadata": {},
   "outputs": [],
   "source": [
    "alt.Chart(activos).mark_line().encode(\n",
    "    x=alt.X('fecha', axis=alt.Axis(title='Fecha')),\n",
    "    y=alt.Y('casos_activos', axis=alt.Axis(title='Casos activos')),\n",
    "    color=alt.Color('comuna',\n",
    "        scale=alt.Scale(scheme='category20'),\n",
    "        legend=alt.Legend(direction='vertical')\n",
    "    )\n",
    ").properties(\n",
    "    title='Evolucion casos activos por Comuna',\n",
    "    width=880,\n",
    "    height=400\n",
    ")"
   ]
  },
  {
   "cell_type": "code",
   "execution_count": null,
   "metadata": {},
   "outputs": [],
   "source": [
    "region_names = [\n",
    "    \"region == 'Arica y Parinacota'\", \"region =='Tarapaca'\",\n",
    "    \"region ==  'Antofagasta'\", \"region == 'Atacama'\",\n",
    "    \"region == 'Coquimbo'\", \"region == 'Valparaiso'\",\n",
    "    \"region == 'Metropolitana'\", \"region == 'Del Libertador General Bernardo O’Higgins'\",\n",
    "    \"region == 'Maule'\", \"region == 'Nuble'\", \n",
    "    \"region ==  'Biobio'\", \"region == 'La Araucania'\",\n",
    "    \"region ==  'La Araucania'\", \"region == 'Los Rios'\",\n",
    "    \"region ==  'Los Lagos'\", \"region ==  'Aysen'\",\n",
    "    \"region ==  'Magallanes y la Antartica'\"\n",
    "]\n",
    "\n",
    "region = ['Arica y Parinacota', 'Tarapaca',\n",
    "    'Antofagasta', 'Atacama',\n",
    "    'Coquimbo', 'Valparaiso',\n",
    "    'Metropolitana', 'Del Libertador General Bernardo O’Higgins',\n",
    "    'Maule', 'Nuble', \n",
    "    'Biobio', 'La Araucania',\n",
    "    'La Araucania', 'Los Rios',\n",
    "    'Los Lagos', 'Aysen',\n",
    "    'Magallanes y la Antartica'\n",
    "]\n",
    "\n",
    "for k in range(0,len(region_names)):     \n",
    "    display(alt.Chart(activos.query(region_names[k])).mark_line().encode(\n",
    "        x=alt.X('fecha', axis=alt.Axis(title='Fecha')),\n",
    "        y=alt.Y('casos_activos', axis=alt.Axis(title='Casos activos')),\n",
    "        color=alt.Color('comuna',\n",
    "        scale=alt.Scale(scheme='category20'),\n",
    "        legend=alt.Legend(direction='vertical')\n",
    "    )\n",
    "    ).properties(\n",
    "        title=region[k],\n",
    "        width=880,\n",
    "        height=400\n",
    "    ))"
   ]
  },
  {
   "cell_type": "markdown",
   "metadata": {},
   "source": [
    "**Comentarios:** Cuando hacemos la evolucion de las comunas en un solo grafico es dificil diferenciar todas las lineas ya que son muchas comunas, no alcanzan los colores y no se pueden apreciar los valores de forma satisfactoria, en cambio, si hacemos graficos por region, las que poseen pocas comunas salen beneficiadas, ya que los datos se pueden ver de mejor manera y alcanzan los colores, es decir que podemos obtener mejores conclusiones de los datos.\n",
    "Aunque pase todo lo anterior, tener una gran cantidad de graficos puede ser pesado para la vista y para la memoria del computador, en cambio si se tiene uno es mas sencillo tener todo en un mismo lugar."
   ]
  },
  {
   "cell_type": "markdown",
   "metadata": {},
   "source": [
    "## Ejercicio 8\n",
    "\n",
    "(10 puntos)\n",
    "\n",
    "Hacer un gráfico que permita comparar rápidamente entre regiones su promedio de casos activos , máximo de casos confirmados y fallecidos. Utiliza los valores reales y apoyarlos con colores.\n",
    "\n",
    "Se adjunta el diccionario `region_names` con tal de reemplazar los nombres de las regiones en los datos `fallecidos` para poder unir con los otros datos. "
   ]
  },
  {
   "cell_type": "code",
   "execution_count": null,
   "metadata": {
    "jupyter": {
     "source_hidden": true
    }
   },
   "outputs": [],
   "source": [
    "region_names = {\n",
    "    \"Araucanía\": \"La Araucanía\",\n",
    "    \"Aysén\": \"Aysén del General Carlos Ibáñez del Campo\",\n",
    "    \"Magallanes\": \"Magallanes y de la Antártica Chilena\",\n",
    "    \"Metropolitana\": \"Metropolitana de Santiago\",\n",
    "    \"O’Higgins\": \"Libertador General Bernardo O'Higgins\",\n",
    "}\n",
    "\n",
    "region_names_activos = {\n",
    "    \"Tarapaca\":\"Tarapacá\", \n",
    "    \"Valparaiso\":\"Valparaíso\", \n",
    "    \"Metropolitana\":\"Metropolitana de Santiago\",\n",
    "    \"Del Libertador General Bernardo O’Higgins\":\"Libertador General Bernardo O'Higgins\", \n",
    "    \"Nuble\":\"Ñuble\",\n",
    "    \"Biobio\":\"Biobío\", \n",
    "    \"La Araucania\":\"La Araucanía\", \n",
    "    \"Los Rios\":\"Los Ríos\", \n",
    "    \"Aysen\":\"Aysén del General Carlos Ibáñez del Campo\",\n",
    "    \"Magallanes y la Antartica\":\"Magallanes y de la Antártica Chilena\"\n",
    "}"
   ]
  },
  {
   "cell_type": "code",
   "execution_count": null,
   "metadata": {},
   "outputs": [],
   "source": [
    "data_aux = (\n",
    "            (confirmados[[\"casos_confirmados\", \"region\"]].groupby([\"region\"]).agg(maximo_casos_confirmados = (\"casos_confirmados\", \"max\")).reset_index())\n",
    "            .merge(\n",
    "                activos[[\"casos_activos\", \"region\"]].replace(region_names_activos).groupby([\"region\"])\n",
    "                .agg(promedio_casos_activos = (\"casos_activos\", \"mean\")).reset_index(),\n",
    "                how=\"inner\",\n",
    "                on=\"region\")\n",
    "            .merge(\n",
    "                fallecidos[[\"fallecidos\", \"region\"]].replace(region_names).groupby([\"region\"])\n",
    "                .agg(maximo_fallecidos = (\"fallecidos\", \"max\")).reset_index(),\n",
    "                how=\"inner\",\n",
    "                on=\"region\")\n",
    ")\n",
    "\n",
    "com_fallecidos = alt.Chart(data_aux).mark_point(shape=\"cross\", size=200).encode(\n",
    "    x=alt.X('maximo_fallecidos', axis=alt.Axis(title='Maximo de casos confirmados(punto) y fallecidos(cruz)')),\n",
    "    y=alt.Y('promedio_casos_activos', axis=alt.Axis(title='Promedio casos activos')),\n",
    "    color=alt.Color('region',\n",
    "        scale=alt.Scale(scheme='category20'),\n",
    "        legend=alt.Legend(direction='vertical')),\n",
    ").properties(\n",
    "    title=\"Comparacion entre promedio de casos activos , máximo de casos confirmados y fallecidos\",\n",
    "    width=880,\n",
    "    height=400\n",
    ")\n",
    "\n",
    "com_confirmados = alt.Chart(data_aux).mark_circle(size=160).encode(\n",
    "    x=alt.X('maximo_casos_confirmados', axis=alt.Axis(title='Maximo de casos confirmados(punto) y fallecidos(cruz)')),\n",
    "    y=alt.Y('promedio_casos_activos', axis=alt.Axis(title='Promedio casos activos')),\n",
    "    color=alt.Color('region',\n",
    "        scale=alt.Scale(scheme='category20'),\n",
    "        legend=alt.Legend(direction='vertical'))\n",
    ")\n",
    "\n",
    "com_fallecidos + com_confirmados"
   ]
  },
  {
   "cell_type": "markdown",
   "metadata": {},
   "source": [
    "**Comentarios:** Podemos darnos cuenta que generalmente a mayor promedio de casos activos la cantidad de confirmados es mayor, pero no ocurre lo mismo con el numero de fallecidos, lo que se debe a que en ciudades con menor numero de fallecidos hay un mejor control de la situacion."
   ]
  },
  {
   "cell_type": "markdown",
   "metadata": {},
   "source": [
    "## Ejercicio 9\n",
    "\n",
    "\n",
    "En este ejercicio buscaremos realizar un mini-dashboard respecto al estado de los casos de COVID-19 en Chile, por lo tanto utilizaremos haremos uso de datos geográficos de manera operacional (es decir, no nos preocuparemos de proyecciones en mapas ni nada por el estilo), lo único es que debes instalar `geopandas` en tu ambiente virtual y no olvidar actualizarlo en tu `environment.yml` para luego subirlo a tu repositorio de GitHub.\n",
    "\n",
    "Con tu ambiente activo (`conda activate mat281`) basta con ejecutar `conda install -c conda-forge geopandas` para instalar `geopandas`."
   ]
  },
  {
   "cell_type": "code",
   "execution_count": null,
   "metadata": {},
   "outputs": [],
   "source": [
    "import geopandas as gpd\n",
    "from pathlib import Path"
   ]
  },
  {
   "cell_type": "code",
   "execution_count": null,
   "metadata": {},
   "outputs": [],
   "source": [
    "shp_filepath = Path().resolve().parent / \"data\" / \"regiones_chile.shp\"\n",
    "regiones = gpd.read_file(shp_filepath)\n",
    "regiones.head()"
   ]
  },
  {
   "cell_type": "code",
   "execution_count": null,
   "metadata": {},
   "outputs": [],
   "source": [
    "type(regiones)"
   ]
  },
  {
   "cell_type": "markdown",
   "metadata": {},
   "source": [
    "Lo único que tienes que saber es que un `GeoDataFrame` es idéntico a un `DataFrame` salvo que debe poseer una columna llamada `geometry` caracterice los elementros geométricos, que en este casos son polígonos con los límites de las regiones de Chile. \n",
    "\n",
    "Para graficar mapas en Altair se debe usar `mark_geoshape`, además, para no preocuparnos de las proyecciones si o si debes declarar lo siguiente que se muestra en la siguiente celda en las propiedades del gráfico. El resto es igual a cualquier otro gráfico de Altair."
   ]
  },
  {
   "cell_type": "code",
   "execution_count": null,
   "metadata": {},
   "outputs": [],
   "source": [
    "alt.Chart(regiones).mark_geoshape().encode(\n",
    ").properties(\n",
    "    projection={'type': 'identity', 'reflectY': True},\n",
    "    width=250,\n",
    "    height=600\n",
    ")"
   ]
  },
  {
   "cell_type": "markdown",
   "metadata": {},
   "source": [
    "### Ejercicio 9.1\n",
    "\n",
    "(10 puntos)\n",
    "\n",
    "Define el `DataFrame` con el nombre `casos_geo` tal que tenga las columnas\n",
    "\n",
    "* `region`\n",
    "* `codigo_region`\n",
    "* `fecha`\n",
    "* `poblacion`\n",
    "* `casos_confirmados`\n",
    "* `tasa`\n",
    "* `casos_activos`\n",
    "* `fallecidos`\n",
    "* `geometry`\n",
    "\n",
    "Ten mucho cuidado como unes los dataframes `confirmados`, `activos`, `fallecidos` y `regiones`. Idealmente utilizar el código de región, pero en caso que no se encuentren disponibles utilizar el nombre de la región (no olvidar utilizar el diccionario `region_names`)."
   ]
  },
  {
   "cell_type": "code",
   "execution_count": null,
   "metadata": {},
   "outputs": [],
   "source": [
    "casos_geo = (\n",
    "    confirmados[[\"region\", \"region_id\"]].drop_duplicates()\n",
    "    .rename(columns={\"region_id\":\"codigo_region\"})\n",
    "    .merge(\n",
    "        (\n",
    "            confirmados[[\"region\",  \"fecha\", \"poblacion\", \"casos_confirmados\", \"tasa\"]]\n",
    "            .groupby(['region', 'fecha'])\n",
    "            .agg(poblacion = ('poblacion', 'sum'), casos_confirmados = ('casos_confirmados', 'sum'))\n",
    "            .reset_index()\n",
    "            .assign(tasa = lambda df: df['casos_confirmados'] / df['poblacion'] * 100000)\n",
    "        ),\n",
    "        how =\"inner\",\n",
    "        on=[\"region\"]\n",
    "    )\n",
    "    .merge(\n",
    "        activos.groupby([\"codigo_region\", \"fecha\"]).agg(casos_activos = (\"casos_activos\", \"sum\")).reset_index(),\n",
    "        how =\"inner\",\n",
    "        on=[\"codigo_region\", \"fecha\"]\n",
    "    )\n",
    "    .merge(\n",
    "        fallecidos.replace(region_names),\n",
    "        how=\"inner\",\n",
    "        on=[\"region\", \"fecha\"]\n",
    "    )\n",
    "    .merge(\n",
    "        regiones[[\"codregion\", \"geometry\"]].rename(columns={\"codregion\": \"codigo_region\"}), \n",
    "        how=\"inner\",\n",
    "        on=[\"codigo_region\"]\n",
    "    )\n",
    ")\n",
    "\n",
    "casos_geo.head()"
   ]
  },
  {
   "cell_type": "markdown",
   "metadata": {},
   "source": [
    "Ejecuta lo siguiente para convertir el DataFrame anterior en un GeoDataFrames"
   ]
  },
  {
   "cell_type": "code",
   "execution_count": null,
   "metadata": {},
   "outputs": [],
   "source": [
    "casos_geo = casos_geo.pipe(lambda x: gpd.GeoDataFrame(x, geometry=\"geometry\"))"
   ]
  },
  {
   "cell_type": "markdown",
   "metadata": {},
   "source": [
    "### Ejercicio 9.2\n",
    "\n",
    "(5 puntos)\n",
    "\n",
    "Modifica la función `covid_chile_chart` tal que reciba una fecha y una columna. Luego, debe filtrar `casos_geo` con registros de la fecha seleccionada y graficar un mapa donde las regiones se colereen según la columna escogida. "
   ]
  },
  {
   "cell_type": "code",
   "execution_count": null,
   "metadata": {},
   "outputs": [],
   "source": [
    "def covid_chile_chart(fecha, col):\n",
    "    fecha = pd.to_datetime(fecha)\n",
    "    data = casos_geo.loc[lambda df: df['fecha'] == fecha]\n",
    "    \n",
    "    chart = alt.Chart(data).mark_geoshape().encode(\n",
    "        color=col\n",
    "    ).properties(\n",
    "        projection={'type': 'identity', 'reflectY': True},\n",
    "        width=150,\n",
    "        height=400\n",
    "    )\n",
    "    \n",
    "    chart.display()\n",
    "    return"
   ]
  },
  {
   "cell_type": "markdown",
   "metadata": {},
   "source": [
    "Prueba con lo siguiente"
   ]
  },
  {
   "cell_type": "code",
   "execution_count": null,
   "metadata": {},
   "outputs": [],
   "source": [
    "fecha = \"2020-04-13\"\n",
    "col = \"tasa\"\n",
    "covid_chile_chart(fecha, col)"
   ]
  },
  {
   "cell_type": "markdown",
   "metadata": {},
   "source": [
    "### Ejercicio 9.3\n",
    "\n",
    "(5 puntos)\n",
    "\n",
    "Ahora utilizando `widgets` generaremos el dashboard interactivo. Define lo siguiente:\n",
    "\n",
    "* col_widget: Un `widgets.Dropdown` donde las opciones a seleccionar sean las columnas `poblacion`, `casos_confirmados`, `tasa`, `casos_activos` y `fallecidos`. Además, el argumento `description` debe ser `Columna`.\n",
    "* fecha_widget: Un `widgets.DatePicker` donde el argumento `description` sea `Fecha`.\n",
    "* Ambos widgets deben tener el argumento `continuous_update=False`"
   ]
  },
  {
   "cell_type": "code",
   "execution_count": null,
   "metadata": {},
   "outputs": [],
   "source": [
    "import ipywidgets as widgets\n",
    "from ipywidgets import interactive, interact"
   ]
  },
  {
   "cell_type": "code",
   "execution_count": null,
   "metadata": {},
   "outputs": [],
   "source": [
    "col_widget = widgets.Dropdown(options=['poblacion', \n",
    "                                       'casos_confirmados',\n",
    "                                       'tasa',\n",
    "                                       'casos_activos',\n",
    "                                       'fallecidos'], \n",
    "                              description='Columna', \n",
    "                              continuous_update=False)\n"
   ]
  },
  {
   "cell_type": "code",
   "execution_count": null,
   "metadata": {},
   "outputs": [],
   "source": [
    "fecha_widget = widgets.DatePicker(description='Fecha',\n",
    "                                  continuous_update=False)"
   ]
  },
  {
   "cell_type": "markdown",
   "metadata": {},
   "source": [
    "Finalmente, haciendo uso de `interactive`, la función `covid_chile_chart` y todos los widgets es posible crear un _dashboard_ interactivo con los datos de Covid-19.\n",
    "\n",
    "Respira profundo y explora tu creación!"
   ]
  },
  {
   "cell_type": "code",
   "execution_count": null,
   "metadata": {},
   "outputs": [],
   "source": [
    "covid_dashboard = interactive(\n",
    "    covid_chile_chart,\n",
    "    fecha=fecha_widget,\n",
    "    col=col_widget\n",
    ")\n",
    "covid_dashboard"
   ]
  },
  {
   "cell_type": "markdown",
   "metadata": {},
   "source": [
    "**Comentarios:** Vamos a comparar las fechas 2020-04-13 y 2020-11-13. Verificando como ha cambiado la tasa del 2020-04-13 al 2020-11-13 podemos ver que en la parte central de nuestro pais a disminuido notablemente, no asi en los extremos donde las tasas son elevadas. La poblacion con respectos a las fechas anteriores no ha tenido cambios bruscos. Los casos confirmados concentran su mayor cantidad en la region metropolitana en las dos fechas, pero con un aumento de casi 10000 veces la cantidas de abril. Para los casos activos, en abril podiamos ver se concentraba la mayor parte en la region metropolitana, en noviembre podemos ver un mayor numero de casos en el centro de nuestro pais. Y finalmente para los fallecidos, en noviembre el mayor numero, que era es casi 10000, se encuentra en la region metropolitana, pero antes, se repartia entre la zona central de chile. "
   ]
  }
 ],
 "metadata": {
  "kernelspec": {
   "display_name": "Python 3",
   "language": "python",
   "name": "python3"
  },
  "language_info": {
   "codemirror_mode": {
    "name": "ipython",
    "version": 3
   },
   "file_extension": ".py",
   "mimetype": "text/x-python",
   "name": "python",
   "nbconvert_exporter": "python",
   "pygments_lexer": "ipython3",
   "version": "3.7.8"
  }
 },
 "nbformat": 4,
 "nbformat_minor": 4
}
