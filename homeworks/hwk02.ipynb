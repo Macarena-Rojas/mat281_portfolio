{
 "cells": [
  {
   "cell_type": "markdown",
   "metadata": {},
   "source": [
    "# MAT281 - Tarea 2"
   ]
  },
  {
   "cell_type": "markdown",
   "metadata": {},
   "source": [
    "**Indicaciones**:\n",
    "\n",
    "* En los **Ejercicio 1-8** puedes utilizar tanto `matplotlib` como `altair` según te parezca más conveniente o cómodo, en ambos casos cada gráfico debe tener elementos mínimos como:\n",
    "    - Título\n",
    "    - Nombre de los ejes, leyendas, etc. en formato _amigable_/_humano_, por ejemplo, si la columna del dataframe en cuestión tiene por nombre `casos_confirmados` se espera que el eje del gráfico tenga por nombre `Casos confirmados`.\n",
    "    - Colores adecuados al tipo de datos.\n",
    "    - Un tamaño adecuado para ver con facilidad en una pantalla con resolución HD o FullHD.\n",
    "    - Cada vez que no se cumplan alguna de estos requerimientos se descontará __1 punto__ de la nota final.\n",
    "\n",
    "* Para el **Ejercicio 9** es obligación utilizar `altair`.\n",
    "* Cada ejercicio debe estar acompañado con una celda con comentarios o análisis que puedas desprender de los gráficos."
   ]
  },
  {
   "cell_type": "code",
   "execution_count": 1,
   "metadata": {},
   "outputs": [],
   "source": [
    "import numpy as np\n",
    "import pandas as pd\n",
    "import matplotlib.pyplot as plt\n",
    "import altair as alt\n",
    "import ipywidgets as widgets\n",
    "\n",
    "from datetime import date\n",
    "from ipywidgets import interactive, interact\n",
    "\n",
    "pd.set_option('display.max_columns', 999)\n",
    "alt.data_transformers.enable('data_server')\n",
    "alt.themes.enable('opaque')\n",
    "\n",
    "%matplotlib inline"
   ]
  },
  {
   "cell_type": "markdown",
   "metadata": {},
   "source": [
    "**COVID-19 en Chile** \n",
    "\n",
    "En esta tarea exploraremos los datos de Covid-19 en Chile a profundidad. Las siguientes celdas cargarán los datos a utilizar en tu sesión. Es importante que leas la documentación de cada conjunto de datos para comprender las columnas."
   ]
  },
  {
   "cell_type": "code",
   "execution_count": 2,
   "metadata": {},
   "outputs": [],
   "source": [
    "start_date = pd.to_datetime(\"2020-04-13\")"
   ]
  },
  {
   "cell_type": "code",
   "execution_count": 3,
   "metadata": {},
   "outputs": [
    {
     "data": {
      "text/html": [
       "<div>\n",
       "<style scoped>\n",
       "    .dataframe tbody tr th:only-of-type {\n",
       "        vertical-align: middle;\n",
       "    }\n",
       "\n",
       "    .dataframe tbody tr th {\n",
       "        vertical-align: top;\n",
       "    }\n",
       "\n",
       "    .dataframe thead th {\n",
       "        text-align: right;\n",
       "    }\n",
       "</style>\n",
       "<table border=\"1\" class=\"dataframe\">\n",
       "  <thead>\n",
       "    <tr style=\"text-align: right;\">\n",
       "      <th></th>\n",
       "      <th>poblacion</th>\n",
       "      <th>casos_confirmados</th>\n",
       "      <th>fecha</th>\n",
       "      <th>region_id</th>\n",
       "      <th>region</th>\n",
       "      <th>provincia_id</th>\n",
       "      <th>provincia</th>\n",
       "      <th>comuna_id</th>\n",
       "      <th>comuna</th>\n",
       "      <th>tasa</th>\n",
       "    </tr>\n",
       "  </thead>\n",
       "  <tbody>\n",
       "    <tr>\n",
       "      <th>0</th>\n",
       "      <td>247552.0</td>\n",
       "      <td>3123.0</td>\n",
       "      <td>2020-07-17</td>\n",
       "      <td>15.0</td>\n",
       "      <td>Arica y Parinacota</td>\n",
       "      <td>151.0</td>\n",
       "      <td>Arica</td>\n",
       "      <td>15101.0</td>\n",
       "      <td>Arica</td>\n",
       "      <td>1261.553128</td>\n",
       "    </tr>\n",
       "    <tr>\n",
       "      <th>1</th>\n",
       "      <td>247552.0</td>\n",
       "      <td>8332.0</td>\n",
       "      <td>2020-09-28</td>\n",
       "      <td>15.0</td>\n",
       "      <td>Arica y Parinacota</td>\n",
       "      <td>151.0</td>\n",
       "      <td>Arica</td>\n",
       "      <td>15101.0</td>\n",
       "      <td>Arica</td>\n",
       "      <td>3365.757497</td>\n",
       "    </tr>\n",
       "    <tr>\n",
       "      <th>2</th>\n",
       "      <td>247552.0</td>\n",
       "      <td>310.0</td>\n",
       "      <td>2020-05-04</td>\n",
       "      <td>15.0</td>\n",
       "      <td>Arica y Parinacota</td>\n",
       "      <td>151.0</td>\n",
       "      <td>Arica</td>\n",
       "      <td>15101.0</td>\n",
       "      <td>Arica</td>\n",
       "      <td>125.226215</td>\n",
       "    </tr>\n",
       "    <tr>\n",
       "      <th>3</th>\n",
       "      <td>247552.0</td>\n",
       "      <td>9343.0</td>\n",
       "      <td>2020-10-16</td>\n",
       "      <td>15.0</td>\n",
       "      <td>Arica y Parinacota</td>\n",
       "      <td>151.0</td>\n",
       "      <td>Arica</td>\n",
       "      <td>15101.0</td>\n",
       "      <td>Arica</td>\n",
       "      <td>3774.156541</td>\n",
       "    </tr>\n",
       "    <tr>\n",
       "      <th>4</th>\n",
       "      <td>247552.0</td>\n",
       "      <td>7503.0</td>\n",
       "      <td>2020-09-11</td>\n",
       "      <td>15.0</td>\n",
       "      <td>Arica y Parinacota</td>\n",
       "      <td>151.0</td>\n",
       "      <td>Arica</td>\n",
       "      <td>15101.0</td>\n",
       "      <td>Arica</td>\n",
       "      <td>3030.878361</td>\n",
       "    </tr>\n",
       "  </tbody>\n",
       "</table>\n",
       "</div>"
      ],
      "text/plain": [
       "   poblacion  casos_confirmados      fecha  region_id              region  \\\n",
       "0   247552.0             3123.0 2020-07-17       15.0  Arica y Parinacota   \n",
       "1   247552.0             8332.0 2020-09-28       15.0  Arica y Parinacota   \n",
       "2   247552.0              310.0 2020-05-04       15.0  Arica y Parinacota   \n",
       "3   247552.0             9343.0 2020-10-16       15.0  Arica y Parinacota   \n",
       "4   247552.0             7503.0 2020-09-11       15.0  Arica y Parinacota   \n",
       "\n",
       "   provincia_id provincia  comuna_id comuna         tasa  \n",
       "0         151.0     Arica    15101.0  Arica  1261.553128  \n",
       "1         151.0     Arica    15101.0  Arica  3365.757497  \n",
       "2         151.0     Arica    15101.0  Arica   125.226215  \n",
       "3         151.0     Arica    15101.0  Arica  3774.156541  \n",
       "4         151.0     Arica    15101.0  Arica  3030.878361  "
      ]
     },
     "execution_count": 3,
     "metadata": {},
     "output_type": "execute_result"
    }
   ],
   "source": [
    "# https://github.com/MinCiencia/Datos-COVID19/tree/master/output/producto6\n",
    "confirmados = (\n",
    "    pd.read_csv(\"https://raw.githubusercontent.com/MinCiencia/Datos-COVID19/master/output/producto6/bulk/data.csv\")\n",
    "    .rename(columns=lambda x: x.lower().replace(\" \", \"_\"))\n",
    "    .assign(fecha=lambda x: pd.to_datetime(x[\"fecha\"]))\n",
    "    .loc[lambda x: x[\"fecha\"] >= start_date]\n",
    "    .dropna()\n",
    "    .astype({\"casos_confirmados\": np.float, \"tasa\": np.float})\n",
    ")\n",
    "\n",
    "confirmados.head()"
   ]
  },
  {
   "cell_type": "code",
   "execution_count": 4,
   "metadata": {},
   "outputs": [
    {
     "data": {
      "text/html": [
       "<div>\n",
       "<style scoped>\n",
       "    .dataframe tbody tr th:only-of-type {\n",
       "        vertical-align: middle;\n",
       "    }\n",
       "\n",
       "    .dataframe tbody tr th {\n",
       "        vertical-align: top;\n",
       "    }\n",
       "\n",
       "    .dataframe thead th {\n",
       "        text-align: right;\n",
       "    }\n",
       "</style>\n",
       "<table border=\"1\" class=\"dataframe\">\n",
       "  <thead>\n",
       "    <tr style=\"text-align: right;\">\n",
       "      <th></th>\n",
       "      <th>region</th>\n",
       "      <th>codigo_region</th>\n",
       "      <th>comuna</th>\n",
       "      <th>codigo_comuna</th>\n",
       "      <th>poblacion</th>\n",
       "      <th>fecha</th>\n",
       "      <th>casos_activos</th>\n",
       "    </tr>\n",
       "  </thead>\n",
       "  <tbody>\n",
       "    <tr>\n",
       "      <th>0</th>\n",
       "      <td>Arica y Parinacota</td>\n",
       "      <td>15</td>\n",
       "      <td>Arica</td>\n",
       "      <td>15101.0</td>\n",
       "      <td>247552.0</td>\n",
       "      <td>2020-04-13</td>\n",
       "      <td>88.0</td>\n",
       "    </tr>\n",
       "    <tr>\n",
       "      <th>1</th>\n",
       "      <td>Arica y Parinacota</td>\n",
       "      <td>15</td>\n",
       "      <td>Camarones</td>\n",
       "      <td>15102.0</td>\n",
       "      <td>1233.0</td>\n",
       "      <td>2020-04-13</td>\n",
       "      <td>0.0</td>\n",
       "    </tr>\n",
       "    <tr>\n",
       "      <th>2</th>\n",
       "      <td>Arica y Parinacota</td>\n",
       "      <td>15</td>\n",
       "      <td>General Lagos</td>\n",
       "      <td>15202.0</td>\n",
       "      <td>810.0</td>\n",
       "      <td>2020-04-13</td>\n",
       "      <td>0.0</td>\n",
       "    </tr>\n",
       "    <tr>\n",
       "      <th>3</th>\n",
       "      <td>Arica y Parinacota</td>\n",
       "      <td>15</td>\n",
       "      <td>Putre</td>\n",
       "      <td>15201.0</td>\n",
       "      <td>2515.0</td>\n",
       "      <td>2020-04-13</td>\n",
       "      <td>0.0</td>\n",
       "    </tr>\n",
       "    <tr>\n",
       "      <th>4</th>\n",
       "      <td>Tarapaca</td>\n",
       "      <td>1</td>\n",
       "      <td>Alto Hospicio</td>\n",
       "      <td>1107.0</td>\n",
       "      <td>129999.0</td>\n",
       "      <td>2020-04-13</td>\n",
       "      <td>8.0</td>\n",
       "    </tr>\n",
       "  </tbody>\n",
       "</table>\n",
       "</div>"
      ],
      "text/plain": [
       "               region  codigo_region         comuna  codigo_comuna  poblacion  \\\n",
       "0  Arica y Parinacota             15          Arica        15101.0   247552.0   \n",
       "1  Arica y Parinacota             15      Camarones        15102.0     1233.0   \n",
       "2  Arica y Parinacota             15  General Lagos        15202.0      810.0   \n",
       "3  Arica y Parinacota             15          Putre        15201.0     2515.0   \n",
       "4            Tarapaca              1  Alto Hospicio         1107.0   129999.0   \n",
       "\n",
       "       fecha  casos_activos  \n",
       "0 2020-04-13           88.0  \n",
       "1 2020-04-13            0.0  \n",
       "2 2020-04-13            0.0  \n",
       "3 2020-04-13            0.0  \n",
       "4 2020-04-13            8.0  "
      ]
     },
     "execution_count": 4,
     "metadata": {},
     "output_type": "execute_result"
    }
   ],
   "source": [
    "# https://github.com/MinCiencia/Datos-COVID19/tree/master/output/producto19\n",
    "activos = (\n",
    "    pd.read_csv(\"https://raw.githubusercontent.com/MinCiencia/Datos-COVID19/master/output/producto19/CasosActivosPorComuna.csv\")\n",
    "    .rename(columns=lambda x: x.lower().replace(\" \", \"_\"))\n",
    "    .loc[lambda x: x[\"codigo_comuna\"].notnull()]\n",
    "    .melt(id_vars=[\"region\", \"codigo_region\", \"comuna\", \"codigo_comuna\", \"poblacion\"], var_name=\"fecha\", value_name=\"casos_activos\")\n",
    "    .assign(fecha=lambda x: pd.to_datetime(x[\"fecha\"]))\n",
    "    .loc[lambda x: x[\"fecha\"] >= start_date]\n",
    ")\n",
    "\n",
    "activos.head()"
   ]
  },
  {
   "cell_type": "code",
   "execution_count": 5,
   "metadata": {},
   "outputs": [
    {
     "data": {
      "text/html": [
       "<div>\n",
       "<style scoped>\n",
       "    .dataframe tbody tr th:only-of-type {\n",
       "        vertical-align: middle;\n",
       "    }\n",
       "\n",
       "    .dataframe tbody tr th {\n",
       "        vertical-align: top;\n",
       "    }\n",
       "\n",
       "    .dataframe thead th {\n",
       "        text-align: right;\n",
       "    }\n",
       "</style>\n",
       "<table border=\"1\" class=\"dataframe\">\n",
       "  <thead>\n",
       "    <tr style=\"text-align: right;\">\n",
       "      <th></th>\n",
       "      <th>region</th>\n",
       "      <th>fecha</th>\n",
       "      <th>fallecidos</th>\n",
       "    </tr>\n",
       "  </thead>\n",
       "  <tbody>\n",
       "    <tr>\n",
       "      <th>374</th>\n",
       "      <td>Arica y Parinacota</td>\n",
       "      <td>2020-04-13</td>\n",
       "      <td>1.0</td>\n",
       "    </tr>\n",
       "    <tr>\n",
       "      <th>375</th>\n",
       "      <td>Tarapacá</td>\n",
       "      <td>2020-04-13</td>\n",
       "      <td>0.0</td>\n",
       "    </tr>\n",
       "    <tr>\n",
       "      <th>376</th>\n",
       "      <td>Antofagasta</td>\n",
       "      <td>2020-04-13</td>\n",
       "      <td>1.0</td>\n",
       "    </tr>\n",
       "    <tr>\n",
       "      <th>377</th>\n",
       "      <td>Atacama</td>\n",
       "      <td>2020-04-13</td>\n",
       "      <td>0.0</td>\n",
       "    </tr>\n",
       "    <tr>\n",
       "      <th>378</th>\n",
       "      <td>Coquimbo</td>\n",
       "      <td>2020-04-13</td>\n",
       "      <td>0.0</td>\n",
       "    </tr>\n",
       "  </tbody>\n",
       "</table>\n",
       "</div>"
      ],
      "text/plain": [
       "                 region      fecha  fallecidos\n",
       "374  Arica y Parinacota 2020-04-13         1.0\n",
       "375            Tarapacá 2020-04-13         0.0\n",
       "376         Antofagasta 2020-04-13         1.0\n",
       "377             Atacama 2020-04-13         0.0\n",
       "378            Coquimbo 2020-04-13         0.0"
      ]
     },
     "execution_count": 5,
     "metadata": {},
     "output_type": "execute_result"
    }
   ],
   "source": [
    "# https://github.com/MinCiencia/Datos-COVID19/tree/master/output/producto14\n",
    "fallecidos = (\n",
    "    pd.read_csv(\"https://raw.githubusercontent.com/MinCiencia/Datos-COVID19/master/output/producto14/FallecidosCumulativo.csv\")\n",
    "    .rename(columns=lambda x: x.lower().replace(\" \", \"_\"))\n",
    "    .melt(id_vars=[\"region\"], var_name=\"fecha\", value_name=\"fallecidos\")\n",
    "    .assign(\n",
    "        fecha=lambda x: pd.to_datetime(x[\"fecha\"]),\n",
    "    )\n",
    "    .loc[lambda x: x[\"fecha\"] >= start_date]\n",
    ")\n",
    "\n",
    "fallecidos.head()"
   ]
  },
  {
   "cell_type": "code",
   "execution_count": 6,
   "metadata": {},
   "outputs": [
    {
     "data": {
      "text/html": [
       "<div>\n",
       "<style scoped>\n",
       "    .dataframe tbody tr th:only-of-type {\n",
       "        vertical-align: middle;\n",
       "    }\n",
       "\n",
       "    .dataframe tbody tr th {\n",
       "        vertical-align: top;\n",
       "    }\n",
       "\n",
       "    .dataframe thead th {\n",
       "        text-align: right;\n",
       "    }\n",
       "</style>\n",
       "<table border=\"1\" class=\"dataframe\">\n",
       "  <thead>\n",
       "    <tr style=\"text-align: right;\">\n",
       "      <th></th>\n",
       "      <th>grupo_de_edad</th>\n",
       "      <th>fecha</th>\n",
       "      <th>fallecidos</th>\n",
       "    </tr>\n",
       "  </thead>\n",
       "  <tbody>\n",
       "    <tr>\n",
       "      <th>28</th>\n",
       "      <td>0-39</td>\n",
       "      <td>2020-04-13</td>\n",
       "      <td>3</td>\n",
       "    </tr>\n",
       "    <tr>\n",
       "      <th>29</th>\n",
       "      <td>40-49</td>\n",
       "      <td>2020-04-13</td>\n",
       "      <td>2</td>\n",
       "    </tr>\n",
       "    <tr>\n",
       "      <th>30</th>\n",
       "      <td>50-59</td>\n",
       "      <td>2020-04-13</td>\n",
       "      <td>3</td>\n",
       "    </tr>\n",
       "    <tr>\n",
       "      <th>31</th>\n",
       "      <td>60-69</td>\n",
       "      <td>2020-04-13</td>\n",
       "      <td>12</td>\n",
       "    </tr>\n",
       "    <tr>\n",
       "      <th>32</th>\n",
       "      <td>70-79</td>\n",
       "      <td>2020-04-13</td>\n",
       "      <td>29</td>\n",
       "    </tr>\n",
       "  </tbody>\n",
       "</table>\n",
       "</div>"
      ],
      "text/plain": [
       "   grupo_de_edad      fecha  fallecidos\n",
       "28          0-39 2020-04-13           3\n",
       "29         40-49 2020-04-13           2\n",
       "30         50-59 2020-04-13           3\n",
       "31         60-69 2020-04-13          12\n",
       "32         70-79 2020-04-13          29"
      ]
     },
     "execution_count": 6,
     "metadata": {},
     "output_type": "execute_result"
    }
   ],
   "source": [
    "# https://github.com/MinCiencia/Datos-COVID19/tree/master/output/producto10\n",
    "fallecidos_etareo = (\n",
    "    pd.read_csv(\"https://raw.githubusercontent.com/MinCiencia/Datos-COVID19/master/output/producto10/FallecidosEtario.csv\")\n",
    "    .rename(columns=lambda x: x.lower().replace(\" \", \"_\"))\n",
    "    .melt(id_vars=[\"grupo_de_edad\"], var_name=\"fecha\", value_name=\"fallecidos\")\n",
    "    .assign(\n",
    "        fecha=lambda x: pd.to_datetime(x[\"fecha\"]),\n",
    "        grupo_de_edad=lambda x: x[\"grupo_de_edad\"].str.replace(\"<=39\", \"0-39\")\n",
    "    )\n",
    "    .loc[lambda x: x[\"fecha\"] >= start_date]\n",
    ")\n",
    "\n",
    "fallecidos_etareo.head()"
   ]
  },
  {
   "cell_type": "markdown",
   "metadata": {},
   "source": [
    "## Ejercicio 1\n",
    "\n",
    "(10 puntos)\n",
    "\n",
    "Mostrar cantidad de fallecidos la fecha por cada grupo etáreo."
   ]
  },
  {
   "cell_type": "code",
   "execution_count": 7,
   "metadata": {},
   "outputs": [
    {
     "data": {
      "text/html": [
       "\n",
       "<div id=\"altair-viz-dd919f57cf4e4d88b67099ac63b0db10\"></div>\n",
       "<script type=\"text/javascript\">\n",
       "  (function(spec, embedOpt){\n",
       "    let outputDiv = document.currentScript.previousElementSibling;\n",
       "    if (outputDiv.id !== \"altair-viz-dd919f57cf4e4d88b67099ac63b0db10\") {\n",
       "      outputDiv = document.getElementById(\"altair-viz-dd919f57cf4e4d88b67099ac63b0db10\");\n",
       "    }\n",
       "    const paths = {\n",
       "      \"vega\": \"https://cdn.jsdelivr.net/npm//vega@5?noext\",\n",
       "      \"vega-lib\": \"https://cdn.jsdelivr.net/npm//vega-lib?noext\",\n",
       "      \"vega-lite\": \"https://cdn.jsdelivr.net/npm//vega-lite@4.8.1?noext\",\n",
       "      \"vega-embed\": \"https://cdn.jsdelivr.net/npm//vega-embed@6?noext\",\n",
       "    };\n",
       "\n",
       "    function loadScript(lib) {\n",
       "      return new Promise(function(resolve, reject) {\n",
       "        var s = document.createElement('script');\n",
       "        s.src = paths[lib];\n",
       "        s.async = true;\n",
       "        s.onload = () => resolve(paths[lib]);\n",
       "        s.onerror = () => reject(`Error loading script: ${paths[lib]}`);\n",
       "        document.getElementsByTagName(\"head\")[0].appendChild(s);\n",
       "      });\n",
       "    }\n",
       "\n",
       "    function showError(err) {\n",
       "      outputDiv.innerHTML = `<div class=\"error\" style=\"color:red;\">${err}</div>`;\n",
       "      throw err;\n",
       "    }\n",
       "\n",
       "    function displayChart(vegaEmbed) {\n",
       "      vegaEmbed(outputDiv, spec, embedOpt)\n",
       "        .catch(err => showError(`Javascript Error: ${err.message}<br>This usually means there's a typo in your chart specification. See the javascript console for the full traceback.`));\n",
       "    }\n",
       "\n",
       "    if(typeof define === \"function\" && define.amd) {\n",
       "      requirejs.config({paths});\n",
       "      require([\"vega-embed\"], displayChart, err => showError(`Error loading script: ${err.message}`));\n",
       "    } else if (typeof vegaEmbed === \"function\") {\n",
       "      displayChart(vegaEmbed);\n",
       "    } else {\n",
       "      loadScript(\"vega\")\n",
       "        .then(() => loadScript(\"vega-lite\"))\n",
       "        .then(() => loadScript(\"vega-embed\"))\n",
       "        .catch(showError)\n",
       "        .then(() => displayChart(vegaEmbed));\n",
       "    }\n",
       "  })({\"config\": {\"background\": \"white\", \"view\": {\"continuousWidth\": 400, \"continuousHeight\": 300}}, \"data\": {\"url\": \"http://localhost:20588/33a2d60384d859734dd27e6788865221.json\"}, \"mark\": {\"type\": \"bar\", \"color\": \"firebrick\"}, \"encoding\": {\"x\": {\"type\": \"nominal\", \"axis\": {\"title\": \"Grupo Etario\"}, \"field\": \"grupo_de_edad\"}, \"y\": {\"type\": \"quantitative\", \"axis\": {\"title\": \"Cantidad de Fallecidos\"}, \"field\": \"fallecidos\"}}, \"height\": 4, \"title\": \"Total de fallecidos a la Fecha\", \"width\": 3, \"$schema\": \"https://vega.github.io/schema/vega-lite/v4.8.1.json\"}, {\"mode\": \"vega-lite\"});\n",
       "</script>"
      ],
      "text/plain": [
       "alt.Chart(...)"
      ]
     },
     "execution_count": 7,
     "metadata": {},
     "output_type": "execute_result"
    }
   ],
   "source": [
    "alt.Chart(fallecidos_etareo).mark_bar(color='firebrick').encode(\n",
    "    y=alt.Y('fallecidos', axis=alt.Axis(title='Cantidad de Fallecidos')),\n",
    "    x=alt.X('grupo_de_edad', axis=alt.Axis(title='Grupo Etario'))\n",
    ").properties(\n",
    "    title='Total de fallecidos a la Fecha',\n",
    "    width=3,\n",
    "    height=4\n",
    ")"
   ]
  },
  {
   "cell_type": "markdown",
   "metadata": {},
   "source": [
    "**Comentarios:** RESPONDE AQUÍ"
   ]
  },
  {
   "cell_type": "markdown",
   "metadata": {},
   "source": [
    "## Ejercicio 2\n",
    "\n",
    "(10 puntos)\n",
    "\n",
    "¿Qué tan variable es la población de las comunas de Chile? Considera utilizar un gráfico que resuma de buena forma la información sin agregar la variable de región o provincia."
   ]
  },
  {
   "cell_type": "code",
   "execution_count": 8,
   "metadata": {},
   "outputs": [],
   "source": [
    "#alt.Chart(confirmados).mark_rect().encode(\n",
    " #   x = 'comuna:N',\n",
    "  #  y = 'region_id:N',\n",
    "   # color = 'poblacion:Q'\n",
    "#).properties(\n",
    " #   width=8000, \n",
    "  #  height=400 \n",
    "#)\n",
    "\n",
    "#alt.Chart(confirmados).mark_geoshape().encode(\n",
    "#    color='rate:Q'\n",
    "#).transform_lookup(\n",
    "#    lookup='id',\n",
    "#    from_=alt.LookupData(source, 'id', ['rate'])\n",
    "#).project(\n",
    "#    type='albersUsa'\n",
    "#).properties(\n",
    "#    width=500,\n",
    "#    height=300\n",
    "#)"
   ]
  },
  {
   "cell_type": "markdown",
   "metadata": {},
   "source": [
    "**Comentarios:** RESPONDE AQUÍ"
   ]
  },
  {
   "cell_type": "markdown",
   "metadata": {},
   "source": [
    "## Ejercicio 3\n",
    "\n",
    "(10 puntos)\n",
    "\n",
    "Mostrar evolución y comparación de los fallecimientos entre distintos grupos etáreos, pero que al mismo tiempo sea fácil identificar la cantidad de fallecidos total en cada fecha."
   ]
  },
  {
   "cell_type": "code",
   "execution_count": 9,
   "metadata": {},
   "outputs": [
    {
     "data": {
      "text/html": [
       "\n",
       "<div id=\"altair-viz-0427d1a71c3341f8a8d785b011d4117d\"></div>\n",
       "<script type=\"text/javascript\">\n",
       "  (function(spec, embedOpt){\n",
       "    let outputDiv = document.currentScript.previousElementSibling;\n",
       "    if (outputDiv.id !== \"altair-viz-0427d1a71c3341f8a8d785b011d4117d\") {\n",
       "      outputDiv = document.getElementById(\"altair-viz-0427d1a71c3341f8a8d785b011d4117d\");\n",
       "    }\n",
       "    const paths = {\n",
       "      \"vega\": \"https://cdn.jsdelivr.net/npm//vega@5?noext\",\n",
       "      \"vega-lib\": \"https://cdn.jsdelivr.net/npm//vega-lib?noext\",\n",
       "      \"vega-lite\": \"https://cdn.jsdelivr.net/npm//vega-lite@4.8.1?noext\",\n",
       "      \"vega-embed\": \"https://cdn.jsdelivr.net/npm//vega-embed@6?noext\",\n",
       "    };\n",
       "\n",
       "    function loadScript(lib) {\n",
       "      return new Promise(function(resolve, reject) {\n",
       "        var s = document.createElement('script');\n",
       "        s.src = paths[lib];\n",
       "        s.async = true;\n",
       "        s.onload = () => resolve(paths[lib]);\n",
       "        s.onerror = () => reject(`Error loading script: ${paths[lib]}`);\n",
       "        document.getElementsByTagName(\"head\")[0].appendChild(s);\n",
       "      });\n",
       "    }\n",
       "\n",
       "    function showError(err) {\n",
       "      outputDiv.innerHTML = `<div class=\"error\" style=\"color:red;\">${err}</div>`;\n",
       "      throw err;\n",
       "    }\n",
       "\n",
       "    function displayChart(vegaEmbed) {\n",
       "      vegaEmbed(outputDiv, spec, embedOpt)\n",
       "        .catch(err => showError(`Javascript Error: ${err.message}<br>This usually means there's a typo in your chart specification. See the javascript console for the full traceback.`));\n",
       "    }\n",
       "\n",
       "    if(typeof define === \"function\" && define.amd) {\n",
       "      requirejs.config({paths});\n",
       "      require([\"vega-embed\"], displayChart, err => showError(`Error loading script: ${err.message}`));\n",
       "    } else if (typeof vegaEmbed === \"function\") {\n",
       "      displayChart(vegaEmbed);\n",
       "    } else {\n",
       "      loadScript(\"vega\")\n",
       "        .then(() => loadScript(\"vega-lite\"))\n",
       "        .then(() => loadScript(\"vega-embed\"))\n",
       "        .catch(showError)\n",
       "        .then(() => displayChart(vegaEmbed));\n",
       "    }\n",
       "  })({\"config\": {\"background\": \"white\", \"view\": {\"continuousWidth\": 400, \"continuousHeight\": 300}}, \"data\": {\"url\": \"http://localhost:20588/33a2d60384d859734dd27e6788865221.json\"}, \"mark\": \"line\", \"encoding\": {\"color\": {\"type\": \"nominal\", \"field\": \"grupo_de_edad\"}, \"x\": {\"type\": \"temporal\", \"axis\": {\"title\": \"Fecha\"}, \"field\": \"fecha\"}, \"y\": {\"type\": \"quantitative\", \"axis\": {\"title\": \"Total de Fallecidos\"}, \"field\": \"fallecidos\"}}, \"height\": 4, \"title\": \"Evolucion fallecidos por grupo de Edad\", \"width\": 9, \"$schema\": \"https://vega.github.io/schema/vega-lite/v4.8.1.json\"}, {\"mode\": \"vega-lite\"});\n",
       "</script>"
      ],
      "text/plain": [
       "alt.Chart(...)"
      ]
     },
     "execution_count": 9,
     "metadata": {},
     "output_type": "execute_result"
    }
   ],
   "source": [
    "alt.Chart(fallecidos_etareo).mark_line().encode(\n",
    "    x=alt.X('fecha', axis=alt.Axis(title='Fecha')),\n",
    "    y=alt.Y('fallecidos', axis=alt.Axis(title='Total de Fallecidos')),\n",
    "    color='grupo_de_edad'\n",
    ").properties(\n",
    "    title='Evolucion fallecidos por grupo de Edad',\n",
    "    width=9,\n",
    "    height=4\n",
    ")"
   ]
  },
  {
   "cell_type": "markdown",
   "metadata": {},
   "source": [
    "**Comentarios:** RESPONDE AQUÍ"
   ]
  },
  {
   "cell_type": "markdown",
   "metadata": {},
   "source": [
    "## Ejercicio 4\n",
    "\n",
    "(10 puntos)\n",
    "\n",
    "Mostrar en tres gráficos la evolución de casos confirmados, evolución de fallecimientos y evolución de casos activos."
   ]
  },
  {
   "cell_type": "code",
   "execution_count": 10,
   "metadata": {},
   "outputs": [
    {
     "data": {
      "text/html": [
       "\n",
       "<div id=\"altair-viz-131636a6e27c4ce89243d66f7945d82c\"></div>\n",
       "<script type=\"text/javascript\">\n",
       "  (function(spec, embedOpt){\n",
       "    let outputDiv = document.currentScript.previousElementSibling;\n",
       "    if (outputDiv.id !== \"altair-viz-131636a6e27c4ce89243d66f7945d82c\") {\n",
       "      outputDiv = document.getElementById(\"altair-viz-131636a6e27c4ce89243d66f7945d82c\");\n",
       "    }\n",
       "    const paths = {\n",
       "      \"vega\": \"https://cdn.jsdelivr.net/npm//vega@5?noext\",\n",
       "      \"vega-lib\": \"https://cdn.jsdelivr.net/npm//vega-lib?noext\",\n",
       "      \"vega-lite\": \"https://cdn.jsdelivr.net/npm//vega-lite@4.8.1?noext\",\n",
       "      \"vega-embed\": \"https://cdn.jsdelivr.net/npm//vega-embed@6?noext\",\n",
       "    };\n",
       "\n",
       "    function loadScript(lib) {\n",
       "      return new Promise(function(resolve, reject) {\n",
       "        var s = document.createElement('script');\n",
       "        s.src = paths[lib];\n",
       "        s.async = true;\n",
       "        s.onload = () => resolve(paths[lib]);\n",
       "        s.onerror = () => reject(`Error loading script: ${paths[lib]}`);\n",
       "        document.getElementsByTagName(\"head\")[0].appendChild(s);\n",
       "      });\n",
       "    }\n",
       "\n",
       "    function showError(err) {\n",
       "      outputDiv.innerHTML = `<div class=\"error\" style=\"color:red;\">${err}</div>`;\n",
       "      throw err;\n",
       "    }\n",
       "\n",
       "    function displayChart(vegaEmbed) {\n",
       "      vegaEmbed(outputDiv, spec, embedOpt)\n",
       "        .catch(err => showError(`Javascript Error: ${err.message}<br>This usually means there's a typo in your chart specification. See the javascript console for the full traceback.`));\n",
       "    }\n",
       "\n",
       "    if(typeof define === \"function\" && define.amd) {\n",
       "      requirejs.config({paths});\n",
       "      require([\"vega-embed\"], displayChart, err => showError(`Error loading script: ${err.message}`));\n",
       "    } else if (typeof vegaEmbed === \"function\") {\n",
       "      displayChart(vegaEmbed);\n",
       "    } else {\n",
       "      loadScript(\"vega\")\n",
       "        .then(() => loadScript(\"vega-lite\"))\n",
       "        .then(() => loadScript(\"vega-embed\"))\n",
       "        .catch(showError)\n",
       "        .then(() => displayChart(vegaEmbed));\n",
       "    }\n",
       "  })({\"config\": {\"background\": \"white\", \"view\": {\"continuousWidth\": 400, \"continuousHeight\": 300}}, \"hconcat\": [{\"data\": {\"url\": \"http://localhost:20588/3298f61201e944025c51ce0bf74b5336.json\"}, \"mark\": \"line\", \"encoding\": {\"x\": {\"type\": \"temporal\", \"axis\": {\"title\": \"Fecha\"}, \"field\": \"fecha\"}, \"y\": {\"type\": \"quantitative\", \"aggregate\": \"sum\", \"axis\": {\"title\": \"Total de casos confirmados\"}, \"field\": \"casos_confirmados\"}}, \"height\": 4, \"title\": \"Evolucion casos confirmados\", \"width\": 3}, {\"data\": {\"url\": \"http://localhost:20588/33a2d60384d859734dd27e6788865221.json\"}, \"mark\": \"line\", \"encoding\": {\"x\": {\"type\": \"temporal\", \"axis\": {\"title\": \"Fecha\"}, \"field\": \"fecha\"}, \"y\": {\"type\": \"quantitative\", \"aggregate\": \"sum\", \"axis\": {\"title\": \"Total de Fallecidos\"}, \"field\": \"fallecidos\"}}, \"height\": 4, \"title\": \"Evolucion fallecidos\", \"width\": 3}, {\"data\": {\"url\": \"http://localhost:20588/230bc426f738cb15ee5ceca698b33142.json\"}, \"mark\": \"line\", \"encoding\": {\"x\": {\"type\": \"temporal\", \"axis\": {\"title\": \"Fecha\"}, \"field\": \"fecha\"}, \"y\": {\"type\": \"quantitative\", \"aggregate\": \"sum\", \"axis\": {\"title\": \"Total casos activos\"}, \"field\": \"casos_activos\"}}, \"height\": 4, \"title\": \"Evolucion casos activos\", \"width\": 3}], \"$schema\": \"https://vega.github.io/schema/vega-lite/v4.8.1.json\"}, {\"mode\": \"vega-lite\"});\n",
       "</script>"
      ],
      "text/plain": [
       "alt.HConcatChart(...)"
      ]
     },
     "execution_count": 10,
     "metadata": {},
     "output_type": "execute_result"
    }
   ],
   "source": [
    "evo_confirmados = alt.Chart(confirmados).mark_line().encode(\n",
    "    x=alt.X('fecha', axis=alt.Axis(title='Fecha')),\n",
    "    y=alt.Y('sum(casos_confirmados)', axis=alt.Axis(title='Total de casos confirmados')),\n",
    "    #color='grupo_de_edad'\n",
    ").properties(\n",
    "    title='Evolucion casos confirmados',\n",
    "    width=3,\n",
    "    height=4\n",
    ")\n",
    "\n",
    "evo_fallecimientos = alt.Chart(fallecidos_etareo).mark_line().encode(\n",
    "    x=alt.X('fecha', axis=alt.Axis(title='Fecha')),\n",
    "    y=alt.Y('sum(fallecidos)', axis=alt.Axis(title='Total de Fallecidos')),\n",
    "    #color='grupo_de_edad'\n",
    ").properties(\n",
    "    title='Evolucion fallecidos',\n",
    "    width=3,\n",
    "    height=4\n",
    ")\n",
    "\n",
    "evo_activos = alt.Chart(activos).mark_line().encode(\n",
    "    x=alt.X('fecha', axis=alt.Axis(title='Fecha')),\n",
    "    y=alt.Y('sum(casos_activos)', axis=alt.Axis(title='Total casos activos')),\n",
    "    #color='grupo_de_edad'\n",
    ").properties(\n",
    "    title='Evolucion casos activos',\n",
    "    width=3,\n",
    "    height=4\n",
    ")\n",
    "#deben compartir eje?\n",
    "evo_confirmados | evo_fallecimientos | evo_activos"
   ]
  },
  {
   "cell_type": "markdown",
   "metadata": {},
   "source": [
    "**Comentarios:** RESPONDE AQUÍ"
   ]
  },
  {
   "cell_type": "markdown",
   "metadata": {},
   "source": [
    "## Ejercicio 5\n",
    "\n",
    "(10 puntos)\n",
    "\n",
    "Comparar la tasa de incidencia entre las regiones a lo largo del tiempo."
   ]
  },
  {
   "cell_type": "code",
   "execution_count": 11,
   "metadata": {},
   "outputs": [
    {
     "data": {
      "text/html": [
       "\n",
       "<div id=\"altair-viz-fce50a2052b44e8a8b3822f582be6da6\"></div>\n",
       "<script type=\"text/javascript\">\n",
       "  (function(spec, embedOpt){\n",
       "    let outputDiv = document.currentScript.previousElementSibling;\n",
       "    if (outputDiv.id !== \"altair-viz-fce50a2052b44e8a8b3822f582be6da6\") {\n",
       "      outputDiv = document.getElementById(\"altair-viz-fce50a2052b44e8a8b3822f582be6da6\");\n",
       "    }\n",
       "    const paths = {\n",
       "      \"vega\": \"https://cdn.jsdelivr.net/npm//vega@5?noext\",\n",
       "      \"vega-lib\": \"https://cdn.jsdelivr.net/npm//vega-lib?noext\",\n",
       "      \"vega-lite\": \"https://cdn.jsdelivr.net/npm//vega-lite@4.8.1?noext\",\n",
       "      \"vega-embed\": \"https://cdn.jsdelivr.net/npm//vega-embed@6?noext\",\n",
       "    };\n",
       "\n",
       "    function loadScript(lib) {\n",
       "      return new Promise(function(resolve, reject) {\n",
       "        var s = document.createElement('script');\n",
       "        s.src = paths[lib];\n",
       "        s.async = true;\n",
       "        s.onload = () => resolve(paths[lib]);\n",
       "        s.onerror = () => reject(`Error loading script: ${paths[lib]}`);\n",
       "        document.getElementsByTagName(\"head\")[0].appendChild(s);\n",
       "      });\n",
       "    }\n",
       "\n",
       "    function showError(err) {\n",
       "      outputDiv.innerHTML = `<div class=\"error\" style=\"color:red;\">${err}</div>`;\n",
       "      throw err;\n",
       "    }\n",
       "\n",
       "    function displayChart(vegaEmbed) {\n",
       "      vegaEmbed(outputDiv, spec, embedOpt)\n",
       "        .catch(err => showError(`Javascript Error: ${err.message}<br>This usually means there's a typo in your chart specification. See the javascript console for the full traceback.`));\n",
       "    }\n",
       "\n",
       "    if(typeof define === \"function\" && define.amd) {\n",
       "      requirejs.config({paths});\n",
       "      require([\"vega-embed\"], displayChart, err => showError(`Error loading script: ${err.message}`));\n",
       "    } else if (typeof vegaEmbed === \"function\") {\n",
       "      displayChart(vegaEmbed);\n",
       "    } else {\n",
       "      loadScript(\"vega\")\n",
       "        .then(() => loadScript(\"vega-lite\"))\n",
       "        .then(() => loadScript(\"vega-embed\"))\n",
       "        .catch(showError)\n",
       "        .then(() => displayChart(vegaEmbed));\n",
       "    }\n",
       "  })({\"config\": {\"background\": \"white\", \"view\": {\"continuousWidth\": 400, \"continuousHeight\": 300}}, \"data\": {\"url\": \"http://localhost:20588/3298f61201e944025c51ce0bf74b5336.json\"}, \"mark\": \"line\", \"encoding\": {\"color\": {\"type\": \"nominal\", \"field\": \"region\"}, \"x\": {\"type\": \"temporal\", \"axis\": {\"title\": \"Fecha\"}, \"field\": \"fecha\"}, \"y\": {\"type\": \"quantitative\", \"aggregate\": \"average\", \"axis\": {\"title\": \"Total de casos confirmados\"}, \"field\": \"tasa\"}}, \"height\": 4, \"title\": \"Evolucion casos confirmados\", \"width\": 9, \"$schema\": \"https://vega.github.io/schema/vega-lite/v4.8.1.json\"}, {\"mode\": \"vega-lite\"});\n",
       "</script>"
      ],
      "text/plain": [
       "alt.Chart(...)"
      ]
     },
     "execution_count": 11,
     "metadata": {},
     "output_type": "execute_result"
    }
   ],
   "source": [
    "alt.Chart(confirmados).mark_line().encode(\n",
    "    x=alt.X('fecha', axis=alt.Axis(title='Fecha')),\n",
    "    y=alt.Y('average(tasa)', axis=alt.Axis(title='Total de casos confirmados')),\n",
    "    color='region'\n",
    ").properties(\n",
    "    title='Evolucion casos confirmados',\n",
    "    width=9,\n",
    "    height=4\n",
    ")"
   ]
  },
  {
   "cell_type": "markdown",
   "metadata": {},
   "source": [
    "**Comentarios:** RESPONDE AQUÍ"
   ]
  },
  {
   "cell_type": "markdown",
   "metadata": {},
   "source": [
    "## Ejercicio 6\n",
    "\n",
    "(10 puntos)\n",
    "\n",
    "¿Hay alguna conclusión que puedas obtener rápidamente al graficar un _scatter plot_ con los casos confirmados y tasa de incidencia de cada comuna para los días 13 de abril y 6 de noviembre del 2020? Además, colorea cada punto según la región a la que pertenece y considera si es útil en el gráfico que el tamaño sea proporcional a la población."
   ]
  },
  {
   "cell_type": "code",
   "execution_count": 12,
   "metadata": {},
   "outputs": [
    {
     "data": {
      "text/html": [
       "\n",
       "<div id=\"altair-viz-9ec71478e5894bc1bcd6c264261847a4\"></div>\n",
       "<script type=\"text/javascript\">\n",
       "  (function(spec, embedOpt){\n",
       "    let outputDiv = document.currentScript.previousElementSibling;\n",
       "    if (outputDiv.id !== \"altair-viz-9ec71478e5894bc1bcd6c264261847a4\") {\n",
       "      outputDiv = document.getElementById(\"altair-viz-9ec71478e5894bc1bcd6c264261847a4\");\n",
       "    }\n",
       "    const paths = {\n",
       "      \"vega\": \"https://cdn.jsdelivr.net/npm//vega@5?noext\",\n",
       "      \"vega-lib\": \"https://cdn.jsdelivr.net/npm//vega-lib?noext\",\n",
       "      \"vega-lite\": \"https://cdn.jsdelivr.net/npm//vega-lite@4.8.1?noext\",\n",
       "      \"vega-embed\": \"https://cdn.jsdelivr.net/npm//vega-embed@6?noext\",\n",
       "    };\n",
       "\n",
       "    function loadScript(lib) {\n",
       "      return new Promise(function(resolve, reject) {\n",
       "        var s = document.createElement('script');\n",
       "        s.src = paths[lib];\n",
       "        s.async = true;\n",
       "        s.onload = () => resolve(paths[lib]);\n",
       "        s.onerror = () => reject(`Error loading script: ${paths[lib]}`);\n",
       "        document.getElementsByTagName(\"head\")[0].appendChild(s);\n",
       "      });\n",
       "    }\n",
       "\n",
       "    function showError(err) {\n",
       "      outputDiv.innerHTML = `<div class=\"error\" style=\"color:red;\">${err}</div>`;\n",
       "      throw err;\n",
       "    }\n",
       "\n",
       "    function displayChart(vegaEmbed) {\n",
       "      vegaEmbed(outputDiv, spec, embedOpt)\n",
       "        .catch(err => showError(`Javascript Error: ${err.message}<br>This usually means there's a typo in your chart specification. See the javascript console for the full traceback.`));\n",
       "    }\n",
       "\n",
       "    if(typeof define === \"function\" && define.amd) {\n",
       "      requirejs.config({paths});\n",
       "      require([\"vega-embed\"], displayChart, err => showError(`Error loading script: ${err.message}`));\n",
       "    } else if (typeof vegaEmbed === \"function\") {\n",
       "      displayChart(vegaEmbed);\n",
       "    } else {\n",
       "      loadScript(\"vega\")\n",
       "        .then(() => loadScript(\"vega-lite\"))\n",
       "        .then(() => loadScript(\"vega-embed\"))\n",
       "        .catch(showError)\n",
       "        .then(() => displayChart(vegaEmbed));\n",
       "    }\n",
       "  })({\"config\": {\"background\": \"white\", \"view\": {\"continuousWidth\": 400, \"continuousHeight\": 300}}, \"data\": {\"url\": \"http://localhost:20588/3298f61201e944025c51ce0bf74b5336.json\"}, \"mark\": {\"type\": \"circle\", \"size\": 60}, \"encoding\": {\"color\": {\"type\": \"nominal\", \"field\": \"comuna\"}, \"y\": {\"type\": \"quantitative\", \"field\": \"tasa\"}}, \"$schema\": \"https://vega.github.io/schema/vega-lite/v4.8.1.json\"}, {\"mode\": \"vega-lite\"});\n",
       "</script>"
      ],
      "text/plain": [
       "alt.Chart(...)"
      ]
     },
     "execution_count": 12,
     "metadata": {},
     "output_type": "execute_result"
    }
   ],
   "source": [
    "alt.Chart(confirmados).mark_circle(size=60).encode(\n",
    "    #x='fecha == 2020-04-13',\n",
    "    y='tasa',\n",
    "    color='comuna',\n",
    ")"
   ]
  },
  {
   "cell_type": "markdown",
   "metadata": {},
   "source": [
    "**Comentarios:** RESPONDE AQUÍ"
   ]
  },
  {
   "cell_type": "markdown",
   "metadata": {},
   "source": [
    "## Ejercicio 7\n",
    "\n",
    "(10 puntos)\n",
    "\n",
    "1. Grafica la evolución de los casos activos de cada comuna en un solo gráfico. \n",
    "2. Grafica la evolución de los casos activos de cada comuna en gráficos separados por región.\n",
    "\n",
    "Entrega los pros y contras de cada uno de estos enfoques."
   ]
  },
  {
   "cell_type": "code",
   "execution_count": 13,
   "metadata": {},
   "outputs": [
    {
     "data": {
      "text/html": [
       "\n",
       "<div id=\"altair-viz-31b4ae57cea545b4a524cf58b9324131\"></div>\n",
       "<script type=\"text/javascript\">\n",
       "  (function(spec, embedOpt){\n",
       "    let outputDiv = document.currentScript.previousElementSibling;\n",
       "    if (outputDiv.id !== \"altair-viz-31b4ae57cea545b4a524cf58b9324131\") {\n",
       "      outputDiv = document.getElementById(\"altair-viz-31b4ae57cea545b4a524cf58b9324131\");\n",
       "    }\n",
       "    const paths = {\n",
       "      \"vega\": \"https://cdn.jsdelivr.net/npm//vega@5?noext\",\n",
       "      \"vega-lib\": \"https://cdn.jsdelivr.net/npm//vega-lib?noext\",\n",
       "      \"vega-lite\": \"https://cdn.jsdelivr.net/npm//vega-lite@4.8.1?noext\",\n",
       "      \"vega-embed\": \"https://cdn.jsdelivr.net/npm//vega-embed@6?noext\",\n",
       "    };\n",
       "\n",
       "    function loadScript(lib) {\n",
       "      return new Promise(function(resolve, reject) {\n",
       "        var s = document.createElement('script');\n",
       "        s.src = paths[lib];\n",
       "        s.async = true;\n",
       "        s.onload = () => resolve(paths[lib]);\n",
       "        s.onerror = () => reject(`Error loading script: ${paths[lib]}`);\n",
       "        document.getElementsByTagName(\"head\")[0].appendChild(s);\n",
       "      });\n",
       "    }\n",
       "\n",
       "    function showError(err) {\n",
       "      outputDiv.innerHTML = `<div class=\"error\" style=\"color:red;\">${err}</div>`;\n",
       "      throw err;\n",
       "    }\n",
       "\n",
       "    function displayChart(vegaEmbed) {\n",
       "      vegaEmbed(outputDiv, spec, embedOpt)\n",
       "        .catch(err => showError(`Javascript Error: ${err.message}<br>This usually means there's a typo in your chart specification. See the javascript console for the full traceback.`));\n",
       "    }\n",
       "\n",
       "    if(typeof define === \"function\" && define.amd) {\n",
       "      requirejs.config({paths});\n",
       "      require([\"vega-embed\"], displayChart, err => showError(`Error loading script: ${err.message}`));\n",
       "    } else if (typeof vegaEmbed === \"function\") {\n",
       "      displayChart(vegaEmbed);\n",
       "    } else {\n",
       "      loadScript(\"vega\")\n",
       "        .then(() => loadScript(\"vega-lite\"))\n",
       "        .then(() => loadScript(\"vega-embed\"))\n",
       "        .catch(showError)\n",
       "        .then(() => displayChart(vegaEmbed));\n",
       "    }\n",
       "  })({\"config\": {\"background\": \"white\", \"view\": {\"continuousWidth\": 400, \"continuousHeight\": 300}}, \"data\": {\"url\": \"http://localhost:20588/230bc426f738cb15ee5ceca698b33142.json\"}, \"mark\": \"line\", \"encoding\": {\"color\": {\"type\": \"nominal\", \"field\": \"comuna\"}, \"x\": {\"type\": \"temporal\", \"axis\": {\"title\": \"Fecha\"}, \"field\": \"fecha\"}, \"y\": {\"type\": \"quantitative\", \"axis\": {\"title\": \"Total casos activos\"}, \"field\": \"casos_activos\"}}, \"height\": 400, \"title\": \"Evolucion casos activos por comuna\", \"width\": 300, \"$schema\": \"https://vega.github.io/schema/vega-lite/v4.8.1.json\"}, {\"mode\": \"vega-lite\"});\n",
       "</script>"
      ],
      "text/plain": [
       "alt.Chart(...)"
      ]
     },
     "execution_count": 13,
     "metadata": {},
     "output_type": "execute_result"
    }
   ],
   "source": [
    "alt.Chart(activos).mark_line().encode(\n",
    "    x=alt.X('fecha', axis=alt.Axis(title='Fecha')),\n",
    "    y=alt.Y('casos_activos', axis=alt.Axis(title='Total casos activos')),\n",
    "    color='comuna'\n",
    ").properties(\n",
    "    title='Evolucion casos activos por comuna',\n",
    "    width=300,\n",
    "    height=400\n",
    ")"
   ]
  },
  {
   "cell_type": "code",
   "execution_count": 14,
   "metadata": {},
   "outputs": [
    {
     "name": "stdout",
     "output_type": "stream",
     "text": [
      "Magallanes y la Antartica\n"
     ]
    },
    {
     "name": "stderr",
     "output_type": "stream",
     "text": [
      "C:\\Users\\Maca\\miniconda3\\envs\\mat281\\lib\\site-packages\\altair\\utils\\core.py:187: UserWarning: I don't know how to infer vegalite type from 'empty'.  Defaulting to nominal.\n",
      "  \"Defaulting to nominal.\".format(typ)\n"
     ]
    },
    {
     "data": {
      "text/html": [
       "\n",
       "<div id=\"altair-viz-4d4d373762e24351aaff9fca2c58d3b6\"></div>\n",
       "<script type=\"text/javascript\">\n",
       "  (function(spec, embedOpt){\n",
       "    let outputDiv = document.currentScript.previousElementSibling;\n",
       "    if (outputDiv.id !== \"altair-viz-4d4d373762e24351aaff9fca2c58d3b6\") {\n",
       "      outputDiv = document.getElementById(\"altair-viz-4d4d373762e24351aaff9fca2c58d3b6\");\n",
       "    }\n",
       "    const paths = {\n",
       "      \"vega\": \"https://cdn.jsdelivr.net/npm//vega@5?noext\",\n",
       "      \"vega-lib\": \"https://cdn.jsdelivr.net/npm//vega-lib?noext\",\n",
       "      \"vega-lite\": \"https://cdn.jsdelivr.net/npm//vega-lite@4.8.1?noext\",\n",
       "      \"vega-embed\": \"https://cdn.jsdelivr.net/npm//vega-embed@6?noext\",\n",
       "    };\n",
       "\n",
       "    function loadScript(lib) {\n",
       "      return new Promise(function(resolve, reject) {\n",
       "        var s = document.createElement('script');\n",
       "        s.src = paths[lib];\n",
       "        s.async = true;\n",
       "        s.onload = () => resolve(paths[lib]);\n",
       "        s.onerror = () => reject(`Error loading script: ${paths[lib]}`);\n",
       "        document.getElementsByTagName(\"head\")[0].appendChild(s);\n",
       "      });\n",
       "    }\n",
       "\n",
       "    function showError(err) {\n",
       "      outputDiv.innerHTML = `<div class=\"error\" style=\"color:red;\">${err}</div>`;\n",
       "      throw err;\n",
       "    }\n",
       "\n",
       "    function displayChart(vegaEmbed) {\n",
       "      vegaEmbed(outputDiv, spec, embedOpt)\n",
       "        .catch(err => showError(`Javascript Error: ${err.message}<br>This usually means there's a typo in your chart specification. See the javascript console for the full traceback.`));\n",
       "    }\n",
       "\n",
       "    if(typeof define === \"function\" && define.amd) {\n",
       "      requirejs.config({paths});\n",
       "      require([\"vega-embed\"], displayChart, err => showError(`Error loading script: ${err.message}`));\n",
       "    } else if (typeof vegaEmbed === \"function\") {\n",
       "      displayChart(vegaEmbed);\n",
       "    } else {\n",
       "      loadScript(\"vega\")\n",
       "        .then(() => loadScript(\"vega-lite\"))\n",
       "        .then(() => loadScript(\"vega-embed\"))\n",
       "        .catch(showError)\n",
       "        .then(() => displayChart(vegaEmbed));\n",
       "    }\n",
       "  })({\"config\": {\"background\": \"white\", \"view\": {\"continuousWidth\": 400, \"continuousHeight\": 300}}, \"data\": {\"url\": \"http://localhost:20588/d751713988987e9331980363e24189ce.json\"}, \"mark\": \"line\", \"encoding\": {\"color\": {\"type\": \"nominal\", \"field\": \"comuna\"}, \"x\": {\"type\": \"temporal\", \"axis\": {\"title\": \"Fecha\"}, \"field\": \"fecha\"}, \"y\": {\"type\": \"quantitative\", \"axis\": {\"title\": \"Total casos activos\"}, \"field\": \"casos_activos\"}}, \"height\": 400, \"title\": \"Evolucion casos activos por comuna\", \"width\": 300, \"$schema\": \"https://vega.github.io/schema/vega-lite/v4.8.1.json\"}, {\"mode\": \"vega-lite\"});\n",
       "</script>"
      ],
      "text/plain": [
       "alt.Chart(...)"
      ]
     },
     "execution_count": 14,
     "metadata": {},
     "output_type": "execute_result"
    }
   ],
   "source": [
    "for reg in activos['region'].unique():\n",
    "    aux = reg\n",
    "    \n",
    "    \n",
    "print(f\"{aux}\")    \n",
    "alt.Chart(activos.query(\"region == 'aux'\")).mark_line().encode(\n",
    "    x=alt.X('fecha', axis=alt.Axis(title='Fecha')),\n",
    "    y=alt.Y('casos_activos', axis=alt.Axis(title='Total casos activos')),\n",
    "    color='comuna'\n",
    ").properties(\n",
    "    title='Evolucion casos activos por comuna',\n",
    "    width=300,\n",
    "    height=400\n",
    ")"
   ]
  },
  {
   "cell_type": "code",
   "execution_count": 15,
   "metadata": {},
   "outputs": [
    {
     "data": {
      "text/plain": [
       "array(['Arica y Parinacota', 'Tarapaca', 'Antofagasta', 'Atacama',\n",
       "       'Coquimbo', 'Valparaiso', 'Metropolitana',\n",
       "       'Del Libertador General Bernardo O’Higgins', 'Maule', 'Nuble',\n",
       "       'Biobio', 'La Araucania', 'Los Rios', 'Los Lagos', 'Aysen',\n",
       "       'Magallanes y la Antartica'], dtype=object)"
      ]
     },
     "execution_count": 15,
     "metadata": {},
     "output_type": "execute_result"
    }
   ],
   "source": [
    "activos['region'].unique()"
   ]
  },
  {
   "cell_type": "markdown",
   "metadata": {},
   "source": [
    "**Comentarios:** RESPONDE AQUÍ"
   ]
  },
  {
   "cell_type": "markdown",
   "metadata": {},
   "source": [
    "## Ejercicio 8\n",
    "\n",
    "(10 puntos)\n",
    "\n",
    "Hacer un gráfico que permita comparar rápidamente entre regiones su promedio de casos activos , máximo de casos confirmados y fallecidos. Utiliza los valores reales y apoyarlos con colores.\n",
    "\n",
    "Se adjunta el diccionario `region_names` con tal de reemplazar los nombres de las regiones en los datos `fallecidos` para poder unir con los otros datos. "
   ]
  },
  {
   "cell_type": "code",
   "execution_count": 16,
   "metadata": {},
   "outputs": [],
   "source": [
    "region_names = {\n",
    "    \"Araucanía\": \"La Araucanía\",\n",
    "    \"Aysén\": \"Aysén del General Carlos Ibáñez del Campo\",\n",
    "    \"Magallanes\": \"Magallanes y de la Antártica Chilena\",\n",
    "    \"Metropolitana\": \"Metropolitana de Santiago\",\n",
    "    \"O’Higgins\": \"Libertador General Bernardo O'Higgins\",\n",
    "}"
   ]
  },
  {
   "cell_type": "code",
   "execution_count": 17,
   "metadata": {},
   "outputs": [],
   "source": [
    "# FIX ME #"
   ]
  },
  {
   "cell_type": "markdown",
   "metadata": {},
   "source": [
    "**Comentarios:** RESPONDE AQUÍ"
   ]
  },
  {
   "cell_type": "markdown",
   "metadata": {},
   "source": [
    "## Ejercicio 9\n",
    "\n",
    "\n",
    "En este ejercicio buscaremos realizar un mini-dashboard respecto al estado de los casos de COVID-19 en Chile, por lo tanto utilizaremos haremos uso de datos geográficos de manera operacional (es decir, no nos preocuparemos de proyecciones en mapas ni nada por el estilo), lo único es que debes instalar `geopandas` en tu ambiente virtual y no olvidar actualizarlo en tu `environment.yml` para luego subirlo a tu repositorio de GitHub.\n",
    "\n",
    "Con tu ambiente activo (`conda activate mat281`) basta con ejecutar `conda install -c conda-forge geopandas` para instalar `geopandas`."
   ]
  },
  {
   "cell_type": "code",
   "execution_count": 18,
   "metadata": {},
   "outputs": [
    {
     "ename": "ModuleNotFoundError",
     "evalue": "No module named 'geopandas'",
     "output_type": "error",
     "traceback": [
      "\u001b[1;31m---------------------------------------------------------------------------\u001b[0m",
      "\u001b[1;31mModuleNotFoundError\u001b[0m                       Traceback (most recent call last)",
      "\u001b[1;32m<ipython-input-18-fc3ba3f5d276>\u001b[0m in \u001b[0;36m<module>\u001b[1;34m\u001b[0m\n\u001b[1;32m----> 1\u001b[1;33m \u001b[1;32mimport\u001b[0m \u001b[0mgeopandas\u001b[0m \u001b[1;32mas\u001b[0m \u001b[0mgpd\u001b[0m\u001b[1;33m\u001b[0m\u001b[1;33m\u001b[0m\u001b[0m\n\u001b[0m\u001b[0;32m      2\u001b[0m \u001b[1;32mfrom\u001b[0m \u001b[0mpathlib\u001b[0m \u001b[1;32mimport\u001b[0m \u001b[0mPath\u001b[0m\u001b[1;33m\u001b[0m\u001b[1;33m\u001b[0m\u001b[0m\n",
      "\u001b[1;31mModuleNotFoundError\u001b[0m: No module named 'geopandas'"
     ]
    }
   ],
   "source": [
    "import geopandas as gpd\n",
    "from pathlib import Path"
   ]
  },
  {
   "cell_type": "code",
   "execution_count": null,
   "metadata": {},
   "outputs": [],
   "source": [
    "shp_filepath = Path().resolve().parent / \"data\" / \"regiones_chile.shp\"\n",
    "regiones = gpd.read_file(shp_filepath)\n",
    "regiones.head()"
   ]
  },
  {
   "cell_type": "code",
   "execution_count": null,
   "metadata": {},
   "outputs": [],
   "source": [
    "type(regiones)"
   ]
  },
  {
   "cell_type": "markdown",
   "metadata": {},
   "source": [
    "Lo único que tienes que saber es que un `GeoDataFrame` es idéntico a un `DataFrame` salvo que debe poseer una columna llamada `geometry` caracterice los elementros geométricos, que en este casos son polígonos con los límites de las regiones de Chile. \n",
    "\n",
    "Para graficar mapas en Altair se debe usar `mark_geoshape`, además, para no preocuparnos de las proyecciones si o si debes declarar lo siguiente que se muestra en la siguiente celda en las propiedades del gráfico. El resto es igual a cualquier otro gráfico de Altair."
   ]
  },
  {
   "cell_type": "code",
   "execution_count": null,
   "metadata": {},
   "outputs": [],
   "source": [
    "alt.Chart(regiones).mark_geoshape().encode(\n",
    ").properties(\n",
    "    projection={'type': 'identity', 'reflectY': True},\n",
    "    width=250,\n",
    "    height=600\n",
    ")"
   ]
  },
  {
   "cell_type": "markdown",
   "metadata": {},
   "source": [
    "### Ejercicio 9.1\n",
    "\n",
    "(10 puntos)\n",
    "\n",
    "Define el `DataFrame` con el nombre `casos_geo` tal que tenga las columnas\n",
    "\n",
    "* `region`\n",
    "* `codigo_region`\n",
    "* `fecha`\n",
    "* `poblacion`\n",
    "* `casos_confirmados`\n",
    "* `tasa`\n",
    "* `casos_activos`\n",
    "* `fallecidos`\n",
    "* `geometry`\n",
    "\n",
    "Ten mucho cuidado como unes los dataframes `confirmados`, `activos`, `fallecidos` y `regiones`. Idealmente utilizar el código de región, pero en caso que no se encuentren disponibles utilizar el nombre de la región (no olivdar utilizar el diccionario `region_names`)."
   ]
  },
  {
   "cell_type": "code",
   "execution_count": null,
   "metadata": {},
   "outputs": [],
   "source": [
    "casos_geo = (\n",
    "    # FIX ME #\n",
    ")\n",
    "\n",
    "casos_geo.head()"
   ]
  },
  {
   "cell_type": "markdown",
   "metadata": {},
   "source": [
    "Ejecuta lo siguiente para convertir el DataFrame anterior en un GeoDataFrames"
   ]
  },
  {
   "cell_type": "code",
   "execution_count": null,
   "metadata": {},
   "outputs": [],
   "source": [
    "casos_geo = casos_geo.pipe(lambda x: gpd.GeoDataFrame(x, geometry=\"geometry\"))"
   ]
  },
  {
   "cell_type": "markdown",
   "metadata": {},
   "source": [
    "### Ejercicio 9.2\n",
    "\n",
    "(5 puntos)\n",
    "\n",
    "Modifica la función `covid_chile_chart` tal que reciba una fecha y una columna. Luego, debe filtrar `casos_geo` con registros de la fecha seleccionada y graficar un mapa donde las regiones se colereen según la columna escogida. "
   ]
  },
  {
   "cell_type": "code",
   "execution_count": null,
   "metadata": {},
   "outputs": [],
   "source": [
    "def covid_chile_chart(fecha, col):\n",
    "    \n",
    "    fecha = pd.to_datetime(fecha)\n",
    "    data = # FIX ME #\n",
    "    \n",
    "    chart = alt.Chart(data).mark_geoshape().encode(\n",
    "        # FIX ME #\n",
    "    ).properties(\n",
    "        projection={'type': 'identity', 'reflectY': True},\n",
    "        width=150,\n",
    "        height=400\n",
    "    )\n",
    "    \n",
    "    chart.display()\n",
    "    return"
   ]
  },
  {
   "cell_type": "markdown",
   "metadata": {},
   "source": [
    "Prueba con lo siguiente"
   ]
  },
  {
   "cell_type": "code",
   "execution_count": null,
   "metadata": {},
   "outputs": [],
   "source": [
    "fecha = \"2020-04-13\"\n",
    "col = \"tasa\"\n",
    "covid_chile_chart(fecha, col)"
   ]
  },
  {
   "cell_type": "markdown",
   "metadata": {},
   "source": [
    "### Ejercicio 9.3\n",
    "\n",
    "(5 puntos)\n",
    "\n",
    "Ahora utilizando `widgets` generaremos el dashboard interactivo. Define lo siguiente:\n",
    "\n",
    "* col_widget: Un `widgets.Dropdown` donde las opciones a seleccionar sean las columnas `poblacion`, `casos_confirmados`, `tasa`, `casos_activos` y `fallecidos`. Además, el argumento `description` debe ser `Columna`.\n",
    "* fecha_widget: Un `widgets.DatePicker` donde el argumento `description` sea `Fecha`.\n",
    "* Ambos widgets deben tener el argumento `continuous_update=False`"
   ]
  },
  {
   "cell_type": "code",
   "execution_count": null,
   "metadata": {},
   "outputs": [],
   "source": [
    "import ipywidgets as widgets\n",
    "from ipywidgets import interactive, interact"
   ]
  },
  {
   "cell_type": "code",
   "execution_count": null,
   "metadata": {},
   "outputs": [],
   "source": [
    "col_widget = # FIX ME #"
   ]
  },
  {
   "cell_type": "code",
   "execution_count": null,
   "metadata": {},
   "outputs": [],
   "source": [
    "fecha_widget = # FIX ME #"
   ]
  },
  {
   "cell_type": "markdown",
   "metadata": {},
   "source": [
    "Finalmente, haciendo uso de `interactive`, la función `covid_chile_chart` y todos los widgets es posible crear un _dashboard_ interactivo con los datos de Covid-19.\n",
    "\n",
    "Respira profundo y explora tu creación!"
   ]
  },
  {
   "cell_type": "code",
   "execution_count": null,
   "metadata": {},
   "outputs": [],
   "source": [
    "covid_dashboard = interactive(\n",
    "    covid_chile_chart,\n",
    "    fecha=fecha_widget,\n",
    "    col=col_widget\n",
    ")\n",
    "covid_dashboard"
   ]
  },
  {
   "cell_type": "markdown",
   "metadata": {},
   "source": [
    "**Comentarios:** RESPONDE AQUÍ"
   ]
  }
 ],
 "metadata": {
  "kernelspec": {
   "display_name": "Python 3",
   "language": "python",
   "name": "python3"
  },
  "language_info": {
   "codemirror_mode": {
    "name": "ipython",
    "version": 3
   },
   "file_extension": ".py",
   "mimetype": "text/x-python",
   "name": "python",
   "nbconvert_exporter": "python",
   "pygments_lexer": "ipython3",
   "version": "3.7.8"
  }
 },
 "nbformat": 4,
 "nbformat_minor": 4
}
